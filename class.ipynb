{
 "cells": [
  {
   "cell_type": "code",
   "execution_count": 1,
   "metadata": {},
   "outputs": [],
   "source": [
    "import pandas as pd\n",
    "import matplotlib.pyplot as plt\n",
    "from sklearn.model_selection import train_test_split\n",
    "from sklearn.feature_extraction.text import CountVectorizer,TfidfVectorizer\n",
    "from sklearn.naive_bayes import MultinomialNB\n",
    "from sklearn.metrics import accuracy_score,recall_score,precision_score,f1_score,confusion_matrix,classification_report"
   ]
  },
  {
   "cell_type": "code",
   "execution_count": 2,
   "metadata": {},
   "outputs": [],
   "source": [
    "data = pd.read_csv('train_new.csv')"
   ]
  },
  {
   "cell_type": "code",
   "execution_count": 3,
   "metadata": {},
   "outputs": [
    {
     "data": {
      "text/html": [
       "<div>\n",
       "<style scoped>\n",
       "    .dataframe tbody tr th:only-of-type {\n",
       "        vertical-align: middle;\n",
       "    }\n",
       "\n",
       "    .dataframe tbody tr th {\n",
       "        vertical-align: top;\n",
       "    }\n",
       "\n",
       "    .dataframe thead th {\n",
       "        text-align: right;\n",
       "    }\n",
       "</style>\n",
       "<table border=\"1\" class=\"dataframe\">\n",
       "  <thead>\n",
       "    <tr style=\"text-align: right;\">\n",
       "      <th></th>\n",
       "      <th>Unnamed: 0</th>\n",
       "      <th>drugName</th>\n",
       "      <th>condition</th>\n",
       "      <th>review</th>\n",
       "      <th>rating</th>\n",
       "      <th>date</th>\n",
       "      <th>usefulCount</th>\n",
       "    </tr>\n",
       "  </thead>\n",
       "  <tbody>\n",
       "    <tr>\n",
       "      <th>0</th>\n",
       "      <td>0</td>\n",
       "      <td>Valsartan</td>\n",
       "      <td>Left Ventricular Dysfunction</td>\n",
       "      <td>It has no side effect I take it in combination...</td>\n",
       "      <td>9.0</td>\n",
       "      <td>May 20, 2012</td>\n",
       "      <td>27</td>\n",
       "    </tr>\n",
       "    <tr>\n",
       "      <th>1</th>\n",
       "      <td>1</td>\n",
       "      <td>Guanfacine</td>\n",
       "      <td>ADHD</td>\n",
       "      <td>My son is halfway through his fourth week of I...</td>\n",
       "      <td>8.0</td>\n",
       "      <td>April 27, 2010</td>\n",
       "      <td>192</td>\n",
       "    </tr>\n",
       "    <tr>\n",
       "      <th>2</th>\n",
       "      <td>2</td>\n",
       "      <td>Lybrel</td>\n",
       "      <td>Birth Control</td>\n",
       "      <td>I used to take another oral contraceptive whic...</td>\n",
       "      <td>5.0</td>\n",
       "      <td>December 14, 2009</td>\n",
       "      <td>17</td>\n",
       "    </tr>\n",
       "    <tr>\n",
       "      <th>3</th>\n",
       "      <td>3</td>\n",
       "      <td>Ortho Evra</td>\n",
       "      <td>Birth Control</td>\n",
       "      <td>This is my first time using any form of birth ...</td>\n",
       "      <td>8.0</td>\n",
       "      <td>November 3, 2015</td>\n",
       "      <td>10</td>\n",
       "    </tr>\n",
       "    <tr>\n",
       "      <th>4</th>\n",
       "      <td>4</td>\n",
       "      <td>Buprenorphine / naloxone</td>\n",
       "      <td>Opiate Dependence</td>\n",
       "      <td>Suboxone has completely turned my life around ...</td>\n",
       "      <td>9.0</td>\n",
       "      <td>November 27, 2016</td>\n",
       "      <td>37</td>\n",
       "    </tr>\n",
       "  </tbody>\n",
       "</table>\n",
       "</div>"
      ],
      "text/plain": [
       "   Unnamed: 0                  drugName                     condition  \\\n",
       "0           0                 Valsartan  Left Ventricular Dysfunction   \n",
       "1           1                Guanfacine                          ADHD   \n",
       "2           2                    Lybrel                 Birth Control   \n",
       "3           3                Ortho Evra                 Birth Control   \n",
       "4           4  Buprenorphine / naloxone             Opiate Dependence   \n",
       "\n",
       "                                              review  rating  \\\n",
       "0  It has no side effect I take it in combination...     9.0   \n",
       "1  My son is halfway through his fourth week of I...     8.0   \n",
       "2  I used to take another oral contraceptive whic...     5.0   \n",
       "3  This is my first time using any form of birth ...     8.0   \n",
       "4  Suboxone has completely turned my life around ...     9.0   \n",
       "\n",
       "                date  usefulCount  \n",
       "0       May 20, 2012           27  \n",
       "1     April 27, 2010          192  \n",
       "2  December 14, 2009           17  \n",
       "3   November 3, 2015           10  \n",
       "4  November 27, 2016           37  "
      ]
     },
     "execution_count": 3,
     "metadata": {},
     "output_type": "execute_result"
    }
   ],
   "source": [
    "data.head()"
   ]
  },
  {
   "cell_type": "code",
   "execution_count": 4,
   "metadata": {},
   "outputs": [],
   "source": [
    "data.drop(['Unnamed: 0'],axis=1,inplace=True)"
   ]
  },
  {
   "cell_type": "code",
   "execution_count": 5,
   "metadata": {},
   "outputs": [
    {
     "data": {
      "text/plain": [
       "(158584, 6)"
      ]
     },
     "execution_count": 5,
     "metadata": {},
     "output_type": "execute_result"
    }
   ],
   "source": [
    "data.shape"
   ]
  },
  {
   "cell_type": "code",
   "execution_count": 6,
   "metadata": {},
   "outputs": [],
   "source": [
    "conditions = dict(data['condition'].value_counts())"
   ]
  },
  {
   "cell_type": "code",
   "execution_count": 7,
   "metadata": {},
   "outputs": [],
   "source": [
    "top_10 = list(conditions.keys())[0:10]"
   ]
  },
  {
   "cell_type": "code",
   "execution_count": 8,
   "metadata": {},
   "outputs": [
    {
     "data": {
      "text/plain": [
       "['Birth Control',\n",
       " 'Depression',\n",
       " 'Pain',\n",
       " 'Anxiety',\n",
       " 'Acne',\n",
       " 'Bipolar Disorde',\n",
       " 'Insomnia',\n",
       " 'Weight Loss',\n",
       " 'Obesity',\n",
       " 'ADHD']"
      ]
     },
     "execution_count": 8,
     "metadata": {},
     "output_type": "execute_result"
    }
   ],
   "source": [
    "top_10"
   ]
  },
  {
   "cell_type": "code",
   "execution_count": 9,
   "metadata": {},
   "outputs": [],
   "source": [
    "review_by_condition = dict(data.groupby(['condition'])['review'].value_counts())"
   ]
  },
  {
   "cell_type": "code",
   "execution_count": 10,
   "metadata": {},
   "outputs": [
    {
     "data": {
      "text/plain": [
       "111136"
      ]
     },
     "execution_count": 10,
     "metadata": {},
     "output_type": "execute_result"
    }
   ],
   "source": [
    "len(review_by_condition)"
   ]
  },
  {
   "cell_type": "code",
   "execution_count": 11,
   "metadata": {},
   "outputs": [],
   "source": [
    "review_df = pd.DataFrame(review_by_condition.keys(),columns=['condition','Review'])"
   ]
  },
  {
   "cell_type": "code",
   "execution_count": 12,
   "metadata": {},
   "outputs": [
    {
     "data": {
      "text/html": [
       "<div>\n",
       "<style scoped>\n",
       "    .dataframe tbody tr th:only-of-type {\n",
       "        vertical-align: middle;\n",
       "    }\n",
       "\n",
       "    .dataframe tbody tr th {\n",
       "        vertical-align: top;\n",
       "    }\n",
       "\n",
       "    .dataframe thead th {\n",
       "        text-align: right;\n",
       "    }\n",
       "</style>\n",
       "<table border=\"1\" class=\"dataframe\">\n",
       "  <thead>\n",
       "    <tr style=\"text-align: right;\">\n",
       "      <th></th>\n",
       "      <th>condition</th>\n",
       "      <th>Review</th>\n",
       "    </tr>\n",
       "  </thead>\n",
       "  <tbody>\n",
       "    <tr>\n",
       "      <th>0</th>\n",
       "      <td>ADHD</td>\n",
       "      <td>I am a 19 year old college student and just go...</td>\n",
       "    </tr>\n",
       "    <tr>\n",
       "      <th>1</th>\n",
       "      <td>ADHD</td>\n",
       "      <td>I was on this med for a little over a week Rig...</td>\n",
       "    </tr>\n",
       "    <tr>\n",
       "      <th>2</th>\n",
       "      <td>ADHD</td>\n",
       "      <td>Works great</td>\n",
       "    </tr>\n",
       "    <tr>\n",
       "      <th>3</th>\n",
       "      <td>ADHD</td>\n",
       "      <td>10 10 miracle for my ADD fog fatigue OCD Can n...</td>\n",
       "    </tr>\n",
       "    <tr>\n",
       "      <th>4</th>\n",
       "      <td>ADHD</td>\n",
       "      <td>12 hours 140 mg</td>\n",
       "    </tr>\n",
       "    <tr>\n",
       "      <th>...</th>\n",
       "      <td>...</td>\n",
       "      <td>...</td>\n",
       "    </tr>\n",
       "    <tr>\n",
       "      <th>111131</th>\n",
       "      <td>zen Shoulde</td>\n",
       "      <td>The only side effect I have experienced with t...</td>\n",
       "    </tr>\n",
       "    <tr>\n",
       "      <th>111132</th>\n",
       "      <td>zen Shoulde</td>\n",
       "      <td>This medication has been a God send for me Aft...</td>\n",
       "    </tr>\n",
       "    <tr>\n",
       "      <th>111133</th>\n",
       "      <td>zen Shoulde</td>\n",
       "      <td>Very helpful for my frozen shoulder pain with ...</td>\n",
       "    </tr>\n",
       "    <tr>\n",
       "      <th>111134</th>\n",
       "      <td>zen Shoulde</td>\n",
       "      <td>Very little relief I finished PT and after a y...</td>\n",
       "    </tr>\n",
       "    <tr>\n",
       "      <th>111135</th>\n",
       "      <td>zen Shoulde</td>\n",
       "      <td>While taking this medication I had increased m...</td>\n",
       "    </tr>\n",
       "  </tbody>\n",
       "</table>\n",
       "<p>111136 rows × 2 columns</p>\n",
       "</div>"
      ],
      "text/plain": [
       "          condition                                             Review\n",
       "0              ADHD  I am a 19 year old college student and just go...\n",
       "1              ADHD  I was on this med for a little over a week Rig...\n",
       "2              ADHD                                        Works great\n",
       "3              ADHD  10 10 miracle for my ADD fog fatigue OCD Can n...\n",
       "4              ADHD                                    12 hours 140 mg\n",
       "...             ...                                                ...\n",
       "111131  zen Shoulde  The only side effect I have experienced with t...\n",
       "111132  zen Shoulde  This medication has been a God send for me Aft...\n",
       "111133  zen Shoulde  Very helpful for my frozen shoulder pain with ...\n",
       "111134  zen Shoulde  Very little relief I finished PT and after a y...\n",
       "111135  zen Shoulde  While taking this medication I had increased m...\n",
       "\n",
       "[111136 rows x 2 columns]"
      ]
     },
     "execution_count": 12,
     "metadata": {},
     "output_type": "execute_result"
    }
   ],
   "source": [
    "review_df"
   ]
  },
  {
   "cell_type": "code",
   "execution_count": 13,
   "metadata": {},
   "outputs": [],
   "source": [
    "#filtering reviews of top 10 conditions\n",
    "df = review_df[review_df.condition.isin(top_10)]"
   ]
  },
  {
   "cell_type": "code",
   "execution_count": 14,
   "metadata": {},
   "outputs": [
    {
     "data": {
      "text/plain": [
       "Birth Control      36.18\n",
       "Depression         12.55\n",
       "Pain                8.85\n",
       "Anxiety             8.64\n",
       "Acne                7.87\n",
       "Bipolar Disorde     5.75\n",
       "Insomnia            5.64\n",
       "Weight Loss         5.26\n",
       "Obesity             4.89\n",
       "ADHD                4.37\n",
       "Name: condition, dtype: float64"
      ]
     },
     "execution_count": 14,
     "metadata": {},
     "output_type": "execute_result"
    }
   ],
   "source": [
    "round(df['condition'].value_counts()/len(df)*100,2)"
   ]
  },
  {
   "cell_type": "code",
   "execution_count": 15,
   "metadata": {},
   "outputs": [
    {
     "data": {
      "text/plain": [
       "669"
      ]
     },
     "execution_count": 15,
     "metadata": {},
     "output_type": "execute_result"
    }
   ],
   "source": [
    "len(data['condition'].unique())"
   ]
  },
  {
   "cell_type": "markdown",
   "metadata": {},
   "source": [
    "**Stemming**"
   ]
  },
  {
   "cell_type": "code",
   "execution_count": 16,
   "metadata": {},
   "outputs": [],
   "source": [
    "from nltk.stem import SnowballStemmer"
   ]
  },
  {
   "cell_type": "code",
   "execution_count": 17,
   "metadata": {
    "scrolled": true
   },
   "outputs": [
    {
     "name": "stderr",
     "output_type": "stream",
     "text": [
      "/Users/blitzcrank/opt/anaconda3/lib/python3.7/site-packages/ipykernel_launcher.py:6: SettingWithCopyWarning: \n",
      "A value is trying to be set on a copy of a slice from a DataFrame.\n",
      "Try using .loc[row_indexer,col_indexer] = value instead\n",
      "\n",
      "See the caveats in the documentation: https://pandas.pydata.org/pandas-docs/stable/user_guide/indexing.html#returning-a-view-versus-a-copy\n",
      "  \n"
     ]
    }
   ],
   "source": [
    "def stem(x):\n",
    "    tokens = x.split()\n",
    "    stemmed_tokens = [SnowballStemmer('english').stem(token) for token in tokens]\n",
    "    return ' '.join(stemmed_tokens)\n",
    "\n",
    "df['stem_rev'] = df['Review'].apply(stem)"
   ]
  },
  {
   "cell_type": "code",
   "execution_count": 18,
   "metadata": {},
   "outputs": [
    {
     "name": "stderr",
     "output_type": "stream",
     "text": [
      "/Users/blitzcrank/opt/anaconda3/lib/python3.7/site-packages/pandas/core/frame.py:3997: SettingWithCopyWarning: \n",
      "A value is trying to be set on a copy of a slice from a DataFrame\n",
      "\n",
      "See the caveats in the documentation: https://pandas.pydata.org/pandas-docs/stable/user_guide/indexing.html#returning-a-view-versus-a-copy\n",
      "  errors=errors,\n"
     ]
    }
   ],
   "source": [
    "df.drop(['Review'],axis=1,inplace=True)"
   ]
  },
  {
   "cell_type": "code",
   "execution_count": 19,
   "metadata": {},
   "outputs": [],
   "source": [
    "df = df.reset_index(drop=True)"
   ]
  },
  {
   "cell_type": "code",
   "execution_count": 20,
   "metadata": {},
   "outputs": [
    {
     "data": {
      "text/html": [
       "<div>\n",
       "<style scoped>\n",
       "    .dataframe tbody tr th:only-of-type {\n",
       "        vertical-align: middle;\n",
       "    }\n",
       "\n",
       "    .dataframe tbody tr th {\n",
       "        vertical-align: top;\n",
       "    }\n",
       "\n",
       "    .dataframe thead th {\n",
       "        text-align: right;\n",
       "    }\n",
       "</style>\n",
       "<table border=\"1\" class=\"dataframe\">\n",
       "  <thead>\n",
       "    <tr style=\"text-align: right;\">\n",
       "      <th></th>\n",
       "      <th>condition</th>\n",
       "      <th>stem_rev</th>\n",
       "    </tr>\n",
       "  </thead>\n",
       "  <tbody>\n",
       "    <tr>\n",
       "      <th>0</th>\n",
       "      <td>ADHD</td>\n",
       "      <td>i am a 19 year old colleg student and just got...</td>\n",
       "    </tr>\n",
       "    <tr>\n",
       "      <th>1</th>\n",
       "      <td>ADHD</td>\n",
       "      <td>i was on this med for a littl over a week righ...</td>\n",
       "    </tr>\n",
       "    <tr>\n",
       "      <th>2</th>\n",
       "      <td>ADHD</td>\n",
       "      <td>work great</td>\n",
       "    </tr>\n",
       "    <tr>\n",
       "      <th>3</th>\n",
       "      <td>ADHD</td>\n",
       "      <td>10 10 miracl for my add fog fatigu ocd can now...</td>\n",
       "    </tr>\n",
       "    <tr>\n",
       "      <th>4</th>\n",
       "      <td>ADHD</td>\n",
       "      <td>12 hour 140 mg</td>\n",
       "    </tr>\n",
       "    <tr>\n",
       "      <th>...</th>\n",
       "      <td>...</td>\n",
       "      <td>...</td>\n",
       "    </tr>\n",
       "    <tr>\n",
       "      <th>50099</th>\n",
       "      <td>Weight Loss</td>\n",
       "      <td>so i start phentermin on tuesday 9 29 2015 at ...</td>\n",
       "    </tr>\n",
       "    <tr>\n",
       "      <th>50100</th>\n",
       "      <td>Weight Loss</td>\n",
       "      <td>start take 37 5 mg for weight loss on 3 31 17 ...</td>\n",
       "    </tr>\n",
       "    <tr>\n",
       "      <th>50101</th>\n",
       "      <td>Weight Loss</td>\n",
       "      <td>the first time i start this was back in april ...</td>\n",
       "    </tr>\n",
       "    <tr>\n",
       "      <th>50102</th>\n",
       "      <td>Weight Loss</td>\n",
       "      <td>updat 7 4 2011 today weight 237 for those of y...</td>\n",
       "    </tr>\n",
       "    <tr>\n",
       "      <th>50103</th>\n",
       "      <td>Weight Loss</td>\n",
       "      <td>way too much stimul increas heart rate and blo...</td>\n",
       "    </tr>\n",
       "  </tbody>\n",
       "</table>\n",
       "<p>50104 rows × 2 columns</p>\n",
       "</div>"
      ],
      "text/plain": [
       "         condition                                           stem_rev\n",
       "0             ADHD  i am a 19 year old colleg student and just got...\n",
       "1             ADHD  i was on this med for a littl over a week righ...\n",
       "2             ADHD                                         work great\n",
       "3             ADHD  10 10 miracl for my add fog fatigu ocd can now...\n",
       "4             ADHD                                     12 hour 140 mg\n",
       "...            ...                                                ...\n",
       "50099  Weight Loss  so i start phentermin on tuesday 9 29 2015 at ...\n",
       "50100  Weight Loss  start take 37 5 mg for weight loss on 3 31 17 ...\n",
       "50101  Weight Loss  the first time i start this was back in april ...\n",
       "50102  Weight Loss  updat 7 4 2011 today weight 237 for those of y...\n",
       "50103  Weight Loss  way too much stimul increas heart rate and blo...\n",
       "\n",
       "[50104 rows x 2 columns]"
      ]
     },
     "execution_count": 20,
     "metadata": {},
     "output_type": "execute_result"
    }
   ],
   "source": [
    "df"
   ]
  },
  {
   "cell_type": "markdown",
   "metadata": {},
   "source": [
    "## Modeling"
   ]
  },
  {
   "cell_type": "code",
   "execution_count": 21,
   "metadata": {},
   "outputs": [],
   "source": [
    "def metrics(pred):\n",
    "    print('accuracy : {} %'.format(round(accuracy_score(pred,y_test)*100,2)))\n",
    "    print('recall : {} %'.format(round(recall_score(pred,y_test,average='macro')*100,2)))\n",
    "    print('precision : {} %'.format(round(precision_score(pred,y_test,average='macro')*100,2)))\n",
    "    print('f1 score : {} %'.format(round(f1_score(pred,y_test,average='macro')*100,2)))"
   ]
  },
  {
   "cell_type": "code",
   "execution_count": 22,
   "metadata": {},
   "outputs": [],
   "source": [
    "classes = ['ADHD','Acne','Anxiety','Bipolar Disorde','BirthControl','Depression','Insomnia','Obesity','Pain','Weight Loss']\n",
    "def cm(pred):\n",
    "    print(confusion_matrix(y_test,pred))\n",
    "    print(classification_report(y_test,pred,target_names=classes))"
   ]
  },
  {
   "cell_type": "code",
   "execution_count": 24,
   "metadata": {},
   "outputs": [],
   "source": [
    "X = df['stem_rev'].values\n",
    "y = df['condition'].values"
   ]
  },
  {
   "cell_type": "code",
   "execution_count": 25,
   "metadata": {},
   "outputs": [
    {
     "name": "stdout",
     "output_type": "stream",
     "text": [
      "(35072,) (35072,) (15032,) (15032,)\n",
      "i decid in 06 08 after i had my 3rd child to do someth more long term so i chose implanon at the time of insert i weigh 167 and now after 15 month i have been stuck at 194 i also have have been bleed for 15 month with an occasion 3 7 day break i am constant use tampon and panti liner my sex drive is aw i don t even think about it the sex drive and the bleed is put a damper on my marriag and has made my husband kranki the last 3 week i haven t bled i m hope i have either stop for good or it make me a littl curious if i am pregnant i go to the doctor on the 15th and i am go to see what other option i have\n",
      "Birth Control\n",
      "i bought this 2 3 month befor i got marri and had veri littl side effect i have been marri 2 5 year and i haven t gotten pregnant yet i think the onli annoy is that my period come everi other month and that i get some spot off and on throughout the month my period are shorter and there is less bleed which is a nice thing i haven t taken ani other birth control but i m think of switch to a cervic cap a year befor we want to have kid so i can get my hormon regul correct again\n",
      "Birth Control\n"
     ]
    }
   ],
   "source": [
    "# Split data into train and test\n",
    "X_train, X_test, y_train, y_test = train_test_split(X, y, test_size=0.3, random_state=69)\n",
    "\n",
    "print(X_train.shape, y_train.shape, X_test.shape, y_test.shape)\n",
    "print(X_train[0])\n",
    "print(y_train[0])\n",
    "print(X_test[0])\n",
    "print(y_test[0])"
   ]
  },
  {
   "cell_type": "code",
   "execution_count": 26,
   "metadata": {},
   "outputs": [
    {
     "name": "stdout",
     "output_type": "stream",
     "text": [
      "{'Birth Control', 'Anxiety', 'Obesity', 'Pain', 'Depression', 'Weight Loss', 'ADHD', 'Bipolar Disorde', 'Insomnia', 'Acne'}\n",
      "[['ADHD' 1523]\n",
      " ['Acne' 2756]\n",
      " ['Anxiety' 2995]\n",
      " ['Bipolar Disorde' 2002]\n",
      " ['Birth Control' 12780]\n",
      " ['Depression' 4399]\n",
      " ['Insomnia' 1945]\n",
      " ['Obesity' 1746]\n",
      " ['Pain' 3113]\n",
      " ['Weight Loss' 1813]]\n"
     ]
    },
    {
     "name": "stderr",
     "output_type": "stream",
     "text": [
      "/Users/blitzcrank/opt/anaconda3/lib/python3.7/site-packages/ipykernel_launcher.py:5: DeprecationWarning: `itemfreq` is deprecated!\n",
      "`itemfreq` is deprecated and will be removed in a future version. Use instead `np.unique(..., return_counts=True)`\n",
      "  \"\"\"\n"
     ]
    }
   ],
   "source": [
    "# Validation of train data\n",
    "training_labels = set(y_train)\n",
    "print(training_labels)\n",
    "from scipy.stats import itemfreq\n",
    "training_category_dist = itemfreq(y_train)\n",
    "print(training_category_dist)"
   ]
  },
  {
   "cell_type": "markdown",
   "metadata": {},
   "source": [
    "**MNB unigrams**"
   ]
  },
  {
   "cell_type": "code",
   "execution_count": 113,
   "metadata": {},
   "outputs": [],
   "source": [
    "cv_mnb_uni = CountVectorizer(encoding='latin-1', binary=False, min_df=5, stop_words='english',token_pattern='[a-z]+',ngram_range=(1,2),lowercase=True)"
   ]
  },
  {
   "cell_type": "code",
   "execution_count": 114,
   "metadata": {},
   "outputs": [
    {
     "name": "stdout",
     "output_type": "stream",
     "text": [
      "(35072, 49601)\n",
      "[[0 0 0 ... 0 0 0]]\n",
      "49601\n",
      "[('decid', 9835), ('rd', 34572), ('child', 6786), ('someth', 38925), ('long', 23958), ('term', 42395), ('chose', 6865), ('implanon', 20218), ('time', 43158), ('insert', 20645)]\n"
     ]
    }
   ],
   "source": [
    "X_train_vec_1 = cv_mnb_uni.fit_transform(X_train)\n",
    "\n",
    "# check the content of a document vector\n",
    "print(X_train_vec_1.shape)\n",
    "print(X_train_vec_1[0].toarray())\n",
    "\n",
    "# check the size of the constructed vocabulary\n",
    "print(len(cv_mnb_uni.vocabulary_))\n",
    "\n",
    "# print out the first 10 items in the vocabulary\n",
    "print(list(cv_mnb_uni.vocabulary_.items())[:10])"
   ]
  },
  {
   "cell_type": "code",
   "execution_count": 115,
   "metadata": {},
   "outputs": [
    {
     "name": "stdout",
     "output_type": "stream",
     "text": [
      "(15032, 49601)\n"
     ]
    }
   ],
   "source": [
    "X_test_vec_1 = cv_mnb_uni.transform(X_test)\n",
    "print(X_test_vec_1.shape)"
   ]
  },
  {
   "cell_type": "code",
   "execution_count": 116,
   "metadata": {},
   "outputs": [],
   "source": [
    "mnb_1 = MultinomialNB()\n",
    "mnb_1.fit(X_train_vec_1,y_train)\n",
    "mnb_1_pred = mnb_1.predict(X_test_vec_1)"
   ]
  },
  {
   "cell_type": "code",
   "execution_count": 117,
   "metadata": {},
   "outputs": [
    {
     "name": "stdout",
     "output_type": "stream",
     "text": [
      "[(-5.0828139100790075, 'week'), (-5.058278666282728, 'control'), (-5.036792552477708, 'year'), (-4.997376351537348, 'm'), (-4.925672315793902, 'day'), (-4.8947294210318315, 've'), (-4.724801151735738, 'pill'), (-4.459985364234466, 't'), (-4.403144241309679, 'month'), (-4.367889456030126, 'period')]\n"
     ]
    }
   ],
   "source": [
    "feature_ranks = sorted(zip(mnb_1.coef_[4], cv_mnb_uni.get_feature_names()))\n",
    "category_features = feature_ranks[-10:]\n",
    "print(category_features)"
   ]
  },
  {
   "cell_type": "code",
   "execution_count": 118,
   "metadata": {},
   "outputs": [],
   "source": [
    "def show_most_and_least_informative_features(vectorizer, clf, class_idx=0, n=10):\n",
    "    feature_names = vectorizer.get_feature_names()\n",
    "    coefs_with_fns = sorted(zip(clf.coef_[class_idx], feature_names))\n",
    "    top = zip(coefs_with_fns[:n], coefs_with_fns[-n:])\n",
    "    for (coef_1, fn_1), (coef_2, fn_2) in top:\n",
    "        print(\"\\t%.4f\\t%-15s\\t\\t%.4f\\t%-15s\" % (coef_1, fn_1, coef_2, fn_2))"
   ]
  },
  {
   "cell_type": "code",
   "execution_count": 119,
   "metadata": {},
   "outputs": [
    {
     "name": "stdout",
     "output_type": "stream",
     "text": [
      "\t-12.0002\taa             \t\t-6.0706\tweigh          \n",
      "\t-12.0002\tab             \t\t-6.0521\tfood           \n",
      "\t-12.0002\tabat           \t\t-6.0012\tloss           \n",
      "\t-12.0002\tabdomen area   \t\t-5.9767\tlost lbs       \n",
      "\t-12.0002\tabdomen pain   \t\t-5.9364\ts              \n",
      "\t-12.0002\tabil concentr  \t\t-5.9271\tveri           \n",
      "\t-12.0002\tabil focus     \t\t-5.8909\texercis        \n",
      "\t-12.0002\tabil function  \t\t-5.8538\ttime           \n",
      "\t-12.0002\tabil orgasm    \t\t-5.8517\thelp           \n",
      "\t-12.0002\tabil sleep     \t\t-5.8098\tcontrav        \n",
      "\t-12.0002\tabil stay      \t\t-5.8037\tlose           \n",
      "\t-12.0002\tabilifi        \t\t-5.7976\tmedic          \n",
      "\t-12.0002\tabilifi becaus \t\t-5.7012\tpill           \n",
      "\t-12.0002\tabilifi day    \t\t-5.6830\tonli           \n",
      "\t-12.0002\tabilifi help   \t\t-5.6510\tjust           \n",
      "\t-12.0002\tabilifi mg     \t\t-5.6116\tve             \n",
      "\t-12.0002\tabilifi month  \t\t-5.4693\twork           \n",
      "\t-12.0002\tabilifi seroquel\t\t-5.4349\tfeel           \n",
      "\t-12.0002\tabilifi start  \t\t-5.3734\tpound          \n",
      "\t-12.0002\tabilifi week   \t\t-5.2896\tmonth          \n",
      "\t-12.0002\tabilifi work   \t\t-5.1671\teffect         \n",
      "\t-12.0002\tabilifi year   \t\t-5.0974\tm              \n",
      "\t-12.0002\tabl ani        \t\t-5.0522\tlost           \n",
      "\t-12.0002\tabl anyth      \t\t-4.9587\teat            \n",
      "\t-12.0002\tabl bed        \t\t-4.9218\tt              \n",
      "\t-12.0002\tabl befor      \t\t-4.8685\tweek           \n",
      "\t-12.0002\tabl breath     \t\t-4.8495\tlbs            \n",
      "\t-12.0002\tabl care       \t\t-4.8270\tweight         \n",
      "\t-12.0002\tabl clear      \t\t-4.7798\tstart          \n",
      "\t-12.0002\tabl come       \t\t-4.7609\tday            \n"
     ]
    }
   ],
   "source": [
    "show_most_and_least_informative_features(cv_mnb_uni,mnb_1,7,30)"
   ]
  },
  {
   "cell_type": "code",
   "execution_count": 78,
   "metadata": {},
   "outputs": [
    {
     "name": "stdout",
     "output_type": "stream",
     "text": [
      "accuracy : 79.02 %\n",
      "recall : 75.11 %\n",
      "precision : 69.37 %\n",
      "f1 score : 71.17 %\n"
     ]
    }
   ],
   "source": [
    "metrics(mnb_1_pred)"
   ]
  },
  {
   "cell_type": "code",
   "execution_count": 79,
   "metadata": {},
   "outputs": [
    {
     "ename": "TypeError",
     "evalue": "'numpy.ndarray' object is not callable",
     "output_type": "error",
     "traceback": [
      "\u001b[0;31m---------------------------------------------------------------------------\u001b[0m",
      "\u001b[0;31mTypeError\u001b[0m                                 Traceback (most recent call last)",
      "\u001b[0;32m<ipython-input-79-ce1bd1560411>\u001b[0m in \u001b[0;36m<module>\u001b[0;34m\u001b[0m\n\u001b[0;32m----> 1\u001b[0;31m \u001b[0mcm\u001b[0m\u001b[0;34m(\u001b[0m\u001b[0mmnb_1_pred\u001b[0m\u001b[0;34m)\u001b[0m\u001b[0;34m\u001b[0m\u001b[0;34m\u001b[0m\u001b[0m\n\u001b[0m",
      "\u001b[0;31mTypeError\u001b[0m: 'numpy.ndarray' object is not callable"
     ]
    }
   ],
   "source": [
    "cm(mnb_1_pred)"
   ]
  },
  {
   "cell_type": "code",
   "execution_count": 36,
   "metadata": {},
   "outputs": [
    {
     "name": "stdout",
     "output_type": "stream",
     "text": [
      "i ve experienc a slight increas in blood pressur but no other side effect i m feel more focus and energet\n",
      "i ve been on abilifi for near 2 year the first month or so was rough tire earli at night or after a cocktail restless sleep wake up earli dizzi foggi head but after my dr reduc my dose to 2 5 mg day side effect improv the one that remain are profus night sweat soak sheet and constip it doe make you a bit tire but i take it befor bed it complet help with my irrit agit toward peopl and my children i have a ton more patienc and less anxieti overal the biggest issu i have is the cost get the abilifi save card if you are start a new prescript\n",
      "i had such bad side effect from abilifi with no posit effect my cholesterol went up i had heartburn or acid reflux everi night that would wake me up i got total paranoid and was even scare to drive or ride in a car i had unusu fear of die i had a hard time lay still and would have to move my leg and arm i got realli bad dizzi spell usual while i was drive which creat more fear of drive i still haven t found someth that work for me lose hope\n",
      "you don t even know it is work you just feel better\n",
      "this medicin save my life\n",
      "it save me from go in a deep depress episod\n",
      "i have been on abilifi on two separ occas along with other medic to help with depress and bipolar both time was a disast this time i ve tri to tough out the side effect work on three month now and i still can t deal with the way it make me feel i feel flat tire depress low motiv worthless hopeless you name it i see my doctor tomorrow and plan to demand stop abilifi\n",
      "i have been on my antidepress celexa lexapro effexor prozac lithium lamict just to name a few lexapro seem to work best for me howev after a coupl year it effect have reduc and i start to get angri easili annoy and i alway get tire around 3 or 4 pm and need a siesta so to speak my dr put me on wellbutrin sr hcl 100mg onc a day to tri and combat the tired from the lexapro it was fill with the generic version i must say both my wife and i notic it has work wonder for my anger and agit howev i am twice as sleepi and groggi on it and have to take it befor i go to sleep and when i get up i m exhaust it do the opposit of what almost everi review i ve seen for me im go off of it asap\n",
      "have been on escitalopram for 4 year and it s save me from anxieti and depress take 15 mg and in the summer come down to 10 mg this medicin is one of the best on the market\n",
      "after year of antidepress tablet that work onli to blank out my memori and let me surviv i went on to lamotragin six month ago sudden and quick i start to feel normal again my long term memori has return and i take pleasur in music and natur again i feel so much happier on the negat side the fatigu becam a problem but has reduc as i reduc my dose to get to optim insomnia and vivid dream have increas but i can deal with that also blur vision and dizzi that is slowli disappear in short a miracl for bipolar 2 i also take lexapro\n",
      "i have been on nuvigil for about a year it is a miracl my insur won t pay for the dosag i need so i get off of it on the weekend sometim i can feel a huge differ off of it and hope that the final stage of the trial produc posit result so i can get the dosag i need i would not be aliv without this medic i am more product social and have no suicid thought while on it\n",
      "i ve take so mani medic throughout the year there was alway someth i didn t like i alway felt off with everi medic i found out about st john s wort and it chang my life zero side effect if you re wonder about medic pleas give st john s wort a tri i feel like me but a better me not a quot medic quot me\n",
      "i was veri hesit on take this medic and like most of you read these review i too was scare of what it might or might not do all i can say in 3 day 2mg dose there was a huge differ in my attitud calm and overal presenc in me and my thought amaz i have so much energi and love do thing again it has been one week and for those of you who are affraid to gain weight you must know i am lose weight it has actual decreas my apitit howev that might be becaus i am cautious of it and find other way to curb crave one side effect i am have is not sleep although we are go through a bit of a heat wave and even air condit is not help good luck\n",
      "been in therapi with a counsel psychologist for just over 3 year diagnosi from consult psychiatrist complex ptsd bipolar type 2 and fibromyalgia been on sertralin 200mg for 2 year ate diazepam 2 5mg like smarti after a relationship with an anti social person disord man been take quetiapin sinc decemb 15 and slowli move up to 125mg to increas to 200mg was take 7 5mg mertazipin for sleep though have now remov it due to increas of quetiapin and weight gain overal i m feel much calmer more ration less reactiv and more confid talk to peopl after intrus thought cognit disson depress anxieti insomnia cri dissacoci nightmar etc i m happi\n",
      "i took zoloft for 2 year at 100mg daili for bipolar disord type i zoloft is wonder in that it made me signific less anxious howev it didn t succeed in make me ani less depress also as with most anti depress i experienc a decreas sex drive\n",
      "i first start latuda at 40mg and it had zero effect my dose was increas to 80mg and within two day everi singl last bit of nois in my head disappear complet my focus is excel now and my life has liter chang becaus of this drug my energi is put into thing that are import like a clean hous and a clean bodi and i am so happi all the time now i can t believ how excel this drug is and i am so happi i was given the right dose to help me live a better life i m actual readi to face the world again and get off of disabl and go back to work i can t describ how much this drug has chang my life posit complet 180 degre turnaround\n",
      "lamict has been effect for me i had not realiz some of my symptom until i was unabl to afford it and went off it for coupl month i had more depress began to emot over eat increas difficulti in make decis and pay attent and feel of be overwhelm i am fortun enough to have the mean to get back on my medicin i function without it but this make my disabl more manag\n",
      "i battl with bipolar i sinc 1992 but never experi major depress until mid 2009 and it was terribl lot of cri despair horribl guilt just hate myself i tri 2 3 anti depress when i final found a m d who would let me tri one they are so concern you will spiral up into a manic attack i then tri cymbalta 60mg and the depress is most day just gone i have had some bad day like everyon a few time when cri regret etc would start it seem it was cap off and subsid quick i continu to have signific constip and hand tremor i eat a lot more fiber in my diet and take 2 natur fiber pill a day to help with the constip cut back on caffein help the hand tremor\n",
      "i will updat after i ve been on longer but i basic feel stone veri hard time sleep feel like i was hit by a truck and my teeth hurt mental i feel no differ but do feel more friend thank i have insur becaus it s 1200 for a month suppli\n",
      "i had been medic free for over 10 year when a seri of traumat event escal in full blown psychosi and deep depress i was suicid unabl to sleep and experienc 6 hour long panic attack i was put on olanzapin 5mg at night and have been take it for just over 1 year i was abl to sleep through and the nightmarish world i inhabit slowli began to clear like a thick fog at the time i thought there was no way i would make it out aliv the deep depress took longer to lift and after no luck combin it with proxac or citalopram i hit on the right combin with effexor 225mg still the olanzapin was my daylight drug weight gain has been an issu but my appetit is more manag now and am exercis\n",
      "i use this medicin for depress and it is realli effect\n",
      "this medic was not good for me my doctor ad this to the depakot i was alreadi take to help with irrit and aggress this turn me into a zombi walk around in a fog the whole time i was on it still irrit and more so becaus i couldn t focus experienc nightmar anorgasmia when i could keep an erect and had an orgasm had no ejacul realli scari took it for 2 week and then stop take it bad for me may help someon els\n",
      "start it in march 2015 decreas my appetit withdraw over 3 day terribl feel like my head is swim sens of well be has notic improv\n",
      "i have type 2 bp along with mani other thing and i do say i love this rx it help me out for a veri long time one of the first and few howev i did feel veri dull emot i was on 140mg daili but ani doe lower did not work i could not even cri unless someth absolut tragic ie death or someon i love get hurt happen in my life also i hate have to take it with food i constant had an upset stomach as i could never seem to get eat and take the med right so all in all i took myself off from the med and the withdrawl from it were hell for about two week i felt like i was die so as a conclus this med doe work and work well if you like be a robot who vomit\n",
      "i have been battl with major depress sinc i was a child i have been on mani differ type of medic over the year i also have a major case of obsess compuls disord and as i i m get older it has been get sever wors everyth has to be in perfect order i spend hour upon hour a day make sure everyth is order it s so bad that i can not even have garbag in my garbag can if so i have to clean the can immedi it has becom so bad that it cut into other daili activ such as spend time with my wife famili and friend some day i do not even attempt to get out of bed some day i will sleep for well over 24 hour these are the medic in take daili i take 150 mg of lamotrigin\n",
      "i ve been on this medicin for 2 month now they up d my dosag everi week as follow 20mg 40mg 60mg 60mg went to my check up and i still felt veri irrit and mean so she bump me to 80mg and said that should work no i hate it i felt like i was jump out of my skin i couldn t sit still and felt so antsi that i couldn t sleep i had to drink a beer or take a xanax to fall asleep i decid to take matter in my own hand and drop myself back down to 40mg and i feel great now i have no depress and i feel aliv again my anxieti is still here but will be back on my klonopin soon to help i have to take this with dinner or i feel nauseous\n",
      "probabl the worst medic i ve ever been on made me feel complet disconnect from realiti and dissoci all the time made me nauseous did not help with my suicid thought or impuls at all in fact i was more suicid on it i didn t care about anyth couldn t get ani work done could not concentr slept all the time and gain weight on it did not help my depress symptom at all\n",
      "feel great along with other medicin\n",
      "i find abilifi to be the onli thing that stop the depress side of my bipolar everi time i tri to stop it after a coupl of week i end up depress again be back on it for one week and depress goe have no side effect such as weight gain loss sleepless or sleepi so feel lucki after read through some of the comment here it help me regain control over my life\n",
      "i start take pristiq 100mg last juli initi i had headach mood swing anxious and found it hard to sleep this last about a week with the initi combin of melatonin i was abl to get into a routin of take the pristiq in the morn and melatonin at night both rough at the same time to sleep the same amount each day for nine month i have taken pristiq by itself now and have found that it has signific decreas anxieti stop me from internalis almost complet and has reduc my mood swing consider i have slight reduc sex drive put on a bit of weight and a want to smoke and fidget i have found pristiq benefici to my life but frustrat at time\n",
      "it s not for everyon but i do well on it it s a great antidepress and it help me lose a lot of weight i believ onli downsid insomnia but it doe go away eventu the insomnia\n",
      "i have taken a lot of medicin and hate all of them or they didn t work for me this one actual work but my sex drive well i have none now and that in turn make me depress so i think my doctor go to have to tri someth els\n",
      "i love the result from this medicin i am not anxious and haven t cri or had a rage fit sad to say i am suffer major side effect such as throw up loss of appetit can t swallow sweat can t sleep shake all over teeth clench on and on and on but it beat the hell out of anxieti cri all the time and sever and sometim violent mood swing\n",
      "i have bipolar 2 i use to over react to everyth and would get butterfli in my stomach i was irrit and alway worri about someth now my mood are stabl becaus i m assess situat more realist instead of catastroph no more tear my mom said i m act like i did when i was a child happi\n",
      "irrit agit impati anxious and increas anger\n",
      "the first day when i woke up i felt like my bodi had been hit by a mack truck but the second day my bodi felt fine it took about 2 week for side effect to go away troubl sleep headach stomach upset the motiv has been wonder i take it with wellbutrin and lamict i never want to tri it becaus of the weight gain but i have not found that to be true in my case motiv exercis\n",
      "i was diagnos with bipolar disord just a few month ago i m 25 and let me say this medicin work great i could tell a differ within the first week and my husband whom i was drive absolut crazi saw a huge chang too i feel happier now and the quot manic quot has gone away i have notic the weight loss but not too much i was weigh in at 160lbs and now i m down to 150lbs so 10 lbs in the past 2 month is good my sex life is back to normal where i hope it will stay i feel like a better mother and wife now all becaus of pristiq\n",
      "i have taken this for about a year i have lost about 40 lbs i am take it to help depress mood i also have to take the brand and not the generic i will have late onset asthma with the generic and other unpleas side effect i tri more than onc to use generic but it won t work so give it a tri if you can afford the brand name it make a big differ i also found that all my migrain disappear while take this what a relief that was\n",
      "feel much better i m energ and my mood slowli get better everi day i m on week two 100mg d\n",
      "i have been take it for about 3 month now and it work veri well i do not have those strong unrealist negat scenario anymor no voic no feel like disappear all that is gone and it minim my unreason fear i do have long moment of almost total lack of emot and i do not feel much in general i use to be an enthusiast person but i do not mind for now it was terribl not to be abl to control inexplic feel i did not gain weight just a bit but i also take wellbutrin my onli concern is how i am go to be when i stop take this medicin\n",
      "possibl the worst mental med i ve ever taken i ve taken mani over the year it gave me an intens dereal side effect onli time i ve experienc this it was unsettl as hell and truli horribl constant gas as in so bad i couldn t be in public those who were brave enough to hold their breath be around me told me that my affect was pretti flat as well so basic it made me freak out flat repuls all at the same time thumb down\n",
      "weight gain letharg 300 dosag at bed time ani more you ll have head turn in public reclus is a major problem do to zombi affect mess up part is my roommat had to tell me cuz i didn t even notic i have not been abl to get a job i tri colleg and it didn t work my short term memori is short can t even rememb what i ate for dinner three day ago i do sleep though all you can do is push on and forget gl\n",
      "it made me veri agit\n",
      "i have been on lexapro for almost two week now my depress has gotten better but unfortun it caus me to have problem in bed i am male 26 year old my libido is the same for some reason short after start this medic i cannot climax sexual paxil was similar but i could still finish i am plan on get off this medic as fast as i can\n",
      "i ve been take bupropion 200mg for rough three week to treat bipolar depress i have not had success with ani other antidepress for me wellbutrin has been great it has increas my energi level dramat as well as improv my mood it s not a cure all but it s certain help the side effect i take it in the morn to avoid troubl sleep increas my anxieti somewhat the first week higher libido mark reduc appetit i need to remind myself to eat and i ve lost 5 lbs other have mention a bad interact with alcohol which i have not experienc i ve had up to three drink with no problem my overal experi has been good this is a great medicin if it agre with you\n",
      "did notic a differ as calm down better\n",
      "i think effexor has been veri benefici for me i ve taken it for about six year a word of warn do not let your prescript run out or take yourself off effexor abrupt i experienc this by accid while wait for a mail order prescript to arriv my doctor was just move into a new offic and didn t have sampl avail within 2 day i was a wreck emot depress sob for no reason cognit all over the place no concentr and physic impair motor coordin among other thing the quot brain shiver quot a feel like an electr current run from the brain down the spine and back again are veri disconcert i got sampl from my doctor s former offic and was notic better within hour of 1 dose\n",
      "some nausea sever vomit when i first began better now it knock me out pretti quick so i take it at night along with 300mg of lamict and 150mg of trazodon the worst side effect i ve notic is extrem fatigu i can t seem to get enough sleep otherwis it definit a step in the right direct 2 week and count if the fatigu thing doesn t let up i ll probabl have to stop it and move on to someth els it that bad also curb my appetit consider\n",
      "i know everi medic work differ on each person but abilifi work great for the first few month i felt like my old self again i took 10mg onc a day but over the cours of 1 5 year my blood pressur went up never had a problem with it befor it had alway been perfect all my cholesterol level skyrocket my glucos level went up my muscl begin to get tight i gain 50lbs too and the wors part was the i was begin to have more up n down moment and depress\n",
      "i recent start this medic after issu with my previous med that last two and a hhalf year major improv i enjoy the clariti the increas in motivi for finish task and social experi and lack of fog that use to cloud my mind i m a big guy so i start on 80mg which was way too strong but after cut the dose in half i am actual look and feel better than i have for year my therapist psychiatrist famili and friend all notic an extrem postiv differ and vocal this almost everi day take it with dinner though seem to caus my mental and physic energi to dissip rapid i go to bed much earlier than i d like to though\n",
      "start this med a week ago today it has been the onli thing that keep my mood in line and in check i am on 60mg of it along with 100mg of wellbutrin i have never felt this calm and feel as though i can get thru a day now without constant mood flip the onli thing i do not like is that it make me restless and feel like i constant need to move around\n",
      "i lost my appetit and yet gain between 7 to 10 pound a week until my psychiatrist took me off of it 5 week later stuck with the weight not onli did it not improv my mood my imag depress me even more\n",
      "the medic at first did was it was suppos to do i was a shut in with some paranoia thrown in and hadn t left my hous in over a year except to go to doctor appoint and get groceri in the hous at first i found the medic got me out and about and got me back into the real world i sign up for colleg got in contact with friend i hadn t talk with in age and start live again for that this drug was fine then the side effect start kick in keep in mind i was on 2mg of this drug and even then the side effect were bad enough to knock me out of colleg and suffer someth call quot deperson through disassoci quot one of the scariest experi i think i ve ever had i don t recommend it\n",
      "hive saw weird thing and paranoia\n",
      "i m diagnos as bipolar i sinc one year and an half sinc then i have tri mani medic almost all avail on the market some anti psychot and antidepress by far zoloft is a miracl drug for me i had lost all hope to ever feel happi again one day but this medic final do the job i have more energi a lot less of anxieti i can focus on the task that i want to accomplish in my life i have tri previous prozac and wellbutrin but they didn t do anyth to me never give up find the right medic can be veri long but when you find it it worth it the medic kick in after 3 week of use\n",
      "i am 38 femal in a commit relationship again after divorc and bipolar type 1 been on the generic of this drug 25mg for 4 day not on ani other med my therapeut dose is 75mg so i m not quit there yet it may be too soon to give a review but it s import to note that i experienc immedi relief within 24 hour but the real reason i am review it today day 4 i feel like my quot old self quot and not the bright shini new self i experienc for 3 day straight i also want to note that i feel like i go through withdraw about 2 3 hour befor i need to take my next pill befor bed get extrem moodi i am still optimist howev i plan on give anoth review in a few week\n",
      "increas mood instabl both way becam realli down and have insomnia dissoci\n",
      "save my life was put on this in the hospit and my depress was out of the suicid level in three day about 5 day on it now and have had some recur moder depress howev my pdoc say it should take full effect in 2 4 week\n",
      "i was start at 40mg and got mild nausea but do good mood wise increas to 80mgs and start get physic sick within 20 minut of take it it would have made a good diet medicin for me but that is not whi i was on it\n",
      "i was hospit and put on this medicin approxim 2 year ago i did great on this medicin i did start the teeth grind but not sever i tri to give it up becaus of that side effect although i onli did it while lay down get readi for sleep and a few time dure the day i didn t get that exercis high anymor sinc it made me sort of sedat dure exercis i did get hungrier more often and gain about ten pound but overal this medicin has decreas my anxieti and i hard ever get panic attack anymor i tri other medicin but want to stay on this medicin becaus even though the side effect of weight gain etc i love the way it relax me at night and help me to sleep\n",
      "i was diagnos with depress and anxieti 5 year ago i was so stress about work even though i like my job and wasn t stress about it for year befor had continu troubl sleep more than 4 hour a night sometim less i went off work for two month due to stress anxieti and depress my doctor prescrib 25 mg of seroquel and 20 mg of cipralex for depress i take both at night an hour befor go to bed i saw a psychiatrist for about two month dure the time i was off work i didn t get off the couch basic all day for about a month start to sleep better and feel a bit better after a few week i sleep perfect now and haven t had ani real problem last five year\n",
      "felt better than i had in year but major weight gain caus my doctor to discontinu\n",
      "turn me into a lifeless zombi\n",
      "good experi overal more motiv less depress and no side effect i take 30mg you have to take it with food otherwis you d get nausea\n",
      "i was diagnos onc year ago with depress and associ general anxieti i was prescrib initi sertralin and alprazolam but the secondari effect of sertralin were too sever nausea vomit diarrea my psyc chang the sertralin to paroxetin and again i didn t toler it final a was prescrib venlafaxin which help me with my depress symptom but i was too anxious and irrit final i was diagnos with type 2 bipolar disord and quetiapin was prescrib initi i was take 25 mgs befor go to sleep which help with sleep but i was anxious and irrit quetiapin dose was increas and at this moment i take 100 mgs befor go to bed this medic realli help i m not anxious or depress\n",
      "i have taken lamotrigin for year it has been effect but i have gradual had more side effect these review have been veri help as i thought some of my problem were creat by the sun humid or allergi over time and sporad i have had more nausea chill a lot of itch if i scratch the itch at all the skin turn bright red and spread along with itch the itch is horribl 3 day after 50mg increas i have all the abov side effect plus sweat chill and flu like symptom have extrem strang dream and nightmar i didn t have these side effect when i first start the medicin they start gradual and i think it is time to look for a differ medicin\n",
      "i have been take symbyax for 3 week i cannot believ the differ it made in my life i was alway against anti depress sinc all i had tri made me feel wors i haven t had energi or motiv like this in i cant rememb how long it is hard to wake up if i take it too late in the even i m afraid of the weight gain but i think it would be worth it i am onli give it a 9 sinc it is so expens and i have no insur\n",
      "been on 150mg of venlafaxin for 12 year up a year ago to 225mg and havent notic a differ my daughter know when i haven t taken it though i either go manic or veri low i still have more low than high i am 51 year old now and was first put on valium at 2 5 year old i was told year ago it was clinic depress with manic tendenc my eldest brother had the same other 2 brother no mental ill as me he commit suicid a number of year ago\n",
      "pristiq give me energi and bring me up from the deep depress when no other anti depress can i haven t had to take a huge dose to get that effect either which is fantast\n",
      "i m have been take lamotragin and have start on escitalopram for bipolar 2 what an amaz turn around where i use to be extrem reactiv and explod in to a rage at ani littl thing i now feel calm and at peac with the world i have actual start to feel happi i alway suffer from hypo sexual and it was so exhaust to be fight with sexual thought and tension constant it s such a relief that sinc be on escitalopram this too has stop i now see everyth from a much more ration perspect i ve even begun to realli quot feel quot in love with my wife sure it s one big drawback is that it is an orgasm killer but i m find this is a small price to pay compar to all the benefit it s given me my life back\n",
      "i am into week 2 of take seroquel for bipolar disord the main side effect that i am notic are the feel about 20 minut after take it make me feel the same way trazadon did when i took it for insomnia and the cloudi the next day i have had sever situat where someth will come up and i ll recal a convers or physic activ that i truli think happen but i cannot determin if i dream it or if it realli happen but i am alreadi notic a major differ in the way i feel and am abl to concentr and interact while at work and even with famili in a good way sinc it s onli been 2 week of cours i am go to give it a littl more time\n",
      "this has save my life but make sure to take it on time\n",
      "i have been take this med for year and i feel trap i don t think it realli doe anyth for me the problem is that i tri to stop take it and i becam complet useless tire irrit and full of anxieti right now i have not taken it for two day becaus i forgot it befor i went out of town i am tire got insomnia and i feel like i am hung over and nauseous the withdraw from take this medic is aw so i think anyon that want to start this med should serious consid this when make a decis to ingest this i am not the onli one who has experienc this there is a lot about withdraw from this med on the net\n",
      "i took abilifi for one month i had restless a feel that i need to do someth it was a good thing in a way at first i was more irrit but that subsid substanti after a few day it made me feel a lot more calmer and in control of my emot without make me feel like i was suppress them this is the first pharmaceut medicin i have tri to treat my condit and it definit work better than the natur remedi such as st john s wort same and passion flower it even help more than medit i have just switch to latuda becaus abilifi gave me chest pain if the pain was anywher els i would of definit stay on the medicin becaus it work it help me gain 10 lb which is good for me\n",
      "i have taken wellbutrin sr for about 8 month and i can tell a great differ between the brand name and the generic\n",
      "iq of 130 but troubl emot status wide rang of problem extend from paranoia anxieti anger delus bitter depress to suicidi had 3 major bipolar attack in 2008 2010 and 2012 success career hit the bottom in all these attack lamictak is the greatest drug for me it most liter save my life i am use around 125mg daili and i know how i am befor use this drug i realli never did if you have similar symptom never hesit give it a tri for sure\n",
      "i ve been on abilifi for about 3 week along with trazadon for insomina and anxieti and taper off paxil i ve notic a signific improv in control my emot and for the most part am a lot calmer suffer some side effect such as restless and the shake but overal the posit outweigh the negat i start off on a veri low 2 5 mg dose but expect to have this rais at my next appoint with the doctor\n",
      "though i am much calmer i m so calm i don t want to do anyth except sleep the first coupl week this medic was a god send but not that i ve been on it for a few month i can t shake this ever so tire feel not even with coffe if i can t do anyth product i can t see be on this rx much longer\n",
      "my experi with this medicin is posit especi sinc my recent dose increas befor get up in the morn was hard\n",
      "i have been on this drug for 4 week i notic veri subtl chang i ve titrat up 25mg a week everi week and i m current take 125 mg i still am probabl 3 week away for full effect but i am notic some good thing i no longer think about kill myself all day and i have less anxieti than i did four week ago i feel optimist that better day are ahead i also take ativan for anxieti but will like discontinu onc i m at the key mg amount which i believ is 200\n",
      "worst my situat headach difficulti to talk suicid letharg slow and lost contact with realiti worst drug i ve ever took\n",
      "i began to notic the differ after 3 week on lamotrigin although i am not 100 better but i am get there\n",
      "no problem except for nervous but could be pristiq med as well no sex drive but optimist thing will clear up soon\n",
      "so far so good i have been on remeron 30 mg for 3 year it stop be effect almost a year ago sinc then i have tri mani other thing final my doctor suggest seroquel 100 mg at bedtim in addit to the remeron i notic the differ almost immedi within 24 hour sever depress symptom have eas off and also less anxieti unlik other i have had no groggi with it so far so while it earli in the game seroquel look to be good so far will post updat as my treatment time continu\n",
      "took 150mg d everyth was fantast then start constant fatigu i was veri drowsi i thought it s winter here everyon is fatigu but i felt that this is from effexor xr so i slowli wean myself and i m no longer fatigu can focus on studi now i take zoloft 100mg\n",
      "so far so awesom been on it a week and am not as agit suicid thought are go away\n",
      "i am bipolar i and went on topomax as an altern to the aw weight gain med i have been subject to in past my anxieti went through the roof i was cri constant my heart was pound and i becam fear to leav the hous i love the 10 pd weight loss but not worth the anxieti and hair loss sad i want it to work\n",
      "has work well for mani year\n",
      "horribl drug my doctor tri it as augment therapi for my depress to take with my trintellix the start babi dose of 20mg flew me over the edg in two week i becam angri agit and veri aggress a neighbor make me so angri come out of our condo park garag the wrong way that i later slit tire on his car not at all like me thank god he accept payment for new tire and didn t press charg perhap the nastiest med i have ever taken and veri expens without good insur\n",
      "i m an social drinker and after 3 month of take risperd i can t get a buzz or even drunk viagra doesn t work either it s like it took the pleasur out of my system but now my libido is come back after a coupl of month i had the doctor chang my medicin hope the new one doe a better job with my pleasur on month 2 i was zombi like but now i m almost back to normal\n",
      "lexapro endless gave me the diarrhea\n",
      "this is a wonder drug\n",
      "post concuss lead to explos outburst withdraw from activ i use to enjoy addict behavior i wasn t worri about the skin rash the evid is clear when slowli titrat up the risk is low i have experienc some cognit sluggish and muscl cramp at 150mg but they are onli annoy drug save my marriag and job allow me to becom self reflect rather than self hate again also i have experienc anoth veri welcom side effect um er astonish sexual pleasur when i told my doc about this he smile said a small percentag of patient will have this quot side effect quot i m glad i have so the drug has work well for me in mani regard\n",
      "i have been take lamict for onli 1 month and i notic a huge differ i am find joy in the thing that i couldn t for year my patienc is so much better and the outburst of anger have stop alreadi i onli hope that i don t start experienc the side effect that i have heard about\n",
      "i could not tell a differ in myself while take this medic to me a major side effect was hair loss\n",
      "onli been take abilifi for 3 week seem okay so far but crave sweet thing so worri about ani weight gain though none so far also hard to concentr for too long\n",
      "caus suicid depress\n",
      "this drug help rais my mood slight in the morn howev it also has side effect of dizzi and headi this is especi true after two to six hour after you miss a dose\n",
      "i have been take abilifi for a week it has alreadi taken the edg off the rage howev am still experienc high anxieti my famili say i am calmer so that is deinit a plus i feel tire and wire at the same time it is a weird feel i am veri paranoid i was paranoid befor but this seem to have made it wors but i am onli on 2 mg s at least the rage are better i am hope that this medic along with help from my doctor will be enough to get my life back\n",
      "this was just not the drug for me while it did make me more level i had a lot if side effect i experienc compuls eat so i did gain weight i was alway tire and slept in late and when i could final get out of bed i felt like a zombi i was veri crabbi and irrit it was breastfeed friend and kept me relat level so it did the job but i was veri happi to final get switch off it when i wean my son\n",
      "i have just been diagnos with bipolar 2 i have been on antidepress for 23 year and as i got older the drug didn t work as well i suffer from depress panic attack sever anxieti and phobia and errat mood swing chang daili even hour so now i am on 300mg effexor valium and have just start in increment of 25mg of lamotrigin befor this i took epilim which was great but within 2 week had a rash everywher now i am up to 75mg of lamotrigin and i have headach tired sleep up to 15 hour plus diarrhea sick depress aggress anxieti the list goe on it been 6 week and i am loos it my mental health team is useless will this get better\n",
      "this has been a great medic for me it brought me out of a 4 year long depress and i have been on it over a decad with minim side effect\n",
      "i have been take this at 20mg for a week and have went from decent to violent ill vomit the run crippl headach muscl pain i stop take it today slowli start to feel better\n",
      "i just start take 25 mg a day a few day ago so far i m tire after take it and veri thirsti i do feel good after the drowsi wear off and am alreadi start to feel good my jaw hurt a littl and slight headach i will post again in a few week\n",
      "i ve been on symbyax for almost two week it has been a tremend help onli thing i m worri about is the cost but this seem to be my wonder drug i m happier healthier more energet on and on it s amaz onli problem i would say is i sleep like a rock and it s hard to wake me up so that can be a good and a bad thing good becaus i need more sleep bad becaus if someth were to happen you wouldn t be abl to wake me up i still love it though 9 10 for inabl to wake up and cost i ve been on sever other medic for month wait for it to take effect on this one i felt better after 4 day\n",
      "had sever depress anxieti and elev mood swing for year just start med in my earli 50s lexapro gradual dose at first began to notic result in all 3 area but extrem sleepi no matter what time i took it it seem to level off at about 50 effect than slowli decreas in it effect went on lamo more energi but mood swing came back no patienc or toler again forget and anxieti rambl thought in my head continu i am return back to my origin prognosi didn t find it to be of help at all up to 200mg realli don t want to keep experi not sure of next step\n",
      "after mani trial and error i found that 200mg at bedtim is the best for me i ran out of refil about 4 month ago and had to go without for anoth month befor i could see a dr i know that s not safe but i had no choic my famili as well as myself could notic the differ in my mood swing within a week\n",
      "i have tri at least a dozen differ psychiatr drug and effexor xr work better for my depress than anyth els has and it doe not make me at all manic i also had a posit side effect it made me lose weight i was veri pleas\n",
      "i went from talk 120mgs of cymbalta to take 150 mgs of seroquel xr just over one year ago i fortun did not suffer from ani if the initi side effect that i ve now research have learn are realli common when start this medic howev 1 month ago i m not sure whi but i end up miss 2 night dose what i experienc was noth short of be in hell liter i physic was incap of movement get up to simpli get to the restroom was near imposs everi muscl in my bodi was weak near useless i couldn t do anyth but remain in a fetal posit curl up on my side for the durat of over 12 hour my head was cloudi confus unabl to process ani thought after this experi i want off\n",
      "i ve been take gabapentin for 12 year i use to have feel of major irrit and mayb a littl paranoia an exampl of someth that use to happen befor i took these was i would be at work flip out think my mom and my boyfriend at that time he was paint my parent hous were mess around which would never ever happen not onli was our son there but so was my father lol they also kind of dislik him point is when i start the gabapentin i laugh at the thought so hard caus it was so ridicul i still laugh at the foolish of it so i take them everi 5 hour and if i had forgotten them my mom or my friend would notic becaus i would be sooooo irrit they would be scare to remind me\n",
      "i was onli on the med for a few day when i knew it wasn t the one for me i felt like i had cement on my vein it was so hard to get out of bed onc i was up i was in such a fog on top of be super fatigu i was more agit i was afraid to reach out to my doctor but i did i m glad sinc switch it s a complet 180 deg in my mood\n",
      "it has save my life liter\n",
      "start on day two of treatment i felt progress sicker with mild nausea muscl ach and general malais\n",
      "i m take it now i experienc side effect that are make me get off it i have sever chest pain smoke more sweat like crazi happier then normal don t eat drink liquid all day and night\n",
      "great miracl\n",
      "it s not perfect but it seem to have a posit effect on my sleep pattern attitud and mood swing regardless of situat\n",
      "i took nuvigil for the first time and i found myself less tire and more activ than ever i have sever depress and stay tire a lot for year i haven t been myself as for be activ i was an athlet for half my life and i knew what be in shape felt like but with age i fell into depress and bipolar still too earli to say but nuvigil made a posit differ for at least one day of my life\n",
      "i was diagnos 13 year ago as bipolar i have been on a total of 14 differ medic after a few month the effect of the medic would start to wear off i would tell my doctor and he would up my dosag then i would becom a zombi cymbalta so far has been the onli medic that i have been on for more that a year and a half the onli side effect i have notic and that are start to subsid are tremor excess sweat and night sweat excess rambl minor confus and fatigu they are start to subsid but the medic has been a god send for me and my famili\n",
      "i was prescrib with sertralin a few year ago for mdd and bipolar disord even tough it took some time to produc posit effect sertralin was inde effect especi when combin with bupropion and escitalopram the mood variat disappear depress decreas from the negat side it produc a decreas in libido and an extrem decreas in creativ if you are a compos a painter a writer etc you should in my opinion expect a possibl and veri pronounc decreas in creativ dure the it use the temptat to interrupt the treatment for the benefit of recov the creativ should be strong resist\n",
      "i m a 22 year old femal recent diagnos with bipolar i took this medic for a month and it was pure hell made me an emot wreck never was emot cri out of nowher made my anxieti even wors made me extrem tire made me paranoid to the point where i thought i was go to die over all i have no posit note to tell didn t work for me but hey everyon is differ\n",
      "i was on a veri high dose 64mg day for two year at first it was wonder my dr told me it was a mood stabil and for me it did just that for a while after a few month i start take nap in the day high abnorm to me then after the nap i start to go to bed earlier and earlier then one day i realiz i was sleep 17 hour out of the day sinc i follow my dr s intruct and we wean my off my day are bright again no nap chore are get done i am not neglect my hygein pick up forgotten hobbi live thrive and absolut no withdrawl\n",
      "i m 37 and have depress usual season sleepless and occasion anxieti i took 100 mg of wellbutrin and noth els it replac zoloft at the time for around 3 5 day within 2 3 day i was quit agit anxious and easili annoy by day five i stop take becaus i felt hostil and again annoy cannot speak for other but this one realli made me a monster and i have never not onc felt like that from ani of these zoloft celexa trazadon\n",
      "i am honest not sure how to rate this medic but i can relat my experi so far i have had no nausea it doe help me sleep better i was given the medic for bipolar i have been emot shut down for a long time and after 3 day it has open up my emot and i am not sure if that is a good thing or a bad thing in februari my husband die of an accident cocain overdos the onli emot i have felt sinc he die is anger now i feel over whelm with grief and i am just not sure how to deal with that\n",
      "celexa work realli well for me in term of stabil my mood i actual felt realli happi and thought with clariti for onc but i had to stop take it becaus the side effect are just extrem unpleas i wasn t abl to achiev an erect and if i did i wasn t abl to orgasm i also had this sedat like feel my bodi temperatur would increas but i also felt emotionless at the same time if that make ani sens i found it hard to respond to my partner emot everyth was just on a cloud for me someon could have insult me and i would have been alright with it\n",
      "errors: 124\n"
     ]
    }
   ],
   "source": [
    "err_cnt_1 = 0\n",
    "for i in range(0, len(y_test)):\n",
    "    if(y_test[i]=='Bipolar Disorde' and mnb_1_pred[i]=='Depression'):\n",
    "        print(X_test[i])\n",
    "        err_cnt_1 = err_cnt_1+1\n",
    "print(\"errors:\", err_cnt_1)"
   ]
  },
  {
   "cell_type": "markdown",
   "metadata": {},
   "source": [
    "**mnb uni and bigrams**"
   ]
  },
  {
   "cell_type": "code",
   "execution_count": 37,
   "metadata": {},
   "outputs": [],
   "source": [
    "cv_mnb_bi = CountVectorizer(encoding='latin-1', binary=False, min_df=5, stop_words='english',token_pattern='[a-z]+',ngram_range=(1,2),lowercase=True)"
   ]
  },
  {
   "cell_type": "code",
   "execution_count": 38,
   "metadata": {},
   "outputs": [
    {
     "name": "stdout",
     "output_type": "stream",
     "text": [
      "(35072, 49601)\n",
      "[[0 0 0 ... 0 0 0]]\n",
      "49601\n",
      "[('uptight', 45048), ('rang emot', 34512), ('work unless', 48483), ('antidepress antipsychot', 1927), ('risk pregnant', 36053), ('effect awesom', 12805), ('level general', 22693), ('look lose', 24148), ('s adhd', 36181), ('onli rare', 30236)]\n"
     ]
    }
   ],
   "source": [
    "X_train_vec_2 = cv_mnb_bi.fit_transform(X_train)\n",
    "\n",
    "# check the content of a document vector\n",
    "print(X_train_vec_2.shape)\n",
    "print(X_train_vec_2[0].toarray())\n",
    "\n",
    "# check the size of the constructed vocabulary\n",
    "print(len(cv_mnb_bi.vocabulary_))\n",
    "\n",
    "# print out the first 10 items in the vocabulary\n",
    "print(list(cv_mnb_bi.vocabulary_.items())[-10:])"
   ]
  },
  {
   "cell_type": "code",
   "execution_count": 39,
   "metadata": {},
   "outputs": [
    {
     "name": "stdout",
     "output_type": "stream",
     "text": [
      "(15032, 49601)\n"
     ]
    }
   ],
   "source": [
    "X_test_vec_2 = cv_mnb_bi.transform(X_test)\n",
    "print(X_test_vec_2.shape)"
   ]
  },
  {
   "cell_type": "code",
   "execution_count": 40,
   "metadata": {},
   "outputs": [],
   "source": [
    "mnb_2 = MultinomialNB()\n",
    "mnb_2.fit(X_train_vec_2,y_train)\n",
    "mnb_2_pred = mnb_2.predict(X_test_vec_2)"
   ]
  },
  {
   "cell_type": "code",
   "execution_count": 41,
   "metadata": {},
   "outputs": [
    {
     "name": "stdout",
     "output_type": "stream",
     "text": [
      "accuracy : 83.9 %\n",
      "recall : 80.58 %\n",
      "precision : 76.65 %\n",
      "f1 score : 78.06 %\n"
     ]
    }
   ],
   "source": [
    "metrics(mnb_2_pred)"
   ]
  },
  {
   "cell_type": "code",
   "execution_count": 42,
   "metadata": {},
   "outputs": [
    {
     "name": "stdout",
     "output_type": "stream",
     "text": [
      "[[ 519    0   31    4    5   75   15    6    8    4]\n",
      " [   0 1049    3    2  115   10    0    2    2    5]\n",
      " [   5    0  898    7   11  329   55    1   27    2]\n",
      " [   9    2   69  489   17  245   23   12   11    4]\n",
      " [   1   65   14    5 5199   37    3    7   10    6]\n",
      " [   8    3  132   58   25 1575   39    9   24   14]\n",
      " [   0    5   49    8    7   60  724    1   23    3]\n",
      " [   1    0    8    2    4   34    1  382    5  265]\n",
      " [   1    8   28    2   12   43   14    1 1214    0]\n",
      " [   0    1    3    1    9   27    2  207    9  563]]\n",
      "                 precision    recall  f1-score   support\n",
      "\n",
      "           ADHD       0.95      0.78      0.86       667\n",
      "           Acne       0.93      0.88      0.90      1188\n",
      "        Anxiety       0.73      0.67      0.70      1335\n",
      "Bipolar Disorde       0.85      0.56      0.67       881\n",
      "   BirthControl       0.96      0.97      0.97      5347\n",
      "     Depression       0.65      0.83      0.73      1887\n",
      "       Insomnia       0.83      0.82      0.82       880\n",
      "        Obesity       0.61      0.54      0.57       702\n",
      "           Pain       0.91      0.92      0.91      1323\n",
      "    Weight Loss       0.65      0.68      0.67       822\n",
      "\n",
      "       accuracy                           0.84     15032\n",
      "      macro avg       0.81      0.77      0.78     15032\n",
      "   weighted avg       0.85      0.84      0.84     15032\n",
      "\n"
     ]
    }
   ],
   "source": [
    "cm(mnb_2_pred)"
   ]
  },
  {
   "cell_type": "code",
   "execution_count": 43,
   "metadata": {},
   "outputs": [
    {
     "name": "stdout",
     "output_type": "stream",
     "text": [
      "i ve experienc a slight increas in blood pressur but no other side effect i m feel more focus and energet\n",
      "my experi with latuda is most negat i have been on it for 5 month and will be taper off in a coupl of week thank the onli good thing about it is it stabil me in a sever mix mania with psychosi episod but other than that the side effect are horribl it has done noth for my depress the past two month and i have had anxieti and major irrit on it the nausea and vomit is miser i was prescrib zofran to offset the nausea but that is not so help either sinc the zofran caus constip the 350 calori requir is a pain becaus you can t take it with dinner or you fall asleep instant so i take it with a late night meal to last a few more hour henc more weight gain\n",
      "i had been on latudia 2 yrs with excel result i feel it save my life but due to be on medicar now the cost is not cover i am now on the roller coaster tri to find the right fit for my bipolar this is veri depress\n",
      "it knock out extrem sad for me but i still get the lack of motiv and energi when it come around i m bipolar 1\n",
      "i ve been on abilifi for near 2 year the first month or so was rough tire earli at night or after a cocktail restless sleep wake up earli dizzi foggi head but after my dr reduc my dose to 2 5 mg day side effect improv the one that remain are profus night sweat soak sheet and constip it doe make you a bit tire but i take it befor bed it complet help with my irrit agit toward peopl and my children i have a ton more patienc and less anxieti overal the biggest issu i have is the cost get the abilifi save card if you are start a new prescript\n",
      "i have high hope for latuda over the past 15 year i have been treat for depress anxieti disord panic attack and thing would sometim get a littl better but eventu get wors again i went through a particular aw time about a month ago so my doctor gave me a sampl of latuda like mani here i felt extrem exhaust right away which would put me straight to sleep howev it abat a bit after the first few day and by a week it is not bad i have gain some weight but i think it s becaus i ve been eat take latuda later at night noth like what i gain on abilifi i am also wake up earlier in the morn 7 a m instead of my 7 30 alarm in a good mood\n",
      "trilept has been a life saver so far in treat my bipolar i ve been on the drug for a littl over 10 week and i current take 600mg day split between morn and even for the first month i experienc extrem fatigu dizzi and headach current i onli sometim have blurri vision and i feel like my memori has gotten wors but it was poor to begin with i didn t feel like it was actual work until i got to my current dose about three week ago and now everi week is better than the last in that i have fewer quot bad quot day i ve even start to have good day without be manic i do have a problem with sodium level that i onli notic after exercis but eat a pickl or two resolv that\n",
      "i tri sever medicin befor find success with this one my depress and mood swing are under control and life is manag my friend and famili tell me that i m much more enjoy to be around now i feel that this medicin save my life the onli negat effect it has is that i m hungrier and have gain some weight i ve just had to make adjust in my diet to eat healthi but this is a good thing for my overal health too i feel so great on this medicin that the negat effect is worth it\n",
      "i had such bad side effect from abilifi with no posit effect my cholesterol went up i had heartburn or acid reflux everi night that would wake me up i got total paranoid and was even scare to drive or ride in a car i had unusu fear of die i had a hard time lay still and would have to move my leg and arm i got realli bad dizzi spell usual while i was drive which creat more fear of drive i still haven t found someth that work for me lose hope\n",
      "you don t even know it is work you just feel better\n",
      "this medicin save my life\n",
      "it save me from go in a deep depress episod\n",
      "i have been on abilifi on two separ occas along with other medic to help with depress and bipolar both time was a disast this time i ve tri to tough out the side effect work on three month now and i still can t deal with the way it make me feel i feel flat tire depress low motiv worthless hopeless you name it i see my doctor tomorrow and plan to demand stop abilifi\n",
      "my life has been a disast recent diagnos with bipolar spent most of my life awar of someth wrong but unawar of what it was and most unawar of how i affect other start citalopram a year ago and caught fleet glanc of my condit then figur out that whi my life has been such a bucket of poo even though on paper i had accomplish a great deal no matter what i did where i went the sick i was alway there have tri other cure but they didn t work as well as citalopram lithium help some other left my mouth dri veri bad for the teeth gave me headach and made my heart race so here i am have to cuddl with a dragon and a psychic one at that\n",
      "i have been on my antidepress celexa lexapro effexor prozac lithium lamict just to name a few lexapro seem to work best for me howev after a coupl year it effect have reduc and i start to get angri easili annoy and i alway get tire around 3 or 4 pm and need a siesta so to speak my dr put me on wellbutrin sr hcl 100mg onc a day to tri and combat the tired from the lexapro it was fill with the generic version i must say both my wife and i notic it has work wonder for my anger and agit howev i am twice as sleepi and groggi on it and have to take it befor i go to sleep and when i get up i m exhaust it do the opposit of what almost everi review i ve seen for me im go off of it asap\n",
      "i gain 10 lbs in under 1 week which set a speed record among the weight gain med i ve taken sinc that push me up to the pre diabet border my psychiatrist pull me off of it asap not to mention that when you re sever depress how is super chunk up suppos to make you feel better no matter how well the med work 1 month i would have been up 40 lbs i felt no other side effect nor ani posit effect but 1 week probabl wasn t long enough for it to make a differ on my mood onli my rear end\n",
      "have been on escitalopram for 4 year and it s save me from anxieti and depress take 15 mg and in the summer come down to 10 mg this medicin is one of the best on the market\n",
      "it s been a rough 29 year discov live with and lose thing becaus of bipolar adhd and ocd tri liter everi medicin under the sun our and prob a coupl other solar system too so mani my doc look me in my eye and told me that i might quot just have to learn how to live quot with my head mind thought and lack of action or intestin fortitud as your father call it he s air forc retir after 22 yrs suicid thought all the time given all my possess away stood on the bridg the roof and had the gun in my hand but i alway held on caus i knew their was someth like nuvigil out there somewher i just had to hang on long enough if not for nuvigil i wouldn t have been abl to focus long enough to write this\n",
      "puerper psychosi made me extrem sleepi on a wide rang of dose and basic took my life away also made me gain weight even though i lost my appetit toward the end of take it\n",
      "after year of antidepress tablet that work onli to blank out my memori and let me surviv i went on to lamotragin six month ago sudden and quick i start to feel normal again my long term memori has return and i take pleasur in music and natur again i feel so much happier on the negat side the fatigu becam a problem but has reduc as i reduc my dose to get to optim insomnia and vivid dream have increas but i can deal with that also blur vision and dizzi that is slowli disappear in short a miracl for bipolar 2 i also take lexapro\n",
      "i have been on nuvigil for about a year it is a miracl my insur won t pay for the dosag i need so i get off of it on the weekend sometim i can feel a huge differ off of it and hope that the final stage of the trial produc posit result so i can get the dosag i need i would not be aliv without this medic i am more product social and have no suicid thought while on it\n",
      "it has work well for me i was take i can t even rememb what that made me sleepi all the time and i did feel like a zombi my doctor kept zolof 100mg along with depakot 500mg due to my panic attack after about a year we tri take zolof off but depakot alon did not work for me the combin did help my life a lot more focus i feel like i can organ my thought get thing done follow through on plan it chang my life for the better the constant hunger and put on weigh are a sad too true for me but given the improv in the qualiti of life it gave me i find it a small price to pay also now that i am more focus i find it easier to actual get to the gym to work on loos those 14 pound\n",
      "i ve take so mani medic throughout the year there was alway someth i didn t like i alway felt off with everi medic i found out about st john s wort and it chang my life zero side effect if you re wonder about medic pleas give st john s wort a tri i feel like me but a better me not a quot medic quot me\n",
      "i was veri hesit on take this medic and like most of you read these review i too was scare of what it might or might not do all i can say in 3 day 2mg dose there was a huge differ in my attitud calm and overal presenc in me and my thought amaz i have so much energi and love do thing again it has been one week and for those of you who are affraid to gain weight you must know i am lose weight it has actual decreas my apitit howev that might be becaus i am cautious of it and find other way to curb crave one side effect i am have is not sleep although we are go through a bit of a heat wave and even air condit is not help good luck\n",
      "i ve been struggl with bipolar i rapid cycl for almost 10 untreat year i ve had realli bad depress to the point where i was a afraid to go outsid constant race thought extrem anxieti i was sleep about 3 hour a day at most and overal i couldn t function at all i start take laduta 20mg for a week then went to 40mg soon as i start take the medicin i notic a big differ the next day i feel more stabl my depress is gone my anxieti is gone suicid thought gone i feel like my old self again where i can function normal and do my everyday stuff on top of be happi this medicin liter save my life and i want to say thank you to the pharmaceut compani that made this\n",
      "been in therapi with a counsel psychologist for just over 3 year diagnosi from consult psychiatrist complex ptsd bipolar type 2 and fibromyalgia been on sertralin 200mg for 2 year ate diazepam 2 5mg like smarti after a relationship with an anti social person disord man been take quetiapin sinc decemb 15 and slowli move up to 125mg to increas to 200mg was take 7 5mg mertazipin for sleep though have now remov it due to increas of quetiapin and weight gain overal i m feel much calmer more ration less reactiv and more confid talk to peopl after intrus thought cognit disson depress anxieti insomnia cri dissacoci nightmar etc i m happi\n",
      "i took zoloft for 2 year at 100mg daili for bipolar disord type i zoloft is wonder in that it made me signific less anxious howev it didn t succeed in make me ani less depress also as with most anti depress i experienc a decreas sex drive\n",
      "i first start latuda at 40mg and it had zero effect my dose was increas to 80mg and within two day everi singl last bit of nois in my head disappear complet my focus is excel now and my life has liter chang becaus of this drug my energi is put into thing that are import like a clean hous and a clean bodi and i am so happi all the time now i can t believ how excel this drug is and i am so happi i was given the right dose to help me live a better life i m actual readi to face the world again and get off of disabl and go back to work i can t describ how much this drug has chang my life posit complet 180 degre turnaround\n",
      "lamict has been effect for me i had not realiz some of my symptom until i was unabl to afford it and went off it for coupl month i had more depress began to emot over eat increas difficulti in make decis and pay attent and feel of be overwhelm i am fortun enough to have the mean to get back on my medicin i function without it but this make my disabl more manag\n",
      "have been on abilifi for two week and my person has chang drastic i went from be chill out and quit okay on seroquel and effexor but want to tri abilifi to combat weight gain in the two week i ve been on it i ve swung from hypoman to aggress and downright selfish i did thing i wouldn t normal do that has hurt my relationship with my partner and i ve also been spend like crazi probabl should stop but will consult psychiatrist first to see what she say\n",
      "i battl with bipolar i sinc 1992 but never experi major depress until mid 2009 and it was terribl lot of cri despair horribl guilt just hate myself i tri 2 3 anti depress when i final found a m d who would let me tri one they are so concern you will spiral up into a manic attack i then tri cymbalta 60mg and the depress is most day just gone i have had some bad day like everyon a few time when cri regret etc would start it seem it was cap off and subsid quick i continu to have signific constip and hand tremor i eat a lot more fiber in my diet and take 2 natur fiber pill a day to help with the constip cut back on caffein help the hand tremor\n",
      "help a lot with depress and mood swing\n",
      "i will updat after i ve been on longer but i basic feel stone veri hard time sleep feel like i was hit by a truck and my teeth hurt mental i feel no differ but do feel more friend thank i have insur becaus it s 1200 for a month suppli\n",
      "i tri for six month and would alway wake up after onli 3 hour i was great for 4 or 5 day and then would sink into deep depress and threaten famili with suicid for about 2 day could never get sleep under control made my mood swing more dramat have stop and gone back to geodon just have to put more effort in person to make myself better to get past serious depress\n",
      "i had been medic free for over 10 year when a seri of traumat event escal in full blown psychosi and deep depress i was suicid unabl to sleep and experienc 6 hour long panic attack i was put on olanzapin 5mg at night and have been take it for just over 1 year i was abl to sleep through and the nightmarish world i inhabit slowli began to clear like a thick fog at the time i thought there was no way i would make it out aliv the deep depress took longer to lift and after no luck combin it with proxac or citalopram i hit on the right combin with effexor 225mg still the olanzapin was my daylight drug weight gain has been an issu but my appetit is more manag now and am exercis\n",
      "i use this medicin for depress and it is realli effect\n",
      "it start off with depress which then made me have a nervous breakdown i experi acut psychosi and i was section for 28 day it was the worst experi of my life i was then put on 74mg of lurasidon it was the best decis of my life i am happi again enjoy life and i am abl to work again i do not feel depress at all or even an ounc of low mood i start the med in febuari 2016 octob 2016 i have been off the medic for 3 month and i am do great my mood is stabil and i am on no medic i came off cold turkey which i wouldn t recommend but i didn t have ani withdraw symptom i would definit recommend this medic i didn t have ani side effect except for a bit of restless at night\n",
      "been on latuda 40mg for about three week i m still have some depress sad but not near what i was when i first start on it my psych doc and i are consid a jump to 80mg but i ll be tri to get pregnant soon other than that i think it s do okay\n",
      "this medic was not good for me my doctor ad this to the depakot i was alreadi take to help with irrit and aggress this turn me into a zombi walk around in a fog the whole time i was on it still irrit and more so becaus i couldn t focus experienc nightmar anorgasmia when i could keep an erect and had an orgasm had no ejacul realli scari took it for 2 week and then stop take it bad for me may help someon els\n",
      "i have been on this for almost a year and a half now this medicin has chang my life it has work wonder for me\n",
      "i took 100mg of xr and it work pretti well to stabil my bipolar tendenc howev it made the whole world feel bland and neutral noth in my life felt particular excit or even depress also if i didn t sleep at least 10h per night i would feel drowsi and out of it the next day i was liter a walk zombi and wake up in the morn was a true battl my doc told me that the tired would go away after a coupl of week month but after a littl more than 7 month the effect were still the same so i stop take it\n",
      "i consid this drug which i ve been on sinc 2012 the backbon of my psychiatr treatment although my regimen also includ lamict and wellbutrin when i first took it i was shock becaus the next day i went to the gym to work out someth i hadn t been abl to do enjoy in quit some time due to anhedonia initi as my doctor had me titrat up i experienc some td at night but that soon abat now at 80 mg night i still reli on this medic to keep me function it didn t put weight on me either i had some issu with health insur this year and was forc to go off of it and boy did i feel a differ it realli lift my depress thank god i m back on it again\n",
      "this medicin has been a game changer for me i stop stress eat and lost weight my mood stabil and i have been incred product and achiev great thing on it it doe wonder for my anxieti i have been on it for a year and could not be happier with the product it is expens but worth it high recommend\n",
      "start it in march 2015 decreas my appetit withdraw over 3 day terribl feel like my head is swim sens of well be has notic improv\n",
      "i have type 2 bp along with mani other thing and i do say i love this rx it help me out for a veri long time one of the first and few howev i did feel veri dull emot i was on 140mg daili but ani doe lower did not work i could not even cri unless someth absolut tragic ie death or someon i love get hurt happen in my life also i hate have to take it with food i constant had an upset stomach as i could never seem to get eat and take the med right so all in all i took myself off from the med and the withdrawl from it were hell for about two week i felt like i was die so as a conclus this med doe work and work well if you like be a robot who vomit\n",
      "i ve been take 200 mg lamictil for the last 2 5 month in combo with 60 mg cymbalta i feel much less manic than befor lamictil but feel cymbalta is too activ make me manic see my shrink soon to sort it out\n",
      "i was put on it plus wellbutrin to stabil my mood for 3 month i was extrem nauseous unabl to eat a thing i lost 12kg s the side effect were tingl in my hand and feet a feel that my head was be pull to one side metal tast extrem brain fog loss of vocab i sound like an idiot i could hard string a sentenc togeth attent span diminish and extrem muscl weak i becam social anxious awkward and still am i develop a strang curri like smell to me i stop when i fell pregnant and put on 24kg s still hold on to 9kg s it seem to have ruin my metabol i love the appetit suppress whi i stay on it but won t go back on it the side effect are too sever and expens\n",
      "this medicin chang my life i call it my miracl drug if it weren t for this drug i would never have made it back to the person i use to be befor the diagnosi i m onli 19 year old but it s made such a huge impact on my life dure the 4 year i have been take it i don t have to worri anymor if i will ever be like i was befor this drug work and without it who know where i d be today\n",
      "gedon 20 mg at night onli was ad to my cymbalta prescript 120 mg day and within day i began to feel true happi and joy thing i hadn t felt to such a deep degre in over 2 decad about 1 week after take the medic my percept of the world chang from be quot flat 2d quot to be abl to perceiv my environ in 3d geodon help to bring me quot back to life quot i had deperson disord for 20 year and this medic has help me to be almost entir cure of it oh yeah the sedat side effect suck but they either go away within a week or hit you for no appar reason even after take the medic for a few month i can t drink red wine or get less than 6 hour sleep or i m a zombi the next day\n",
      "i have been battl with major depress sinc i was a child i have been on mani differ type of medic over the year i also have a major case of obsess compuls disord and as i i m get older it has been get sever wors everyth has to be in perfect order i spend hour upon hour a day make sure everyth is order it s so bad that i can not even have garbag in my garbag can if so i have to clean the can immedi it has becom so bad that it cut into other daili activ such as spend time with my wife famili and friend some day i do not even attempt to get out of bed some day i will sleep for well over 24 hour these are the medic in take daili i take 150 mg of lamotrigin\n",
      "i ve been on this medicin for 2 month now they up d my dosag everi week as follow 20mg 40mg 60mg 60mg went to my check up and i still felt veri irrit and mean so she bump me to 80mg and said that should work no i hate it i felt like i was jump out of my skin i couldn t sit still and felt so antsi that i couldn t sleep i had to drink a beer or take a xanax to fall asleep i decid to take matter in my own hand and drop myself back down to 40mg and i feel great now i have no depress and i feel aliv again my anxieti is still here but will be back on my klonopin soon to help i have to take this with dinner or i feel nauseous\n",
      "probabl the worst medic i ve ever been on made me feel complet disconnect from realiti and dissoci all the time made me nauseous did not help with my suicid thought or impuls at all in fact i was more suicid on it i didn t care about anyth couldn t get ani work done could not concentr slept all the time and gain weight on it did not help my depress symptom at all\n",
      "feel great along with other medicin\n",
      "i find abilifi to be the onli thing that stop the depress side of my bipolar everi time i tri to stop it after a coupl of week i end up depress again be back on it for one week and depress goe have no side effect such as weight gain loss sleepless or sleepi so feel lucki after read through some of the comment here it help me regain control over my life\n",
      "was give this drug to control emot that were suppress for 20 yrs of abus and traffick the 1st 2 week were great more posit emot panic attack were low then i had a p t s d trigger and it like the medic did the opposit of what it was suppos to do my mood becam more depress errat no posit out look not at a point of suicid but close i was sleep constant when take this drug as well went from take 40 mg and feel paralyz in own bodi to take 20mg and feel somewhat like a human be i am also take ambien 7 5 mg they took me off latuda earlier this week and place me on xanax 5 mg and i can alreadi tell a differ more posit and upbeat also gain 20lbs in 2 month on it\n",
      "i switch this from abil and the differ is night and day energ happi and manic free i follow the rule to a tee take at night with a minimum 350 calori i notic some post here report vomit and ineffect it s not just about stomach upset you must take the med on a full stomach or it wont be absorb proper and will like caus upset too this is what my doc tell me and he seem to be right\n",
      "i start take pristiq 100mg last juli initi i had headach mood swing anxious and found it hard to sleep this last about a week with the initi combin of melatonin i was abl to get into a routin of take the pristiq in the morn and melatonin at night both rough at the same time to sleep the same amount each day for nine month i have taken pristiq by itself now and have found that it has signific decreas anxieti stop me from internalis almost complet and has reduc my mood swing consider i have slight reduc sex drive put on a bit of weight and a want to smoke and fidget i have found pristiq benefici to my life but frustrat at time\n",
      "it s not for everyon but i do well on it it s a great antidepress and it help me lose a lot of weight i believ onli downsid insomnia but it doe go away eventu the insomnia\n",
      "this medic did not work well for me at all and i got the unfortun side effect of lactat at the time i was sixteen and that s just someth that i was not will to deal with\n",
      "i have taken a lot of medicin and hate all of them or they didn t work for me this one actual work but my sex drive well i have none now and that in turn make me depress so i think my doctor go to have to tri someth els\n",
      "i love the result from this medicin i am not anxious and haven t cri or had a rage fit sad to say i am suffer major side effect such as throw up loss of appetit can t swallow sweat can t sleep shake all over teeth clench on and on and on but it beat the hell out of anxieti cri all the time and sever and sometim violent mood swing\n",
      "i have bipolar 2 i use to over react to everyth and would get butterfli in my stomach i was irrit and alway worri about someth now my mood are stabl becaus i m assess situat more realist instead of catastroph no more tear my mom said i m act like i did when i was a child happi\n",
      "irrit agit impati anxious and increas anger\n",
      "this drug is amaz my negativr thought and mood swing are a thing of the past final ive been on prozac cymbalta and fetzima last one made me manic this is final the one that work for me no side effect as of yet on 20 mg for 3 week give it a tri for stabil mood\n",
      "i m bp1 with ocd borderlin person adhd i ve liter taken everi drug made in everi combin i ve never written anyth like this but for the past year i ve been on 400mg of lamict with 2400mg of gabapentin i also take 100mg of amitriptylin everi other night lamict is the onli reason i m still around it is the onli thing has help my depress yes it took about a month and i ve start and stop which made it wors but be on it nonstop has realli given me my life back i know it s differ for everybodi i ve had zero side effect other than an occasion dri mouth i never thought i d prais a pill but i felt so strong about it i thought i need to put it here i m a 37yo male\n",
      "onli given short term while under section in a mental health ward but in combin with olanzapin bought me back from suicid area the onli issu i had with it was i felt i was get dehydr more than normal\n",
      "the first day when i woke up i felt like my bodi had been hit by a mack truck but the second day my bodi felt fine it took about 2 week for side effect to go away troubl sleep headach stomach upset the motiv has been wonder i take it with wellbutrin and lamict i never want to tri it becaus of the weight gain but i have not found that to be true in my case motiv exercis\n",
      "i was diagnos with bipolar disord just a few month ago i m 25 and let me say this medicin work great i could tell a differ within the first week and my husband whom i was drive absolut crazi saw a huge chang too i feel happier now and the quot manic quot has gone away i have notic the weight loss but not too much i was weigh in at 160lbs and now i m down to 150lbs so 10 lbs in the past 2 month is good my sex life is back to normal where i hope it will stay i feel like a better mother and wife now all becaus of pristiq\n",
      "i have taken this for about a year i have lost about 40 lbs i am take it to help depress mood i also have to take the brand and not the generic i will have late onset asthma with the generic and other unpleas side effect i tri more than onc to use generic but it won t work so give it a tri if you can afford the brand name it make a big differ i also found that all my migrain disappear while take this what a relief that was\n",
      "i am a 48 year old woman who has had bipolar i disord sinc i was 12 it hit me sever and i have had a veri difficult time with it dure one of the latest bout i tri abilifi at 2 mg and definit felt a bump up in my mood i was so so excit and total would ve stay on it except my appetit increas to such a degre that i immedi start gain weight food was like crack it becam utter and complet addict i could not stop eat i would tri and control it for a few day but i was utter and total unabl to stop an improv in mood was worth 10 pound but at 13 pound in 8 week and no stop i had to stop super disappoint it is the onli medic where i felt immedi relief\n",
      "feel much better i m energ and my mood slowli get better everi day i m on week two 100mg d\n",
      "complet non function just not for me i cut the 25 mg one into quarter onli if i m a littl too hyper befor i go to sleep\n",
      "i start geodon with celexa nine year ago it work amaz for the first coupl of year but then i start get physic side effect i began to have tic on my face and i gain a total of 60 pound on this med my vision becam poor and i need glass i becam numb to my feel i start to wake up at night half asleep eat and do realli weird thing i taper off over a few month becaus stop cold turkey caus me extrem mental withdraw i was off it a year and couldn t handl the depress anxieti and mood swing anymor i recent went back on a week ago and alreadi my vision is blurri i m sleep walk and gain two pound i doe wonder for me mental but i can t handl the side effect\n",
      "becaus abilifi went to generic recent my therapist could no longer give me sampl so i had to discontinu it and after go a month with onli take my wellbutrin xanax to help treat my bi polar disord i crash my therapist suggest i tri latuda but becaus i have serious side effect from most drug i was hesit final decid after read a lot of review on here to at least tri it i start on 20 mg and after 10 day the onli thing happen was a lot of vivid dream i was still anxious veri depress so i increas my dosag to 40 mg and after 3 day the depress anxieti lift no nausea or weight gain but veri sleepi after a coupl hour of take still lot of crazi dream i m happi again\n",
      "i have been take it for about 3 month now and it work veri well i do not have those strong unrealist negat scenario anymor no voic no feel like disappear all that is gone and it minim my unreason fear i do have long moment of almost total lack of emot and i do not feel much in general i use to be an enthusiast person but i do not mind for now it was terribl not to be abl to control inexplic feel i did not gain weight just a bit but i also take wellbutrin my onli concern is how i am go to be when i stop take this medicin\n",
      "deepli depress for 7 month after a manic period of 7 month would come home from work and just go to bed and stay there for 14 hour until it was time to go to work again take bupropion in the am without effect in increas dose for all 7 month after titrat up the lamict through the increas dose as requir the fog lift 3 day after i start on the 200mg dose thank you modern medicin\n",
      "5mg work veri well for me for a few month the onli side effect i had for a long time were bad tast tongu numb extrem sedat after take it hard time wake up the next day and weight gain after about 6 month i went up to 10mg within 1 month i felt complet quot flat quot no true feel or joy in anyth and my anxieti got terribl tri to go back down to 5mg but then i sudden develop akathesia and had to stop complet i have been off it for 6 day now and feel great i can actual wake up in the morn my anxieti is subsid and the creepi feel in my leg is complet gone my therapist told me she notic i was more quot engag quot i have alreadi lost 1 or 2 lbs of the 15 i gain too bad it didn t work\n",
      "i took depakot 500mg for a week then increas my dose to 1000mg after the next week the next day i began have terribl stomach pain and pain in my kidney especi after eat i email my doctor and he told me the side effect would subsid but they didn t they actual got wors and the abdomin pain would linger all day and night i also had a hard time sleep i would wake up everi 1 2 hour and sleep less than 6 hour a night along with have veri vivid dream the dream later got more and more violent terrifi and i began to fall into a veri deep depress one i had never felt in my entir life i stop take this medic after three week i will never take this medic even if it save my life\n",
      "i ve suffer with undiagnos bipolar 2 for almost 3 decad for almost 20 year i was on various antidepress that didn t work and made my depress worsen my primari doctor suggest i see a psychiatrist for my linger depress due to the stigma of mental ill i put it off but final saw a psychiatrist she diagnos my condit and i start a low 25 mg dosag of lamotrigin my dosag will slowli increas over the next 6 month to a year the first time i enter the psychiatrist s offic i was fill with melancholi and regret my first follow up visit to the psychiatrist i was fill with hope and resili\n",
      "possibl the worst mental med i ve ever taken i ve taken mani over the year it gave me an intens dereal side effect onli time i ve experienc this it was unsettl as hell and truli horribl constant gas as in so bad i couldn t be in public those who were brave enough to hold their breath be around me told me that my affect was pretti flat as well so basic it made me freak out flat repuls all at the same time thumb down\n",
      "this medicin along with wellbutrin has stabil me and help me becom happi again i ve also quit take anyth for quot add quot compar to what i ve experienc while bipolar most difficulti i have now seem trivial just keep tri everi day and when you feel like give up tell yourself you haven t even start to fight keep a sens of humor about thing too\n",
      "weight gain letharg 300 dosag at bed time ani more you ll have head turn in public reclus is a major problem do to zombi affect mess up part is my roommat had to tell me cuz i didn t even notic i have not been abl to get a job i tri colleg and it didn t work my short term memori is short can t even rememb what i ate for dinner three day ago i do sleep though all you can do is push on and forget gl\n",
      "for anyon set on the fenc about latuda pleas give it a tri it new and has least side effect after tri geodon tegretol abilifi and other this past year and one other which sudden made hair loss which was a side effect plus it realli wasn t the best i tri latuda first week i felt confus etc so i stop take it less than a week iam med sensit big time everyon suggest to tri again for one month and i did and confus and forget etc pass in a week time and a month no side effect and i began to be my old self final after two year i m happi and feel great no anxieti or depress now veri clear and focus and not forget concentr is great 20mg pm cymbalta am 60mg hope i help\n",
      "it made me veri agit\n",
      "i am on 30 mg of abilifi plus trazodon and wellbutrin and have to say this combin seem to be what work best for me i don t feel drug up but abl to function day to day at work and with my famili i experi no side effect with abilifi except possibl some hair loss but it look like most if not all those type of drug do that other than that i am grate this help\n",
      "i have been on lexapro for almost two week now my depress has gotten better but unfortun it caus me to have problem in bed i am male 26 year old my libido is the same for some reason short after start this medic i cannot climax sexual paxil was similar but i could still finish i am plan on get off this medic as fast as i can\n",
      "i ve been take bupropion 200mg for rough three week to treat bipolar depress i have not had success with ani other antidepress for me wellbutrin has been great it has increas my energi level dramat as well as improv my mood it s not a cure all but it s certain help the side effect i take it in the morn to avoid troubl sleep increas my anxieti somewhat the first week higher libido mark reduc appetit i need to remind myself to eat and i ve lost 5 lbs other have mention a bad interact with alcohol which i have not experienc i ve had up to three drink with no problem my overal experi has been good this is a great medicin if it agre with you\n",
      "did notic a differ as calm down better\n",
      "i think effexor has been veri benefici for me i ve taken it for about six year a word of warn do not let your prescript run out or take yourself off effexor abrupt i experienc this by accid while wait for a mail order prescript to arriv my doctor was just move into a new offic and didn t have sampl avail within 2 day i was a wreck emot depress sob for no reason cognit all over the place no concentr and physic impair motor coordin among other thing the quot brain shiver quot a feel like an electr current run from the brain down the spine and back again are veri disconcert i got sampl from my doctor s former offic and was notic better within hour of 1 dose\n",
      "i have experienc extrem drowsi with my paliperidon inject when i first start i also experienc muscl spasm and blur vision i gain approxim 20lbs in 2 month of take it i also experi depress and lack of motiv this drug make me feel like a zombi i am hope to switch medic soon\n",
      "i know everi medic work differ on each person but abilifi work great for the first few month i felt like my old self again i took 10mg onc a day but over the cours of 1 5 year my blood pressur went up never had a problem with it befor it had alway been perfect all my cholesterol level skyrocket my glucos level went up my muscl begin to get tight i gain 50lbs too and the wors part was the i was begin to have more up n down moment and depress\n",
      "i recent start this medic after issu with my previous med that last two and a hhalf year major improv i enjoy the clariti the increas in motivi for finish task and social experi and lack of fog that use to cloud my mind i m a big guy so i start on 80mg which was way too strong but after cut the dose in half i am actual look and feel better than i have for year my therapist psychiatrist famili and friend all notic an extrem postiv differ and vocal this almost everi day take it with dinner though seem to caus my mental and physic energi to dissip rapid i go to bed much earlier than i d like to though\n",
      "start this med a week ago today it has been the onli thing that keep my mood in line and in check i am on 60mg of it along with 100mg of wellbutrin i have never felt this calm and feel as though i can get thru a day now without constant mood flip the onli thing i do not like is that it make me restless and feel like i constant need to move around\n",
      "i lost my appetit and yet gain between 7 to 10 pound a week until my psychiatrist took me off of it 5 week later stuck with the weight not onli did it not improv my mood my imag depress me even more\n",
      "i was prescrib 1 week ago and seen an immedi improv although i start feel more anxious all day so i am now on xanax instead of klonopin which i was origin on i start with 500mg for 3 day then 1000 and now 1500 but i feel much more stabl but i definit feel hungri all the time i was on lamict previous and i believ that made my disord wors i feel great now\n",
      "the medic at first did was it was suppos to do i was a shut in with some paranoia thrown in and hadn t left my hous in over a year except to go to doctor appoint and get groceri in the hous at first i found the medic got me out and about and got me back into the real world i sign up for colleg got in contact with friend i hadn t talk with in age and start live again for that this drug was fine then the side effect start kick in keep in mind i was on 2mg of this drug and even then the side effect were bad enough to knock me out of colleg and suffer someth call quot deperson through disassoci quot one of the scariest experi i think i ve ever had i don t recommend it\n",
      "i am veri pleas with the result of take lamict for my bp2 it definit stabil my mood i felt better within week of start this drug i take a high dose 400 mg without side effect my irrit has been reduc and i no longer have to hide myself as my depress has been lift i take paxil for my anxieti issu i recommend therapi to go along with the medic as awar can be an import part of treatment\n",
      "i have been on lamict for about two month yes i have some side effect dri mouth doubl vision sometim when i blink it goe away joint and muscl pain and now i think acn i take 300mg dure the day 200mg at night i also take gabapentin for muscl ach and joint pain which realli help i also take klonopin when necessari i am prescrib for half twice a day and one at night but don t need it i have a ton of energi and lost weight food no longer is my prioriti i exercis daili and feel fantast i do have anger issu i have alway has that i am in therapi also i think and feel like a differ person so the side effect far outweigh go off medicin good luck\n",
      "hive saw weird thing and paranoia\n",
      "i m diagnos as bipolar i sinc one year and an half sinc then i have tri mani medic almost all avail on the market some anti psychot and antidepress by far zoloft is a miracl drug for me i had lost all hope to ever feel happi again one day but this medic final do the job i have more energi a lot less of anxieti i can focus on the task that i want to accomplish in my life i have tri previous prozac and wellbutrin but they didn t do anyth to me never give up find the right medic can be veri long but when you find it it worth it the medic kick in after 3 week of use\n",
      "i have been use tegretol for 6 month 200 mg a day two time befor this i start with abylifi and it did not help me i feel much more normal than befor and i don t feel like i am go up or down anymor but i think one of the most import thing is also not use alcohol and sleep 8 hour a day\n",
      "i am 38 femal in a commit relationship again after divorc and bipolar type 1 been on the generic of this drug 25mg for 4 day not on ani other med my therapeut dose is 75mg so i m not quit there yet it may be too soon to give a review but it s import to note that i experienc immedi relief within 24 hour but the real reason i am review it today day 4 i feel like my quot old self quot and not the bright shini new self i experienc for 3 day straight i also want to note that i feel like i go through withdraw about 2 3 hour befor i need to take my next pill befor bed get extrem moodi i am still optimist howev i plan on give anoth review in a few week\n",
      "increas mood instabl both way becam realli down and have insomnia dissoci\n",
      "i could not focus while on this drug i had blurri vision and i couldn t sit still now i m on someth els with no side effect\n",
      "save my life was put on this in the hospit and my depress was out of the suicid level in three day about 5 day on it now and have had some recur moder depress howev my pdoc say it should take full effect in 2 4 week\n",
      "i gain close to 40 pound in 4 5 month and felt like a zombi went from 100 mg to 400 mg and felt wors with each increas i have been off the medicin for at least 4 month now and i am still tri to lose weight have onli lost 8 pound\n",
      "i start take keppra xr a few week ago and it s definit help reduc my manic attack my depress continu but the mania is be tame so far i realli haven t had ani bad side effect to speak of\n",
      "vari level of depress sinc earli 20 s anxieti also an issu 2 bout of major depress one in late 40 s and one in mid 50 s no hospit now 63 yo take 200mg for 2yr minim side effect and veri effect in mood regul never had a manic episod but had been fair quick to anger and somewhat argument i would have to say this medicin has help a lot some chang in my life circumst may also be help retir but i have to give this medic an endors worri a bit about take it long term but so far no side effect\n",
      "i was start at 40mg and got mild nausea but do good mood wise increas to 80mgs and start get physic sick within 20 minut of take it it would have made a good diet medicin for me but that is not whi i was on it\n",
      "i was hospit and put on this medicin approxim 2 year ago i did great on this medicin i did start the teeth grind but not sever i tri to give it up becaus of that side effect although i onli did it while lay down get readi for sleep and a few time dure the day i didn t get that exercis high anymor sinc it made me sort of sedat dure exercis i did get hungrier more often and gain about ten pound but overal this medicin has decreas my anxieti and i hard ever get panic attack anymor i tri other medicin but want to stay on this medicin becaus even though the side effect of weight gain etc i love the way it relax me at night and help me to sleep\n",
      "i was prescrib this for depress off label ad 20mg to my paroxetin it seem to help great with the depress but i had to quit after 7 week due to akathisia and extrem dri mouth dri mouth was so bad i begun to get sore on the insid of my lip i rsquo m nervous about not take it becaus it help a lot my doctor up my paroxetin when i quit the latuda i ve got my finger cross\n",
      "it veri good your day will be start off on a good track\n",
      "i am on 2mg of abilifi now went up to 4 mg but was too tire all day could not function 2mg a day of abilifi along with 250 mg of zoloft and 7 5 zyprexa work extrem well for me it help most for my depress and gave me my energi back sleep great and no side effect as long as i don t take more than 2 mg of abilifi if you are suffer talk to your doctor about tri abilifi i start veri slowli with the dose\n",
      "i was diagnos with depress and anxieti 5 year ago i was so stress about work even though i like my job and wasn t stress about it for year befor had continu troubl sleep more than 4 hour a night sometim less i went off work for two month due to stress anxieti and depress my doctor prescrib 25 mg of seroquel and 20 mg of cipralex for depress i take both at night an hour befor go to bed i saw a psychiatrist for about two month dure the time i was off work i didn t get off the couch basic all day for about a month start to sleep better and feel a bit better after a few week i sleep perfect now and haven t had ani real problem last five year\n",
      "been take it for about one month feel like a new person\n",
      "felt better than i had in year but major weight gain caus my doctor to discontinu\n",
      "turn me into a lifeless zombi\n",
      "i have been take topiram for about 3 year for depress along with viibryd i did lose 30 pound and do have some memori problem but what i have discov is my hair has been thin out my hairdress told me that she has been notic the last 6 month that my hair is a lot thinner and has been want to tell me this prompt to go on line to see if my medicin was the caus of this the 1st few comment i start read were peopl say their hair thin out so i am go to assum this medic is culprit of my hair thin what do you think\n",
      "good experi overal more motiv less depress and no side effect i take 30mg you have to take it with food otherwis you d get nausea\n",
      "i was diagnos onc year ago with depress and associ general anxieti i was prescrib initi sertralin and alprazolam but the secondari effect of sertralin were too sever nausea vomit diarrea my psyc chang the sertralin to paroxetin and again i didn t toler it final a was prescrib venlafaxin which help me with my depress symptom but i was too anxious and irrit final i was diagnos with type 2 bipolar disord and quetiapin was prescrib initi i was take 25 mgs befor go to sleep which help with sleep but i was anxious and irrit quetiapin dose was increas and at this moment i take 100 mgs befor go to bed this medic realli help i m not anxious or depress\n",
      "i have taken lamotrigin for year it has been effect but i have gradual had more side effect these review have been veri help as i thought some of my problem were creat by the sun humid or allergi over time and sporad i have had more nausea chill a lot of itch if i scratch the itch at all the skin turn bright red and spread along with itch the itch is horribl 3 day after 50mg increas i have all the abov side effect plus sweat chill and flu like symptom have extrem strang dream and nightmar i didn t have these side effect when i first start the medicin they start gradual and i think it is time to look for a differ medicin\n",
      "today is day 3 on latuda first night i had to take a xanax to go to sleep day 2 i fell asleep in my own tonight i still have no symptom i m feel better after 3 day i am high sensit to medic and was extrem frighten to start it i m veri happi so far\n",
      "i use to be at a mental state where everyday i would lie on my bed for about 3 hour becaus i didn t want to do anyth i had sever suicid thought for 2 year and kept switch medic becaus they caus weight gain after about a week of take the medic my weight start drop and my grade shot up to b s instead of c s now i m do great i ve never had higher grade and haven t felt this good for year i d realli recommend it i haven t had side effect yet and probabl won t\n",
      "i have been take symbyax for 3 week i cannot believ the differ it made in my life i was alway against anti depress sinc all i had tri made me feel wors i haven t had energi or motiv like this in i cant rememb how long it is hard to wake up if i take it too late in the even i m afraid of the weight gain but i think it would be worth it i am onli give it a 9 sinc it is so expens and i have no insur\n",
      "ive onli been take it for 3 day gave me everi side effect in the book i m current up all night it 3 14 and i have to be at school at 8 also i have been nonstop shake and have devour four whole bag of chip this medicin is not good not for bipolar at least\n",
      "i ve onli been on seroquel for 2 3 week but i have had a larg posit experi i have had a diagnosi of depress for about ten year and was use cipralex lexapro i came off cipralex twice and both time i becam veri depress even on cipralex my mood was constant chang so i went to see a psychiatrist who think i may have cyclothymia or bipolar 2 so start me on 50mg of seroquel initi i was veri groggi but have gotten over that i ve also gain a stone in weight but my mood has realli stabilis for the first time i feel happi confid and passion i no longer have a million thought in my head so can focus better hope this continu\n",
      "been on 150mg of venlafaxin for 12 year up a year ago to 225mg and havent notic a differ my daughter know when i haven t taken it though i either go manic or veri low i still have more low than high i am 51 year old now and was first put on valium at 2 5 year old i was told year ago it was clinic depress with manic tendenc my eldest brother had the same other 2 brother no mental ill as me he commit suicid a number of year ago\n",
      "abilifi has turn my life around i am happi and lead a more quot normal quot life\n",
      "for year i had been mis treat for clinic unipolar i went through mani ssris but each one quot hit the wall quot had onli limit effect on the deepest depress and none as a mainten drug chang pysch she suggest an off label use of lamotrigen within a coupl of week i felt so much better we scale back and elimin effexor ssri i continu to get better she move away so i had to find anoth psychiatrist or psych nurs the new psych nurs did an interview and said i was be treat for the wrong diseas i felt better becaus lamotrigen was work on my bi polar 5 year later i m still do well mood swing moder deep depress less deep and less frequent\n",
      "this medic has realli help me a lot i feel energet happi and my mind is clearer along with no more memori loss it was rough the first day though i felt drug restless and couldn t keep my eye open now i m on day 3 and the restless still remain along with hunger pang and slight agit but overal i m pleas with saphri\n",
      "pristiq give me energi and bring me up from the deep depress when no other anti depress can i haven t had to take a huge dose to get that effect either which is fantast\n",
      "i m have been take lamotragin and have start on escitalopram for bipolar 2 what an amaz turn around where i use to be extrem reactiv and explod in to a rage at ani littl thing i now feel calm and at peac with the world i have actual start to feel happi i alway suffer from hypo sexual and it was so exhaust to be fight with sexual thought and tension constant it s such a relief that sinc be on escitalopram this too has stop i now see everyth from a much more ration perspect i ve even begun to realli quot feel quot in love with my wife sure it s one big drawback is that it is an orgasm killer but i m find this is a small price to pay compar to all the benefit it s given me my life back\n",
      "depakot put about 60 pound on me it did noth for my mood accept make me a zombi i sat around and did noth i had no energi my skin itch non stop i develop migrain headach and felt plain shitti all over my muscl ach stomach abdomen hurt i complain about it and my doctor up the dose and i was on 2000 mg xr when i could not stand it ani longer i took myself off of it and have chang doctor i hope this one will listen to what i say\n",
      "i am into week 2 of take seroquel for bipolar disord the main side effect that i am notic are the feel about 20 minut after take it make me feel the same way trazadon did when i took it for insomnia and the cloudi the next day i have had sever situat where someth will come up and i ll recal a convers or physic activ that i truli think happen but i cannot determin if i dream it or if it realli happen but i am alreadi notic a major differ in the way i feel and am abl to concentr and interact while at work and even with famili in a good way sinc it s onli been 2 week of cours i am go to give it a littl more time\n",
      "horribl evil pill didn t realiz it was caus me anxieti after be epc for fals statement they put me on it in the hospit and i was like sure okay they rapid ramp me to 60mg the anxieti nervous from it was intens crippl and basic made me botch an easi in and out hear where my famili fulli support me they weren t even allow in to testifi to the fals of whi i was epc d caus i shut down and said no contest to total bs this drug is known for caus peopl to be violent i can sort of see whi it might do that it s immens power and the quot doctor quot like to give out a needless high dose the ironi is the doc i have now say i m not even bipolar\n",
      "i was on this medic for 8 year they want me to get to 1200 mgs but i couldn t function past 300 so that s where i ve been and i take it at night i ve run out sever time and have experienc zero side effect my sodium get danger low and i have to increas my salt intak i thought i was all better and stop take it sever month ago i ve been feel suicid and have been on manic spend bender and couldn t figur out what was wrong then i realiz i shouldn t have taken myself off the medic i m also go to see a psychologist i don t like psychiatrist becaus they alway tri to pawn off the latest medic market to them with perk\n",
      "i was put on 80 mg twice a day couldn t handl that so i start take both at night i ve been on for 4 year and then the side effect start bad dystonia in my leg arm and face also i was veri depress felt hallow and so snappi alway yell at my kid no abil to cri you know sometim a good cri just help so i call my doctor and she cut it in half to 80 at first i had some mood swing but i have gotten them under control now i just ach all over and have bad headach but on the lighter side i feel much happier not scare of peopl like i was befor becaus i was sure they were all talk about me and hate me i haven t decid if i m go to go off or compltley right now i m happi where i m at\n",
      "i ve been on carbamazepin for 1 week my head is empti and i don t feel like myself at all feel nauseous and the onli time i feel normal is when i eat i have been do more around the hous but it s like be on auto pilot this is the first mood stabilis i ve been on so hope i get my brain back soon or i will definit stop take it\n",
      "hello i have not been diagnos with bipolar disord but i am 18 and have felt over sensit and quick to extrem emot all my life i have a trauma histori and have been prescrib zoloft prozac and trazadon to cope with my rape trauma ptsd etc while these med have help a bit my mood swing and my emot scale still realli effect my relationship and lifestyl i ve been feel realli hopeless and self hate late becaus of the way i am and have alway been i am be prescrib lamotrigin by my psychiatrist and doctor i am a littl scare at how it will effect me i hate feel numb and non present i want emot i just want to control them and not for them to control me i want to feel whole someday\n",
      "i went on this drug becaus i was gain too much weight on zyprexa i ve lost some weight so far but liter feel like shit everyday feel sick too my stomach and can bare keep my eye open throughout the day if i forget too take it i can t fall asleep and i ve never had that problem with other med\n",
      "i ve onli been take this for a littl over a month and i can alreadi tell a big differ i feel 10 time bettter\n",
      "lamict save my life liter help with suicid thought and a feel of go crazi beyond control later i ad cymbalta and provig as well abl to have a more regular life now take awhil to kick in sinc you have to build up the dose but stick it out definit worth the wait i ve tri sever other and lamict is by far the best\n",
      "i have been take this med for year and i feel trap i don t think it realli doe anyth for me the problem is that i tri to stop take it and i becam complet useless tire irrit and full of anxieti right now i have not taken it for two day becaus i forgot it befor i went out of town i am tire got insomnia and i feel like i am hung over and nauseous the withdraw from take this medic is aw so i think anyon that want to start this med should serious consid this when make a decis to ingest this i am not the onli one who has experienc this there is a lot about withdraw from this med on the net\n",
      "i just start this medicin and i feel great alreadi from switch off seroquel xr to abilifi i take 2 5mg split 5mg pill in the morn and my mood are a lot more stabl i m also more product at everyth like work hous work etc my love one can see the differ the first two day i experienc some nausea but that s it i feel the biggest thing is start at a low dose\n",
      "i took abilifi for one month i had restless a feel that i need to do someth it was a good thing in a way at first i was more irrit but that subsid substanti after a few day it made me feel a lot more calmer and in control of my emot without make me feel like i was suppress them this is the first pharmaceut medicin i have tri to treat my condit and it definit work better than the natur remedi such as st john s wort same and passion flower it even help more than medit i have just switch to latuda becaus abilifi gave me chest pain if the pain was anywher els i would of definit stay on the medicin becaus it work it help me gain 10 lb which is good for me\n",
      "i have struggl silent with impuls to self destruct self injur for mani year various thing would trigger episod frustrat convers some temptat were veri strong and sometim i quick self injur i let peopl think i was suicid and therapist were gear to interpret that way but it wasn t that it was overwhelm impuls to hurt myself which i couldn t explain and felt humili about then i got to a veri good psychiatrist who put me on divalproex extend releas pill which i take at night while i am groggi in the morn and feel tire in the afternoon and sometim requir a nap recent i ve been trigger but the impuls to hurt myself was much less the drug was to slow thing down\n",
      "i have taken wellbutrin sr for about 8 month and i can tell a great differ between the brand name and the generic\n",
      "i have to say that seroquel has help me out alot i ve been take it for about 6 month now and it has stop my terribl anxieti and mania i have tri a lot of combin of medic and i m happi to final be on the right stuff my biggest issu with seroquel was that my doctor didn t warn me that i would want to sleep all day everi day when first take it i have a babi and those first week on seroquel were extrem difficult i am also awak right now at 3 am type this becaus i forgot to get my prescript fill and didn t have a dose to take you do becom depend on this medicin night like this are terribl but i wouldn t trade it\n",
      "take 5 mgs am pm absolut no side effect so far dosag is sublingu and the pill tast horribl feel definit lift in spirit hasn t done much for the obsess though\n",
      "i have been take risperidon for over four year now i felt great the first year but had to constant have my dosag increas i don t like some of the side effect anxieti difficulti concentr weight gain faster heart rate flu like symptom but have learn to deal with them onc you start to gain weight it is virtual imposs to lose the weight as i have tri everyth it seem you peak at a certain level\n",
      "iq of 130 but troubl emot status wide rang of problem extend from paranoia anxieti anger delus bitter depress to suicidi had 3 major bipolar attack in 2008 2010 and 2012 success career hit the bottom in all these attack lamictak is the greatest drug for me it most liter save my life i am use around 125mg daili and i know how i am befor use this drug i realli never did if you have similar symptom never hesit give it a tri for sure\n",
      "this is ahorrid med made me hallucin and ton of other stuff\n",
      "i have been on this medic for over 4 year now i was abl to go to nurs school and have been work in the field now for almost 2 year i m less anxious i don t get frustrat i m calmer i did gain almost 60 pound this has been an issu for me i also notic that i m not in tune as much spiritu which is an issu for me i stay on the medicin becaus i have never function as well on anyth els i don t cri much seem like my emot are hidden somewhat i m not sure i like that i have thought about get off of the medicin for a while just to see what happen but afraid of what might happen so i continu to take it all in all it has been a good experi\n",
      "i ve been on abilifi for about 3 week along with trazadon for insomina and anxieti and taper off paxil i ve notic a signific improv in control my emot and for the most part am a lot calmer suffer some side effect such as restless and the shake but overal the posit outweigh the negat i start off on a veri low 2 5 mg dose but expect to have this rais at my next appoint with the doctor\n",
      "though i am much calmer i m so calm i don t want to do anyth except sleep the first coupl week this medic was a god send but not that i ve been on it for a few month i can t shake this ever so tire feel not even with coffe if i can t do anyth product i can t see be on this rx much longer\n",
      "my experi with this medicin is posit especi sinc my recent dose increas befor get up in the morn was hard\n",
      "i have suffer from depress for approxim 22 year i general medic with alcohol and anti depress i stop drink over 2 year ago and my depress appear to worsen howev i was also notic period of wonder happi which was unusu but enjoy which i could never rememb experienc befor i was diagnos with bipolar in januari this year after come off a 6 month high and plummet into sever depress i have been take 1500mg of lithium and 375mg of effexor for the past coupl of month i have level out emot howev am veri flat no enthusiasm or joy just realli exist i feel the lithium has brought me out of the live hell i was in but am still a long way from well\n",
      "i ve been take vraylar for 2 week now and have notic a huge increas in my libido no other side effect and i am definit have less anxieti and much better impuls control it almost feel like someon step into my mind and organ everyth\n",
      "i have bipolar 1 and i start take latuda 20mg and didn t feel too much to begin with other than it was easier to get up in the morn then i went up to 40mg and start realli feel amaz improv i use to suffer from extrem paranoid thought had littl cognit abil was constant have panic attack and felt extrem depress didn t sleep yet was bare awak dure the day and was basic just sluggish and useless on latuda i can get up in the morn i sleep at night my paranoid thought a great reduc my panic attack have more than halv i can actual think i m not too sleepi and depress to look after myself and after two year of be disinterest in everyth i feel enthusiast again\n",
      "i m 21 year old and have been diagnos as major depress and have general anxieti sinc i was 17 sinc then i ve been on three differ antidepress from citalopram to zoloft and they all had mediocr effect on my depress it wasn t until i saw a new psychiatrist and had a new diagnosi of bipolar l that i start to experi genuin relief i attribut most of my recoveri to latuda in the first week of take this medicin i experienc terribl akathisia the feel of tickl or ant in your bodi which kept me up at night but after a few week i was told to take it with my trazadon my sleep pill at night and the sensat went away it was probabl onli a few week when i began to feel normal\n",
      "simpli my miracl medicin i actual becam quot myself quot again after 15 year of tri everi antidepress avail i ve becom an expert on antidepress lamict was my doctor s last resort after about 2 week a woke up on morn turn to my husband and said quot i m back quot have been on it about 8 year now and i m truli quot me quot not bipolar or depress i take it in combin with wellbutrin perfect combin for me\n",
      "i was on abilifi for more than a year then it got prohibit expens over 250 i was on 15mg it made my rage and aggress more manag i think this is a miracl pill the onli side affect that didn t go away was the restless leg syndrom if you can afford this medicin take it it s great\n",
      "i have been on this drug for 4 week i notic veri subtl chang i ve titrat up 25mg a week everi week and i m current take 125 mg i still am probabl 3 week away for full effect but i am notic some good thing i no longer think about kill myself all day and i have less anxieti than i did four week ago i feel optimist that better day are ahead i also take ativan for anxieti but will like discontinu onc i m at the key mg amount which i believ is 200\n",
      "when i first went on this medic 300mg i did not like it at all i had side effect of a type of float my head wasn t attach to my bodi i d be disorient onli for a short time but frequent at first i don t realli rememb ani other side effect i want to stop take this i was 300 sr then went to normal seroquel be on standard seroquel help i ask to chang off seroquel and was told it a good medicin and just give it time 6 week wow i didn t like that idea i did give it time i was tri of a day so went back to 150mg over time i ve been on 200mg also and now 300mg i am so grate to myself for hang in there i choos to be on seroquel i sleep a deep sleep for me i am happi veri happi\n",
      "worst my situat headach difficulti to talk suicid letharg slow and lost contact with realiti worst drug i ve ever took\n",
      "i began to notic the differ after 3 week on lamotrigin although i am not 100 better but i am get there\n",
      "did not help was on it for sever month if anyth it made my irrit wors and my temper shorter\n",
      "no problem except for nervous but could be pristiq med as well no sex drive but optimist thing will clear up soon\n",
      "so far so good i have been on remeron 30 mg for 3 year it stop be effect almost a year ago sinc then i have tri mani other thing final my doctor suggest seroquel 100 mg at bedtim in addit to the remeron i notic the differ almost immedi within 24 hour sever depress symptom have eas off and also less anxieti unlik other i have had no groggi with it so far so while it earli in the game seroquel look to be good so far will post updat as my treatment time continu\n",
      "turn me into a dribbl zombi everyon thought i was drunk horribl\n",
      "took 150mg d everyth was fantast then start constant fatigu i was veri drowsi i thought it s winter here everyon is fatigu but i felt that this is from effexor xr so i slowli wean myself and i m no longer fatigu can focus on studi now i take zoloft 100mg\n",
      "so far so awesom been on it a week and am not as agit suicid thought are go away\n",
      "i have taken lamotrigin for about 5 week i taper from nefazodon to lamotrigin over the cours of 3 week i am current at 100 mg of lamotrigin i was feel better than i have ever felt in my entir life for about 2 week now i am back to where i was befor no i was not feel manic dure those 2 week but i felt that my anxieti had been great reduc and i had a true appreci for life i feel a bit cheat that i got to feel normal for onc in my life and then poof it is gone i kind of knew that it was too good to be true or to last oh well\n",
      "i am bipolar i and went on topomax as an altern to the aw weight gain med i have been subject to in past my anxieti went through the roof i was cri constant my heart was pound and i becam fear to leav the hous i love the 10 pd weight loss but not worth the anxieti and hair loss sad i want it to work\n",
      "has work well for mani year\n",
      "i ve been on this medic for about a week now and i must say that out of all other medic i have been on vraylar is work pretti well the onli side effect that i have experienc has been an upset set stomach i m sleep better and hope it continu\n",
      "i suffer from main depress and anxieti i have had a few bout of hypomania this was recommend to me to help anxieti and mood swing within an hour of take this medicin i was alway somewhat buzz and not in a good way like you have to lie down and sleep or you will becom extrem irrit the sleep was great on it howev you wake up in a fog for hour usual until dinner time for me it realli flatten you out so you don t feel much but emotionless and tire i took anywher from 50 to 200 mg and the result was the same i am off now and tri safer med seroquel wasn t for me glad it help million though\n",
      "while i can definit say that it chang my life for the better it just wasn t enough and yet it made me sluggish i know that sound paradox it was like i realli didn t want to do anyth at all but my head was still race i still talk too fast i still couldn t sleep it just wasn t enough it slow my bodi i think but not my mind\n",
      "my dr told me basic noth els has work so what do u want him to do the seroquel seem to at first but i gain weight quick and peopl are alway ask if i m expect becaus i look mayb 5 month pregnant i have paranoia problem as well with anxieti i have suicid thought throughout the day but i don t share that with my dr becaus i don t want to get put in a hospit so i keep that to myself i m extrem depress and it doesn t help me sleep i can t sleep becaus of the thought go crazi in my head so i have to take ambien i m sick of all these medic i also take wellbutrin for depress and xanax for anxieti the xanax help but when i tri to pull back from use it my bodi jerk i know i need help\n",
      "horribl drug my doctor tri it as augment therapi for my depress to take with my trintellix the start babi dose of 20mg flew me over the edg in two week i becam angri agit and veri aggress a neighbor make me so angri come out of our condo park garag the wrong way that i later slit tire on his car not at all like me thank god he accept payment for new tire and didn t press charg perhap the nastiest med i have ever taken and veri expens without good insur\n",
      "i m an social drinker and after 3 month of take risperd i can t get a buzz or even drunk viagra doesn t work either it s like it took the pleasur out of my system but now my libido is come back after a coupl of month i had the doctor chang my medicin hope the new one doe a better job with my pleasur on month 2 i was zombi like but now i m almost back to normal\n",
      "lexapro endless gave me the diarrhea\n",
      "seroquel did not work for me i went up to 400 mg and felt like a zombi now i ve taken seroquel xr 300 for 1 1 2 year i ve seen my anxieti level go to normal but it is necessari for me to plan the time i take the medic to avoid slur speech in the morn it need to be in my system at least 11 hour it seem constip is sever enough to take laxat everyday my husband has to keep remind me the posit outweigh the side effect by far then i stop and think and know that is true\n",
      "this medic work so well for my bipolar no side effect except for dizzi when i forgot to take a dose had to stop take it becaus i no longer have insur and couldn t afford 600 per month for one medic wish i could afford to go back on it\n",
      "post concuss lead to explos outburst withdraw from activ i use to enjoy addict behavior i wasn t worri about the skin rash the evid is clear when slowli titrat up the risk is low i have experienc some cognit sluggish and muscl cramp at 150mg but they are onli annoy drug save my marriag and job allow me to becom self reflect rather than self hate again also i have experienc anoth veri welcom side effect um er astonish sexual pleasur when i told my doc about this he smile said a small percentag of patient will have this quot side effect quot i m glad i have so the drug has work well for me in mani regard\n",
      "i have been take lamict for onli 1 month and i notic a huge differ i am find joy in the thing that i couldn t for year my patienc is so much better and the outburst of anger have stop alreadi i onli hope that i don t start experienc the side effect that i have heard about\n",
      "latuda is awesom i ve been on it for about 3 week and i seem to be feel better everi day i am also on prozac dexedrin and klonopin but we switch out zyprexa for latuda and it s been a miracl so far i don t realli notic mani side effect and i m lose weight like crazi and not tri to i hope it keep up the good thing\n",
      "onli been take abilifi for 3 week seem okay so far but crave sweet thing so worri about ani weight gain though none so far also hard to concentr for too long\n",
      "caus suicid depress\n",
      "this drug help rais my mood slight in the morn howev it also has side effect of dizzi and headi this is especi true after two to six hour after you miss a dose\n",
      "i was prescrib this for a mood disord they couldn t pin down didn t know where on the bipolar spectrum i fell i suppos as well as sleep issu i becam veri jade too jade i didn t get ani more sleep than usual and my previous sun sensit skin is now show minor allerg reaction to sunlight i haven t been on it for year and the allergi is still there it did noth for me and just made it harder for me to oper in the typic diurnal societi of today not a posit experi\n",
      "took abilifi for 4 day had nausea for those 4 day and sever day after i stop take it i also have a twitch in my lower lip that is still there 7 month later\n",
      "i have been take abilifi for a week it has alreadi taken the edg off the rage howev am still experienc high anxieti my famili say i am calmer so that is deinit a plus i feel tire and wire at the same time it is a weird feel i am veri paranoid i was paranoid befor but this seem to have made it wors but i am onli on 2 mg s at least the rage are better i am hope that this medic along with help from my doctor will be enough to get my life back\n",
      "it has been great but i am to relax and have not much desir to do thing but when i need to do thing it s not a problem in fact my work has been much faster than it has been in year i am more focus and content the unusu effect have been it has stop my hypoglycemia caffein has no effect on me ani longer and i have no withdraw at all when stop cold\n",
      "amaz medicin i tri almost everyth with no result i felt hopeless and want to die until latuda it has made a great differ in my life in less that 3 week i now feel again amaz onli draw back is the cost if you do not have insur but thank i do\n",
      "this was just not the drug for me while it did make me more level i had a lot if side effect i experienc compuls eat so i did gain weight i was alway tire and slept in late and when i could final get out of bed i felt like a zombi i was veri crabbi and irrit it was breastfeed friend and kept me relat level so it did the job but i was veri happi to final get switch off it when i wean my son\n",
      "i have just been diagnos with bipolar 2 i have been on antidepress for 23 year and as i got older the drug didn t work as well i suffer from depress panic attack sever anxieti and phobia and errat mood swing chang daili even hour so now i am on 300mg effexor valium and have just start in increment of 25mg of lamotrigin befor this i took epilim which was great but within 2 week had a rash everywher now i am up to 75mg of lamotrigin and i have headach tired sleep up to 15 hour plus diarrhea sick depress aggress anxieti the list goe on it been 6 week and i am loos it my mental health team is useless will this get better\n",
      "first i want to thank you all for your help review it help me to do my own research so i can suggest my choic of treatment to my psychiatrist rather than just trust the one he suggest after be diagnos bipolar 2 he suggest anoth med i strong advoc for lamict i taper up to 200mg on a conserv schedul i ve had good result over the past 9 month it definit has lower the instanc of hypomania or at least deescal the intens it s done littl to address the depress or anxieti so we ve agre to add anti depress again he suggest cymbalta which i oppos due to the all the inform regard withdraw syndrom we agre on a low dose of prozac which is go well so far\n",
      "this has been a great medic for me it brought me out of a 4 year long depress and i have been on it over a decad with minim side effect\n",
      "i have been take this at 20mg for a week and have went from decent to violent ill vomit the run crippl headach muscl pain i stop take it today slowli start to feel better\n",
      "i just start take 25 mg a day a few day ago so far i m tire after take it and veri thirsti i do feel good after the drowsi wear off and am alreadi start to feel good my jaw hurt a littl and slight headach i will post again in a few week\n",
      "was given the 5mg in octob 2011 black cherri flavor after a hospit took three day but i final felt normal the tast is absolut dread the worst side effect was that it made me sleep and sleep and sleep to the point were i wasn t abl to function dure the daytim so i stop take it haven t been on it in sever month but need it have an appoint with my doctor tomorrow and hope that perhap there is a newer extend releas version on the market as without the more unpleas side effect\n",
      "my experi was veri negat i felt light head and dizzi immedi and within two week i start fall asleep at random time even while drive on the freeway i had violent nightmar i threw up constant and accord to my famili start to lose my memori i couldn t sleep more than a few hour at a time without wake up and have a panic attack sleep medic did noth to help that the side effect becam so debilit that i had to stop it and move to someth els\n",
      "i have been take seroquel for three year and it has chang my life for the good when i first start take it i was tire but after about a week i balanc out\n",
      "love it final felt normal or what i think it mean onli problem i have is the restless leg it much wors now that it been increas to 80mg but i was fine on 60mg my solut is to spong my leg with cool water as it happen at night help a bit otherwis it the magic bullet for me\n",
      "i have been on this med for 10 or more yrs for my bpd i also suffer with clinic chronic depress ocd suicidi tendanc major mood disord and anyth els they can thro at me i had a sever break down 15 yrs ago and i believ someth in my brain actual disconnect or fizzel out unrecover i have tryi mani med for mani symtom i have been on toparim for atleast 10 yrs i have not had weightloss from it i was put on it for my borderlin to control my rage i take mani differ med i beleiv they are all fight one anoth toparim has effect my vision motor skill slow down my thought process blur my desicion make and my abil to recogn realiti from my on disort thought\n",
      "so i feel like this did help stabil me a littl bit with depress state but i end up get acn and red all over my face i also had my eye feel all weird and twitchi overal it was not super effect for me becaus i still had horribl anxieti and panic attack and i could not titrat high enough to get effect coverag from the medic without weird side effect i was onli on 75mg maximum mind you\n",
      "this was my second time tri saphri throughout my first experi it work great for my sever depress but caus me to gain 20 pound in a veri short time frame this increas in weight wasn t accept as i battl with bulimia as well the second time around a few year later i had high hope for this medic as it had virtual wipe out my depress while on it in the past and i was take the precautionari measur of ad effexor to my medic regimen to help counteract the side effect of increas hunger and weight gain the effexor did help with decreas my appetit howev the antidepress effect was not near as strong for some reason it may have even worsen my depress symptom\n",
      "had sever depress anxieti and elev mood swing for year just start med in my earli 50s lexapro gradual dose at first began to notic result in all 3 area but extrem sleepi no matter what time i took it it seem to level off at about 50 effect than slowli decreas in it effect went on lamo more energi but mood swing came back no patienc or toler again forget and anxieti rambl thought in my head continu i am return back to my origin prognosi didn t find it to be of help at all up to 200mg realli don t want to keep experi not sure of next step\n",
      "after mani trial and error i found that 200mg at bedtim is the best for me i ran out of refil about 4 month ago and had to go without for anoth month befor i could see a dr i know that s not safe but i had no choic my famili as well as myself could notic the differ in my mood swing within a week\n",
      "i have tri at least a dozen differ psychiatr drug and effexor xr work better for my depress than anyth els has and it doe not make me at all manic i also had a posit side effect it made me lose weight i was veri pleas\n",
      "i went from talk 120mgs of cymbalta to take 150 mgs of seroquel xr just over one year ago i fortun did not suffer from ani if the initi side effect that i ve now research have learn are realli common when start this medic howev 1 month ago i m not sure whi but i end up miss 2 night dose what i experienc was noth short of be in hell liter i physic was incap of movement get up to simpli get to the restroom was near imposs everi muscl in my bodi was weak near useless i couldn t do anyth but remain in a fetal posit curl up on my side for the durat of over 12 hour my head was cloudi confus unabl to process ani thought after this experi i want off\n",
      "i ve been take gabapentin for 12 year i use to have feel of major irrit and mayb a littl paranoia an exampl of someth that use to happen befor i took these was i would be at work flip out think my mom and my boyfriend at that time he was paint my parent hous were mess around which would never ever happen not onli was our son there but so was my father lol they also kind of dislik him point is when i start the gabapentin i laugh at the thought so hard caus it was so ridicul i still laugh at the foolish of it so i take them everi 5 hour and if i had forgotten them my mom or my friend would notic becaus i would be sooooo irrit they would be scare to remind me\n",
      "seroquel has been a medic which has help me overcom mani difficulti in life\n",
      "this med had save my life i was addict to heroin and xanax tri to alway self medic the effect of bipolar i tri so mani med and had so mani danger side effect like a bad rash from lamict and muscl lock up from 3 other med and had to get rush to the hospit to get benadryl shot ever sinc i ve been on this i feel like i did when i was a kid veri free and level no crazi obsess thought or crave i have not had a drug crave at all nor do i want anyth to do with drug bc now that my mind is clear and balanc i have no use for them this med definit is the main thing help me stay sober and it save me from myself and my thought\n",
      "i switch from generic immedi releas lamotrigin to lamict xr about a week ago in the last week i have had the unfortun and horribl side effect of diarrhea the worst i have ever experienc it would start a few hour after take my med at bedtim and last until about noon the follow day it took me about a week to realiz it was relat to the medic chang when i stop take the medic the diarrhea went away i ve seen ton of posit review about the xr but it just wasn t for me i gave it a 3 becaus it still stabil my mood while i was on it\n",
      "this drug was a nightmar for me i have mood regul disord i was total anxieti ridden one minut and hide in my closet cri the next tire as heck one minut then hyper and crazi the next i have never had mood swing this sever in my life this medic also gave me ton of other physic symptom such as high blood pressur nausea and a general feel of be happi and sad at the same time i ve tri a ton of med and this is the worst one to date also it should be note if your sensit to weight gain the trial on the drug did show 1 2 lbs gain in 3 week so you might want to watch out for that\n",
      "i was onli on the med for a few day when i knew it wasn t the one for me i felt like i had cement on my vein it was so hard to get out of bed onc i was up i was in such a fog on top of be super fatigu i was more agit i was afraid to reach out to my doctor but i did i m glad sinc switch it s a complet 180 deg in my mood\n",
      "i have been on invega 3mg for almost 2 week immediet i felt great i take it at night but for the first few day i felt drug till about 11am i get up at 6am take it around 7 8pm but for the earli part of the day i felt awesom total at peac never felt better howev after a week i feel that it s not help i don t go to sleep till like midnight now and i am not stabl anymor i think i may need a higher dosag i have made a coupl apt this week but they where cancel due to them close for weather and a emerg but my mania is out of control i have bad outburst do thing i know i shouldn t it s like i can t stop it do i need a stronger dose i was suppos to come back in a week\n",
      "i m on latuda the side effect are veri irrit and scari this time my right leg has that veri unbear hard to explain feel i fell asleep a lot at work right in the middl of me write someth i stumbl around and think it will be better if i took it at night it wasn t i woke up at 1am have extrem panic attack overthink everyth and just have these terribl horrifi thought i got outta bed and slip fell down the stair and hurt my arm and knee i also drool a lot and had no appetit for 3 month but on the other side it make me calmer happier and confid about thing but i can t stand the side effect\n",
      "second week definit feel better weight is stabl curb my appetit coupl bout of blur vision but overal good back to psych doctor next week will see where dosag goe hope to have this perman and drop seroquel\n",
      "it has save my life liter\n",
      "start on day two of treatment i felt progress sicker with mild nausea muscl ach and general malais\n",
      "i m take it now i experienc side effect that are make me get off it i have sever chest pain smoke more sweat like crazi happier then normal don t eat drink liquid all day and night\n",
      "love love love this drug it has normal my sleep though the initi morn groggi was hard to deal with howev this side effect went away after the first month or two i m at 300mg and it has normal my mood and has most gotten rid of my anxieti the onli downsid is that it caus some pretti extrem quot munchi quot which doe lead to some weight gain may also have contribut to my pre diabet condit\n",
      "i was suicid and depress for month feel like year i m on wellbutrin as well but have been for year with no improv latuda at 40 mgs has chang my life in 3 week i m not manic i m just normal and happi high stress situat don t make me spiral setback aren t out of proport and damn if i m not in awe that peopl live like this natur and take it for grant\n",
      "work great up until tuesday when i had a sudden attack of dizzi that drop me to the floor this continu for two day and i final call the doc yesterday who took me off of it i went back to lexapro as i had no side effect with it it s too soon to tell if i will have ani withdraw from it but i m hope not i have a busi day at work today i m glad to be off it though i had a dizzi spell a few minut ago but it was not bad and stop quick guess i ll stick to lexapro and just deal with the depress as it come\n",
      "i was switch to zyprexa zydi about two week ago by my psychiatrist to help with the huge weight gain and compuls over caus by regular zyprexa so far my appetit has decreas signific and i m feel a lot better about myself physic and emot\n",
      "i have been suffer with depress anxieti and suicid think sinc age 13 i m now 27 and have been on mani differ med noth has ever work for me until i got prescrib latuda there are a few side effect like nausea and headach but that s noth compar to how i felt befor i take 40mg daili and recommend it to anyon who is bipolar or depress it realli work for me i can actual live a happi and fulfil life now good luck to all of you stay happi\n",
      "great miracl\n",
      "it s not perfect but it seem to have a posit effect on my sleep pattern attitud and mood swing regardless of situat\n",
      "have had a great experi with vraylar went from oversleep on a regular basi on risperidon to sleep a healthi 8 10 hour feel sharper more social and general in a better mood unfortun have been deal with insomnia and on and off nausea it s been two week sinc start overal the posit outweigh the negat and i m hope the side effect subsid over time give it a shot\n",
      "my experi with latuda was not good at 20 mg for about a month i decid it wasn t work well but my psych ask me to tri up the dose after a coupl week i found that it gave me akathasia which was far wors than my bipolar it also increas my appetit i am take 20 mg lexapro as well which is fair effect for me\n",
      "i took nuvigil for the first time and i found myself less tire and more activ than ever i have sever depress and stay tire a lot for year i haven t been myself as for be activ i was an athlet for half my life and i knew what be in shape felt like but with age i fell into depress and bipolar still too earli to say but nuvigil made a posit differ for at least one day of my life\n",
      "i was diagnos 13 year ago as bipolar i have been on a total of 14 differ medic after a few month the effect of the medic would start to wear off i would tell my doctor and he would up my dosag then i would becom a zombi cymbalta so far has been the onli medic that i have been on for more that a year and a half the onli side effect i have notic and that are start to subsid are tremor excess sweat and night sweat excess rambl minor confus and fatigu they are start to subsid but the medic has been a god send for me and my famili\n",
      "i was previous diagnos with major depress with sever anxieti attack i was take anti depress and anxieti medic for 3 year my mood would vari great throughout this time period i was self medic until one night i tri to drive myself off of a bridg with my car full of peopl i realiz at that point i need help and noth was work i call my therapist he suggest that i go to the emerg room i did i end up get admit for attempt suicid after a week in the hospit it was appar i was bipolar and in a episod i suffer from manic and depress episod they put me on tegretol xr and i began to be abl to actual sleep a whole night and think normal\n",
      "this pill has been veri good to me it calm me down and balanc out my mood so i no longer have the extrem up and down it keep me in a happi middl while mani other bipolar medicin i have taken have made me feel an inabl to feel angri risperd just keep me from make a huge deal over small issu i no longer get mad over petti thing but i do feel angri when someth extrem upset happen i do not feel extrem sad for no reason ani longer but i do feel it when extrem event happen for instanc my grandfath die last week and i was sad about it but i no longer feel depress for no reason the stage of mania i use to experi have almost complet subsid\n",
      "i was prescrib with sertralin a few year ago for mdd and bipolar disord even tough it took some time to produc posit effect sertralin was inde effect especi when combin with bupropion and escitalopram the mood variat disappear depress decreas from the negat side it produc a decreas in libido and an extrem decreas in creativ if you are a compos a painter a writer etc you should in my opinion expect a possibl and veri pronounc decreas in creativ dure the it use the temptat to interrupt the treatment for the benefit of recov the creativ should be strong resist\n",
      "i am take 5mg i also take lithium and have been wean off seroquel i take xanax at night i am go on three week and it s been amaz i have been more product in the last week then the last 20 year i work in a call center and i am less irrit and more product my custom love me i didn t take seroquel last night and bare sleep but i feel okay today just a littl tire will see how it goe my doctor said in her experi 5mg at night is a good dose i would like to say though that this drug is so expens without insur it almost 500 a month for 5mg for 30 day it make me sad there are so mani who wont be abl to afford this\n",
      "i was on a veri high dose 64mg day for two year at first it was wonder my dr told me it was a mood stabil and for me it did just that for a while after a few month i start take nap in the day high abnorm to me then after the nap i start to go to bed earlier and earlier then one day i realiz i was sleep 17 hour out of the day sinc i follow my dr s intruct and we wean my off my day are bright again no nap chore are get done i am not neglect my hygein pick up forgotten hobbi live thrive and absolut no withdrawl\n",
      "first medicin in year that has seem to help depress without caus mania\n",
      "i m 37 and have depress usual season sleepless and occasion anxieti i took 100 mg of wellbutrin and noth els it replac zoloft at the time for around 3 5 day within 2 3 day i was quit agit anxious and easili annoy by day five i stop take becaus i felt hostil and again annoy cannot speak for other but this one realli made me a monster and i have never not onc felt like that from ani of these zoloft celexa trazadon\n",
      "i am honest not sure how to rate this medic but i can relat my experi so far i have had no nausea it doe help me sleep better i was given the medic for bipolar i have been emot shut down for a long time and after 3 day it has open up my emot and i am not sure if that is a good thing or a bad thing in februari my husband die of an accident cocain overdos the onli emot i have felt sinc he die is anger now i feel over whelm with grief and i am just not sure how to deal with that\n",
      "i start latuda 20mg 5 month ago with no result until a few week later increas dosag to 40mg felt pretti good the depress anxieti improv but still not quot balanc quot 6 week ago i increas my dosag of wellbutrin from 150mg to 300mg and final felt realli good for a chang but now the past 3 4 wks i feel i am in hypermania as all the sign are there i m talk fast and a lot make purchas onlin which i don t normal do and sleep is sketchi sinc i like most prefer mania over all other mood i haven t contact my therapist yet becaus i know more chang to medic is immin befor i crash and go into deep depress one last tri with latuda increas the dosag to 80mg next week\n",
      "celexa work realli well for me in term of stabil my mood i actual felt realli happi and thought with clariti for onc but i had to stop take it becaus the side effect are just extrem unpleas i wasn t abl to achiev an erect and if i did i wasn t abl to orgasm i also had this sedat like feel my bodi temperatur would increas but i also felt emotionless at the same time if that make ani sens i found it hard to respond to my partner emot everyth was just on a cloud for me someon could have insult me and i would have been alright with it\n",
      "errors: 245\n"
     ]
    }
   ],
   "source": [
    "err_cnt_2 = 0\n",
    "for i in range(0, len(y_test)):\n",
    "    if(y_test[i]=='Bipolar Disorde' and mnb_2_pred[i]=='Depression'):\n",
    "        print(X_test[i])\n",
    "        err_cnt_2 = err_cnt_2+1\n",
    "print(\"errors:\", err_cnt_2)"
   ]
  },
  {
   "cell_type": "markdown",
   "metadata": {},
   "source": [
    "**Bernoulli**"
   ]
  },
  {
   "cell_type": "code",
   "execution_count": 64,
   "metadata": {},
   "outputs": [],
   "source": [
    "bool_bnb = CountVectorizer(encoding='latin-1', binary=True, min_df=5,stop_words='english',lowercase=True,ngram_range=(1,1))"
   ]
  },
  {
   "cell_type": "code",
   "execution_count": 65,
   "metadata": {},
   "outputs": [],
   "source": [
    "\n",
    "# Initializing the BNB model and using the training data to train the BNB model\n",
    "\n",
    "from sklearn.naive_bayes import BernoulliNB\n",
    "X_train_vec_bool = bool_bnb.fit_transform(X_train)\n",
    "be_clf = BernoulliNB()\n",
    "bernoulliNB_clf = be_clf.fit(X_train_vec_bool, y_train)"
   ]
  },
  {
   "cell_type": "code",
   "execution_count": 66,
   "metadata": {},
   "outputs": [],
   "source": [
    "X_test_vec_bol = bool_bnb.transform(X_test)"
   ]
  },
  {
   "cell_type": "code",
   "execution_count": 70,
   "metadata": {},
   "outputs": [
    {
     "name": "stdout",
     "output_type": "stream",
     "text": [
      "\t-7.4662\t025            \t\t-1.7558\tweigh          \n",
      "\t-7.4662\t1000x          \t\t-1.7426\tappetit        \n",
      "\t-7.4662\t100mcg         \t\t-1.7232\tbecaus         \n",
      "\t-7.4662\t100mgs         \t\t-1.7232\tdiet           \n",
      "\t-7.4662\t100x           \t\t-1.7137\tdon            \n",
      "\t-7.4662\t102            \t\t-1.6732\ttri            \n",
      "\t-7.4662\t105lbs         \t\t-1.6551\tloss           \n",
      "\t-7.4662\t10mgs          \t\t-1.6083\tmedic          \n",
      "\t-7.4662\t10s            \t\t-1.5829\tcontrav        \n",
      "\t-7.4662\t10yr           \t\t-1.5527\tveri           \n",
      "\t-7.4662\t110lbs         \t\t-1.5446\tpill           \n",
      "\t-7.4662\t113            \t\t-1.5366\ttime           \n",
      "\t-7.4662\t117            \t\t-1.5340\thelp           \n",
      "\t-7.4662\t117lbs         \t\t-1.5234\texercis        \n",
      "\t-7.4662\t119            \t\t-1.5104\tlose           \n",
      "\t-7.4662\t1200mg         \t\t-1.4260\tve             \n",
      "\t-7.4662\t123            \t\t-1.3481\tjust           \n",
      "\t-7.4662\t125lbs         \t\t-1.3156\tonli           \n",
      "\t-7.4662\t125mg          \t\t-1.2987\tlbs            \n",
      "\t-7.4662\t128            \t\t-1.2476\tfeel           \n",
      "\t-7.4662\t12mg           \t\t-1.1509\tpound          \n",
      "\t-7.4662\t131            \t\t-1.1365\twork           \n",
      "\t-7.4662\t132            \t\t-1.1049\tmonth          \n",
      "\t-7.4662\t133            \t\t-0.9094\teat            \n",
      "\t-7.4662\t135lbs         \t\t-0.8277\teffect         \n",
      "\t-7.4662\t142            \t\t-0.7717\tweek           \n",
      "\t-7.4662\t143            \t\t-0.7293\tday            \n",
      "\t-7.4662\t144            \t\t-0.7210\tweight         \n",
      "\t-7.4662\t147lbs         \t\t-0.6539\tlost           \n",
      "\t-7.4662\t149            \t\t-0.6214\tstart          \n"
     ]
    }
   ],
   "source": [
    "show_most_and_least_informative_features(bool_bnb, be_clf, class_idx=7, n=30)"
   ]
  },
  {
   "cell_type": "code",
   "execution_count": 62,
   "metadata": {},
   "outputs": [
    {
     "name": "stdout",
     "output_type": "stream",
     "text": [
      "[[ 381    1   28    4    2  137    8    1  102    3]\n",
      " [   0 1007    2    1  123    9    0    0   45    1]\n",
      " [   1    0  797    6    2  338   39    1  150    1]\n",
      " [   2    1   65  366   10  290   16    4  126    1]\n",
      " [   0   41   13    1 5176   41    1    1   73    0]\n",
      " [   3    1   99   25   11 1547   20    4  173    4]\n",
      " [   0    0   35    6    0   68  591    0  180    0]\n",
      " [   0    0    6    2   16   52    1  360   64  201]\n",
      " [   0    0   13    0    0   22    4    0 1284    0]\n",
      " [   1    0    5    0   16   51    1  214   53  481]]\n"
     ]
    }
   ],
   "source": [
    "\n",
    "# print confusion matrix for BNB Algorithm\n",
    "\n",
    "y_pred = bernoulliNB_clf.fit(X_train_vec_bool, y_train).predict(X_test_vec_bol)\n",
    "cm=confusion_matrix(y_test, y_pred)\n",
    "print(cm)"
   ]
  },
  {
   "cell_type": "code",
   "execution_count": 63,
   "metadata": {},
   "outputs": [
    {
     "name": "stdout",
     "output_type": "stream",
     "text": [
      "accuracy : 79.76 %\n",
      "recall : 79.01 %\n",
      "precision : 69.59 %\n",
      "f1 score : 71.88 %\n"
     ]
    }
   ],
   "source": [
    "metrics(y_pred)"
   ]
  },
  {
   "cell_type": "code",
   "execution_count": 50,
   "metadata": {},
   "outputs": [
    {
     "name": "stdout",
     "output_type": "stream",
     "text": [
      "                 precision    recall  f1-score   support\n",
      "\n",
      "           ADHD       0.92      0.78      0.84       667\n",
      "           Acne       0.95      0.86      0.90      1188\n",
      "        Anxiety       0.73      0.65      0.68      1335\n",
      "Bipolar Disorde       0.79      0.67      0.72       881\n",
      "   BirthControl       0.97      0.96      0.97      5347\n",
      "     Depression       0.71      0.73      0.72      1887\n",
      "       Insomnia       0.80      0.81      0.80       880\n",
      "        Obesity       0.60      0.61      0.60       702\n",
      "           Pain       0.66      0.96      0.78      1323\n",
      "    Weight Loss       0.69      0.59      0.64       822\n",
      "\n",
      "       accuracy                           0.82     15032\n",
      "      macro avg       0.78      0.76      0.77     15032\n",
      "   weighted avg       0.83      0.82      0.82     15032\n",
      "\n"
     ]
    }
   ],
   "source": [
    "\n",
    "# print classification report for BNB\n",
    "target_names = ['ADHD','Acne','Anxiety','Bipolar Disorde','BirthControl','Depression','Insomnia','Obesity','Pain','Weight Loss']\n",
    "print(classification_report(y_test, y_pred, target_names=target_names))"
   ]
  },
  {
   "cell_type": "code",
   "execution_count": 51,
   "metadata": {},
   "outputs": [
    {
     "name": "stdout",
     "output_type": "stream",
     "text": [
      "i am a 23 y o femal and i start take adipex about 2 year ago i start at 310 and i current weigh 209 0 in those 2 year i took adipex about 4 differ time the last time i took it was in decemb i have stop use these pill becaus a continu of them can have side effect on your heart and liver they were amaz and definit help boost my weight loss i experienc fast beat heart mood swing and main dri mouth i had dri mouth the last time i took it but i think it was a pretti good side effect becaus i drank so much water i have maintain my weight loss becaus i chang my lifestyl i now eat healthier and exercis 4x a week i have gain muscl so my weight is up i recommend these pill\n",
      "just start take phentermin 6 18 16 the first day i thought i was gonnapassout from side affect but after 3 day i feel good lot of energi and decreas appetit i have experienc the dri mouth and i never realli drank water befor so this is good for me anyway i am 5 0 and weigh 164 lbs sinc im so short it consid obes but im take in 1200 cal a day or less and work out crazi havent check my weight yet but hope ill see some result soon\n",
      "i began take contrav almost 9 month ago i am 5 4 quot and start at 175 lbs i got on the scale this morn i rare do now to avoid obsess and now weigh 144 lbs this is a big deal for me i have tri everyth and noth work the first month was absolut hell but if you push through it will work my appetit is less and i feel full much faster the contrav control my eat as i clear cannot i go from hungri to beyond full veri quick and it last crucial good luck all\n",
      "qsymia work for me it is true it make you thirsti and make diet soft drink tast like brake fluid total kill my crave for sweet the good news i was close in on the 300lbs mark less than two month later almost at 260 lbs i am a weight watcher so i have an accur record of my weight loss also i go to my local ymca and workout six day a week\n",
      "i have been a big bone guy all my life 5 quot 9 227 pound high blood pressur cholesterol and bad joint pain sinc my earli teen i have been bigger then most boy my age in everi grade i am now 34 year old and have tri just about everi diet known to man without and sustain success four month 36 pound down and feel great easi to use minim side effect and maximum easi weight loss my joint are feel better and 35 pound to go befor i hit my goal i don t feel depriv and yes food still tast veri good but i just voluntarili eat smaller amount real success real life\n",
      "i had gain 100 pound over the last 4 year due to have my son and hormon imbal and noth has work in the past i m current on the 15 day free trial and i was veri suspici of a drug like this howev i am on day 13 and i have lost a total of 11 pound in just under 2 week i cannot be happier i did not have ani of the symptom list on some of the other post dizzi headach ect i do have a littl bit of dri mouth which just forc me to drink more water my insur doesn t cover this but i have the 75 copay card which is a god send becaus the medic is usual well over 200\n",
      "i took phen 37 5 earli 2016 and lost almost 35 40 pound felt realli great but then my doc ask me to stop take it now in last six month i ve gain everyth back start my phen from today again but feel too dizzi and nauseous hope this won t last for long good luck everyon\n",
      "i have been take 10mg sinc nov 5 2009 i have gone from 203 177 i went off for two week this past month and i have not gain but have stay the same dure my time off howev i had time of high anxieti and irrit especi when start the medic again my blood pressur and puls rate have been fine i have had some constip problem i think my dr will rais my dose to 15mg at my next appoint my goal weight is 150 i feel so much better it has help with mild depress as well good luck\n",
      "i m 5 9 i start take this medic 11 14 i weigh 315lbs i want someth to help guid me in the right direct when i start i made a commit to myself that i would go paleo which i did i also exercis 2 3 time a day now 7 month later i ve lost 190lbs i can t tell you how much this medic has help me save my life not onc dure these 7 month have i had anyth sweet i drink noth but water not to mention stop take a pill everyday and take one everi few day my doctor never put me on anyth higher than the 7 5mg bc i lost weight so rapid i have no desir for anyth bad to eat with or without the medic the onli bad thing i can say is that i have a ton of excess skin\n",
      "58 year old male 6 foot 235 pound high blood pressur and cholesterol three month experi 22 pound and feel fine sill want to lose 30 35 more but need to get off the couch and exercis my problem as the diet part is easili manag now thank for the help and send me on my way\n",
      "i have been on belviq for 9 day now and have lost 7 lbs the first day i had a sever headach and some dizzi i onli took one pill that day my headach and dizzi went away onc the pill wore off start again the next day and no headach so i kept go and took the two pill that day i have had no side effect sinc that first day it doe curb my appetit and i haven t been hungri i am use my fitbit and the myfitnessp app to keep up with my exercis calori and water intak i need to lose around 65 pound belviq cost me 75 a month i got the discount coupon from my doctor updat one month 15 pound down no problem at all it s work for me\n",
      "i ve been on saxenda for three month and the follow are item i ve learn and you may find help the veri first thing you should do is regist with saxendacar the compani has a dietitian and nurs to help you through your weight loss journey track your eat with an app such as myfitnessp note nutrit be mind when you are feel the side effect to decid when best to take the medic did you know it has a full effect after 12 hour eat smaller meal more often drink lot of water and limit high fat food and sugar lace food let your stomach finish digest your food befor go to bed becaus anoth side effect is acid reflux meet with your doctor on a regular basi and have blood work to monitor\n",
      "stick with it i didn t realli start see result to about the second month you have to rememb it not a magic pill though it doe curb your appetit for carb and sugar i m in love with candi i found myself not even want quot junk food quot for a snack my advic is start do some exercis exampl 100 jump jack 100 squat and 100 sit up i was at 185 at the start now i m at 174ish that s about 10 pound in a month so that s right on a healthi track oh and drink onli water it realli help as the say goe quot don t complain about not make ani progress if you don t put forth ani effort quot\n",
      "start saxenda 3 week ago first week slight nausea a littl dri mouth need to increas fluid more than like i have struggl my whole life with my weight even start process for gastric sleev and back out at the end i have lost 14 lbs in 19day 1800 calori diet most day under that i don t feel hungri don t crave sweet like i did and diet coke make me nausea i am veri hope the warn for thyroid cancer doe somewhat alarm me but plan mayb to stay on saxenda 6 month to 1 year i start 3 mg in 2day i have be impress with result\n",
      "i start take adipex on jan 1 2014 until feb 1 2014 i lost 30 pound even i did onli 30 minut of cardio a day that was just brisk walk my side effect were cotton mouth extrem loss of appetit i lost my ass i had extrem energi couldn t sleep i was veri focus i had a pleasant attitud but quick irrit fast heart beat blurri vision everi now and again my doctor told me that with adipex it help you curb your hunger but when you work out it burn doubl calori i was 180 and went to 149 whe i stop the weight never came back and it becam hard for me to eat as much as i use to i got pregnant and had a babi jan 29 2015 i am 180 pound as of 2 4 17 and i start adipex again same symptom and i m lose a lot again\n",
      "i start on 8 24 15 as of today 9 6 i have lost 10 lbs just under 2 week i onli take half a pill which is just fine for me i have veri littl appetit i forc myself to eat i m stay under 1200 calori per day more like 800 my crave for sweet are gone this is strang for me becaus i love sweet i m not eat ani bread or drink ani soda lot of water fruit veggi salad and protein i have not exercis yet but plan to soon i could not sleep the first few day and dri mouth is start to kick in it s toler my goal is to lose 60 lbs by the end of the year\n",
      "i start take phentermin 15mg 4 16 15 today is 4 20 15 and alreadi lost 7lbs highest weight 361lbs now i am 354lbs onli side effect is dri month so i have been drink more water stop drink soda and eat my favorit chip i will give you guy updat in may when i go in for my month check up to see how much lost\n",
      "start march 1 2015 and i m down 8 pound in 8 day march8 2015 i haven t chang my eat habit much i just find myself get full quick i never experienc ani side effect from take belviq and i just take 1 a day i will you you guy post with my outcom\n",
      "been take phentermin 37 5 mg sinc april 14 2017 sinc i m morbid obes my weight was 258lb and i m now 237lb that a total of 21 lbs down within a month i walk everi even for 45 minut and stay away from high sugar drink bread and greasi fatti food my goal is to lose anoth 40lb by august 15 first week on it i lost 8lbs then follow week anoth 5 then went down to like 4 lbs the follow two week i still see it as realli good went from a jean size 20 to a 16 now i have been receiv week b12 shot for energi that realli help me to stay energet and activ definit a good pill for weight loss\n",
      "i have been on qsymia for 13 day and down 14 pound great result\n",
      "i am now exact one month in my start weight was 301 and i am now at 278 hooray the onli side effect i still have are dri mouth nasti tast in my mouth and jitter from time to time i will updat again in one month\n",
      "start belviq a littl over 4 week ago tri phentermin in the past and i would lose weight but also not sleep belviq has been awesom i have lost 10lbs in 4 week i have hashimoto s diseas so even at that slower rate i am elat i can diet for month and not lose ani do get dri mouth and a littl sleepi at time but i am usual not hungri and have to remind myself to eat i am full with less food and don t have the quot i have to have right now quot crave pretti awesom\n",
      "i have been on belviq for about a week i must say i got sick right away and felt aw for about 4 5 day it was a combin of get a cold cough and take the belviq i believ the side affect have been gone for two day and i feel great food doesn t even look that good and when i do eat someth it is veri easi to eat half or a third of what i normal would like other have said willpow in a bottl i will updat in a few month\n",
      "i wait to start until today sinc i am off work today i ve never been on a prescript befor outsid of antibiot for cold flu etc i didn t feel anyth until around an hour my throat got extrem dri and i had an insati thirst i drank glass after glass of water for at least two hour i also had to use the restroom everi 10 15min which is a concern for day i have to work i drive long distanc for work at the second hour i had a crazi burst of energi and start deep clean my entir hous after i finish i felt tire so i laid in my bed i was in it for 30 45min but could not go to sleep i got up and ate two pizza slice which is normal for me i guess it take a while befor your appetit is suppress\n",
      "i have battl with my weight my entir life with that be said after weigh in at 296 pound on my doctor appoint almost 4 month ago my doctor recommend contrav i read about the possibl side effect but decid i need to tri this for me my health and my 6 year old son i did not experi ani negat side effect the first month of be on contrav i onli lost 5 pound my second month i lost anoth 5 pound i must admit i was frustrat my calor intak had been reduc drastic then after the third refil the weight start drop off i honest i can t wait to go to my doctor appoint this month i weigh in today at 270 portion control is so easi crave are complet gone i love it\n",
      "southern big boy 5 9 247 and felt like a slug i use to be a weight lifter but at 48 year old those day are gone i had gone to my opthamologist and he sent me back to my regular doc the doc told me i was in the diabet rang and need to to go on metformin he had some patient take belviq for weight loss and suggest we tri that first to see if lose the weight might help my sugar as well as other issu one year later we my wife and i are happi to report 45 pound gone as well as my bad blood sugar the stori is not all perfect as there were time when i thought my weight loss had stop but my doc said your bodi reset and you should continu to lose weight i am final abl to walk without knee pain and feel like my stori ea\n",
      "i m on my 3rd day with contrav i notic some dizzi hot flash which i didn t know was a side effect i can t realli tell if my appetit is suppress sinc most of my prior over has been stress relat so i m figur out the differ between real hunger stress hunger i previous took adipex for 9 month and lost 40lb befor it quit work then gain 21lb back when stress level sky rocket on my job they re still high but i realli hope contrav work i hope to lose 30 pound noth yet but it s earli in the game\n",
      "on week 3 and a half have learn most my side effect are from be hungri from forget to eat caffein withdraw from no longer need 6 cup a day for a bit of energi now i eat small amount of healthi food that tast so good to me and dont make me feel sick food i use to eat now make me nauseous i have plenti of energi small amount now give a full feel i enjoy slow eat now and all the tast i got dri mouth at first but now don t as i drink water like everyon say you should onli now i enjoy it i was irrit the first two week but think that was the caffein withdraw no longer need a secret sugar or pasta fix either lost 12 pound first two week each day lose 1 3 pound\n",
      "i m 21 year young i start take phentermin in decemb of 2016 i weigh in at 287 lbs today i weigh 229 pound i m on a 40 carb 1 200 calori diet drink onli water and my snack are nut or beef jerki i work out 4 time a week for a hour with intens cardio i also work in the fast pace or so i don t have time to think about snack i m happi with my result i m continu to take phentermin for anoth month or so and then i ll be on my own use just the knowledg of what s right and wrong yes i did cheat twice throughout my diet and each time afterward i felt so disappoint and like it wasn t even worth it\n",
      "i was take 400mg daili for chronic migrain depress and weight loss it s veri import to build up slowli otherwis the side effect can be extrem i lost around mayb 50lbs while on it when i got up to 300 400mg i start to have memori problem and sleep issu after a while i felt like it had stop work and drop it but that could have been from me forget to take it memori issu rememb it take a few week to a few month for the side effect to fulli wear off i start at 235 or 245 and went down to 185 i m now back up to 200 i haven t exercis in year and i didn t chang my diet i probabl don t eat as healthi as i should\n",
      "i start phentermin februari 27 sinc then i have cut out liquor soda and juic i am onli drink water my calori count is down to 900 today so far my symptom have been general extrem cotton mouth and get jitteri my appetit has total becom suppress my start weight was 218 my goal weight is 165 i will be post my weight by month as i see my doctor i notic my urin is now clear my face normal has acn and i m start to clear up and all of my friend have been tell me i look like i ve lost weight so hope by the time i see my doctor i will be down 25 pound\n",
      "i have been on belviq for exact 2 month now i am a 43 year old male but was start to feel like i was 75 year old in 2 month i lost 42 lbs and am averag about 1 5 lbs everi 2 day i was 329 lbs at the start and alreadi can feel the differ along with belviq i chang my eat habit and although i have not start exercis yet gotta drop some more befor i start that i feel like a new person i can do thing like go up a flight of stair without lose breath someth i couldn t do befor i read a lot of peopl have differ success or no success with this drug but i thank my doctor for allow me to tri this and not do the bypass surgeri he had origin want to do good luck to everyon\n",
      "i ve been take this for just 8 day and it work i am 5 8 and weigh 79 3 kilo at my height when i weigh myself day befor yesterday i weigh 77 2 these pill work becaus they forc the fat out of you and if you eat bad food they don t care where you are or what you re do at that second you will sh yourself i have a fitbit and have been make myself walk back from work 25 min each day so togeth with normal day walk also averag 5 6 mile so lost over 2 kilo without a lot of effort in just over a week these realli work i ll be buy some more until the beer belli that haunt my late twenti is slay and i can see my ab again\n",
      "so i ve been on it 4 day i m starv becaus i m on a 1 000 cal diet with it the suppress appetit hasn t kick in yet i d say i ve probabl lost some water weight most becaus i m drink so much water to keep from starv i went through cmwl at the recommend of anoth doctor and becaus i ve gain about 50 lbs in the last year some of them were that boyfriend belli then i got that break up belli now i m 33 5 5 263 lbs and i just have to make a chang i ve final reach the point where i don t want to be like this forev i was alway around 200 and okay with that but i can t anymor i don t even want to look in the mirror so i m readi to get over the side effect\n",
      "i just start this on 6 6 15 the first 2 day i actual gain 4 ounc but now on day 5 i m down 3 8 lbs so far i have zero side effect i drink a protein shake then a full glass of water then i take the pill with anoth full glass of water and continu to drink i think this is help with have no side effect someth in your stomach first and keep hydrat i go to the gym 5x a week so i m hope this pill help in the long run get this weight final off 3 8 lbs i just lost took me almost 3 month to lose previous with onli diet exercis and i gain it back within 2 week my bodi is definit chang with age anyway so far i love this pill and i hope everyon els benefit from it too\n",
      "i took this medic for 5 month from april 2012 through septemb 2012 i use this medic as a tool i chang my lifestyl and thought of this pill as one toll to assist in my lifestyl chang i start at 178 pound and i met my goal weight of 115 pound in decemb of 2012 it is now sept 2013 i have maintain my weight this is not a miracl for last result you must eat right workout and keep a healthi lifestyl it was wonder in assist me if you do not do the work as soon as you go off the medicin you will gain the weight back\n",
      "i am take phentermin 37 5 mg onc a day it has been the onli diet pill to actual suppress my appetit without an actual upset stomach i just feel normal instead of feel addict to food been watch what i eat and work out at least 30 minut a day i have lost 10 pound in the first 9 day cant wait to see where i go from here onli a littl scare becaus i might becom addict\n",
      "i am 21 year old have struggl with my weight my entir life and have never been abl to lose weight until now for context i have pcos and virtual no metabol so even when i was an athlet eat well and work out up to 4 hour a day i was still heavi when i start contrav i weigh 210lbs it has been around 4 month and i am down to 184lbs for the first time it feel like i am get result with the same thing i d been do for year i didn t chang the way i eat i just ate slight less and keep a relat moder exercis schedul and the weight practic melt off the onli side effect i had was cotton mouth but hey good way to drink more water and even that went away onc i was up to 4 pill a day\n",
      "43 yr femal 5 5 quot 238 lbs take qysmia sinc dec 23rd start low dose free one down 6 lbs have been eat noth but snack food not realli hungri but my mind keep tell me to snack extrem thirsti soda tast gross which i expect becaus i use to take topamax for migrain a few yrs ago i drink ton of water littl emot extrem tired midday earli even then a burst of awak toward late night mayb has someth to do with when i take the med none of the side effect are too concern to me can t wait to actual start eat healthier at home so i can do some serious weight loss the con to me is the cost\n",
      "updat rememb i start on april 9th at 221 6lbs today i am 207 4lbs this product is work for me i forgot to add in my first post that i get the sweat side affect with ani kind of physic exert i begin to sweat a lot i have read on other side affect site that peopl experi this i am on other medic that caus this too but the contrav exacerb it this is my main complaint about the drug and would be the onli reason for myself to discontinu howev it is work so well that i am will to deal with it to reach my goal so if i need to go somewher or be around peopl i just make sure i haven t been do thing around the hous or get too stress out to activ that sweat side affect\n",
      "dec 23 my doctor had me start this my first week i experienc all the symptom and lost 5 lbs in three day i had to forc myself to eat and i couldn t sleep i seem to have adjust now but have gain the weight back i m confus sinc i work out hard 5 to 6 day a week i eat less than 2000 calori a day i feel like i would starv at 1200 like i see most of you post should i be restrict to 1200 my doctor didn t mention this to me on a posit note i do feel more energ when i work out i feel like i don t want to stop exercis my doctor prescrib this for me to give my metabol a boost i ve lost 70lbs w o the pill but haven t lost anyth for 6 month been at the weight mayb i need to have it a month\n",
      "i was sever obes and didn rsquo t know what i was do to myself i was basic kill myself or eat myself to death i was 400 lbs when i start this med i notic an instant chang in not onli what i was do to myself but it gave me energi i didn rsquo t have it sort of woke me up and made me realiz what i alreadi knew that i didn rsquo t like what i saw in the mirror that was almost 10 year ago today i am my ideal weight for my height 130lbs and i could not be happier i have lost the weight and kept it off\n",
      "i have been take it for almost 2 month now and i lost 9 lbs the first month and had a lot more energi and the second month i haven t lost anyth and no energi i have had constip cramp and dri mouth and insomnia i have to go to the doctor onc a month for a check up and a new prescript my goal is to lose 30lbs but at this rate i am not go to make it i walk 3 mile a day at a brisk walk and do a cardio work out 3 time a week but can t seem to lose the weight like everyon els who have comment on this board\n",
      "i start on this april 22 2016 i m 32 and a mom of 2 5 4 start weight was 272 i sit at a desk 8 hour a day i love to eat i have tri everyth except surgeri spent lot too i was alway hungri this medicin has help me to stay on track with a calori goal of 1500 or less most day i bought a fitbit and after work i ve onli had between 3200 and 3800 step so we go on walk and my daili averag is 11 000 i start jog a littl bit everi other day we do tone about 30 min and we get the kid involv too i have lost 40lbs befor but it took me 9 month and live at the gym as of today i have lost 42 lbs 230 weight it has been 13 week and not slow down dri mouth yes but is cool for my result\n",
      "i had the gastric sleev surgeri when my weight reach near 300 lbs on my 5 1 frame and i was desper for an intervent after the sleev with diet and exercis i got down to 208 but then i just stay there for month it start to seem hopeless and my sweet addict return found myself eat sweet again a fellow gastric sleev patient told me she was take qsymia to help with her sweet crave and i should tri it went to my doc and after discuss he opt to put me on the 3rd level dose rather than start me off slow first day i did have tingl sensat did have lot of energi and still do onli been 2 week no hunger yes dri mouth onli side effect i have no sweet love qsymia scale is move again\n",
      "ok here is an updat i am into the last 2 day of the first 30 day on qsymia 3 75 23mg i was 233 and now down to 215 i have more energi and did chang my eat habit and i am exercis more this medic doe curb your appetit and you do not realli crave sweet which was a problem for me the dr was excit to see the result i just saw him and i went down 1 point on the bmi scale and he has up the dose to the next level i shall report back to see if there are ani side effect with the higher dose in refer to the cost my deduct was up to 200 then after that i pay onli my copay which is 50 00 a month there are websit that offer coupon for this med so pleas do some research like it did i got 2 week free\n",
      "i have been use qsymia for a littl over 3 month i have lost 50 pound i m 30 have 1 child and couldn t lose weight no matter how long i stay in the gym there is no magic pill that work for weight loss without diet and exercis you need to do these thing to see these type of result i will say in the begin my side effect were aw i alway felt tire but i push pass that and it went away i have sinc gone off my blood pressur medicin as well i would recommend follow close with your doctor if you are on bp med though becaus my blood pressur drop so quick i was faint not from qsymia but from get healthi so fast\n",
      "i am a 36yr old mother of 4 and i start take contrav yesterday and initi i felt noth until i start move around i becam veri jitteri then extrem clammi and hot my mouth start to water and i threw up all over the place to say it made me nauseous is an understat i thought mayb it was becaus i ate a light breakfast befor take it so i took it again this morn after a decent breakfast and as i m type i m go through the exact same symptom as yesterday i m go to discontinu use this as much as i was hope i could continu to help with my weight loss the symptom are too harsh for me to continu\n",
      "i start this medic for weight loss on 01 15 10 and today is 02 14 10 i am a femal age 22 and start out at 227lbs and i am down to 210lbs that s 17 lbs the first day i took this medic i could not believ my lack of interest in food howev the first 2 day on this medic i had a horribl headach bad tast in my mouth and extrem dri mouth symptom did go away after 2 day so that was the good part i exercis about 2 day a week at this time i would suggest to team up with your dr with this so he can keep an eye on your blood pressur wt loss heart rate etc this medic has start to wear off recent but my eat habit are on the right track other than that this medic is amaz\n",
      "i was get frustrat with do a lot of exercis and eat right but not lose weight diabet run in my famili i decid to make one last attempt at ask my endocrinologist for someth to help as i had ask a few drs befor but they would say say exercis and cut your calori anyhow i got given the saxenda i had some mild nausea in the begin i ve lost 13 pound in 1 month i still exercis and eat healthi howev i did not exercis much 1 week onli 3 time and still lost weight for me it work great suppress my appetit a littl tired but worth it now i m just worri about maintain my weight loss that s the hardest part will have to talk to dr about it when i get there\n",
      "i am start my third week on belviq i am down almost 7 lbs side effect at first were feel veri tire feel cold and dri mouth i still seem to have low energi and can t seem to exercis with the strength i had befor none are bad enough to quit at this point it has total diminish my appetit and crave for carb that alon is worth the 200 mo i am current pay\n",
      "i am 45 yrs old and start contrav in novemb 2016 i have lost 25lbs which has been a wonder and slow weight loss but in the past month i have been experienc sever heart flutter and dizzi spell i had an ekg dure one of these spell and it came back abnorm so now i am see a cardiologist noth els has chang in my life and my pcp and cardiologist are awar that i am on contrav and have not suggest i stop the drug i have been to the er onc for an episod and all lab came back great i had anoth larg episod last night so i am go to stop the contrav for two week until i have to follow up with my cardiologist again to see if this make a differ\n",
      "i ve been on 30mg phentermin for 42 day and has lost 31lbs i got 42 more day on the pill hope i will be at or close to gw notgivingup sw 274 cw 243 gw 200\n",
      "amaz i have been take onli 50 mg of this for 8 week i have lost 31 lbs 3 size i don t feel racey or speedi or weird i feel good if i miss a dose i don t feel it miss it for 4 day and didn t gain ani weight i am also eat realli well and exercis i recommend this if you have tri other thing and they haven t been success i am a 31 year old mother of 5 noth els work this is my miracl\n",
      "june 8 start med at 247 lb ad exercis and healthi food not a fast food restaur ever today dec 15 i am at 167 lb it work\n",
      "june 18 2017 i start take contrav at the end of januari 2017 in the middl of march i ad two garcinia gambogia 95 and 3 tablespoon of appl cider vinegar mix with ani fruit juic on a daili basi i am femal and start out weigh 213 pound as of today i have lost 26 pound this weight loss medicin has help me tremend and i am look forward to the next few month if you are consid this medic be sure and look for the half price coupon it will save you lot of good luck\n",
      "i am a 34 yr old femal 5 5 quot start contrav with scale down program on march 3 2016 start weight 231 today june 21 2016 weigh in at 189 start pant size 18 today a size 10 i have pcos with insulin resist i cannot take the full dosag of 4 per day as it is increas protein in my urin i onli take 1 per day in the morn i had no side effect when i start this medicin i do not exercis onli increas my daili activ i use the my fit pal app from underarmour i tri to get 10 000 step per day and stay below 1200 calori per day so far i am amaz with my progress and stun that i have made it this far with onli one pill per day i would definit recommend\n",
      "i need to lose about 20 pound my doctor was on contav and lost 30 pound i start take contrav and within less than 24 hour was experienc headach jitter sleepi dri mouth and was veri letharg i usual don t experi side effect with new medic so i continu take this for 1 week didn t get ani better and stop take altogeth\n",
      "i love belviq i start on jan 15th today is the 19th and i ve gone from 371 8 lbs to 364 1lbs i ve been eat a littl healthier and have had a major decreas in appetit i can t wait to see what i accomplish the next 6 month i ve had no side effect\n",
      "i start take bontril 105mg for about 4 day and haven t weigh myself yet i use to take this pill about 4 year ago and lost around 30 pound but then stop take them when my former doctor stop prescrib diet pill it was until a co worker refer me to a new doctor and i am complet happi with him he first gave me adipex but after 2 month with no weight loss result he chang me to bontril last week i am confid and happi that i am back to this pill and more than sure that it will work i am 157 and 5 quot and my goal is to lose 35 pound befor my 20 month old birthday\n",
      "hi guy i been take contrav sinc 2 23 16 start off at 243lbs and i m 5 1 quot i have lost to date 9 8lbs 233 2 lbs and i think the low carb diet had a lot to do with the weight loss in 9 day too today i start do an hour cardio at the gym i couldn t believ how quick it went by i think im get a boost of energi from the med so far no side effect im now on my 2nd week of med 1 in the morn and anoth one in the even hope this will keep up i also use my fit pal app to keep up with my diet and it s help a lot as well the medic was not cover by my insur and it was go to be 150 but i sign up for the discount card which was great it save me 95 plus a got a free scale from contrav\n",
      "been on this medicin for a month and had lot of troubl had palpit and heart hurt high blood pressur and don t know if i should stop take this drug lost 20 pound alreadi\n",
      "i start belviq 8 day ago i did experi dizzi headach and tired for the first few day but now i m back to normal and down 8 5 pound what s even better is that not onli is my appetit gone i also get full veri quick so even when i m not eat as healthi i onli get between 1 4 and 1 2 if even which mean i still lose weight\n",
      "i start take this medic on 4 6 10 and have so far as of today have lost 10 lbs i love it for the first time i did experi the heart palpit which scare me a littl bit the next day they were gone i would recommend this medic to anyon my goal is to lose 50lbs and i will agre my focus is great and i have not experienc ani jitter or problem fall asleep my doctor has me take the medicin on a time schedul which is at 1pm then 4pm and last at 7pm with a b12 shot everi 2 week i have experienc dri mouth but i just up my water intak sinc i am not a big fan of water i do not eat ani high calori food at all i onli eat chicken breast deli about 3 slice with some vege and have water\n",
      "i start belviq on march 19th one month later i lost 6lbs i believ the pill work to curb your appetit but you do need to also have some will power i also suffer from pmdd which make me moodi and caus me to overeat if not for this i think i could have lost more weight my insur bc bs cover it i onli pay 25 copay also i take it onc a day around 2 3pm becaus 2 a day is way too much for me becaus it make me exhaust i need to lose 40lbs i have incorpor walk over 3 mile each day the first coupl of day of take the pill i did have migrain and tension in my shoulder take alev with the belviq help and then the symptom subsid i wish you all good luck with this it work\n",
      "i start adipex on may 26 i weight myself i lost 12lbs this pill work great i don t even think about snack bread are soda\n",
      "i work at endocrinolog clinic and there i have seen crazi stori about adipex from 191 lb in 1 year to 30lb a month so i said to myself i m go for it in first 3 day i am 4lb down i have plenti of energi i do have a dri mouth and one time after i stood up from the bed i felt dizzi now my post is more for the peopl who are take it plz take 1200 cal per day if you take less you will have jitter and you would start doubt the med and yes i push myself to eat becaus i want to eat but i eat small portion from day one i want to adjust my portion alway small portion after 1 month after my med finish i will continu small portion and wont pass the 1200 cal good luck\n",
      "hi this is week 8 on phentermin 30mg i have lost 37lbs last doctor visit is 9 22 and that will be 3rd and final refil sw 274 cw 237 gw 200 andjourneycontinu\n",
      "38 yoa male start dec 2015 at 238lbs april 2016 at 196 lbs that s down 42 lbs my metabol is super slow i m eat around 1000 calori a day in order to see movement i workout 4 5 xs a week for 45 min a day i log my calori with the lose it app and weigh everyday with scaledown i have not experienc ani side effect other than color be brighter\n",
      "i start take a half of a pill today i ate veri littl the energi is great the onli thing i am notic is that i am not abl to sleep and i am tire also a bit of dri mouth my goal is to loos 45lbs so i can have a surgeri that i desper need if i can take more weight off that would be fabul\n",
      "i ve been on his drug for about three week now i m on the 1 8 mg current and have lost about 14 pound the onli side effect i ve experi was a littl nausea and some fatigu i can t believ i final found someth that seem to be work i m not hungri all time and is veri satisfi with the small portion of food i have a lot of dri mouth issu but glad i do i ll be abl to take in more water which is what i struggl with i need to lose in addit 35 pound to get to where i need to be i m confid that this miracl drug will help do the trick\n",
      "just start take the 75 mg tablet daili about 3 day ago alreadi have drop 5 pound after just be on a normal diet of not eat as much and lose 85 pound without the pill i have found that it make my crave complet go away and i have to make myself eat i could go all day without eat if i want but you can t lose weight unless you eat someth onli negat side effect were intens dri mouth a littl bit of a headach which tylenol can take care of and my blood pressur sky rocket a bit\n",
      "i start take orilstat 4 week and 2 day ago as advis by my doctor i have 5kg so far i exercis 4 time a week rough 8 hour in total the tablet have work for me they do have side effect but i was warn by my doctor combin with reduc calori intak and exercis these tablet work\n",
      "i start contrav on monday and it is now saturday i have lost 4 8 lbs to me that is absolut amaz as i am hypothyroid and have not lost more than a pound or 2 in the last 8 year i am pray that this continu to work i want to lose 50 lbs so i can be around to watch my children grow up i have been so miser for so long and felt noth would ever help me i am love this drug i am struggl with a few side effect dizzi race heart and troubl sleep the dizzi goe away when i drink water so i think my bodi is just keep me hydrat the race heart is usual when i sleep i will talk to my doctor about that all in all though i now have hope which is more than i ve had in a long time\n",
      "i start take qysmia in earli feb 2015 i am 5 7 quot and weigh in at 283 i spoke to my dr with factor of pcos obes diabet on both side pre diabet high cholesterol and other concern i eat fair healthi have tri a number of thing to lose weight over the year i lost 18 lbs six year ago when i felt like i was do everyth right went to the gym work out at least 2 hour with cardio swim and weighta over the cours of 6 month onli lost 18 lbs frustrat so i got brave enough and talk to my doctor with a combin of a reduc calori diet and cut back on carb while boost the low fat protein i have lost over 50 lbs in 3 month with no gym membership i do stay activ though\n",
      "i have been on contrav for two month and two week and lost 20 lbs of equal valu is that my hba1c is down to 6 5 most of the side effect have abat in about six week the onli linger side effect is night time hypoglycemia i would recomend at least a trial of six week do not evalu side effect after onli a week or two\n",
      "i am 11 day into my diet contrav i have lost 13 pound the onli side affect i have experienc is dri lip love it i am onli at two pill a day i dont have the crave i use to have with the prescript card you get when you sign up brought my prescript cost to 70 a month which i have alreadi save in food i was a donut and soda morn person no longer feel the need for the sweet or soda also don t use the vend machin at work huge save\n",
      "today is august 31st 2016 i ve been on adepix for two day and i feel a chang in my eat habit and energi level this is my second time take it and it help me the first time and i went from 314 253 in about 8mth januari to august of 2015 i just start back becaus i gain my weight back realli quick deal with stress relationship problem and i weigh now 292 so i m determin to loos the weight manag my stress level stay focus on my goal and hit the 230 mark by my birthday in novemb eat healthi and exercis so wish me luck i m bless to have a littl help to curv my eat\n",
      "i start adipex 37 5 mg on 06 14 2010 after read all the review on this site i also have chang my diet consider and i exercis walk zumba and light weight i wasn t go to weigh myself but i end up go to a doctor s appoint on 6 18 10 for a check up and i made a mistak and peek at the scale and i had lost 9 lbs in one week i do experi dri mouth and occasion headach but noth serious i start take this medicin becaus i need a boost on top of the diet and exercis i do not take the medicin on the weekend and i alway cut my pill in 1 2 and take 1 2 when i wake up at 6am and the other 1 2 at 2pm after i have eaten lunch at work start weight 251lbs current 243lbs as of 6 18 i will updat my progress\n",
      "i have been on qsymia for 2 week now start at 305 and 295 as of last night i haven t experienc ani side effect to this date i have use the app quot lose it quot to keep up with my food intak and also brought the lose it scale i found drink water in larg amount help with the dri mouth look to lose 91lbs will updat soon\n",
      "i m on my 2nd week of contrav and today was my 2nd day to take 2 pill in the morn and one in the afternoon last week with the 1 morn and 1 afternoon was great and i have alreadi lost 5 lbs but i see i person won t be abl to handl 2 pill at onc i felt fine yesterday but today i am suffer from nausea which my dr warn me about and he just suggest to stick with 1 morn and 1 afternoon if necessari overal i m veri pleas with the result and think it ll onli get better from here i haven t diet or exercis ani but have cut back on carbon soda i plan to just stick with 1 pill at a time morn and afternoon start a littl exercis and watch what i eat and i think i ll meet my 20 lb weight loss goal\n",
      "i have been on meridia for one year under my doctor s supervis dure that time i have lost 108 pound my doctor has been abl to gradual take me off of all 3 blood pressur prescript simvastatin and metformin it has been veri effect in help me control my appetit and thus lose weight i have increas energi sex drive and general a much better disposit and outlook on life it has been great for me i have anoth 12 pound to lose to reach my goal weight of 174 onc that is achiev he intend to keep me on meridia for anoth 6 month to enabl my bodi to achiev the correct amount of leptin product necessari to maintain my new weight and prevent me from regain the 120 lbs i will have lost\n",
      "i have taken belviq sinc last octob and have lost 45 lbs so far just need anoth 15 and i will have reach my weight goal this is the first prescrib medicin that has work for me and i am thrill you must chang your eat habit as well as pick an exercis that you like to do while take belviq or it will not work as well speed walk is my love and my waist has realli shrunk high recommend this weight loss medic\n",
      "just got back from my 90 day realli 87 day belviq status exam so here is the data from the doctor offic weight from 261 5 to 236 0 that is down 25 5 pound or 9 75 glucos from 102 to 91 ml dl that goe from prediabet to normal rang a1c was 5 5 but i do not have a baselin 0 day valu hdl for 23 to 30 still low but a lot better i also had one of my lowest bp read in year at the doctor offic my advic to new belviq patient is that after start belviq my hunger goe away befor i feel full that is a new experi for me pay attent to the lack of hunger to know when to stop eat\n",
      "i m a 49 year old male 5 10 quot and weigh in at 253 on march 8th 2016 i ve lost 13 pound in that time and found the side effect veri minor in the first coupl week onli i was do veri littl exercis and have a job that i sit at a desk all day i definit recommend this to anyon like myself that has a hard time get motiv to work out as i loss weight see my progress without exercis it actual has been motiv me to workout to increas my weight loss as for the cost i pay 94 for 120 pill my insur suppos pay 45 but i question that becaus under the contrav card the the cost should be 90 100 anyway should i not get 45 off the 94 i will be check in to that that s my contrav stori\n",
      "if i could rate this drug a negat 10 i would it has an array of negat side effect and should not be taken long term i lost about 10 lbs in three month but my bodi develop a toler and i onli maintain the 10 lb weight loss for the next 3 mos while on it i did not feel it had ani extrem worrisom side effect but onc i went off of the med i realiz how anxious moodi and exhaust i had been this is speed you get a rush for 6 8 hour or so but afterward there is a crash this crash prohibit me from ani effect exercis after i went off i gain 25 lbs in approx 3 month and am now 16 lbs heavier than i was to start my physician also prescrib this med to two of my friend who are not obes\n",
      "i start take saxenda on 12 14 15 weigh in at 210 pound as of today 01 15 16 i weigh in at 193 17 pound weight loss i have been do 30 minut of cardio 4 time a week the down side i have experienc are constip i have found the onli way i am abl to go to the bathroom is by take a liquid laxat on the weekend i have also experienc some nausea that has been pretti bad at time overal i am realli excit about my rule and hope to reach my goal weight of 160 by the summer saxenda rock\n",
      "i have been on 37 5 for 3 week now although it gave me more energi the first week that has subsid and my appetit come and goe i have onli lost 2 pound in 3 week but i believ that to be from the new exercis i ve alway drank a ton of water becaus i love water so the onli chang is now i have dri mouth to tend to i weigh 285lbs and my goal was 220lbs becaus i do like my curv just not so mani i do not eat as mani calori as recommend on certain day becaus i am liter not hungri buy on other day i may go over by 20 30 but 3lbs realli i m frustrat\n",
      "start victoza with sampl from my diabet team start on 06 and work my way to 1 8 within a few week of dose no weight loss it has help a lot with my blood sugar drop from fast 180 to around 120 130 i have bump from 1500 mg of metformin to 1000mg but no weight loss i ask my nurs if i could bump up dose to 3 0 sinc saxenda has a dose of 3 0 and it the same med she agre so i did a 1 8 and a 1 2 shot each morn side note i work overnight i take my med in the am also on lexapro that made me tire i am off of lexapro now so med schedul will chang i am fortun enough to get saxenda at a 0 copay but it has not help me at all i may need to tweak my hour of inject to get the full benefit it\n",
      "simpl start out 5 quot 6 188 pound male last septemb had some fatigu and dri mouth but drank more water and it seem to eas those issu after a few day now i am at my goal of 140 pound and ride my bike three time a week my doctor say my number are good and keep up the good work i am stay on my full dose as i don t want to gain my weight back like befor just feel realli healthi\n",
      "i am overweight by 50 pound and my doctor prescrib me belviq i have been take it for 30 day and i have alreadi lost 15 pound this medicin is amaz and a life saver if you are overweight and have not been abl to lose it natur like me ask your doctor and get belviq now you will not be disappoint\n",
      "i have been on belviq for 1 week and 1 day day 1 was just aw i felt quot stone quot dizzi brain fog tight chest extrem tire the posit virtual instantan appetit suppress and more than that a feel of satisfact after eat onli a fraction of what i normal ate so i decid to play out the side effect and see if they went away each day was a littl better than the last by day 4 i was feel most normal more like a benedryl fog than a stone feel now other side effect were a mild cough some ear jaw pain sneez fit and general weird it is most gone now and i am down 3lbs glad i stuck with it i am in it for the long haul i desper want to be one of those befor and after peopl\n",
      "i just start my 3rd month on contav i am current down 26lbs i did not notic a chang in appetit until week 4 6 i did figur out if i take befor dinner not after i eat less i can not even eat 1 2 of what i use to eat my onli problem is terribl cotton mouth jolli rancher have becom my best friend\n",
      "i was first prescrib these tablet last year but didn t make a proper go of it i had post natal depress and a babi who never slept so healthi eat and exercis felt imposs i m now heavier than befor i was pregnant i weigh 20 st and feel strong enough to make a proper attempt to shift the weight i am eat 1600 cal per day and walk uphil for 45 min a day the side effect are aw never ever assum it just a fart but i d rather the fat was in the loo than ad pound to my bodi sorri to be so explicit i ve been do this for 2 week now and start to feel the differ i have a phobia of scale so go to wait til my month doctor appoint to see the weight come off i ll updat again\n",
      "start at 254lbs on march 6 2014 and now 236 as of march 30 2014 i still have a long way to go but so far so good side effect constip and dri mouth i eat less than 1200 calori per day\n",
      "i start this on april 23 2010 i had seen the result in some of my famili member i was veri skeptic becaus i had tri everi kind of diet known to mankind and was never success i watch sever friend go with the gastric bypass and all of them near die from it and have had constant complic from it this littl pill is great i weigh 264lbs on 4 23 and as of today i am down to 234lbs that is 30 lbs in 2 month my husband start when i did he weigh 337lbs and he is down to 295lbs he has not been below 300 sinc he was a kid and he is 47 year old now we do go for a walk 3 4 time a week my crave for chocol is gone portion size is the key we do have a dri mouth but that is about it will keep you post\n",
      "i am young and consid obes i am a healthi individu though and just want to shed a few pound this pill is what my doctor prescrib i read through all of the side effect and decid to give it a go i lost 8 lbs in two week but i don t think that was from the pill i stop take them after the first two day i was so nauseous that i couldn t stand without fall and vomit and my headach are so bad that it affect my vision it is unbear i may be fat but now i am happili so if it mean never take these pill again they liter steal all of your energi and make you miser\n",
      "i m 22 year old 5 2 i start take adipex 01 27 2015 my start weight was 227lbs so far in the past 12 day i ve lost 12 pound and i ve had no side effect my goal is to fit in to my skinni jean again 5 6 my goal weight is around 130lbs\n",
      "i start with this drug on tuesday not too bad when taken at bedtim howev i want my inject time to be first thing in the morn as this is much easier for me time wise today was the second inject oh my heaven can we say morn sick that is exact what it feel like i have virtual no appetit i tri to eat a littl someth i had been on dr s order to fast for blood work so let me tell you how that went it didn t i could not get past the tast of food in my mouth i was physic ill i stop at sbux and bought a hot tea oh heaven i was abl to sooth my stomach and feel a littl bit better i have to muster through work regardless of how i feel i am hope for result not a miracl here we go\n",
      "i have been on phend sinc tuesday august 30th it was not prescrib by my primari care physician i decid to see a weightloss clinic and stick to a special plan origin the physician want to place me on contrav but i quick declin that option due to the sever nausea so mani peopl experi so she decid to place me on phend i am so glad that she did my start weight was 278 6 and today 3 day later i am at 271 0 7 6 lbs gone alreadi i have been follow a 1400 calori or less diet sinc tuesday and i walk about a mile last night i am amaz thank onli side effect i have experienc has been cotton mouth i suggest this medic strong\n",
      "46 yr old femal i start phentermin 37 5 on march 20 at 178 pound as of today march 25 i am alreadi down to 168 i have no problem with jitter but i crash everi afternoon around 3 00 i ve tri take a half pill first thing in the morn and the other half at lunch time but either way i crash my goal is 150 and i realli believ i ll get there with this pill\n",
      "first let me say i m heartbroken that metabolif 356 was taken off the market that was the onli thing that had ever help me lose weight i lost 80 pound in 6 month exercis 3x per week alway had ton of energi i start take adipex phentermin at the suggest of a friend who said it would give me similar result she was right it give me energi and curb my appetit tremend my biggest problem of run to vend machin at 3pm everyday is non exist now i start at 262lbs and i m down to 226lbs with no exercis yet i have a long road ahead but i m well on my way this medicin also seem to reduc swell in my leg and feet or mayb the weight loss help i do notic the dri mouth and veri dri brittl hair\n",
      "i never write review but this is worth write about i have been overweight my entir adult life i am 5 6 38 yr old femal start weight 205 size 16 18 woman s start 1st pill may 26th first one made me slight fuzzi in the head but onli the veri first dose i felt my crave stop immedi it was so weird besid the food my husband was disappoint becaus one thing we love to do is drink wine and go to wine tast etc i lost all crave for alcohol sweet and fatti bad food plus i struggl with panic disord and i have felt at eas as of today aug 2nd i am down a total of 22 lbs this is without diet or exercis howev i will start to incorpor it in so that i get the maximum effect\n",
      "adipex phentermin is great for weight loss i did experi minor side effect i e dri mouth insomnia i have taken this medicin on and off for sever year i notic rapid weight loss the first time i took it lose over 30 pound in the first month i was 202lbs when i took it the first time and after onli 1 month i was down to about 170lbs i went off of the medicin for sever month didn t exercis and return to my origin eat habit regain all of the weight plus some the second time i took it i didn t experi the same rapid weight loss i had with the first attempt onli get down to about 182lbs go for tri 3 but will do it right this time with exercis and diet chang for life\n",
      "i ve been on belviq for about a week now i take it at 7 a m and 7 p m i have zero side effect and am almost concern mayb it just doesn t take to me as far as hunger i almost feel like i m eat less dure the day but when night hit even after my second pill i feel so hungri like insati hungri so i drink a bottl or 2 of water and i still realli want someth to eat no weight loss yet pray i don t gain even more i m almost 5 7 and i weigh 230 lbs i have been more activ and concious of my food choic i will updat soon\n",
      "44 yr old obes male start belviq 3 month ago lost alreadi 32 lbs my doctor say result are fantast i am actual type this from x sport gym i can t believ how good i feel and how much energi i have after lose the weight i can t rememb last time i was at the gym i need to lose close to 50 lbs total to be consid at the borderlin of overweight or bmi of 27 i have to comment that unlik everyth i tri in the past belviq has no side effect except for the side effect of weight loss i no doubt eat less and have less desir to overeat now enter exercis and i am sure i will hit my goal glad i am a respond no problem pay for this out of pocket which i do becaus it work back to my workout\n",
      "use for 12 day not a pound lighter 5 6 150 just need to loos 5 7 pound for summer no time to go exercis now lot of physic work plus yard eat most salad and soup alreadi sugar too but not a lot my husband was take it too no chang we both are activ usual go to the gym 3 4 time a week i have mild metabol and he has slow metabol it s veri hard for both of us to lose a singl pound we did notic bm and i think i notic more hair loss in me did take multivitamin plus calcium after read onlin about all the side effect recal and bad experi i decid to put it asid\n",
      "i love this drug i start take it on aug 20 and am now start my third month i have lost 22 pound i am 5 8 and start at 187 lbs and am down to 165 lbs in 9 week i gradual increas my dose and would recommend other to do the same due to some of the side effect when i first start i experienc some nausea complet loss of appetit headach and sleepi the symptom did not keep me from live my normal life and they subsid gradual some symptom i now experi are occasion constip irrit and insomnia i was a daili coffe wine beer drinker and rare drink either now all i am interest in drink is water noth els is appeal food is never the focus of my mind anymor\n",
      "i start on contrav may 16th today is juli 7th i have lost 26 2 lbs i am a veri young at heart middl age ladi i am quit optimist excit may 16th i wore a size 22 last week i sport a pair of black slack same style maker size 16 yes they were a wee bit tight but i could fasten them breath freeli while sit after read the review i was paranoid about the potenti sicken side effect but other than a singl episod of dizzi when i increas my dosag from 2 to 3 pill i have had no negat issu i am also take advantag of the scale down program i know that it is an enorm incent booster contrav definit curb my desir for excess eat thank you\n",
      "i start contrav in august 2015 and lost 21lbs in three month though i wish it was more it was a healthi rhythm of weight loss i chang health insur and the new one doesn t cover it despit it be tier 3 i was eventu abl to get the discount card to start back around christma but i wait till januari i also got the offer to take part in the scaledown program so i want to wait for the scale i ll be honest have to weigh in everi day is counter product and work against me i m on week 3 of start back and haven t lost but also see my weight fluctuat on a daili basi and i do not like it one bit my advic to anyon out there contrav is great onli weigh onc a week don t do the scale program\n",
      "i start on qsymia august 26 2013 one month later i lost 24lbs do regular diet and exercis qsymia did cut my hunger help me stay focus in my lost weight goal side effect in my case veri minor metal tast for the first two week and mayb a littl problem concentr\n",
      "i start belviq on thursday even befor dinner and today is sunday morn i weigh in at 327 328 on thursday and this morn was 324 i felt the affect instant i was shock how sick i felt after tri to eat a regular size serv i ve had almost half the usual amount of food at everi singl meal sinc i start and almost zero between meal snack i did have about 7 fresh cherri yesterday but that s been the onli snack no side effect mayb a littl dri mouth i m not expect to continu see this level of weight loss continu but i m so optimist about my futur now i love how tini the pill are and i got a certif from the belviq websit that make it possibl for me to onli pay 75 it s worth it\n",
      "i wrote a review my first week and at the time i had gain 2lbs today is 1 month and i have lost between 9 11lbs i was skeptic in the begin due to weight gain and becaus i was not experienc the serious side effect i didn t think it was go to work i still have minim side of effect howev i am no longer sleepi dure the day sometim dri mouth and constip which i eat prune and drink water that doe the trick follow the schedul to take med i still have 74lbs to go and i am still excit\n",
      "love this medic was nervous at first due to heart problem but clear by doctor to take feel great no side effect crave water don t like the tast of soda eat less more energi worth everi penni no jitter no cramp no headach so glad i decid to take it have been on for 5 week down 10 lbs\n",
      "i have been use the medic for almost 3 week and have lost 10 lbs i m also do cardio everi other night for 30 minut and dumbbel weight everi other night but that s a fair light routin i m also eat a lot of protein and have cut out simpl carb sugar entir will slowli bring those back into my diet next week i did tri the hcg diet along with a vlcd a few month back and lost over 20 lbs but that was a hard diet this is much easier to manag and doesn t intrud on your lifestyl to the same extent sinc i m onli now 12 lbs abov a bmi of 25 i m sure i won t be abl to take it for much longer mayb anoth 3 week as i will be on the high end but still in the quot healthi quot rang within 3 week\n",
      "i have been on contrav sinc nov 24 2015 the first week the onli symptom i notic was dri mouth i have not weigh myself yet although i have alreadi start the medic i m not so much focus on the pound lost than i am with control my eat smoke habit i start go to the gym next week so i am veri excit that this medicin will help me quit smoke and in turn get me motiv to work out and lose the weight i have notic i have not been as hungri and i m drink more water i am now up to 2 pill a day and have onli notic a slight headach along with dri mouth but i will remain posit\n",
      "after gain around 70 pound dure the pregnanc of my daughter regular diet and exercis just weren t cut it i ve never taken diet pill befor this but in just 6 day i ve lost 7 1 2 pound i do get the dri mouth side effect slight headach funki vision here and there but it s work wonder i know the weight loss will slow down but i d like to lose anoth 40\n",
      "i start phentermin 37 5 on juli 24 2015 i weigh 225 8 pound i took the next pill juli 26 2015 the third pill juli 29 2015 and the fourth pill juli 31 2015 today august 1 2015 i weigh 215 8 and i m 5 3 inch tall i carri my weight proportion all over my bodi mayb my face look a littl bit thinner howev you can t realli see the weight loss yet that be said here s a schedul of my weight loss so far 7 23 2015 a 225 8 7 24 2015 224 4 7 25 2015 220 2 7 26 2015 217 6 7 27 28 29 219 6 i start drink 2 liter of water a day 7 30 2015 217 6 7 31 2015 217 6 8 1 2015 215 8\n",
      "the miracl pill i can t thank my doctor enough i ve tri everi diet you can think of could never lose weight i ve alway been obes i start take qsymia on septemb 30 14 and lost 5lbs alreadi i feel with lot and lot of energi and my weak bread sweet gone i m not follow ani diet just exercis at least 30 minut a day onli side effect dri mouth and tingl in my finger but i complet love it\n",
      "i start as a 220 lbs 6 man i look good with a shirt on and don t experi ani social stigma for my weight but know my bmi put my ideal weight at 185 i decid to tri this for a month and lose some flab first two week were amaz no alter mental status no insomnia just a littl headach it prevent food and alcohol crave it gave me the incent to workout befor work so far so good after the 15 day mark it consider lost it effect near the end 30 day total it didn t have ani effect whatsoev i partook in all the christma feast i stop cardio and start parti again by the end i was down to 205lbs but it decept i look no differ and now am get wors crave than befor\n",
      "you must be your own advoc and do your research about meridia and the current drug you are take i was overweight diabet with high blood pressur and high liver enzym my doctor thought more pill and or shot or increas dosag was the answer to everyth i was on 11 differ medicin and had no energi and just want to sleep all the time doctor prescrib meridia noth happen 4 week later she increas the dose no chang so i was complain about not lose ani weight and someon said quot mayb there s a drug interact with someth you re alreadi take quot i never even consid that went onlin and gee whiz and bang it wasn t just the meridia there were sever interact go on don t do this without consult your doctor i went off all the medicin and start from scratch began with 2 of the diabet and 1 blood pressur medicin my appetit drop immedi took sugar and blood pressur read everi 4 hour for a week my sugar and blood pressur stay normal so i ad the meridia i ate onli half serv of whatev i want other than sweet my goal was not to diet but to learn a new eat behavior my weight was 199 5lbs and now 6 week later i ve lost 16 pound 2 3 pound a week had to reduc the dose of my diabet medicin two time i m total off the insulin now i onli take the 2 diabet and 1 blood pressur medicin and the meridia 15mg daili i feel good and have normal energi i have veri mild nausea everi day and get massiv heartburn if i eat to mani carbohydr the cost is 196 00 a month but this is well worth it to get my weight stabl and improv my health\n",
      "i have been on this medic for a littl less then a month and as of today i have lost 10lbs so the onli side affect i have had was be tire and veri foggi mind but sinc the third week both if these side affect have gone away i was told by the doctor that side effect are veri comon for the first 4 week then they should go away becaus your bodi has adjust to the med i still have about 60lbs to loos to be at a healthi weight for my height i am a 28 year old femal whose start weight was 194 and height is 5ft 6inch i gain most of my weight from my pregnanc all three of my girl be back to back\n",
      "i know phentermin work for differ peopl in differ way when i first start phen37 5 juli 7th i felt no extra energi appetit suppress veri littl dri mouth and a small headach i start at 199 and now down to 194 5 pound not much weight loss in 12 day i drink onli water some with ad lemon to it calori are about 1200 1300 healthi food like chicken fish appl banana salad tuna as exampl i take it about 8 830 am side effect thus far are dri mouth headach mid day lack of sleep insomnia a littl disappoint in result this far i forgot to add i also exercis 4 day a week do walk brisk walk and exercis bike total 2 hrs day there should be no reason i m not lose more\n",
      "i was prescrib this medicin after not be abl to lose weight even with a strict diet and exercis i have polycyst ovarion syndrom and hashimoto which both make it veri difficult to lose weight and or caus weight gain my doctor gave it to me the first week of june and as of august 12 2015 i have began lose weight easili i have lost a total of 17 pound while diet and exercis the main side effect i have are nausea almost daili within fifteen minut of take the two daili dose the nausea usual subsid within an hour but the nausea is what make the thought or sight of food unappet i rare have an appetit but have hot flash and insomnia but doesn t compar to the benefit weight loss and feel good\n",
      "for about a year i suffer from depress and put on near 70lbs bring my total weight to 221lbs i have been take phentermin for one week now exercis 7 day a week for 1 hr and eat under 1000 calori so far i have lost 6 lbs in 6 day my goal weight is 160lbs\n",
      "i ve been take belviq for almost 4 month without ani weight loss i have been eat healthi meal and walk about a mile and more practic everi day whi won t the weight start fall off pleas help tat\n",
      "so i start take phentermin becaus i have bad knee and cannot exercis and without lose weight i can t have surgeri for a knee replac i must admit i was veri skeptic about this pill but so far so good i am 41 yrs old and i start take this pill august 28th 2017 and at that time i weigh 365 lbs and as of this morn sept 2nd i weigh 353 lbs that a total of 12 lbs in less than a week it complet take my hunger away and i do have the dri mouth but i will deal with that i have cut my food in half as i feel full much quicker and i like that so far so good i do drive a school bus so load and unload wheel chair is a work out by it self so i get some exercis just not like i would like due to my knee\n",
      "qsymia is not a miracl howev it doe help with weight loss with the proper life style chang in eat habit and physic activ while take qsymia pound and inch begin to shed away it may not be for everyon but this is what has work for me the 72 pound loss in 5 month make me a believ some of the side effect took me some time to get use to the first week or two on the medic i had insomnia and tingl in the hand and feet but it did fade as my bodi adapt to the medic the onli long last side effect that i notic is the metal tast in my mouth and lack the abil to feel carbon on my tongu i do not see it as a bad thing sinc soda is not healthi to begin with\n",
      "weigh 270 on 5 8 15 8 day later i weigh 263 if i take it earli befor 9 am i feel drunk or realli tire but if i take it later after 9 10 am i feel ok im excit to see how this goe if i can afford it with out insur coverag it 305 00 month veri expens but i almost say it worth it as long as i m loos weight in a decent time manner light exercis but i work up a sweat and drink lot of water\n",
      "i start take this becaus my doctor insist in me tri someth after mani fail program after i read most of you guy review i gave it a tri and the 1st day i felt weird as hell had a tingl feel on my left hand and a headach from hell but after my 2nd day it s like i don t feel a thing mayb onli a headach but ibuprofen took care of that i would tell anyon scare to tri it give it at least two day and i believ you ll love it i m start out with 266 pound\n",
      "i have been on belviq for 2 week now i do have a some sleep problem but it is get better i was 246 lbs and at my 2 week weigh in i was 233 lbs i have chang the way that i eat and have had no time for exercis i love this pill\n",
      "this is the first day on belviq xr so i haven t been abl to notic much of a chang in my eat lesser i didn t experi ani headach or nausea actual had a littl more energi now i ve just did 3 month on phentermin 37 5 mg and i went from 282 lbs to 251 lbs without exercis much i want to continu the phentermin but my doctor said 3 month is the limit he suggest i tri belviq sinc you can remind on belviq longer i am 5 10 and current weight is 251 lbs my goal is too get down to 190 lbs and i am veri optimist in reach this goal\n",
      "i start saxenda 4 day ago on the first day i develop signific nausea and thought that there was no way that i could continu with it especi given that i am current onli start with the lowest dose then i thought about tri gravol but did not like the idea of have to take anoth drug sever time a day along with the saxenda so i went to walmart and purchas some ginger capsul sold besid the regular gravol what a huge differ take ginger everyday has made i take one ginger capsul with everi meal and then again at bedtim the ginger has complet taken away my nausea now i am confid that i will be abl to continu with the saxenda so far my appetit is way down\n",
      "i began take phentermin topiram about three month ago and have lost a total of about 50 pound i have work extrem hard on my diet and exercis as well the onli few negat effect i have got from the medic are small mood swing constip and insomnia noth too extrem i am extrem glad my doctor recommend this for me becaus my weight and life was spiral out of control\n",
      "i have gone from 160 lbs to 135 lbs 25 lbs lost in 3 month while take this medicin it is awesom i am also track my calori and tri to stay at 1000calori day it is veri import to see your doctor regular and be monitor while on this medicin my doctor will onli prescrib this for 3 4 month i am be told there are studi for long term usag i am nervous to go off of this medicin becaus it work so well i am abl to manag portion control eat healthi increas exercis and not want to eat after dinner this medicin was the answer to my mani year of struggl with my weight i wish i could stay on it forev but i can t i think about food all day long except for when i am on this medicin\n",
      "ok so i told y all i would updat about my experi with contrav i start friday the 5th may 2017 and i ve lost 2 pound a day i wake up earli and take the pill everi morn sinc this is my first week i feel like i actual have energi to do stuff and my motiv has been great today is day 3 i start at 196 and i m 191 as of now i ve cut soda tea out and i hard think about food or eat and i work in a kitchen i have no where near the desir i did a few day ago to eat i ve been stay away from sugari food and thing that are not natur fat and onli drink water i do feel a littl dizzi a coupl of time a day but that s my onli issu i think it s from low blood sugar though\n",
      "start 12 18 15 femal 221lbs 5 6 42 yrs old 1st day took 1 pill at 7 30am was sick all day stay in bed day 2 1 pill 7 30am tri to do my normal daili routin was so sick so i have stop til after the holiday i have to much to do my side effect are nausea headach sweat dizzi i could feel my heart beat speed up i realli want this to work i have tri so mani thing over the last 6yr and noth work i was do a workout plan for a 3 day a week for entir year lost onli 5 lbs with 1000 calori a day\n",
      "i was prescrib this to lose weight but also to help my diabet type 2 in 9 week i have lost 20 lbs on the 7 5mg dosag i have cut my nighttim lantus usag from 28 unit to 7 unit and anticip be abl to stop the lantus entir within the next week or so i have lost weight befor on my own but not to this extent and not with these result with my diabet medicin the onli side effect i have are an occasion tingl in my feet which the doctor say will go away when i stop the medic and some dizzi but i also have that without the medic so that could just be me howev the dizzi get better when i drink more water or eat so it may be not eat or drink enough\n",
      "i have just complet my first month on contrav and i have lost 15 lbs i also made a huge diet chang cut carb sugar and start work out on the treadmil 30 min in the morn my all day energi has realli increas i was skim the review and thank i have not had ani of the side affect that other have had i make sure to take after i ve had some breakfast like i do with vitamin the onli challeng i have found is get all four pill in i ve got to carri them in the even to ensur i have them with me to take i have had a small bit of constip but i have increas my daili fiber pill and thing got better i m look forward in see what month 2 can do for me\n",
      "love this medicin at start a month ago lost 9 pound i am not obes but after a hard year and surgeri i had to give up exercis i gain almost 20 lbs in two year and i was miser my doctor realiz i need a kick start and prescrib this i love i have been more attent and energet and not eat just for the sake of eat or be bore after a month i feel like my bodi is too use to it and not the same as day one but i am go to keep go and tri to lose 10 more pound howev i will say that i have not had bad side affect at all\n",
      "i love this stuff i have been on it for 6 day and have lost 4 pound easili my night crave are entir gone and my stomach get full with about 1 4 amount i usual consum at one sit the onli drawback is in the morn i get queasi if i eat about a half cup of dri cheerio slowli with a cup of tea it settl i know it is earli in my journey but so far so good awesom to final have me be in control not food control me after 40 year feel like i am out of prison pretti power experi\n",
      "i start take the pill start march 22 with a weight of 254 lb a month after 232 lb weight fulli recommend\n",
      "i have been prescrib this medic sinc 5 12 15 i weigh in at 204 lbs am expect to weigh in at less than 150 lbs 11 23 15 i also take 1 2 a water pill first thing each morn bentyl everi night b vitamin everi other night all prescrib by the doctor dispens at 28 day in addit to this i follow a 1000 calori eat plan do my best to move fast for 30 min each day self disciplin is not easi but pay for it hold me account i have fibromyalgia pancreat a vomit condit that start when i was 9 yo i also have had sever time throughout this last 6 mo when my back was out i could hard walk i am thrill with result onli had dri mouth as side effect now to build muscl\n",
      "i lost 10 pound effortless dure the 2 week free trial after 6 day i had lost 6 pound and at that point start forc myself to eat i m want to achiev a steadi reason weight loss no side effect other than slight dri mouth and sleep more sound an interest side note belviq is curb all of my addict sugar bread alcohol gambl it s amaz so far i m take belviq 2x daili with 1 2 phentermin tablet\n",
      "i m a 27 year old femal and i ve benn take saxenda for two month now at the begin the weight loss was rapid but there were sever side effect main nausea and constip but also dri mouth and tired now it s all gone though you should know it s not a wonder drug true i ve lost 24 lbs 11kg in 2 month but i realli pay attent to what i eat and go to the gym 3 time a week you still need to do the work what saxenda doe now your work will final have result which make it much easier to keep go by the way i m onli use the 1 8 becaus my doctor told me to tri to avoid use 3 dosag until i realli need it when you reach the quot plateau phase quot and stop lose weight that s the time to increas the dosag\n",
      "i think belviq pretti much save my life i had alway been overweight all my life from about 8 year old as an adult i had alway maintain a weight of around 200 lbs howev at 41 i was diagnos with lymphangiomatosi and had to have a complet hysterectomi gall bladder and appendix remov i soon began gain approxim 10 pound a month post surgeri and was soon at 258 at my highest my doctor prescrib belviq on decemb 5th 2014 the first week i lost 7 lbs and by mid januari i had lost 20 lbs now in june 2017 i weigh 180 lbs and feel fabul it wasn t a quick fix but it work and i stop take it in februari and have maintain my weight i recommend belviq to anyon readi to commit to a lifestyl chang\n",
      "i ve been on saxenda for 4 month and onli lost 14 pound in this drug it cost me 450 a month and the result at first went like this month one 6 pound weight loss month 2 two pound weight loss month 3 six pound weight loss and month 4 noth weight stay the same befor take it i was in a calori reduc diet that had me lose 2 3 pound a month so that would averag out to 10 pound in 4 month i don t think the weight loss differ is worth the 450 a month\n",
      "updat start weight 221 6lbs on april 8th 5ft 3 quot tall 47yr old femal this morn i am 188lbs that s 33 6lbs down basic without exercis down from a size 18 short to a 14 i have a few cloth that onc were too tight and my gut hung over that fit me now and short i bought 4 year ago that i can pull off without unbutton i have jean from 2004 that i kept that were sentiment and i can almost button without a muffin top this is whi i push on this is someth i never thought i would feel i look in the mirror and sorta see the old me come back it work for me and my husband can tell you my self confid is better than it been in a long time\n",
      "40 year old male 5 quot 10 235 lost 37 lbs 3 month no real side effect except headach and littl dri mouth no more lipitor and no more cheesecak crave the wife like the new slimmer guy just start exercis and look to get to 175lbs thing are go well with more work to be done this is a god send for me\n",
      "it did the trick i lost about 30 pound but i was a crazi woman phen gave me short term memori a foggi mind i got angri a lot i felt unmotiv to studi and later down the line i start to develop jaw pain back pain heart palpit and anxieti all of what i list are side effect of phen so pleas listen to your bodi you have to get off the phen sometim so realli concentr on loos the weight and develop good eat habit and do not depend on the pill as a crutch if you do it will sure be your down fall it is easi to get caught up that way for me it s almost like a doubl edg sword i went from a size 12 jean to 7 but almost lost my mind in the process\n",
      "well im write for all those peopl who have not lost weight gain it back have had side effect etc when one decid to lose weight and is use weight loss med one has to first map out where they want to be at the end of the process then you have to take pictur write thing down keep a journal and most of all have a program in place befor start know your macronutri and build a meal plan with that or get one free onlin drink lot of water anywher from 64oz 1gal and even if your not hungri eat 5 7small portion of food even if your not hungri this elimin almost all side effect and tri and walk 10k step or as much as you can to get to 10k measur bpm spo2 stress level and you will see big result\n",
      "updat start 5 18 2015 ten day later i was at 261 lb this was by exercis eat a lil better also take water pill and a b12 shot on 6 15 i was 257lb exercis slow down my eat habit keep improv but i am tri to work out more yes i do the b12 also i don t get too much of a rush of phentermin realli 37 5 btw i work at 4am so the b12 realli help i have notic though if i take the pill and forget to eat or don t wait 30min i don t feel it as much i do half pill first thing in the am and the other half around 1 so far i love this pill my weight is a constant struggl and this give me hope i am 25 f 5 7 would love to read more ppls review come to this blog is a big motiv for me i pay 85 for this and 20 for the b 12\n",
      "i start belviq last year juli 2015 and for the first 7 month on it onli ate a healthi diet without excercis onli lost 8 lbs was realli disappoint well 1 month ago i began eat right and exercis and lost an addit 15 lbs this is not a miracl drug you can t take belviq alon and expect to lose weight from my experi i believ this med work well as a tool but onli if you complet chang your lifestyl\n",
      "i ve been take contrav part of the scaledpwn program for about 4 month i m 5 6 quot my start weight was 190 i m current at 173 175 my weight loss was gradual but notic by other i feel pretti good most of the time but i have struggl with pretti sever headach in the afternoon even so i think i will taper back down to one pill in the am pm i was take two in the am two in the pm my husband think take this is ridicul want me to stop he say i look great take the medicin make me moodi i m not sure about that but i m struggl with weather to continu tri to loos more or stop for now i think i will taper down see what happen i wish my insur cover the cost becaus it s 60 per bottl\n",
      "i am 56 year old and have been about 35 lbs overweight for about 15 year i was diagnos in februari with type 2 diabet i was previous on phentermin but did not have good result my doc chang it to phendametrazin and i am rare hungri and have lot of energi and better work out i have lost 20 lbs 15 more to go and i feel fantast\n",
      "one year i lost more than 30 lbs without ani notabl side effect stop med and gain weight all back last yesr took the med and kept off mayb 5lbs caus elev blood pressur and a bald head to show for it valu negat experi\n",
      "sw 182 cw 182 gw 135 i m 5 1 quot this is onli day 2 for me so it s too earli for me to have a meaning rate on day 1 i drank a lot of water and that seem to keep the nausea away howev i felt sort of quot tipsi quot all day and had to take a nap in the afternoon i had more nausea today but think that was in part becaus i drank coffe more water a bonin tablet and i m okay still feel a littl tipsi though and had to have a nap again thank good it s the weekend but i m back at work tomorrow and there will be no nap i m suppos to stay on this dose for a week and i have no desir to rush it oh and my crave are gone but i have felt hungri but it s true hunger not my usual eat to reliev boredom\n",
      "i began take belviq septemb 5 2014 and when i saw my doctor januari 19 had lost 43 pound the reason belviq doesn t work for some peopl is becaus they are look for someth like the amphetamin diet pill from the 50s and 60s that boost metabol and total kill the appetit what belviq doe is help peopl stick to a sensibl diet i e it will keep you from be over hungri and quot pig out quot after eat a sensibl dinner i take belviq around 3 o clock in the afternoon and metformin 500mg after dinner\n",
      "i was on this medic for two month and did not drop one pound in fact when i decid to stop take it due to the fact i was not happi with the product within a week and a half i gain 10lbs and have now hit a record high as far as weightc\n",
      "i am 46 year old 5 6 and i hate to admit it but i am 209lb most i have ever weigh in my life even when i was pregnant with twin i start this about 5 day ago i was at work and at about 2 00 i was super hyper and was talk a mile a minut i was act veri jitteri and jumpi it did curb my appetit the second day was better becaus i knew what to expect i did get a littl dizzi and nauseous but noth i couldn t handl my throat is extrem dri everi day and i am drink a ton of water i m on day 5 and i am 201 2 i have cut down my eat and i am eat healthi on the week day and cheat on weekend my dr gave me a sampl of 70 pill to start so i haven t spent ani money and it seem to be woke\n",
      "i was skeptic for use pill and i use this one for 6 month and turn down 52 pound i never felt bad onli at the begin a littl sleepless and it has been more than 8 month i left them and onli gain 8 pound due to no excercis i feel great\n",
      "i have struggl with my weight for year i am 5 7 quot tall femal i start take phentermin on juli 13 2016 my start weight my highest is 268 i had lost about 20lbs on my own when i talk to my doctor about my problem with my leg and how my weight seem to have stall she recommend this i go back next month for my 1 month follow up one thing i notic is dri mouth my goal is to get down to between 160 to 180 by christma next week i plan on go to the gym to walk on the treadmil wish me luck\n",
      "well i am back for my one month result start weight 6 20 17 324 today s weight 297 that s right 27 lbs i have start to watch my calori intak i walk 3 4 day with my kid then the other day i am at the gym do cardio and tone i stop drink pop i am up to a gallon and half of water a day i cut the carb way back i have ton of energi i feel great and everyon tell me that they see so much of a chang in my appear i would recommend this to anyon as long as you are look for a lifestyl chang not just a quick weight loss i have had friend who took it for fast weight loss lost half the weight i have and gain it all back when they stop this is meant to help with chang your life\n",
      "i start phentermin 30mg capsul 7 22 2016 weigh in at 274 and today 7 29 2016 weigh in at 266\n",
      "hi there i am 42 year old i took bonitril when i was around 32 year old and lost alot of weight went from 200 size 13 down to a size 3 and 4 i sick have had health issu and gain weight 2013 i weight 169 which is a size 8 to 9 for my height of 5ft4 which i look great but sinc then i have went up to as much as 209 5 in may i got on bonitril again went down to 192 with horseback ride exercis i was do great then i had relaps without med i went back up to 205 now i m back on got my hope up\n",
      "2nd updat 7m 10d i am still veri happi with this med down 31lbs so far start at 229lbs 36 4bmi today at 198lbs 31 5bmi goal is 156lbs 24 8bmi just to get out of the ldquo obes rdquo rang i was inconsist for a while no pill while away on a 3wk vacay onli 2pill day for a few month didn rsquo t see ani side effect or weight gain just plateau which is good to know for when i go off this med someday back on the full dose for a few week lose weight again veri easi to skip a meal hard notic which is where the real weight loss come in i don rsquo t crave the bad food i use to don rsquo t mindless eat scaledown trial ran out was abl to keep the scale but after a few month it was onli generic info anyway not worth it\n",
      "i start phen one week ago after diet and exercis for 11 week and onli lose 10 pound i m on 37 5 mg dose i start phen on may 14 at 179lbs i m down 5 pound i have exercis twice i ve have serious dri mouth headach for a week but yesterday no headach twice i ve felt mild numb in my face and constip the follow may be too much inform you are warn i also start my period 4 day ago experienc heavi bleed for the first 2 day like have to chang my pad everi hour and a half becaus i bled through to my cloth i m not sure if it has anyth to do with the medic but it s not normal for me but it s not bad enough to make me stop take it\n",
      "i m in colleg i struggl with stress and weight gain i start take the pill at 267 lbs i m 5 10 doctor want me lose weight becaus of my blood pressur i use the app to monitor my intak i drink lot water i eat 1200 calori a day onli i had few slip i can say i lost fast the first week but i am miss a lot of sleep but 45 day later i start 9 15 16 it is not 10 29 16 i weight 248 i feel great 19 lbs later wish it was more but i can tell inch are gone pant are hang i m veri pleas this doctor onli agre to give it three month i m hope it extend longer i want gone 200\n",
      "i have been on phentermin 30mg for one week today and i have lost 10lbs excit i will post again after my one month check up in 3wks\n",
      "i was worri this would not work for me sinc i was not realli that overweight 6 2 206 i began work out 5 time a week and was lose weight but onli a veri small amount and i was hit a wall onc i began use victoza and continu my workout routin the weight just start shed right off this was everyth i alway dream of you will lose some weight just by take this but if you includ it with work out wow also it doe curv your appetit but i have notic you can eat healthier thing without feel ill it seem that high sugar and fat are the one that i get turn off too which is just an ad bonus 1 month into it and i am now 186lbs so i have lost 20 pound and feel and look great\n",
      "so all of my life i have been some what chubbi but at least coupl of year i let my weight go out of control i went to the doctor on may 26th and she weigh me at 261 that day she prescrib me belviq i took my first pill that night i weigh myself on june 2nd and i am down to 256 4 i don t know how much of that was water weight but it was definit encourag to see that on the scale i will post again in a week\n",
      "i began use phentermin on 7 29 16 begin at 218 pound ugh this morn i weigh in at 207 so in 10 day i have lost 11 pound and 4 quot total i ll take it i have struggl the last few year after be diagnos with hashimoto s diseas i have felt trap insid of my own skin and i was terrifi that noth would work i have drop my calori down to 800 a day and i work out between 20 30 minut everi other day i final have hope i have tri everi diet out there and noth has work and i believ it is becaus all the inform i was given instruct me to eat 1200 calori daili and i did faith i also maintain my weight for a year and didn t lose anyth i believ i have found what work s for me\n",
      "took for two month and couldn t take it a day more i did lose seven pound in those two month but i don t know if it was from the medic or the vomit i did everi singl day while on it i didn t have much of an appetit which was a plus again though i was sick everi day i couldn t even make it up to the full dose becaus it made me so ill vomit headach dri mouth diarrhea extrem mood swing shake sleepless and heart palpit and pain i stop at two month which was a year ago today and i still am have long term heart problem from this stuff that s under my doctor word not mine i do need help with weighloss but have decid to eat better and exercis to my abil no side effect from these\n",
      "i start phentermin on april 5th 2016 at 253lbs today on june 26th 2016 i am 227lbs i made a huge diet chang when i start cut out coffe sweet and pay attent to my portion size and calori count i start to realli notic weightloss onc i join the gym on april 18th go to the gym made me more motiv to eat healthi and stay on track and it feel great to exercis i had a 2 week time period dure the last few month where i fell back and start drink coffe and had fair food ice cream and other junk i also didn t make time for the gym i stop loos weight i didn t gain ani either though i got myself back on track and am lose weight again diet and exercis definit make this more effect\n",
      "i have been use saxenda for a month now as start nov 4 2017 my start weight was 242 pound and i m 5 10 male today as of dec 4 2017 i weigh 230 so a 12 weight loss in a month definit reduct in appetit as feel full with about half or less than of what would normal eat befor exercis light most walk but get a treadmil and free weight to soon to start to increas intens of exercis as now at full 3mg dosag no real side effect onli at start was feel tire but went away after first week will updat everi month as goal is to get to 170 pound\n",
      "start on phentermin 30mg just 4 day ago with a privat prescript nhs are not allow to prescrib it start weight 15 stone 1lb and have lost 10lb alreadi i m 5ft 4in tall with a small medium build age 34 pretti much lost my appetit complet but i also feel a bit uneasi jitteri i was hope i would experi some of the more euphor side effect but i m also suffer with a heavi cold so mayb that s whi i don t feel energet i ve had quit a few headach alreadi but this may be that i need to increas my fluid intak so i m go to do that yesterday i onli took 10mg 1 3 of my tablet to make sure i could sleep last night the first 2 night i wasn t abl to sleep pleas so far\n",
      "start qsymia in april 2013 due to my health condit i have diabet low thyroid high blood pressur and high cholesterol i weigh 205 lbs and couldn t lose weight no matter what i did after 4 month i had lost 35 lbs stop have night sweat gain ton of energi and felt like a quot normal quot person in my eat i could onli eat small portion and then was full the onli side effect i had was occasion tingl of the finger 8 month later i haven t gain ani of it back i have to rememb to eat small portion now or my old habit could come back but i learn how to manag my eat my hba1c is now 5 6 i onli take 1 2 of my start blood pressur dosag my thyroid level are great and cholesterol is fine do it\n",
      "i ve lost 19 pound in less than a month and had some of the side effect tingl feet dizzi and headach my doctor order some lab i now take vitamin d k i no longer have high blood pressur i m happi\n",
      "i start on phentermin 37 5 mg on 12 11 15 5 11 quot 364 lbs at my first 30 day weigh in after watch diet eat 3 meal and 3 snack a day drink lot of fluid main water and stay between 1200 1500 calori i weigh 351 i lost 13 pound wow my next offici weigh in is in 90 day and my doctor think i will be down at least anoth 30 pound i am also use the fit bit tracker i am slowli increas my step per day and ad everyth that i eat or drink into the calori counter this make me more account\n",
      "i am 5 feet 228lbs start 5 12 15 as of today 6 30 15 i am 208lb still eat what i like but smaller portion walk for exercis total of 19 pound so far veri happi onli side effect is dri mouth i just drink water all the time but my energi level is great\n",
      "been on 7 5 for 5 month and lost 20 lbs need to lose about 40 total weight loss was slow but i never would have lost it without the drug and i exercis about 5x a week i had some side effect such as irrit dri mouth and mild tingl in feet in the fifth month i felt the drug has lost it effect and am about to start the next level up hope this will give me the same loss of interest in food as the 7 5 think of join weight watcher to learn how to eat proper when i get off the med\n",
      "ok am i bad i have been on it for over a month with no result or side effect or anyth then i realiz it s a twice a day pill oop today is day one of take them twice a day i m 36 250lbs and need to get back down to 170 it s gonna be a long road but i m get marri soon and refus to buy a plus size wed dress we can do this\n",
      "still work sinc june 12 now the benefit of belviq are great weight loss 16 lbs belli shrink by 4 1 2 inch blood pressur now normal feel great feel light get a good diet don t think that you can still do macdonald wendi everyday the pill won t fix that kind of behavior it still take a commit from you it just make it easier to accomplish it\n",
      "i start phentermin on 04 01 2016 femal 43 5 6 begin weight 307 i have had issu with mild headach and dri mouth but not to the point it not toler i find the medic give me energi and my heart rate has increas again it toler i m current take 37 5 mg a day i have found for me the most effect way to take it is 1 2 in the morn and the 2nd half no later then 1pm i have chang my calori intak to 1200 a day i cut reg soda which is my addict and switch to diet soda and water i join the gym yesterday so i start my workout today my short term goal is 20lbs in a month mid goal is down 50lbs by juli and long term goal is 100lbs off within a year\n",
      "i start belviq on 10 8 15 on the night pill i take two pill daili my start weight was 208 8 lbs today 10 14 15 i weigh in at 199 4 this medic is awesom i have not chang my diet i alway ate pretti healthi i have not start exercis yet i am pretti activ i work a part time retail job when i m work on the floor i m run around but when i m work in the offic i m sit i own a photographi busi and go to school full time my side effect start out with dri mouth slight headach i watch my blood pressur becaus it drop a littl and when i take my bp pill my bp ave is 106 68 i have tri everyth and this pill doe what i need it to i have notic some increas in energi love it so far\n",
      "i am on my 4th week i do have pretti bad diarrhea i think becaus i am take 4 pill a day now i have mild nausea hot flash but no troubl sleep but do have dri mouth i went from 246 down to 233 so far i can t wait to see how much weight i can lose i am not hungri in between meal and do not have ani crave will up date in a month good luck to you\n",
      "i have use this drug befor when i weigh 265lbs i went off of this drug becaus it becam to expens but i weigh 190lbs after three month this pill realli work but you have to at least eat less and tri to be more activ that s all i did plus when your weight is on the 200 s it easier to get the excess weight off this medicin is expens but it is worth it\n",
      "so i start contrav 3 week ago with one pill a day i lost 5 lbs the first week up the dose to 1am 1pm lost 2 lbs no bad side effect just thirsti and mayb a tini headach start sunday with 2 in the morn and one at night migrain from 12 6pm then eat dinner and feel better then i get a headach again light sensit nauseous gain 2 lbs not sure if i can handl this dose i did have more energi until these stink headach start kick my butt\n",
      "sw 201 5 cw 201 5 gw 150 5 8 quot 40 year old i m on day 3 and although i haven t lost ani weight yet i do have more energi no side effect yet as far as appetit i ve notic that i eat the same amount at meal but the full last much longer so i ve complet stop snack haven t had a snack between meal sinc day 1 i m hope\n",
      "i have been on belviq six month and was 229 pound now i am 192 pound lower blood pressur and bad cholesterol side effect earli i was a littl tire and headach my will power and confid are up 100 and my cigarett consumpt is down 65 from two pack my crave for food and cig are pretti mellow and i believ i will quit sooner then later this way to easi and yes i do ride my bike daili\n",
      "updat from 06 24 10 post i have been on adipex 37 5 for 2 week and 3 day now i have lost a total of 13 pound in this amount of time the onli problem i have been have are headach so i am take myself off this medicin for about 3 day i m still walk everyday do light weight zumba onc a week and not take the medicin on weekend i do notic that i am a littl hungrier when off the medicin but i just find someth to keep my mind off food like i ll get up and take a walk outsid or go chat with a co worker i keep graham cracker fruit and water for snack when i get the hunger feel start weight was 251lbs current is 238lbs i will keep updat\n",
      "errors: 191\n"
     ]
    }
   ],
   "source": [
    "err_cnt = 0\n",
    "for i in range(0, len(y_test)):\n",
    "    if(y_test[i]=='Obesity' and y_pred[i]=='Weight Loss'):\n",
    "        print(X_test[i])\n",
    "        err_cnt = err_cnt+1\n",
    "print(\"errors:\", err_cnt)"
   ]
  },
  {
   "cell_type": "markdown",
   "metadata": {},
   "source": [
    "## cross val"
   ]
  },
  {
   "cell_type": "code",
   "execution_count": 66,
   "metadata": {
    "scrolled": true
   },
   "outputs": [
    {
     "name": "stdout",
     "output_type": "stream",
     "text": [
      "0.8176893809709137\n"
     ]
    }
   ],
   "source": [
    "#Multinomial with bigrams\n",
    "from sklearn.pipeline import Pipeline\n",
    "from sklearn.model_selection import cross_val_score\n",
    "mnb_pipe = Pipeline([('vect', CountVectorizer(encoding='latin-1', binary=False, min_df=5,ngram_range=(1,2),stop_words='english')),('nb', LinearSVC())])\n",
    "scores = cross_val_score(mnb_pipe, X_train, y_train, cv=10)\n",
    "avg=sum(scores)/len(scores)\n",
    "print(avg)"
   ]
  },
  {
   "cell_type": "code",
   "execution_count": 65,
   "metadata": {},
   "outputs": [
    {
     "name": "stdout",
     "output_type": "stream",
     "text": [
      "0.7993559549739094\n"
     ]
    }
   ],
   "source": [
    "bNB_pipe = Pipeline([('vect', CountVectorizer(encoding='latin-1',binary=True,min_df=5,ngram_range=(1,1),lowercase=True)),('bernNB',BernoulliNB())])\n",
    "scores = cross_val_score(bNB_pipe,X_train,y_train,cv=10)\n",
    "print(sum(scores)/len(scores))"
   ]
  },
  {
   "cell_type": "code",
   "execution_count": 52,
   "metadata": {},
   "outputs": [
    {
     "name": "stdout",
     "output_type": "stream",
     "text": [
      "0.7993559549739094\n",
      "0.8326868823031572\n",
      "0.8399008953911691\n",
      "0.7684193431023603\n",
      "0.8016366842792669\n"
     ]
    }
   ],
   "source": [
    "##Bernoulli with Boolean Input\n",
    "bNB_pipe = Pipeline([('vect', CountVectorizer(encoding='latin-1',binary=False,min_df=5)),('bernNB',BernoulliNB())])\n",
    "scores = cross_val_score(bNB_pipe,X_train,y_train,cv=10)\n",
    "print(sum(scores)/len(scores))\n",
    "\n",
    "##MNB with Bool\n",
    "nb_clf_pipe = Pipeline([('vect', CountVectorizer(encoding='latin-1', binary=True,min_df=20,ngram_range=(1,2),stop_words='english')),('nb', MultinomialNB())])\n",
    "scores = cross_val_score(nb_clf_pipe,X_train,y_train, cv=10)\n",
    "avg=sum(scores)/len(scores)\n",
    "print(avg)\n",
    "\n",
    "##MNB with TF Uni and Bigram\n",
    "nb_clf_pipe = Pipeline([('vect', CountVectorizer(encoding='latin-1',binary=False,min_df=5,ngram_range=(1,2),stop_words='english')),('nb', MultinomialNB())])\n",
    "scores = cross_val_score(nb_clf_pipe, X_train,y_train, cv=10)\n",
    "avg=sum(scores)/len(scores)\n",
    "print(avg)\n",
    "\n",
    "##MNB TF Input using TFIDF Vectorizer\n",
    "mNB_tf_pipe = Pipeline([('nb_tf',TfidfVectorizer(encoding='latin-1',use_idf=False,binary=False,min_df=20,ngram_range=(1,2),stop_words='english')),('nb',MultinomialNB())])\n",
    "scores = cross_val_score(mNB_tf_pipe,X_train,y_train,cv=10)\n",
    "print(sum(scores)/len(scores))\n",
    "\n",
    "##MNB TFIDF Vectorizer and TFIDF Input\n",
    "mNB_tfidf_pipe = Pipeline([('nb_tf',TfidfVectorizer(encoding='latin-1',use_idf=True,binary=False,min_df=20,ngram_range=(1,2),stop_words='english')),('nb',MultinomialNB())])\n",
    "scores = cross_val_score(mNB_tfidf_pipe,X_train,y_train,cv=10)\n",
    "print(sum(scores)/len(scores))"
   ]
  },
  {
   "cell_type": "markdown",
   "metadata": {},
   "source": [
    "## SVM"
   ]
  },
  {
   "cell_type": "code",
   "execution_count": 120,
   "metadata": {},
   "outputs": [],
   "source": [
    "from sklearn.svm import LinearSVC\n",
    "\n",
    "svm = LinearSVC(C=1)\n",
    "svm.fit(X_train_vec_1,y_train)\n",
    "svm_pred = svm.predict(X_test_vec_1)"
   ]
  },
  {
   "cell_type": "code",
   "execution_count": 121,
   "metadata": {},
   "outputs": [
    {
     "name": "stdout",
     "output_type": "stream",
     "text": [
      "accuracy : 81.59 %\n",
      "recall : 75.6 %\n",
      "precision : 74.53 %\n",
      "f1 score : 75.0 %\n"
     ]
    }
   ],
   "source": [
    "metrics(svm_pred)"
   ]
  },
  {
   "cell_type": "code",
   "execution_count": 122,
   "metadata": {
    "scrolled": true
   },
   "outputs": [
    {
     "name": "stdout",
     "output_type": "stream",
     "text": [
      "least_imp\n",
      "(0.723534175346759, 'grade')\n",
      "(0.731048394487043, 'lose appetit')\n",
      "(0.7377670082312041, 'gave life')\n",
      "(0.7447947847728376, 'lot panic')\n",
      "(0.7499840341509455, 'drug effect')\n",
      "(0.7807579075563846, 'help great')\n",
      "(0.7846075522124216, 'add')\n",
      "(0.7916276500968731, 'calm lot')\n",
      "(0.8081298056321672, 'adderal')\n",
      "(0.8617946501323158, 'vyvans')\n",
      "(0.8650654638089088, 'ritalin')\n",
      "(0.9243491076346638, 'hour mg')\n",
      "(0.9446983378783418, 'strattera')\n",
      "(0.9637454155540524, 'concerta')\n",
      "(0.9976665800363405, 'focus')\n",
      "(1.000161172992766, 'caus migrain')\n",
      "(1.0485544021203805, 'help month')\n",
      "(1.0596687113702208, 'wonder like')\n",
      "(1.072937635559151, 'optim')\n",
      "(1.262883773213107, 'adhd')\n",
      "\n",
      "most_imp\n",
      "(-0.7221016313723163, 'life mg')\n",
      "(-0.517326121713208, 'acn')\n",
      "(-0.49407826519002557, 'lessen')\n",
      "(-0.47485105987177634, 'focus concentr')\n",
      "(-0.47279339026938993, 'seroquel')\n",
      "(-0.4620536646121457, 'matter')\n",
      "(-0.4473830872231505, 'pain')\n",
      "(-0.4453542501443465, 'live life')\n",
      "(-0.4421209857689435, 'mg didn')\n",
      "(-0.43345427289933336, 'ativan')\n",
      "(-0.4325446161890917, 'life onc')\n",
      "(-0.41704034975086657, 'paxil')\n",
      "(-0.4167955363843273, 'bipolar')\n",
      "(-0.40875574897665373, 'cymbalta')\n",
      "(-0.4038626135291636, 'lexapro')\n",
      "(-0.4011981497289814, 'result')\n",
      "(-0.3997080455509663, 'ambien')\n",
      "(-0.397339663865639, 'terribl insomnia')\n",
      "(-0.369320785028986, 'lamict')\n",
      "(-0.36744618824670316, 'zoloft')\n",
      "\n"
     ]
    }
   ],
   "source": [
    "feature_ranks = sorted(zip(svm.coef_[0], cv_mnb_uni.get_feature_names()))\n",
    "\n",
    "least_imp = feature_ranks[-20:]\n",
    "print(\"least_imp\")\n",
    "for i in range(0, len(least_imp)):\n",
    "    print(least_imp[i])\n",
    "print()\n",
    "\n",
    "## get 10 features that are least relevant to \"very negative\" sentiment (they are at the top of the ranked list)\n",
    "most_imp = feature_ranks[:20]\n",
    "print(\"most_imp\")\n",
    "for i in range(0, len(most_imp)):\n",
    "    print(most_imp[i])\n",
    "print()"
   ]
  },
  {
   "cell_type": "code",
   "execution_count": 132,
   "metadata": {},
   "outputs": [
    {
     "name": "stdout",
     "output_type": "stream",
     "text": [
      "\t-0.5516\tacn            \t\t0.6173\talway hurt     \n",
      "\t-0.5367\tbreak          \t\t0.6205\tgreat say      \n",
      "\t-0.5305\twast money     \t\t0.6236\ttaken phentermin\n",
      "\t-0.5244\tschool         \t\t0.6291\twork tri       \n",
      "\t-0.5153\tdoe suppress   \t\t0.6414\tstomach alway  \n",
      "\t-0.5152\tpound alreadi  \t\t0.6452\tdrug weight    \n",
      "\t-0.5116\trecommend drug \t\t0.6484\tdiethylpropion \n",
      "\t-0.4658\textrem dri     \t\t0.6497\tphendimetrazin \n",
      "\t-0.4637\tlowest         \t\t0.6527\tgreat stop     \n",
      "\t-0.4545\tmention        \t\t0.6575\tproblem lost   \n",
      "\t-0.4523\tfrustrat       \t\t0.6652\thcg            \n",
      "\t-0.4489\ttoday lost     \t\t0.7172\tmedic march    \n",
      "\t-0.4447\tmonth mention  \t\t0.7286\tmeridia        \n",
      "\t-0.4403\tlbs veri       \t\t0.7311\tgreat alreadi  \n",
      "\t-0.4361\tphentermin past\t\t0.7316\tgreat lost     \n",
      "\t-0.4349\tgreat start    \t\t0.7542\tlost lot       \n",
      "\t-0.4346\tmonth went     \t\t0.7556\tbontril        \n",
      "\t-0.4311\tweek lose      \t\t0.7602\texperi effect  \n",
      "\t-0.4246\tpristiq        \t\t0.7702\torlistat       \n",
      "\t-0.4228\tloss week      \t\t0.7703\tjust work      \n",
      "\t-0.4226\tcontinu post   \t\t0.7892\thi start       \n",
      "\t-0.4217\tlbs medic      \t\t0.8234\tjust night     \n",
      "\t-0.4180\tt cost         \t\t0.8942\tday seen       \n",
      "\t-0.4148\tmouth live     \t\t0.9183\txenic          \n",
      "\t-0.4127\tweek second    \t\t0.9803\twork increas   \n",
      "\t-0.4125\tth m           \t\t1.0035\talli           \n",
      "\t-0.4119\ttaken befor    \t\t1.0180\tsuffer year    \n",
      "\t-0.4098\tdevelop        \t\t1.0282\treadi tri      \n",
      "\t-0.4087\tcontrav march  \t\t1.1786\texperi good    \n",
      "\t-0.4083\tday differ     \t\t1.3286\ttenuat         \n"
     ]
    }
   ],
   "source": [
    "show_most_and_least_informative_features(cv_mnb_bi, svm, class_idx=7, n=30)"
   ]
  },
  {
   "cell_type": "code",
   "execution_count": 124,
   "metadata": {},
   "outputs": [
    {
     "name": "stdout",
     "output_type": "stream",
     "text": [
      "[[ 536    1   33   12   11   42    6    5   13    8]\n",
      " [   2 1041    5    4  109   10    4    3    5    5]\n",
      " [  15    2  913   43   16  240   58    9   35    4]\n",
      " [  17    5   68  573   16  143   24   13   15    7]\n",
      " [   1   68   14   10 5177   37    4   10   23    3]\n",
      " [  39    5  214  124   46 1323   48   29   45   14]\n",
      " [   9    2   49   19    8   51  696    7   36    3]\n",
      " [   1    3   11    5   14   29    7  386   17  229]\n",
      " [   9    5   33   16   14   47   17    2 1177    3]\n",
      " [   4    3    9    6   20   29    5  290   13  443]]\n"
     ]
    }
   ],
   "source": [
    "print(confusion_matrix(y_test,svm_pred))"
   ]
  },
  {
   "cell_type": "code",
   "execution_count": 125,
   "metadata": {},
   "outputs": [
    {
     "name": "stdout",
     "output_type": "stream",
     "text": [
      "                 precision    recall  f1-score   support\n",
      "\n",
      "           ADHD       0.85      0.80      0.82       667\n",
      "           Acne       0.92      0.88      0.90      1188\n",
      "        Anxiety       0.68      0.68      0.68      1335\n",
      "Bipolar Disorde       0.71      0.65      0.68       881\n",
      "  Birth Control       0.95      0.97      0.96      5347\n",
      "     Depression       0.68      0.70      0.69      1887\n",
      "       Insomnia       0.80      0.79      0.80       880\n",
      "        Obesity       0.51      0.55      0.53       702\n",
      "           Pain       0.85      0.89      0.87      1323\n",
      "    Weight Loss       0.62      0.54      0.57       822\n",
      "\n",
      "       accuracy                           0.82     15032\n",
      "      macro avg       0.76      0.75      0.75     15032\n",
      "   weighted avg       0.82      0.82      0.82     15032\n",
      "\n"
     ]
    }
   ],
   "source": [
    "print(classification_report(y_test,svm_pred))"
   ]
  },
  {
   "cell_type": "code",
   "execution_count": 126,
   "metadata": {},
   "outputs": [
    {
     "name": "stdout",
     "output_type": "stream",
     "text": [
      "15 day trial 11 day result start at 380lbs now 330lbs drop 3 dress size due to the decreas in the fat tumor brought on by dercum s diseas a diseas diagnos by dermatologist no known help till now in 11 day so much progress just tri to find a way to afford i feel great\n",
      "i am a 23 y o femal and i start take adipex about 2 year ago i start at 310 and i current weigh 209 0 in those 2 year i took adipex about 4 differ time the last time i took it was in decemb i have stop use these pill becaus a continu of them can have side effect on your heart and liver they were amaz and definit help boost my weight loss i experienc fast beat heart mood swing and main dri mouth i had dri mouth the last time i took it but i think it was a pretti good side effect becaus i drank so much water i have maintain my weight loss becaus i chang my lifestyl i now eat healthier and exercis 4x a week i have gain muscl so my weight is up i recommend these pill\n",
      "i took my first pill today spent the next 9 hour liter asleep or stand over the sink within one hour of take it the nausea start at 2 hour the dizzi and tired i felt wors than when i had the full blown flu stay away there are better less toxic option\n",
      "on saxenda for about a month and drop 18lbs with no ill effect whatsoev but my insur doe not cover it and my out of pocket is almost 1 300 everyth i have tri noth work except saxenda but i can t afford it whi doe it cost so much is there a breakdown on the cost post somewher i guess novo nordisk a s is make quit a bit sure would like to see who get paid what tomast106 com\n",
      "i m a 45 yr old femal 5 6 quot tall and my start weight was 220 when i weigh in at the doctor s offic on august 31st i have some health concern that lead my doctor to prescrib this for me my doctor help to administ the first dose so i would know what to do the next day i felt okay the first 2 day with littl side effect the 3rd day i couldn t stand the smell of bacon who doesn t like the smell of bacon this girl now the 4th day i threw up my morn coffe and med i have been experienc constip as well i am current on 1 2mg and on day 9 i ve lost 5 lbs so far so i ll keep deal with the side effect i did start to inject at night to help with the nausea i am veri hope this medic will do the job\n",
      "qsymia work for me it is true it make you thirsti and make diet soft drink tast like brake fluid total kill my crave for sweet the good news i was close in on the 300lbs mark less than two month later almost at 260 lbs i am a weight watcher so i have an accur record of my weight loss also i go to my local ymca and workout six day a week\n",
      "i was 288lbs when i start take medicin i am down to 265lbs it realli work and am still lose\n",
      "i had gain 100 pound over the last 4 year due to have my son and hormon imbal and noth has work in the past i m current on the 15 day free trial and i was veri suspici of a drug like this howev i am on day 13 and i have lost a total of 11 pound in just under 2 week i cannot be happier i did not have ani of the symptom list on some of the other post dizzi headach ect i do have a littl bit of dri mouth which just forc me to drink more water my insur doesn t cover this but i have the 75 copay card which is a god send becaus the medic is usual well over 200\n",
      "i m 5 9 i start take this medic 11 14 i weigh 315lbs i want someth to help guid me in the right direct when i start i made a commit to myself that i would go paleo which i did i also exercis 2 3 time a day now 7 month later i ve lost 190lbs i can t tell you how much this medic has help me save my life not onc dure these 7 month have i had anyth sweet i drink noth but water not to mention stop take a pill everyday and take one everi few day my doctor never put me on anyth higher than the 7 5mg bc i lost weight so rapid i have no desir for anyth bad to eat with or without the medic the onli bad thing i can say is that i have a ton of excess skin\n",
      "1 month mark and 19 lbs down it is work contrav cost 70 with their discount code insur doe not cover it sign up with conrav onlin and use free quot scaledown quot membership scaledown will send you a free digit scale that send weight result wireless to program then you track your progress onlin or by mobil use both i have lost just under a pound everi day regard the side effect constip if you alreadi are someon with constip problem it won t make it ani better increas the leafi green i lost my habitu need for coffe ice coffe other sweet savori crave it just disappear over now result in intestin cramp probabl becaus of smaller stomach protein and veg is help to lose\n",
      "i ve been on contrav for right at one month the first week and a half i experienc extrem dri mouth but easili fix by drink lot of water after first week i also start with constip colac rectifi the problem but work with dr for a better solut around third week i start experienc the mild headach mild as in i knew it was there but it didn t interfer with my day i m feel great my appetit has decreas signific and the joy i get from eat which is what caus the problem in the first place has diminish i have the energi to get up and move throughout the day i ve lost 10 pound most of which came off the last week hope that mean it will start come off quick\n",
      "i ve been on belviq for 6 week now i want so much for this to work so i endur the dizzi extrem fatigu foggi brain memori problem and even an increas in my irregular heart beat hope they would decreas and the belviq would work they did not and i ve experienc no improv in appetit control the worst part is i ve been treat for clinic depress and had to go off the med that had been help me in order to take belviq the antidepress effect of belviq never kick in for me and i ve been miser i m glad it help some peopl but i want to write this review for peopl who are be treat for depress befor tri the belviq preced cautious it may not be for you\n",
      "no side affect at all i lost 20 pound the first two month then i start slack on take my pill correct and gain about 8 back it s been fluctuat for about 4 5 week but that s my fault i m go to keep at it\n",
      "i have been take contrav 1 pill bid for over 2 week have not lost one pound have been extraordinarili hungri to the point that my stomach start growl by about 6 pm serious i have been overwhelm tire throughout the day and have found it veri difficult to get up in the morn i was alreadi take wellbutrin so i just took contrav instead of my daili dose of wellbutrin sinc it was close to the same dose perhap this doesn t work for peopl that have been on wellbutrin for a while total wast of money and time\n",
      "i have been on belviq for 9 day now and have lost 7 lbs the first day i had a sever headach and some dizzi i onli took one pill that day my headach and dizzi went away onc the pill wore off start again the next day and no headach so i kept go and took the two pill that day i have had no side effect sinc that first day it doe curb my appetit and i haven t been hungri i am use my fitbit and the myfitnessp app to keep up with my exercis calori and water intak i need to lose around 65 pound belviq cost me 75 a month i got the discount coupon from my doctor updat one month 15 pound down no problem at all it s work for me\n",
      "i am rate this drug a 5 at this point becaus it has neither been a good experi nor a bad one today is the 7 day mark for me my weight has not budg sinc day one but it s onli a week in i m drink a lot more water and tri to make wise meal choic i seem to get full with less food than befor i start belviq but i am hungri most of the time i am also on the brink of fall asleep all day long i can t seem to realli wake up truli until about 2 00 in the afternoon i m up at 5 30 dure the week i am hope base on what i ve read onlin about the drug but so far for me person no suppress of appetit substanti reduct in energi level and no weight loss o\n",
      "start take contrav monday march 28 woke up today march 31 with the worst headach i have ever had and nausea so bad it felt like the nori virus i do not recomend this product i feel a littl better now at lunchtim all i feel like eat is soup\n",
      "i start take contrav the 3rd week of januari at first i did feel a littl nauseous and light head but i drank lot of water and didn t take the pill on an empti stomach and those side effect went away after 3 day the onli side effect i am still experienc are troubl sleep if i take the second dose too late in the day and i can t stop clench my jaw howev i have lost 11 pound i also struggl with depress and i have tri all kind of med for it and noth has made me feel as good as this medic doe i feel like i can enjoy my life i rare think about food unless my stomach growl and i can resist comfort food and make better choic i hope it continu to work this well\n",
      "i ve been on saxenda for three month and the follow are item i ve learn and you may find help the veri first thing you should do is regist with saxendacar the compani has a dietitian and nurs to help you through your weight loss journey track your eat with an app such as myfitnessp note nutrit be mind when you are feel the side effect to decid when best to take the medic did you know it has a full effect after 12 hour eat smaller meal more often drink lot of water and limit high fat food and sugar lace food let your stomach finish digest your food befor go to bed becaus anoth side effect is acid reflux meet with your doctor on a regular basi and have blood work to monitor\n",
      "a veri disappoint experi the cost of the month suppli was not the onli negat factor the nausea the not feel myself and the unusu liver test were all deterr to continu on the program after 2 month i could not go on yes i lost some weight but not enough to continu with the horribl side effect of the drug and all the weight came back on we are human and alway look for the quick fix howev this product is danger and the pharmaceut compani that releas it should refund all peopl that it did not work on\n",
      "stick with it i didn t realli start see result to about the second month you have to rememb it not a magic pill though it doe curb your appetit for carb and sugar i m in love with candi i found myself not even want quot junk food quot for a snack my advic is start do some exercis exampl 100 jump jack 100 squat and 100 sit up i was at 185 at the start now i m at 174ish that s about 10 pound in a month so that s right on a healthi track oh and drink onli water it realli help as the say goe quot don t complain about not make ani progress if you don t put forth ani effort quot\n",
      "start saxenda 3 week ago first week slight nausea a littl dri mouth need to increas fluid more than like i have struggl my whole life with my weight even start process for gastric sleev and back out at the end i have lost 14 lbs in 19day 1800 calori diet most day under that i don t feel hungri don t crave sweet like i did and diet coke make me nausea i am veri hope the warn for thyroid cancer doe somewhat alarm me but plan mayb to stay on saxenda 6 month to 1 year i start 3 mg in 2day i have be impress with result\n",
      "wife wast money on it like she say quot i m still fat quot\n",
      "i have been take this for three day now eat lot of veggi fruit and lean meat on day two i experienc an upset stomach and lot of diarrhea howev i feel fine day three not sure whi day two was so rough i m 5 3 quot and 148 lbs hope to get to 130 lbs\n",
      "i start take adipex on jan 1 2014 until feb 1 2014 i lost 30 pound even i did onli 30 minut of cardio a day that was just brisk walk my side effect were cotton mouth extrem loss of appetit i lost my ass i had extrem energi couldn t sleep i was veri focus i had a pleasant attitud but quick irrit fast heart beat blurri vision everi now and again my doctor told me that with adipex it help you curb your hunger but when you work out it burn doubl calori i was 180 and went to 149 whe i stop the weight never came back and it becam hard for me to eat as much as i use to i got pregnant and had a babi jan 29 2015 i am 180 pound as of 2 4 17 and i start adipex again same symptom and i m lose a lot again\n",
      "i start on 8 24 15 as of today 9 6 i have lost 10 lbs just under 2 week i onli take half a pill which is just fine for me i have veri littl appetit i forc myself to eat i m stay under 1200 calori per day more like 800 my crave for sweet are gone this is strang for me becaus i love sweet i m not eat ani bread or drink ani soda lot of water fruit veggi salad and protein i have not exercis yet but plan to soon i could not sleep the first few day and dri mouth is start to kick in it s toler my goal is to lose 60 lbs by the end of the year\n",
      "start march 1 2015 and i m down 8 pound in 8 day march8 2015 i haven t chang my eat habit much i just find myself get full quick i never experienc ani side effect from take belviq and i just take 1 a day i will you you guy post with my outcom\n",
      "been take phentermin 37 5 mg sinc april 14 2017 sinc i m morbid obes my weight was 258lb and i m now 237lb that a total of 21 lbs down within a month i walk everi even for 45 minut and stay away from high sugar drink bread and greasi fatti food my goal is to lose anoth 40lb by august 15 first week on it i lost 8lbs then follow week anoth 5 then went down to like 4 lbs the follow two week i still see it as realli good went from a jean size 20 to a 16 now i have been receiv week b12 shot for energi that realli help me to stay energet and activ definit a good pill for weight loss\n",
      "i took it for five month everi day i did not lose a pound it just doesn t t work for me\n",
      "this is my 3rd day on contrav and the side effect are what are worri me sever nausea come and goe throughout the day sometim it get so bad i can t even get up and move around i have also had sporad hot flash and excess sweat the worst side effect i saw it was on the first and second day hello when i would have terribl drowsi to the point where i had to hold my eyelid open just stay alert and awar of my surround i m not go to stop take the medic but i m worri becaus my doctor prescrib for me to increas a pill each week until i am on 4 pill a day i m a femal 25 year old 5 3 weigh 253lbs is this too intens of an increas suggest are appreci\n",
      "my person experi with qsymia was not favor howev other peopl have share their experi with me and didn t experi the same side effect the blur vision was enough to serious scare me away from this drug after about an hour after take qysmia it was extrem difficult for me to drive due to blur vision i couldn t make out anyth on my comput monitor at work after a coupl of hour and start have migrain it may be effect but i didn t think the side effect were too harsh on my bodi\n",
      "been on orlistat for 2 month and so far lost 21 pound you realli have to watch what you eat as the side effect can be veri unpleas let s just say i had to buy extra toilet cleaner stay away from fast food and sugari snack stock up on veget and fruit this is not a miracl pill you have to put work into it but it help a lot go back to my gp to get my 3rd month prescript look forward to a healthier me\n",
      "finish my 2 week and i ve lost approxim 9 lbs i m motiv sinc i ve lost no weight in the last ten year tomorrow i start the higher dose 7 5 46mg so we ll see how it goe side effect still minim appetit definit suppress made it thru turkey day w o bing keep to my 1200 calori about 90 95 of the time\n",
      "i began take saxenda on januari 8th the first month had a few side effect acid reflux nausea inject site discomfort and constip this all subsid over time i ve been go strong for 4 month and have lost a littl over 30 pound i start at 246 sinc my appetit has been suppress i eat smaller portion 5 to 6 time a day prior to saxenda i would eat larg quantiti for lunch and dinner never breakfast and certain snack at night so it forc me into better eat habit i also tri to eat whole grain turkey salad etc it s chang my lifestyl\n",
      "struggl with weight for year i have tri numer diet high protein low carb be one of the best but with a busi stress life i need a but of help i stare on phentermin 30mg in the morn and phendimetrazin 35mg in the even they work like magic lost 6 lb in 1 week 10lb in 1 month by the 3rd month i had lost 20 lb start at 170lbs end at 150lbs maintain for 2 month just by take morn pill i will start take even pill to lose 20lbs more the secret is stop eat and start onli tast good\n",
      "i ve been on contrav for 6 week now and onli lost 3 6 pound i had horribl side effect i was constip and had major poop problem and i mean major i experienc some nausea but noth too serious that i couldn t handl i would get realli hot and sweati through out the day and it was sometim uncomfort i m realli disappoint in this medic i realli thought it was go to help i ve been stuck at 260 for about a year and i thought this was go to get me over this hump i work out with weight 6 day a week and run 2 mile daili i m go back to the doctor tomorrow to see what s go on\n",
      "i ve been on this for a week and lost 9 pound probabl water weight but it s still pound i recommend\n",
      "start belviq a littl over 4 week ago tri phentermin in the past and i would lose weight but also not sleep belviq has been awesom i have lost 10lbs in 4 week i have hashimoto s diseas so even at that slower rate i am elat i can diet for month and not lose ani do get dri mouth and a littl sleepi at time but i am usual not hungri and have to remind myself to eat i am full with less food and don t have the quot i have to have right now quot crave pretti awesom\n",
      "i ve been take tenuat for 6 month i m veri pleas with result i ve drop 4 dress size and 30lbs one thing i ve found to be the key to my success is work out and make sure i eat enough calori i onli want to lose 17lbs more pound and i m keep quot the faith quot that i will accomplish my goal\n",
      "i wait to start until today sinc i am off work today i ve never been on a prescript befor outsid of antibiot for cold flu etc i didn t feel anyth until around an hour my throat got extrem dri and i had an insati thirst i drank glass after glass of water for at least two hour i also had to use the restroom everi 10 15min which is a concern for day i have to work i drive long distanc for work at the second hour i had a crazi burst of energi and start deep clean my entir hous after i finish i felt tire so i laid in my bed i was in it for 30 45min but could not go to sleep i got up and ate two pizza slice which is normal for me i guess it take a while befor your appetit is suppress\n",
      "i have to say i love this pill the onli side effect was a small headach for the first 48hrs my doctor want me to have a surgeri but i thought no i can do this on my own i have been take them for 2 1 2 week i weigh in at 280lbs and now i weigh 269lbs i pray that i can keep go i have no crave at all i wish everyon the best\n",
      "i m 5 2 quot today mark 2 week on med start now 1st week did 0 6mg lost 6lb probabl h2o 8mg today but scale hasn t move in day small needl no pain few time had sting not bad dose initi night switch to am no side effect 5 day then had a bad migrain no nausea like other appetit is crush have to forc brkfast bare eat lunch i m quot hungri quot but can onli stomach a few bite 800 cal day no snack few time felt dizzi increas h2o ate protein constip is main problem now senna tea lot of h2o to help littl exercis now but will start walk goal to be about 120lbs 60lbs more to lose in cover 50 copay wish me luck\n",
      "i am classifi in the bmi categori as obes i need to lose 90 pound and sinc start belviq in octob of 2016 i have lost 42 pound i have start work out becaus i know that just lose the weight was not enough i need to get my heart go again i have no medic issu so it is just about get the weight off for a healthier me it took about 3 week for my weight to start drop and it has been slow there are time where i will lose weight and then i might go a week and lose noth the main thing is not give up and get out their and tri i can t run a mile yet but i can walk it don t stop tri and don t give up on belviq it realli help\n",
      "been take belviq for 3 4 week side affect were mild headach fatigu and sneez in the 3rd week but now subsid for the most part i am though a littl tire at the end of day and sleep well at night i m assum the longer you take it the more your bodi get use to it i have lost 15 lbs so far i have cut my portion to almost half still eat much of what i like but less also notic that i have made some new healthi choic i plan to start exercis this week as well by walk regular until i can jog comfort i know there is no perfect pill that s not go to have side affect so if there s a littl discomfort in the short term for long term gain i m in i truli belviq will help me achiev my long term goal\n",
      "i have battl with my weight my entir life with that be said after weigh in at 296 pound on my doctor appoint almost 4 month ago my doctor recommend contrav i read about the possibl side effect but decid i need to tri this for me my health and my 6 year old son i did not experi ani negat side effect the first month of be on contrav i onli lost 5 pound my second month i lost anoth 5 pound i must admit i was frustrat my calor intak had been reduc drastic then after the third refil the weight start drop off i honest i can t wait to go to my doctor appoint this month i weigh in today at 270 portion control is so easi crave are complet gone i love it\n",
      "i have been on qsymia seen 4 1 2015 i had tri everyth to lose weight and was unabl to do it i love to cook and love to eat we eat out a lot and have a lot of compani up to this point i couldn t control portion i ate a lot onc i state this drug at 7 5 i start lose and control my portion i join weight watcher expertis do great deal and have lost 47 pound i have 3 more pound to lose i did see that i was lose my hair and it thin a great deal i also have troubl sleep the good far out weigh the bad when i had onli 10 pound to go i start take it everi other day this has help me with the hair loss i have been eat what i want more or less\n",
      "suffer through the side effect in the first week headach nausea dizzi but have lost 4 pound alreadi hope the side effect will taper off as this medic definit control my hunger and crave\n",
      "worsen heart problem i was on the medic a month and was do fair well howev i suffer from occasion afib usual about 1 2x month had it daili while use this drug my cardiologist took me off and afib went back to 1 2 month i d be weari if you have ani heart problem\n",
      "i m 21 year young i start take phentermin in decemb of 2016 i weigh in at 287 lbs today i weigh 229 pound i m on a 40 carb 1 200 calori diet drink onli water and my snack are nut or beef jerki i work out 4 time a week for a hour with intens cardio i also work in the fast pace or so i don t have time to think about snack i m happi with my result i m continu to take phentermin for anoth month or so and then i ll be on my own use just the knowledg of what s right and wrong yes i did cheat twice throughout my diet and each time afterward i felt so disappoint and like it wasn t even worth it\n",
      "5 5 sw 120 start 1 month ago have lost 12 pound steadili lose 2 5 a week now can onli handl the 2 pill in the morn anyth beyond that and the nausea is too sever sinc i m still lose on the lower dose so just stick with that for now you have to take this medic with food honest the hardest part was the mental emot side effect food lose it allur it s like your quot break up quot with food food keep call and show up but your like quot no food i m just not in the mood i m sorri it s me not you quot and then you are left deal with what empti you may have been tri to fill with food also you get full so fast it s not even worth cook a full meal it work but there are sacrific\n",
      "i start phentermin februari 27 sinc then i have cut out liquor soda and juic i am onli drink water my calori count is down to 900 today so far my symptom have been general extrem cotton mouth and get jitteri my appetit has total becom suppress my start weight was 218 my goal weight is 165 i will be post my weight by month as i see my doctor i notic my urin is now clear my face normal has acn and i m start to clear up and all of my friend have been tell me i look like i ve lost weight so hope by the time i see my doctor i will be down 25 pound\n",
      "i have been on contrav sinc tuesday 9 1 15 and i ve lost 2 6 pound so far not bad for onli take it for 4 day i will say that i did experi veri mild nausea the first day but had some cheerio as someon els mention and it help i also have had diarrhea loos stool everi day my boyfriend say that s whi i m lose which is probabl true i am not too concern about it becaus i had been told year ago that i have irrit bowel and i do occasion have this issu my start weight was 236 6 and today i weigh in at 234 0 i will report more in the come week\n",
      "veri effect but couldn t handl all the visit to the loo after too mani visit to the toilet i cut down to one a day i ate two virtual fat free meal for breakfast and lunch and then took just one pill with my even meal stop me snack complet fear of accid steadi weight loss approxim 1kg per week veri good but stock up on the toilet roll take one pill with just my even meal mean that my toilet trip are even night this suit my lifestyl much better as don t have the kind of job where i can be dash off everi five minut\n",
      "i have been on belviq for exact 2 month now i am a 43 year old male but was start to feel like i was 75 year old in 2 month i lost 42 lbs and am averag about 1 5 lbs everi 2 day i was 329 lbs at the start and alreadi can feel the differ along with belviq i chang my eat habit and although i have not start exercis yet gotta drop some more befor i start that i feel like a new person i can do thing like go up a flight of stair without lose breath someth i couldn t do befor i read a lot of peopl have differ success or no success with this drug but i thank my doctor for allow me to tri this and not do the bypass surgeri he had origin want to do good luck to everyon\n",
      "i ve been take this for just 8 day and it work i am 5 8 and weigh 79 3 kilo at my height when i weigh myself day befor yesterday i weigh 77 2 these pill work becaus they forc the fat out of you and if you eat bad food they don t care where you are or what you re do at that second you will sh yourself i have a fitbit and have been make myself walk back from work 25 min each day so togeth with normal day walk also averag 5 6 mile so lost over 2 kilo without a lot of effort in just over a week these realli work i ll be buy some more until the beer belli that haunt my late twenti is slay and i can see my ab again\n",
      "so i ve been on it 4 day i m starv becaus i m on a 1 000 cal diet with it the suppress appetit hasn t kick in yet i d say i ve probabl lost some water weight most becaus i m drink so much water to keep from starv i went through cmwl at the recommend of anoth doctor and becaus i ve gain about 50 lbs in the last year some of them were that boyfriend belli then i got that break up belli now i m 33 5 5 263 lbs and i just have to make a chang i ve final reach the point where i don t want to be like this forev i was alway around 200 and okay with that but i can t anymor i don t even want to look in the mirror so i m readi to get over the side effect\n",
      "dr suggest contrav for 2 yrs declin think i d do it on my own wasn t like the potenti side effect cnp clarifi given famili histori current obes eat habit activ level head for a place much wors than potenti side effect move forward with it scaledown 1st month down 21 lbs 4 1 2 month down 63 lbs signific curb desir to eat feel full much faster side effect seem to be mild constip has impact sleep cycl to the extent am awak more frequent through the night than previous would have prefer to not have these thing but well worth it consid weight loss improv well be qualiti of life establish much better eat habit s for post contrav\n",
      "i ve been on saxenda sinc januari 11th and have lost 9lbs i have a complex medic histori but be lighter and abl to do more with my bodi is the goal weight wise my goal for the first 6 month is to lose 56lbs my side effect thus far have been terribl extrem nausea acid reflux sever fatigu even some moder to sever dizzi i m not enjoy it much howev it seem to improv 10 12 day after each dose increas dose becaus of my side effect i ve need to slow my dose progress everi 2 week i increas by 0 6 mg insur in canada the public servic health care plan cover this medic in some case there need to be a medic need asid from obes good luck everyon\n",
      "i took this medic for 5 month from april 2012 through septemb 2012 i use this medic as a tool i chang my lifestyl and thought of this pill as one toll to assist in my lifestyl chang i start at 178 pound and i met my goal weight of 115 pound in decemb of 2012 it is now sept 2013 i have maintain my weight this is not a miracl for last result you must eat right workout and keep a healthi lifestyl it was wonder in assist me if you do not do the work as soon as you go off the medicin you will gain the weight back\n",
      "the medic effect my appetit and i was free of ongo hunger pang i have lost 40 lbs and am maintain it i wish it was not as expens as it is my health and energi level have improv far outweigh period nausea and constip issu\n",
      "i am take phentermin 37 5 mg onc a day it has been the onli diet pill to actual suppress my appetit without an actual upset stomach i just feel normal instead of feel addict to food been watch what i eat and work out at least 30 minut a day i have lost 10 pound in the first 9 day cant wait to see where i go from here onli a littl scare becaus i might becom addict\n",
      "i am 5ft and weight 204 pound i will start tomorrow 8 12 15 on belviq i ve done a lot of research befor go to my dr for this medic i ve spent hundr of dollar on all sort of weight loss medic though belviq is on the expens thank god for the manufactur discount end i m will to tri it i alreadi work out 30 minut a day so i m veri hope this will work i will post an updat in 30 day\n",
      "i start this medic three seper time stop onli a coupl day in becaus of the sever headach i got it was keep me from be abl to lead my day i am tri again start with a quarter of the pill and ibuprofin in the morn i can see how this help peopl though i m not hungri and asid from my headach i am in a good mood if i can get past the headach which interest make me crave someth sweet and cold like ice cream then i think this will be good i exercis high intens four day a week and watch my sugar and carb intak as well lost 20 lbs last year but had to keep myself account the medic help but you have to take charg of it\n",
      "i am 21 year old have struggl with my weight my entir life and have never been abl to lose weight until now for context i have pcos and virtual no metabol so even when i was an athlet eat well and work out up to 4 hour a day i was still heavi when i start contrav i weigh 210lbs it has been around 4 month and i am down to 184lbs for the first time it feel like i am get result with the same thing i d been do for year i didn t chang the way i eat i just ate slight less and keep a relat moder exercis schedul and the weight practic melt off the onli side effect i had was cotton mouth but hey good way to drink more water and even that went away onc i was up to 4 pill a day\n",
      "i did not lose a singl pound dure the 15 day free trial i ach all over muscl ach pain general malais decid not to continu after the free trial and let me just say that the withdraw from this drug are horrend had high hope for belviq but serious thought i was go to have to go to the emerg room the second day after i stop take it had race heart beat occasion while take it\n",
      "43 yr femal 5 5 quot 238 lbs take qysmia sinc dec 23rd start low dose free one down 6 lbs have been eat noth but snack food not realli hungri but my mind keep tell me to snack extrem thirsti soda tast gross which i expect becaus i use to take topamax for migrain a few yrs ago i drink ton of water littl emot extrem tired midday earli even then a burst of awak toward late night mayb has someth to do with when i take the med none of the side effect are too concern to me can t wait to actual start eat healthier at home so i can do some serious weight loss the con to me is the cost\n",
      "updat rememb i start on april 9th at 221 6lbs today i am 207 4lbs this product is work for me i forgot to add in my first post that i get the sweat side affect with ani kind of physic exert i begin to sweat a lot i have read on other side affect site that peopl experi this i am on other medic that caus this too but the contrav exacerb it this is my main complaint about the drug and would be the onli reason for myself to discontinu howev it is work so well that i am will to deal with it to reach my goal so if i need to go somewher or be around peopl i just make sure i haven t been do thing around the hous or get too stress out to activ that sweat side affect\n",
      "dec 23 my doctor had me start this my first week i experienc all the symptom and lost 5 lbs in three day i had to forc myself to eat and i couldn t sleep i seem to have adjust now but have gain the weight back i m confus sinc i work out hard 5 to 6 day a week i eat less than 2000 calori a day i feel like i would starv at 1200 like i see most of you post should i be restrict to 1200 my doctor didn t mention this to me on a posit note i do feel more energ when i work out i feel like i don t want to stop exercis my doctor prescrib this for me to give my metabol a boost i ve lost 70lbs w o the pill but haven t lost anyth for 6 month been at the weight mayb i need to have it a month\n",
      "this is my 3rd week i did miss a coupl day of take it which made me nervous to restart i start take 2 pill this morn i have so far lost approx 9lbs i m thrill my cloth are fit better alreadi i feel slight quot spacey quot at time but this feel quick pass like other i do have to remind myself to eat i will post more updat next week good luck all\n",
      "i was sever obes and didn rsquo t know what i was do to myself i was basic kill myself or eat myself to death i was 400 lbs when i start this med i notic an instant chang in not onli what i was do to myself but it gave me energi i didn rsquo t have it sort of woke me up and made me realiz what i alreadi knew that i didn rsquo t like what i saw in the mirror that was almost 10 year ago today i am my ideal weight for my height 130lbs and i could not be happier i have lost the weight and kept it off\n",
      "i am 5 7 263 lbs femal my doctor put me on this to help with my weight loss i am on weight watcher as well and start go to the gym i start april 3rd with 0 6 for week one and i just increas to 1 2 for week 2 week one my symptom were nausea stomach pain and abdomin pain just below my belli button extrem constip and bloat i had to go the pharmaci and got stool soften which help after 2 day of take stool soften i also felt extrem tire week 2 yesterday was my first inject of 1 2 and the next day today i had sharp pain in my stomach until i had someth to eat and drink lot of water i feel like i need to drink a lot of water to feel good i will updat soon\n",
      "i have been take it for almost 2 month now and i lost 9 lbs the first month and had a lot more energi and the second month i haven t lost anyth and no energi i have had constip cramp and dri mouth and insomnia i have to go to the doctor onc a month for a check up and a new prescript my goal is to lose 30lbs but at this rate i am not go to make it i walk 3 mile a day at a brisk walk and do a cardio work out 3 time a week but can t seem to lose the weight like everyon els who have comment on this board\n",
      "i start on this april 22 2016 i m 32 and a mom of 2 5 4 start weight was 272 i sit at a desk 8 hour a day i love to eat i have tri everyth except surgeri spent lot too i was alway hungri this medicin has help me to stay on track with a calori goal of 1500 or less most day i bought a fitbit and after work i ve onli had between 3200 and 3800 step so we go on walk and my daili averag is 11 000 i start jog a littl bit everi other day we do tone about 30 min and we get the kid involv too i have lost 40lbs befor but it took me 9 month and live at the gym as of today i have lost 42 lbs 230 weight it has been 13 week and not slow down dri mouth yes but is cool for my result\n",
      "i had the gastric sleev surgeri when my weight reach near 300 lbs on my 5 1 frame and i was desper for an intervent after the sleev with diet and exercis i got down to 208 but then i just stay there for month it start to seem hopeless and my sweet addict return found myself eat sweet again a fellow gastric sleev patient told me she was take qsymia to help with her sweet crave and i should tri it went to my doc and after discuss he opt to put me on the 3rd level dose rather than start me off slow first day i did have tingl sensat did have lot of energi and still do onli been 2 week no hunger yes dri mouth onli side effect i have no sweet love qsymia scale is move again\n",
      "ok here is an updat i am into the last 2 day of the first 30 day on qsymia 3 75 23mg i was 233 and now down to 215 i have more energi and did chang my eat habit and i am exercis more this medic doe curb your appetit and you do not realli crave sweet which was a problem for me the dr was excit to see the result i just saw him and i went down 1 point on the bmi scale and he has up the dose to the next level i shall report back to see if there are ani side effect with the higher dose in refer to the cost my deduct was up to 200 then after that i pay onli my copay which is 50 00 a month there are websit that offer coupon for this med so pleas do some research like it did i got 2 week free\n",
      "start take on februari 27th i was alreadi count calori and exercis 5 6 day a week but noth move the scale first few day i m so tire after take this seem to be the onli side effect i have a slight headach but i think that s due to not eat as i m just not hungri goal is 80 lbs i m 250 5ft 9\n",
      "i start the medicin 4 day ago and down 4 pound alreadi it curb my appetit and i don t snack eat like i use to i have also notic that i have more energi which keep me move throughout the day and want to walk when i get home so far so good i also feel focus i think the energi is help boost my metabol\n",
      "i start contrav on 2 17 2017 i m now begin my 2nd week one pill in the morn and one at night and i ve alreadi lost 3 4 pound my crave are now under control and i don t get up in the middl of the night to eat anymor i honest feel amaz and full of hope for the first time in a long time the onli thing notic side effect wise was have a headach and fatigu the first day or so but noth sinc i ll updat in a coupl of month but i give this medic 5 star besid the fact that it s super freak expens lol\n",
      "start my third month on this medic to control my eat habit in order to lose weight i start at 183 lbs i weigh in this morn at 180 6 lbs the bupropion part has help my mood and attitud but i see no chang in inappropri eat or crave desir for pizza ice cream etc i pay 90 plus tax a month\n",
      "i have been use qsymia for a littl over 3 month i have lost 50 pound i m 30 have 1 child and couldn t lose weight no matter how long i stay in the gym there is no magic pill that work for weight loss without diet and exercis you need to do these thing to see these type of result i will say in the begin my side effect were aw i alway felt tire but i push pass that and it went away i have sinc gone off my blood pressur medicin as well i would recommend follow close with your doctor if you are on bp med though becaus my blood pressur drop so quick i was faint not from qsymia but from get healthi so fast\n",
      "i am a food addict the first day i took contrav i lost desir to eat crave no longer consum me the feel of full occur now and linger for hour i am onli on day 3 but i hope this continu log food on fit pal help no snack and 3 healthi meal a day i don t feel hungari at all it is wonder i was consid gastric bypass this was go to be my last attempt if i continu to feel this way i won t need surgeri\n",
      "i ve been on victoza for weight loss for approx 6 week i was start on 0 6 the first week 1 2 the second and 1 8 the third i had a touch of nausea the first two week but found that if i ate a small snack carrot appl the nausea went away i ve lost 18 pound so far and i feel great\n",
      "keep me from be overwhelm hungri so that i can concentr on eat 3 low calori healthi meal daili with some nutritiu snack thrown in not be hungri all the time allow me to spend more qualiti time excercis as well\n",
      "i am a 36yr old mother of 4 and i start take contrav yesterday and initi i felt noth until i start move around i becam veri jitteri then extrem clammi and hot my mouth start to water and i threw up all over the place to say it made me nauseous is an understat i thought mayb it was becaus i ate a light breakfast befor take it so i took it again this morn after a decent breakfast and as i m type i m go through the exact same symptom as yesterday i m go to discontinu use this as much as i was hope i could continu to help with my weight loss the symptom are too harsh for me to continu\n",
      "i have been on this medic for 1 month and it doe take away hunger i take my pill around 10am becaus i m more of a late night eater i have had the headach the first week take the pill but they have slight gone away this pill doe make me feel a bit of the rapid heart beat but onli for a bit i did feel a bit of depress the first week take it and it not like me at all but as my bodi is get use to it that feel went away i have tri phentermin and that gave me crazi energi but i was still abl to eat on it it did not realli take my hunger away like diethylpropion i m on the 75mg er so it releas slower for the whole day i exercis 5 day a week for 1hr and 30 min lost 12lbs and exercis and eat right\n",
      "i start this medic for weight loss on 01 15 10 and today is 02 14 10 i am a femal age 22 and start out at 227lbs and i am down to 210lbs that s 17 lbs the first day i took this medic i could not believ my lack of interest in food howev the first 2 day on this medic i had a horribl headach bad tast in my mouth and extrem dri mouth symptom did go away after 2 day so that was the good part i exercis about 2 day a week at this time i would suggest to team up with your dr with this so he can keep an eye on your blood pressur wt loss heart rate etc this medic has start to wear off recent but my eat habit are on the right track other than that this medic is amaz\n",
      "i am start my third week on belviq i am down almost 7 lbs side effect at first were feel veri tire feel cold and dri mouth i still seem to have low energi and can t seem to exercis with the strength i had befor none are bad enough to quit at this point it has total diminish my appetit and crave for carb that alon is worth the 200 mo i am current pay\n",
      "didn t work at all i have a friend where the weight just fell off so want to tri it he had side effect of lot of nausea and eventu stop it becaus of that i use it for six month at the highest dose and didn t lose ani weight actual i lost about 5 lbs the first month which is whi i kept go but regain that 5 and finish 6 month at great expens with no weight loss i will say i also had zero side effect nada zip no nausea noth mayb have side effect is a marker for those it work in\n",
      "i ve been on 30mg phentermin for 42 day and has lost 31lbs i got 42 more day on the pill hope i will be at or close to gw notgivingup sw 274 cw 243 gw 200\n",
      "after onli a few day i was surpris to find that i was easili abl to make a smart conscious decis about what i would eat and how much the quot voic quot in my mind that would push me to do just about anyth to get my hand on huge amount of realli crappi food was gone here s the catch some other review say that peopl felt more hungri well that s just mild nausea like slight morn sick where you feel like food will fix the sick feel drink lot of water should help with a lot of the side effect lost 8lbs in 2 1 2 week this medicin work by turn off the quot pleasur quot of eat so you can eat for nourish onli this is whi you might feel full so fast it shouldn t take that much for a human to be satiat\n",
      "my dr suggest ad victoza to metformin and acto treatment for diabet sinc my a1c level were get progress higher and i am 100lbs overweight in 5 week i lost 23 lbs for the first 3 week i experienc nausea and extrem fatigu i love victoza becaus for the first time i feel full after eat small portion i have a great reduc interest in food and appetit i feel reliev that i can final eat to live and not live to eat\n",
      "i have lost 26lbs dure the past six month i didn t work out consist i am go to to continu to take it as i still have more i want to lose\n",
      "my dr prescrib me the contrav to lose weight i took the first onli pill yesterday i wound up in the er from an allerg reaction to this pill it was the onli thing differ i had took 30 min after take it i was shake all over insid out it felt like my insid were tri to crawl out of my bodi i had chill was liter freez it was in the low 90s veri bad headach my tongu swell up later that nite could hard talk hurt to be touch i couldn t be still i was shake realli bad the worst experi i ve ever had i liter thought i was go to die\n",
      "i start at 247lbs and took it for 3 month and am now at 214lbs it work great lot of energi and no appetit had to make sure and eat thing that were healthi becaus i need the nutrit and i did exercis daili but after the 3rd month realli notic extrem hair loss so i had to stop it s been 5 month and my hair is still thin and i am at 208lbs now good luck\n",
      "june 8 start med at 247 lb ad exercis and healthi food not a fast food restaur ever today dec 15 i am at 167 lb it work\n",
      "june 18 2017 i start take contrav at the end of januari 2017 in the middl of march i ad two garcinia gambogia 95 and 3 tablespoon of appl cider vinegar mix with ani fruit juic on a daili basi i am femal and start out weigh 213 pound as of today i have lost 26 pound this weight loss medicin has help me tremend and i am look forward to the next few month if you are consid this medic be sure and look for the half price coupon it will save you lot of good luck\n",
      "i tri belviq for two week great med but no insur will cover it coupon onli 20 out of pocket 265 00 for just for 1 a day dose\n",
      "start june 24 2017 on my 4th week dose 1 8 down 10lbs age 59 6 2 quot start at 300lb now 290 expect faster loss as i tend to lose quick on diet but it come back weigh daili notic up and down swing of 5 to 1 lb some day walk 3 mile a day under 40 minut side effect nausea some fatigu especi in afternoon bodi is adjust to drug slowli absolut no hunger whatsoev eat smaller portion and adjust diet crave for sweet and carb have subsid\n",
      "i love belviq i start on jan 15th today is the 19th and i ve gone from 371 8 lbs to 364 1lbs i ve been eat a littl healthier and have had a major decreas in appetit i can t wait to see what i accomplish the next 6 month i ve had no side effect\n",
      "i origin found out about qsymia through my endocrinologist who told me he had numer patient who had success with the medic and that it could turn my health situat around i have been on the medic for about 4 month now and have lost a total of 34 pound my insur is cover the medic so it keep the cost veri manag the onli side effect i ve had is a differ tast on carbon beverag and a littl tired for the first few week outsid of that this medic has help me final make stride toward get to a healthi weight\n",
      "hi guy i been take contrav sinc 2 23 16 start off at 243lbs and i m 5 1 quot i have lost to date 9 8lbs 233 2 lbs and i think the low carb diet had a lot to do with the weight loss in 9 day too today i start do an hour cardio at the gym i couldn t believ how quick it went by i think im get a boost of energi from the med so far no side effect im now on my 2nd week of med 1 in the morn and anoth one in the even hope this will keep up i also use my fit pal app to keep up with my diet and it s help a lot as well the medic was not cover by my insur and it was go to be 150 but i sign up for the discount card which was great it save me 95 plus a got a free scale from contrav\n",
      "i start belviq 8 day ago i did experi dizzi headach and tired for the first few day but now i m back to normal and down 8 5 pound what s even better is that not onli is my appetit gone i also get full veri quick so even when i m not eat as healthi i onli get between 1 4 and 1 2 if even which mean i still lose weight\n",
      "i start take this medic on 4 6 10 and have so far as of today have lost 10 lbs i love it for the first time i did experi the heart palpit which scare me a littl bit the next day they were gone i would recommend this medic to anyon my goal is to lose 50lbs and i will agre my focus is great and i have not experienc ani jitter or problem fall asleep my doctor has me take the medicin on a time schedul which is at 1pm then 4pm and last at 7pm with a b12 shot everi 2 week i have experienc dri mouth but i just up my water intak sinc i am not a big fan of water i do not eat ani high calori food at all i onli eat chicken breast deli about 3 slice with some vege and have water\n",
      "i start belviq on march 19th one month later i lost 6lbs i believ the pill work to curb your appetit but you do need to also have some will power i also suffer from pmdd which make me moodi and caus me to overeat if not for this i think i could have lost more weight my insur bc bs cover it i onli pay 25 copay also i take it onc a day around 2 3pm becaus 2 a day is way too much for me becaus it make me exhaust i need to lose 40lbs i have incorpor walk over 3 mile each day the first coupl of day of take the pill i did have migrain and tension in my shoulder take alev with the belviq help and then the symptom subsid i wish you all good luck with this it work\n",
      "i start adipex on may 26 i weight myself i lost 12lbs this pill work great i don t even think about snack bread are soda\n",
      "so i start this medic almost 3 week ago i can tell you it doe curb my appetit not for regular 3 cours meal but i do not feel the urg to snack in between them howev it is come at a price i feel veri anxious i have never ever been a nervous person i am pretti sure i suffer a panic attack on friday night i sat in my car for 30 minut debat whether or not to drive to the er i didn t i went to sleep woke up aliv this onli seem to happen on 4 pill a day today i took 2 around 12 pm and i am start to feel the kind of nervous i felt friday not near as bad though i do get the confus other talk about as well forget what i was do just not pay attent like i normal do\n",
      "i began take this medic in septemb 2014 i use it for 6 month and lost 50 pound i had a few side effect such as constip and loss of sleep but both were veri manag this medic reduc my appetit so much that at time i had to forc myself to eat just to make sure i was take in at least 1000 calori a day as direct by my doctor i went off the medic and gain about 10 pound back so now i am restart the medicin after be off a while it s no miracl drug but it is a great tool\n",
      "hi this is week 8 on phentermin 30mg i have lost 37lbs last doctor visit is 9 22 and that will be 3rd and final refil sw 274 cw 237 gw 200 andjourneycontinu\n",
      "38 yoa male start dec 2015 at 238lbs april 2016 at 196 lbs that s down 42 lbs my metabol is super slow i m eat around 1000 calori a day in order to see movement i workout 4 5 xs a week for 45 min a day i log my calori with the lose it app and weigh everyday with scaledown i have not experienc ani side effect other than color be brighter\n",
      "i start take a half of a pill today i ate veri littl the energi is great the onli thing i am notic is that i am not abl to sleep and i am tire also a bit of dri mouth my goal is to loos 45lbs so i can have a surgeri that i desper need if i can take more weight off that would be fabul\n",
      "i ve been on his drug for about three week now i m on the 1 8 mg current and have lost about 14 pound the onli side effect i ve experi was a littl nausea and some fatigu i can t believ i final found someth that seem to be work i m not hungri all time and is veri satisfi with the small portion of food i have a lot of dri mouth issu but glad i do i ll be abl to take in more water which is what i struggl with i need to lose in addit 35 pound to get to where i need to be i m confid that this miracl drug will help do the trick\n",
      "i have recent start take diethylpropion 75mg extend releas capsul and have lost 31lbs in 7 week veri veri happi as you can imagin i now wait until late morn befor take pill otherwis find that by mid afternoon the suppress has worn off i follow a veri low carb diet but to be honest i haven t exercis that much the onli side effect that i have found is a slight dri mouth but this made me increas my water intak i have now stop my pill due to be near my happi weight 133lbs 5 3 quot and am find that i have remain in control probabl due to stomach have shrunk slight and have not gain ani weight i aim to allow myself flexibl of 7lbs either side of my current weight great pill\n",
      "just start take the 75 mg tablet daili about 3 day ago alreadi have drop 5 pound after just be on a normal diet of not eat as much and lose 85 pound without the pill i have found that it make my crave complet go away and i have to make myself eat i could go all day without eat if i want but you can t lose weight unless you eat someth onli negat side effect were intens dri mouth a littl bit of a headach which tylenol can take care of and my blood pressur sky rocket a bit\n",
      "the first 2 week were rough i was sick to my stomach dizzi and tire my doctor switch me to separ prescript of wellbutrin and naltrexon the same drug in contrav and i took one in the morn and one at bedtim it got rid of the side effect i ve lost 20lbs in the last 2 month the medic doesn t suppress my appetit but now i can feel when i m full and i m abl to walk away with food still on the plate it doesn t miracul take away the crave but now i feel okay say no or have a coupl of bite and be done befor start the medic i could eat a meal and an entir dessert by myself but now i eat mayb half as much if contrav made you sick it s worth ask your doc about separ it\n",
      "today is august 31st 2016 i ve been on adepix for two day and i feel a chang in my eat habit and energi level this is my second time take it and it help me the first time and i went from 314 253 in about 8mth januari to august of 2015 i just start back becaus i gain my weight back realli quick deal with stress relationship problem and i weigh now 292 so i m determin to loos the weight manag my stress level stay focus on my goal and hit the 230 mark by my birthday in novemb eat healthi and exercis so wish me luck i m bless to have a littl help to curv my eat\n",
      "i start adipex 37 5 mg on 06 14 2010 after read all the review on this site i also have chang my diet consider and i exercis walk zumba and light weight i wasn t go to weigh myself but i end up go to a doctor s appoint on 6 18 10 for a check up and i made a mistak and peek at the scale and i had lost 9 lbs in one week i do experi dri mouth and occasion headach but noth serious i start take this medicin becaus i need a boost on top of the diet and exercis i do not take the medicin on the weekend and i alway cut my pill in 1 2 and take 1 2 when i wake up at 6am and the other 1 2 at 2pm after i have eaten lunch at work start weight 251lbs current 243lbs as of 6 18 i will updat my progress\n",
      "i m up to 3mg dose onli lost 8 lbs in 2 month i was veri leari start this medicin due to the thyroid and nausea issu but i gave it a tri it did not curb my crave it did make me full fast so instead of eat 2 sandwich i would onli be abl to forc 1 down but i don t think it worth it my dr say it take 4 month to realli kick in side effect were dri mouth horrif fatigu and confus noth too major but like ani drug there is someth i would not recommend this drug as it is not a fast solut to weight loss and it is pretti discourag if you want to lose more than 1 lb a week even with inject yourself\n",
      "i have been on qsymia for 2 week now start at 305 and 295 as of last night i haven t experienc ani side effect to this date i have use the app quot lose it quot to keep up with my food intak and also brought the lose it scale i found drink water in larg amount help with the dri mouth look to lose 91lbs will updat soon\n",
      "i have been on meridia for one year under my doctor s supervis dure that time i have lost 108 pound my doctor has been abl to gradual take me off of all 3 blood pressur prescript simvastatin and metformin it has been veri effect in help me control my appetit and thus lose weight i have increas energi sex drive and general a much better disposit and outlook on life it has been great for me i have anoth 12 pound to lose to reach my goal weight of 174 onc that is achiev he intend to keep me on meridia for anoth 6 month to enabl my bodi to achiev the correct amount of leptin product necessari to maintain my new weight and prevent me from regain the 120 lbs i will have lost\n",
      "i have taken belviq sinc last octob and have lost 45 lbs so far just need anoth 15 and i will have reach my weight goal this is the first prescrib medicin that has work for me and i am thrill you must chang your eat habit as well as pick an exercis that you like to do while take belviq or it will not work as well speed walk is my love and my waist has realli shrunk high recommend this weight loss medic\n",
      "omg i swear i m not a paid person i ve got a bad back and in the past i ve use this and that with no success after spend all that money i m 288 pound i eat no junk food no fast food no bread rice s pasta s all i do is juic fruit n vege and take belviq i lost near 10 lbs in a week\n",
      "just got back from my 90 day realli 87 day belviq status exam so here is the data from the doctor offic weight from 261 5 to 236 0 that is down 25 5 pound or 9 75 glucos from 102 to 91 ml dl that goe from prediabet to normal rang a1c was 5 5 but i do not have a baselin 0 day valu hdl for 23 to 30 still low but a lot better i also had one of my lowest bp read in year at the doctor offic my advic to new belviq patient is that after start belviq my hunger goe away befor i feel full that is a new experi for me pay attent to the lack of hunger to know when to stop eat\n",
      "i ve been on this for about 3 month and thus far have lost about 20 lbs slow and steadi just the way it ought to be side effect are minim a littl nausea but not intoler i have anoth 40 or so pound to lose it s great to final have someth that realli work downsid doe anyon s insur actual cover this stuff cash pay it s 1000 a month i have put that out for the last 3 month between have crummi insur for the first 2 month and then the deduct on my new insur now i am find out that it is quot an exclud drug quot great i guess they d rather treat me for diabet hypertens and the coronari i ll probabl have from be fat doe anyon els s insur jerk them around about pay for this\n",
      "i have been on 37 5 for 3 week now although it gave me more energi the first week that has subsid and my appetit come and goe i have onli lost 2 pound in 3 week but i believ that to be from the new exercis i ve alway drank a ton of water becaus i love water so the onli chang is now i have dri mouth to tend to i weigh 285lbs and my goal was 220lbs becaus i do like my curv just not so mani i do not eat as mani calori as recommend on certain day becaus i am liter not hungri buy on other day i may go over by 20 30 but 3lbs realli i m frustrat\n",
      "finish my 3rd month on saxenda the first month i lost close to 20 pound and at the end of 3rd month i have shed over 35 pound i take the shot at bedtim and asid from the first few day suffer no side effect eat small meal and walk everi night need to start wean off as my 50 pound goal is in sight\n",
      "start victoza with sampl from my diabet team start on 06 and work my way to 1 8 within a few week of dose no weight loss it has help a lot with my blood sugar drop from fast 180 to around 120 130 i have bump from 1500 mg of metformin to 1000mg but no weight loss i ask my nurs if i could bump up dose to 3 0 sinc saxenda has a dose of 3 0 and it the same med she agre so i did a 1 8 and a 1 2 shot each morn side note i work overnight i take my med in the am also on lexapro that made me tire i am off of lexapro now so med schedul will chang i am fortun enough to get saxenda at a 0 copay but it has not help me at all i may need to tweak my hour of inject to get the full benefit it\n",
      "i am overweight by 50 pound and my doctor prescrib me belviq i have been take it for 30 day and i have alreadi lost 15 pound this medicin is amaz and a life saver if you are overweight and have not been abl to lose it natur like me ask your doctor and get belviq now you will not be disappoint\n",
      "i just start my 3rd month on contav i am current down 26lbs i did not notic a chang in appetit until week 4 6 i did figur out if i take befor dinner not after i eat less i can not even eat 1 2 of what i use to eat my onli problem is terribl cotton mouth jolli rancher have becom my best friend\n",
      "i took it two week n lost ten pound\n",
      "i start this on april 23 2010 i had seen the result in some of my famili member i was veri skeptic becaus i had tri everi kind of diet known to mankind and was never success i watch sever friend go with the gastric bypass and all of them near die from it and have had constant complic from it this littl pill is great i weigh 264lbs on 4 23 and as of today i am down to 234lbs that is 30 lbs in 2 month my husband start when i did he weigh 337lbs and he is down to 295lbs he has not been below 300 sinc he was a kid and he is 47 year old now we do go for a walk 3 4 time a week my crave for chocol is gone portion size is the key we do have a dri mouth but that is about it will keep you post\n",
      "i am young and consid obes i am a healthi individu though and just want to shed a few pound this pill is what my doctor prescrib i read through all of the side effect and decid to give it a go i lost 8 lbs in two week but i don t think that was from the pill i stop take them after the first two day i was so nauseous that i couldn t stand without fall and vomit and my headach are so bad that it affect my vision it is unbear i may be fat but now i am happili so if it mean never take these pill again they liter steal all of your energi and make you miser\n",
      "i m 22 year old 5 2 i start take adipex 01 27 2015 my start weight was 227lbs so far in the past 12 day i ve lost 12 pound and i ve had no side effect my goal is to fit in to my skinni jean again 5 6 my goal weight is around 130lbs\n",
      "i start with this drug on tuesday not too bad when taken at bedtim howev i want my inject time to be first thing in the morn as this is much easier for me time wise today was the second inject oh my heaven can we say morn sick that is exact what it feel like i have virtual no appetit i tri to eat a littl someth i had been on dr s order to fast for blood work so let me tell you how that went it didn t i could not get past the tast of food in my mouth i was physic ill i stop at sbux and bought a hot tea oh heaven i was abl to sooth my stomach and feel a littl bit better i have to muster through work regardless of how i feel i am hope for result not a miracl here we go\n",
      "this work i m never hungri i am full of energi i am not moodi it last a littl too long for my tast but it is well worth it as long as i can catch at least 6 hour of sleep i m okay i know how to eat right for the diet but this work well to keep crave for snack and fast food away\n",
      "i have been on phend sinc tuesday august 30th it was not prescrib by my primari care physician i decid to see a weightloss clinic and stick to a special plan origin the physician want to place me on contrav but i quick declin that option due to the sever nausea so mani peopl experi so she decid to place me on phend i am so glad that she did my start weight was 278 6 and today 3 day later i am at 271 0 7 6 lbs gone alreadi i have been follow a 1400 calori or less diet sinc tuesday and i walk about a mile last night i am amaz thank onli side effect i have experienc has been cotton mouth i suggest this medic strong\n",
      "46 yr old femal i start phentermin 37 5 on march 20 at 178 pound as of today march 25 i am alreadi down to 168 i have no problem with jitter but i crash everi afternoon around 3 00 i ve tri take a half pill first thing in the morn and the other half at lunch time but either way i crash my goal is 150 and i realli believ i ll get there with this pill\n",
      "first let me say i m heartbroken that metabolif 356 was taken off the market that was the onli thing that had ever help me lose weight i lost 80 pound in 6 month exercis 3x per week alway had ton of energi i start take adipex phentermin at the suggest of a friend who said it would give me similar result she was right it give me energi and curb my appetit tremend my biggest problem of run to vend machin at 3pm everyday is non exist now i start at 262lbs and i m down to 226lbs with no exercis yet i have a long road ahead but i m well on my way this medicin also seem to reduc swell in my leg and feet or mayb the weight loss help i do notic the dri mouth and veri dri brittl hair\n",
      "i never write review but this is worth write about i have been overweight my entir adult life i am 5 6 38 yr old femal start weight 205 size 16 18 woman s start 1st pill may 26th first one made me slight fuzzi in the head but onli the veri first dose i felt my crave stop immedi it was so weird besid the food my husband was disappoint becaus one thing we love to do is drink wine and go to wine tast etc i lost all crave for alcohol sweet and fatti bad food plus i struggl with panic disord and i have felt at eas as of today aug 2nd i am down a total of 22 lbs this is without diet or exercis howev i will start to incorpor it in so that i get the maximum effect\n",
      "i start the med on 11 13 2015 weight 206 today is 12 21 2015 and i am down 19 pound i experienc littl nausea my insur cover the entir cost of the medicin my goal is to get to 160 wish me luck\n",
      "adipex phentermin is great for weight loss i did experi minor side effect i e dri mouth insomnia i have taken this medicin on and off for sever year i notic rapid weight loss the first time i took it lose over 30 pound in the first month i was 202lbs when i took it the first time and after onli 1 month i was down to about 170lbs i went off of the medicin for sever month didn t exercis and return to my origin eat habit regain all of the weight plus some the second time i took it i didn t experi the same rapid weight loss i had with the first attempt onli get down to about 182lbs go for tri 3 but will do it right this time with exercis and diet chang for life\n",
      "today is my first day of take contrav i am a 52 year old male and i weigh 321 pound i have struggl with my weight for sometim now i have been veri nervous about the side effect but i took my first dose today i wish everyon the best and may you all stay healthi\n",
      "44 yr old obes male start belviq 3 month ago lost alreadi 32 lbs my doctor say result are fantast i am actual type this from x sport gym i can t believ how good i feel and how much energi i have after lose the weight i can t rememb last time i was at the gym i need to lose close to 50 lbs total to be consid at the borderlin of overweight or bmi of 27 i have to comment that unlik everyth i tri in the past belviq has no side effect except for the side effect of weight loss i no doubt eat less and have less desir to overeat now enter exercis and i am sure i will hit my goal glad i am a respond no problem pay for this out of pocket which i do becaus it work back to my workout\n",
      "use for 12 day not a pound lighter 5 6 150 just need to loos 5 7 pound for summer no time to go exercis now lot of physic work plus yard eat most salad and soup alreadi sugar too but not a lot my husband was take it too no chang we both are activ usual go to the gym 3 4 time a week i have mild metabol and he has slow metabol it s veri hard for both of us to lose a singl pound we did notic bm and i think i notic more hair loss in me did take multivitamin plus calcium after read onlin about all the side effect recal and bad experi i decid to put it asid\n",
      "i love this drug i start take it on aug 20 and am now start my third month i have lost 22 pound i am 5 8 and start at 187 lbs and am down to 165 lbs in 9 week i gradual increas my dose and would recommend other to do the same due to some of the side effect when i first start i experienc some nausea complet loss of appetit headach and sleepi the symptom did not keep me from live my normal life and they subsid gradual some symptom i now experi are occasion constip irrit and insomnia i was a daili coffe wine beer drinker and rare drink either now all i am interest in drink is water noth els is appeal food is never the focus of my mind anymor\n",
      "i start on contrav may 16th today is juli 7th i have lost 26 2 lbs i am a veri young at heart middl age ladi i am quit optimist excit may 16th i wore a size 22 last week i sport a pair of black slack same style maker size 16 yes they were a wee bit tight but i could fasten them breath freeli while sit after read the review i was paranoid about the potenti sicken side effect but other than a singl episod of dizzi when i increas my dosag from 2 to 3 pill i have had no negat issu i am also take advantag of the scale down program i know that it is an enorm incent booster contrav definit curb my desir for excess eat thank you\n",
      "took it for about two month skip dose on weekend and some weekday due to extrem side effect start have extrem difficulti breath anxieti attack from not be abl to breath with such a tight chest also it made me ridicul irrit and mean all the time but i did lose 15 lbs on it most of the time i felt like i was liter go insan not sure it was worth it though\n",
      "i start on qsymia august 26 2013 one month later i lost 24lbs do regular diet and exercis qsymia did cut my hunger help me stay focus in my lost weight goal side effect in my case veri minor metal tast for the first two week and mayb a littl problem concentr\n",
      "continu so i went to my dr ask to tri the medic i have to say just becaus it work for someon you know doesnt mean it is gonna work for you you lose wt or you lose money either way stay posit for your self and for those that had good experi i am on my 3 day scare at 1st caus i am take other med for anxieti depress and concentr i have not had an issu with ani side effect i do make sure i drink water i have to forc myself to eat train myself to put snack in front of me so definit curb the appetit come from a woman who is not afraid to eat i had a problem eat i would eat till i was miser and bloat so far not even close hope to see good result work out 40min day\n",
      "i start belviq on thursday even befor dinner and today is sunday morn i weigh in at 327 328 on thursday and this morn was 324 i felt the affect instant i was shock how sick i felt after tri to eat a regular size serv i ve had almost half the usual amount of food at everi singl meal sinc i start and almost zero between meal snack i did have about 7 fresh cherri yesterday but that s been the onli snack no side effect mayb a littl dri mouth i m not expect to continu see this level of weight loss continu but i m so optimist about my futur now i love how tini the pill are and i got a certif from the belviq websit that make it possibl for me to onli pay 75 it s worth it\n",
      "i wrote a review my first week and at the time i had gain 2lbs today is 1 month and i have lost between 9 11lbs i was skeptic in the begin due to weight gain and becaus i was not experienc the serious side effect i didn t think it was go to work i still have minim side of effect howev i am no longer sleepi dure the day sometim dri mouth and constip which i eat prune and drink water that doe the trick follow the schedul to take med i still have 74lbs to go and i am still excit\n",
      "i have been use the medic for almost 3 week and have lost 10 lbs i m also do cardio everi other night for 30 minut and dumbbel weight everi other night but that s a fair light routin i m also eat a lot of protein and have cut out simpl carb sugar entir will slowli bring those back into my diet next week i did tri the hcg diet along with a vlcd a few month back and lost over 20 lbs but that was a hard diet this is much easier to manag and doesn t intrud on your lifestyl to the same extent sinc i m onli now 12 lbs abov a bmi of 25 i m sure i won t be abl to take it for much longer mayb anoth 3 week as i will be on the high end but still in the quot healthi quot rang within 3 week\n",
      "after gain around 70 pound dure the pregnanc of my daughter regular diet and exercis just weren t cut it i ve never taken diet pill befor this but in just 6 day i ve lost 7 1 2 pound i do get the dri mouth side effect slight headach funki vision here and there but it s work wonder i know the weight loss will slow down but i d like to lose anoth 40\n",
      "i start phentermin 37 5 on juli 24 2015 i weigh 225 8 pound i took the next pill juli 26 2015 the third pill juli 29 2015 and the fourth pill juli 31 2015 today august 1 2015 i weigh 215 8 and i m 5 3 inch tall i carri my weight proportion all over my bodi mayb my face look a littl bit thinner howev you can t realli see the weight loss yet that be said here s a schedul of my weight loss so far 7 23 2015 a 225 8 7 24 2015 224 4 7 25 2015 220 2 7 26 2015 217 6 7 27 28 29 219 6 i start drink 2 liter of water a day 7 30 2015 217 6 7 31 2015 217 6 8 1 2015 215 8\n",
      "the miracl pill i can t thank my doctor enough i ve tri everi diet you can think of could never lose weight i ve alway been obes i start take qsymia on septemb 30 14 and lost 5lbs alreadi i feel with lot and lot of energi and my weak bread sweet gone i m not follow ani diet just exercis at least 30 minut a day onli side effect dri mouth and tingl in my finger but i complet love it\n",
      "lost 8 8 lbs week one a littl jitteri and dri mouth for side effect so far so good\n",
      "i start as a 220 lbs 6 man i look good with a shirt on and don t experi ani social stigma for my weight but know my bmi put my ideal weight at 185 i decid to tri this for a month and lose some flab first two week were amaz no alter mental status no insomnia just a littl headach it prevent food and alcohol crave it gave me the incent to workout befor work so far so good after the 15 day mark it consider lost it effect near the end 30 day total it didn t have ani effect whatsoev i partook in all the christma feast i stop cardio and start parti again by the end i was down to 205lbs but it decept i look no differ and now am get wors crave than befor\n",
      "i have been on this medic for a littl less then a month and as of today i have lost 10lbs so the onli side affect i have had was be tire and veri foggi mind but sinc the third week both if these side affect have gone away i was told by the doctor that side effect are veri comon for the first 4 week then they should go away becaus your bodi has adjust to the med i still have about 60lbs to loos to be at a healthi weight for my height i am a 28 year old femal whose start weight was 194 and height is 5ft 6inch i gain most of my weight from my pregnanc all three of my girl be back to back\n",
      "i start take 50 mg of topomax for the first month and went up to 100mg for the next three month lost 40 pound for the next year and a half i have kept off the weight but have not lost ani more i still need to lose 30 more pound but have seem to plateau and i am at 200 mg now dont know what to do\n",
      "i know phentermin work for differ peopl in differ way when i first start phen37 5 juli 7th i felt no extra energi appetit suppress veri littl dri mouth and a small headach i start at 199 and now down to 194 5 pound not much weight loss in 12 day i drink onli water some with ad lemon to it calori are about 1200 1300 healthi food like chicken fish appl banana salad tuna as exampl i take it about 8 830 am side effect thus far are dri mouth headach mid day lack of sleep insomnia a littl disappoint in result this far i forgot to add i also exercis 4 day a week do walk brisk walk and exercis bike total 2 hrs day there should be no reason i m not lose more\n",
      "i initi start contrav the last week on august but i got a terribl summer cold and that mix the horribl nausea from the contrav was not go to cut it tuesday 9 8 15 i decid to start again onli this time i took my morn dose with breakfast and voila no nausea whatsoev i do howev experi extrem thirst and sometim i forget to eat so i have a headach in the even other than that i m pretti great i ve had no crave whatsoev even when i am hungri it difficult to decid what to eat becaus i don t want anyth\n",
      "today is day one i am 5 2 quot and weigh 221 pound approxim two hour after take the first dose i have a horribl headach and feel pressur in my chest no bodi ach or dri mouth and no nausea i came to this veri hope site for support and to read experi of other which has been help thank you for let peopl post review it is veri benefici for us newbi\n",
      "i decid to tri this medic after a friend seem to be lose weight on it i m take 2 4 mg and in week number 5 i am an undereat anyway and never hungri so not sure this was the right medic for me i thought it stabil blood sugar hope it s not just an appetit suppress i have lost 3lbs which is veri disappoint i will go up to 3mg today but if i don t lose anyth again this week then i will probabl stop my question anyon experi need longer time and the full dose to start lose weight\n",
      "took it for 3 day then notic on 3rd day i lost 2 pound thing is i get straight paranoia acceler heart beat anyon els deal with this will it fade with continu use\n",
      "for about a year i suffer from depress and put on near 70lbs bring my total weight to 221lbs i have been take phentermin for one week now exercis 7 day a week for 1 hr and eat under 1000 calori so far i have lost 6 lbs in 6 day my goal weight is 160lbs\n",
      "my dr prescrib contrav for me in octob 2016 i wait about a week to start them as i was a littl nervous about the side affect and the cost was veri high anyway i began a week later and as of now a littl over two month later i have lost 20lbs so far it work and my side affect were minim hope it will continu this way\n",
      "i have been take contrav now for four day i haven t seen a posit effect to this medicin yet i have had nausea dizzi and headach all four day i have went home from work everyday and slept at least 2 or 3 hour i m hope that this feel will pass\n",
      "in 2001 i was 500lbs and had gastric bypass i have been up and down over the year low 298lb high 380lb i just did 6 week on contrav where i lost 11lbs but need to lose 17lbs for insur to continu i weigh in at 341lb today nervous about side effect but after read mani comment here am optimist due to insur my doc skip the 2 week trial dosag and we shall see how this goe becaus of famili ill we hid in and out of network deduct in 2017 so my first 2 month should be 100 cover i won t know cost until jan 2018\n",
      "it is veri good at suppress your habit but i do find that it leav dri mouth hard to have bowel movement and it doe affect your eye\n",
      "i ve been take belviq for almost 4 month without ani weight loss i have been eat healthi meal and walk about a mile and more practic everi day whi won t the weight start fall off pleas help tat\n",
      "so i start take phentermin becaus i have bad knee and cannot exercis and without lose weight i can t have surgeri for a knee replac i must admit i was veri skeptic about this pill but so far so good i am 41 yrs old and i start take this pill august 28th 2017 and at that time i weigh 365 lbs and as of this morn sept 2nd i weigh 353 lbs that a total of 12 lbs in less than a week it complet take my hunger away and i do have the dri mouth but i will deal with that i have cut my food in half as i feel full much quicker and i like that so far so good i do drive a school bus so load and unload wheel chair is a work out by it self so i get some exercis just not like i would like due to my knee\n",
      "qsymia is not a miracl howev it doe help with weight loss with the proper life style chang in eat habit and physic activ while take qsymia pound and inch begin to shed away it may not be for everyon but this is what has work for me the 72 pound loss in 5 month make me a believ some of the side effect took me some time to get use to the first week or two on the medic i had insomnia and tingl in the hand and feet but it did fade as my bodi adapt to the medic the onli long last side effect that i notic is the metal tast in my mouth and lack the abil to feel carbon on my tongu i do not see it as a bad thing sinc soda is not healthi to begin with\n",
      "i start on contrav april 1st do great start out the day with coffe with alot of creamer crave complet stop no more coffe for me and no sugar crave chang a lot of my eat habit and walk at least 1 2 mile a day third week in and i ve lost 8lbs increas to 2 pill in the morn but my blood pressur began to elav so had to discontinu the med dr said i can just continu on lower dose\n",
      "after 35 year of yo yo diet i have lost 95lbs in one year i m so excit about my new look and no more sever back pain sincer nurs dee\n",
      "i did have some signific side effect for the first two week but i took onli one pill a day for that time to get use to it i am up to two a day now recommend dose and the side effect are gone except for slight nausea onc in a while i have lost 6 lbs in about 3 week that is quit good for me as i am not veri activ busi but sedentari life\n",
      "i have been on belviq for 2 week now i do have a some sleep problem but it is get better i was 246 lbs and at my 2 week weigh in i was 233 lbs i have chang the way that i eat and have had no time for exercis i love this pill\n",
      "this is the first day on belviq xr so i haven t been abl to notic much of a chang in my eat lesser i didn t experi ani headach or nausea actual had a littl more energi now i ve just did 3 month on phentermin 37 5 mg and i went from 282 lbs to 251 lbs without exercis much i want to continu the phentermin but my doctor said 3 month is the limit he suggest i tri belviq sinc you can remind on belviq longer i am 5 10 and current weight is 251 lbs my goal is too get down to 190 lbs and i am veri optimist in reach this goal\n",
      "i start saxenda 4 day ago on the first day i develop signific nausea and thought that there was no way that i could continu with it especi given that i am current onli start with the lowest dose then i thought about tri gravol but did not like the idea of have to take anoth drug sever time a day along with the saxenda so i went to walmart and purchas some ginger capsul sold besid the regular gravol what a huge differ take ginger everyday has made i take one ginger capsul with everi meal and then again at bedtim the ginger has complet taken away my nausea now i am confid that i will be abl to continu with the saxenda so far my appetit is way down\n",
      "start with this medic octob 10th 2016 and have lost 65 pound i love the result my diet has not chang much and exercis is definit recommend to tighten your skin after lose that mani pound in so littl time feel a lot better and hope this trend continu\n",
      "start 12 18 15 femal 221lbs 5 6 42 yrs old 1st day took 1 pill at 7 30am was sick all day stay in bed day 2 1 pill 7 30am tri to do my normal daili routin was so sick so i have stop til after the holiday i have to much to do my side effect are nausea headach sweat dizzi i could feel my heart beat speed up i realli want this to work i have tri so mani thing over the last 6yr and noth work i was do a workout plan for a 3 day a week for entir year lost onli 5 lbs with 1000 calori a day\n",
      "the best weight loss medic i have ever use i have lost 20 lbs in 2 5 month a record for me side effect are minim i am not hungri most of the time which give me great control over what i eat i count my calori each day to the best of my abil i use my fit pal websit to calcul how mani calori i should eat a day to lose the weight for a specif period of time which was key to my success\n",
      "my physician assist that work with patient on weight loss and correct eat habit prescrib rather than contrav the two seper ingredi the cost was hard anyth between the two drug she knew the contrav would cost a lot more i take 1 pill of each drug in the morn with my breakfast i eat much less in fact feel full after a few bite and realli am not hungri when it s time to eat i don t snack and don t eat between meal i do get a full feel after eat about 2 hour later i m not abl to eat yogurt anymor as it make my stomach cramp sometim that also happen with other food as well i get migrain and didn t notic till just recent i am get headach more frequent\n",
      "i am 30 yo 5 6 and start weight 208 i have tri diet and exercis with no real result i work at a doctor s offic where we have rep come in for differ drug so i was abl to ask a lot of question befor decid to tri this med i took my first tablet yesterday with food and experienc a littl nausea for a coupl hour but after it subsid i had ton of energi i had a littl troubl get to sleep but onc i did fall asleep i had lot of odd dream today i took the tablet with no food and did not experi ani nausea and my energi level calm down slight but i still felt good my onli real complaint today is stomach pain gas pain and a littl diarrhea\n",
      "day 5 of trial dosag i m do weight watcher too i see no benefit in term of appetit suppress i have not notic it make food tast differ i do feel it help a bit with crave it s make me jitteri caus monster headach and make my blood pressur spike not sure if it will be worth continu i ll continu the trial if my doctor okay it and post again in the futur\n",
      "i love this stuff i have been on it for 6 day and have lost 4 pound easili my night crave are entir gone and my stomach get full with about 1 4 amount i usual consum at one sit the onli drawback is in the morn i get queasi if i eat about a half cup of dri cheerio slowli with a cup of tea it settl i know it is earli in my journey but so far so good awesom to final have me be in control not food control me after 40 year feel like i am out of prison pretti power experi\n",
      "i start take the pill start march 22 with a weight of 254 lb a month after 232 lb weight fulli recommend\n",
      "i am a 31 year old femal at 200lbs i do not have diabet or ani other health problem on the first day my stomach felt like it was on overdr tens up i actual manag to have some old period blood come out the second day i had a light headach but noth too serious my third day i had a salad with vinegar and oil your appetit is cut dramat on this pill btw you will end up eat less than 1 000 calori a day end up get the chill and migrain until i vomit my salad this pill work lost 5lbs in 2 day do not eat oili or fatti food you will get sick\n",
      "i lost 10 pound effortless dure the 2 week free trial after 6 day i had lost 6 pound and at that point start forc myself to eat i m want to achiev a steadi reason weight loss no side effect other than slight dri mouth and sleep more sound an interest side note belviq is curb all of my addict sugar bread alcohol gambl it s amaz so far i m take belviq 2x daili with 1 2 phentermin tablet\n",
      "i think belviq pretti much save my life i had alway been overweight all my life from about 8 year old as an adult i had alway maintain a weight of around 200 lbs howev at 41 i was diagnos with lymphangiomatosi and had to have a complet hysterectomi gall bladder and appendix remov i soon began gain approxim 10 pound a month post surgeri and was soon at 258 at my highest my doctor prescrib belviq on decemb 5th 2014 the first week i lost 7 lbs and by mid januari i had lost 20 lbs now in june 2017 i weigh 180 lbs and feel fabul it wasn t a quick fix but it work and i stop take it in februari and have maintain my weight i recommend belviq to anyon readi to commit to a lifestyl chang\n",
      "i ve been on saxenda for 4 month and onli lost 14 pound in this drug it cost me 450 a month and the result at first went like this month one 6 pound weight loss month 2 two pound weight loss month 3 six pound weight loss and month 4 noth weight stay the same befor take it i was in a calori reduc diet that had me lose 2 3 pound a month so that would averag out to 10 pound in 4 month i don t think the weight loss differ is worth the 450 a month\n",
      "updat start weight 221 6lbs on april 8th 5ft 3 quot tall 47yr old femal this morn i am 188lbs that s 33 6lbs down basic without exercis down from a size 18 short to a 14 i have a few cloth that onc were too tight and my gut hung over that fit me now and short i bought 4 year ago that i can pull off without unbutton i have jean from 2004 that i kept that were sentiment and i can almost button without a muffin top this is whi i push on this is someth i never thought i would feel i look in the mirror and sorta see the old me come back it work for me and my husband can tell you my self confid is better than it been in a long time\n",
      "updat start 5 18 2015 ten day later i was at 261 lb this was by exercis eat a lil better also take water pill and a b12 shot on 6 15 i was 257lb exercis slow down my eat habit keep improv but i am tri to work out more yes i do the b12 also i don t get too much of a rush of phentermin realli 37 5 btw i work at 4am so the b12 realli help i have notic though if i take the pill and forget to eat or don t wait 30min i don t feel it as much i do half pill first thing in the am and the other half around 1 so far i love this pill my weight is a constant struggl and this give me hope i am 25 f 5 7 would love to read more ppls review come to this blog is a big motiv for me i pay 85 for this and 20 for the b 12\n",
      "i ve been take contrav part of the scaledpwn program for about 4 month i m 5 6 quot my start weight was 190 i m current at 173 175 my weight loss was gradual but notic by other i feel pretti good most of the time but i have struggl with pretti sever headach in the afternoon even so i think i will taper back down to one pill in the am pm i was take two in the am two in the pm my husband think take this is ridicul want me to stop he say i look great take the medicin make me moodi i m not sure about that but i m struggl with weather to continu tri to loos more or stop for now i think i will taper down see what happen i wish my insur cover the cost becaus it s 60 per bottl\n",
      "been take this for a littl over a month no real side effect that other have list did notic that i m not hungri on it but never realli was befor i have lost noth increas activ a littl eat habit are pretti healthi think this is not go to work for me\n",
      "one year i lost more than 30 lbs without ani notabl side effect stop med and gain weight all back last yesr took the med and kept off mayb 5lbs caus elev blood pressur and a bald head to show for it valu negat experi\n",
      "yes definit help with weight loss howev side effect worsen for me instead of improv i lost 10 lbs befor i even got to the last dosag less than 4 week when i increas to 2 4 my bodi went crazi heart palpit troubl sleep was horribl the nausea in the first day was a piec of cake had to quit coffe to avoid my heart go crazi i tri reduc my dose side effect continu to worsen i say if you are lucki to have manag side effect go for it but destroy my heart isn t worth it i m sit here now can t fall asleep and worri about have a heart attack i have had chest pain all day proceed with caution\n",
      "sw 182 cw 182 gw 135 i m 5 1 quot this is onli day 2 for me so it s too earli for me to have a meaning rate on day 1 i drank a lot of water and that seem to keep the nausea away howev i felt sort of quot tipsi quot all day and had to take a nap in the afternoon i had more nausea today but think that was in part becaus i drank coffe more water a bonin tablet and i m okay still feel a littl tipsi though and had to have a nap again thank good it s the weekend but i m back at work tomorrow and there will be no nap i m suppos to stay on this dose for a week and i have no desir to rush it oh and my crave are gone but i have felt hungri but it s true hunger not my usual eat to reliev boredom\n",
      "i began take belviq septemb 5 2014 and when i saw my doctor januari 19 had lost 43 pound the reason belviq doesn t work for some peopl is becaus they are look for someth like the amphetamin diet pill from the 50s and 60s that boost metabol and total kill the appetit what belviq doe is help peopl stick to a sensibl diet i e it will keep you from be over hungri and quot pig out quot after eat a sensibl dinner i take belviq around 3 o clock in the afternoon and metformin 500mg after dinner\n",
      "i ve been on it for 3 week as i need to lose 30 lbs i ve lost 2 lbs but i m super tire all the time i still crave sugar but it doe suppress your appetit also i am veri cranki i will finish out the bottl then ask my doctor about anoth plan\n",
      "i tri this med and i cant say i had a good experi i guess it did suppress appetit but it also made me feel realli down and tire i wasn t even abl to work out when i was on this med i took it for 3 day and could not toler it ani longer my doctor switch me to belviq and i love it it wonder\n",
      "i am a 44 year old hispan femal i am 5 1 quot and weigh 156 lbs i wear a size 10 12 dress i start saxenda yesterday august 2 2016 i am terrifi of needl and did not think i would be abl to give myself the shot this morn but i handl it like a champ i had some slight burn at the inject site but it quick fade i have had no nausea but have a horribl headach i had a slice of wheat bread with 2 tsp of peanut butter for breakfast and had to forc myself to take a few bite at lunch i have no appetit and feel full after drink a glass of water\n",
      "i have struggl with my weight for year i am 5 7 quot tall femal i start take phentermin on juli 13 2016 my start weight my highest is 268 i had lost about 20lbs on my own when i talk to my doctor about my problem with my leg and how my weight seem to have stall she recommend this i go back next month for my 1 month follow up one thing i notic is dri mouth my goal is to get down to between 160 to 180 by christma next week i plan on go to the gym to walk on the treadmil wish me luck\n",
      "i start phentermin 30mg capsul 7 22 2016 weigh in at 274 and today 7 29 2016 weigh in at 266\n",
      "i ve been on it for about a week now weight loss isn t signific but it is there and again it s onli been a week definit has curb my appetit there are some day i have to forc myself to eat actual just physic emot uninterest in food my side effect have been moodi irrit and anxieti but those seem to have pass after a few day i feel a littl loopi when i first take it but if i eat a slice of chees or scrambl egg with it that seem to help go to stick with it for sure\n",
      "2nd updat 7m 10d i am still veri happi with this med down 31lbs so far start at 229lbs 36 4bmi today at 198lbs 31 5bmi goal is 156lbs 24 8bmi just to get out of the ldquo obes rdquo rang i was inconsist for a while no pill while away on a 3wk vacay onli 2pill day for a few month didn rsquo t see ani side effect or weight gain just plateau which is good to know for when i go off this med someday back on the full dose for a few week lose weight again veri easi to skip a meal hard notic which is where the real weight loss come in i don rsquo t crave the bad food i use to don rsquo t mindless eat scaledown trial ran out was abl to keep the scale but after a few month it was onli generic info anyway not worth it\n",
      "i m in colleg i struggl with stress and weight gain i start take the pill at 267 lbs i m 5 10 doctor want me lose weight becaus of my blood pressur i use the app to monitor my intak i drink lot water i eat 1200 calori a day onli i had few slip i can say i lost fast the first week but i am miss a lot of sleep but 45 day later i start 9 15 16 it is not 10 29 16 i weight 248 i feel great 19 lbs later wish it was more but i can tell inch are gone pant are hang i m veri pleas this doctor onli agre to give it three month i m hope it extend longer i want gone 200\n",
      "i have been on this medic for almost 2 week now and have lost 6 lbs i am 5 8 quot was 180lbs i find that i do not get ani side effect nausea headach if i have food in my stomach u2013so eat when you take it i also tri not to take the even pill too close to bedtim as it keep me awak for a while this pill has been veri effect at suppress my crave for sweet and my appetit in general i realiz last week that i hadn t had anyth sweet to eat for sever day and don t snack at all the pill help me realiz that i don t need to snack throughout the day and onli eat when i m hungri at mealtim\n",
      "i have been on phentermin 30mg for one week today and i have lost 10lbs excit i will post again after my one month check up in 3wks\n",
      "i was worri this would not work for me sinc i was not realli that overweight 6 2 206 i began work out 5 time a week and was lose weight but onli a veri small amount and i was hit a wall onc i began use victoza and continu my workout routin the weight just start shed right off this was everyth i alway dream of you will lose some weight just by take this but if you includ it with work out wow also it doe curv your appetit but i have notic you can eat healthier thing without feel ill it seem that high sugar and fat are the one that i get turn off too which is just an ad bonus 1 month into it and i am now 186lbs so i have lost 20 pound and feel and look great\n",
      "this medicin has help me so much i ve lost 40 pound in the past year with no chang in diet or exsers it decreas my appetit and give me the energi i need to interact with peopl throughout the day work almost like an anti depress for me couldn not be happier\n",
      "start one week ago today onli been hungri one day lost 3 2 lbs and 6 5 inch more energi than i ve had in year and overal happier look forward to continu success\n",
      "i began use phentermin on 7 29 16 begin at 218 pound ugh this morn i weigh in at 207 so in 10 day i have lost 11 pound and 4 quot total i ll take it i have struggl the last few year after be diagnos with hashimoto s diseas i have felt trap insid of my own skin and i was terrifi that noth would work i have drop my calori down to 800 a day and i work out between 20 30 minut everi other day i final have hope i have tri everi diet out there and noth has work and i believ it is becaus all the inform i was given instruct me to eat 1200 calori daili and i did faith i also maintain my weight for a year and didn t lose anyth i believ i have found what work s for me\n",
      "i am 24 5 9 quot and at 282 i m the biggest i ve ever been i start take this medic phentermin on monday 4 11 16 for four day i onli took half a pill today is my first whole pill so far my appetit and crave are gone which i have to forc myself to eat on account of my diabet i am on 2 differ medic for my diabet one for acid reflux and one for depress i m do great with onli take a half pill for four day i ve lost 2 pound i ve start some small exercis and eat better i can t wait to see what happen now that i take a whole one i m realli hope in the end i don t have to take anymor medic\n",
      "took for two month and couldn t take it a day more i did lose seven pound in those two month but i don t know if it was from the medic or the vomit i did everi singl day while on it i didn t have much of an appetit which was a plus again though i was sick everi day i couldn t even make it up to the full dose becaus it made me so ill vomit headach dri mouth diarrhea extrem mood swing shake sleepless and heart palpit and pain i stop at two month which was a year ago today and i still am have long term heart problem from this stuff that s under my doctor word not mine i do need help with weighloss but have decid to eat better and exercis to my abil no side effect from these\n",
      "i have been take contrav for sinc 01 19 and have lost 11 lbs my onli side effect have been mild constip and a occasion shaki most in the morn but other than that i feel great i have cut all bread and sweet from my diet and walk at least 4 5 day a week befor cut out the bread and sweet i had pain in my knee and other joint but the pain has subsid contrav has given me the willpow to make better food choic it cost me around 90 but compar to the health benefit of lose this weight it s worth it\n",
      "i start phentermin on april 5th 2016 at 253lbs today on june 26th 2016 i am 227lbs i made a huge diet chang when i start cut out coffe sweet and pay attent to my portion size and calori count i start to realli notic weightloss onc i join the gym on april 18th go to the gym made me more motiv to eat healthi and stay on track and it feel great to exercis i had a 2 week time period dure the last few month where i fell back and start drink coffe and had fair food ice cream and other junk i also didn t make time for the gym i stop loos weight i didn t gain ani either though i got myself back on track and am lose weight again diet and exercis definit make this more effect\n",
      "i have been use saxenda for a month now as start nov 4 2017 my start weight was 242 pound and i m 5 10 male today as of dec 4 2017 i weigh 230 so a 12 weight loss in a month definit reduct in appetit as feel full with about half or less than of what would normal eat befor exercis light most walk but get a treadmil and free weight to soon to start to increas intens of exercis as now at full 3mg dosag no real side effect onli at start was feel tire but went away after first week will updat everi month as goal is to get to 170 pound\n",
      "start on phentermin 30mg just 4 day ago with a privat prescript nhs are not allow to prescrib it start weight 15 stone 1lb and have lost 10lb alreadi i m 5ft 4in tall with a small medium build age 34 pretti much lost my appetit complet but i also feel a bit uneasi jitteri i was hope i would experi some of the more euphor side effect but i m also suffer with a heavi cold so mayb that s whi i don t feel energet i ve had quit a few headach alreadi but this may be that i need to increas my fluid intak so i m go to do that yesterday i onli took 10mg 1 3 of my tablet to make sure i could sleep last night the first 2 night i wasn t abl to sleep pleas so far\n",
      "i ve lost 19 pound in less than a month and had some of the side effect tingl feet dizzi and headach my doctor order some lab i now take vitamin d k i no longer have high blood pressur i m happi\n",
      "i had a good experi with it i use it for 30 day and lost 23 pound i went from 281 lbs to 258 lbs veri good product\n",
      "i tri the 2 week trial and i did lose about 7 pound and my sugar crave were diminish i wish i could continu but it is just too expens i wish it came in generic howev the patent don t start expir until 2023 so it won t be anytim soon\n",
      "been on 7 5 for 5 month and lost 20 lbs need to lose about 40 total weight loss was slow but i never would have lost it without the drug and i exercis about 5x a week i had some side effect such as irrit dri mouth and mild tingl in feet in the fifth month i felt the drug has lost it effect and am about to start the next level up hope this will give me the same loss of interest in food as the 7 5 think of join weight watcher to learn how to eat proper when i get off the med\n",
      "still work sinc june 12 now the benefit of belviq are great weight loss 16 lbs belli shrink by 4 1 2 inch blood pressur now normal feel great feel light get a good diet don t think that you can still do macdonald wendi everyday the pill won t fix that kind of behavior it still take a commit from you it just make it easier to accomplish it\n",
      "i m on 4 pill a day now i have lost 8 pound no nightim hungri like when i took qsymia i fell weird happi all day i m general a happi person anyway but i m practic giddi about life now i still enjoy a beer onc in awhil but never crave it anyway so this is unchang i get hungri in the mid morn but my bodi need calori at that time anyway the onli side effect seem to be loos stool at first so far i am thrill hope for continu success i d like to lose 30 more\n",
      "been on qsymia for 2week trial and as of right now i am on the 7 5 dosag it doe cut my appetit some but i am have troubl lose weight on it i have been eat healthi count my daili calori intak i have also been exercis 6day a week i have a littl headach everyday with constant dri mouth and fatigu if ani one has ani tip on how i can lose more weight pleas comment thank you i will continu to updat with my progress\n",
      "i ve been on topamax sinc march 2009 i ve lost 75 of the 110 pound i need to lose the side effect are annoy and in the begin i realli want to quit the medic but as i ve lost the weight i ve actual been abl to decreas the dosag so a lot of the side effect have decreas as well some of them are easier to live with than other the paresthesia has most subsid but i do still struggl with memori laps i quit drink all carbon beverag becaus i do not like the way they tast that has probabl help with the weight loss anyway overal i am quit pleas i am also pleas to read that other have been abl to maintain their weight on this drug\n",
      "down 20lbs sinc jan 5th no side effect except for my hair fall out more than normal\n",
      "have lost 6 9kg sinc late may 2016 when i start take the pill take them with almost everi meal unless out and don t have them on me weight loss slow down in month 3 but now come up to 4th weigh in on a week and a half and have ad exercis which boost weight loss immedi hope to have lost at least anoth 3kg by christma but hope more\n",
      "i start contrav in earli februari at first i did not lose ani weight but i could feel myself get fuller faster especi as the dosag increas for the month i have been on the full dosag i have lost 20 pound sometim i do not have a desir to eat often this is due to nausea i have felt more energ and motiv to work out the onli side effect i continu to have are a dri mouth and troubl sleep both problem are well worth it to me\n",
      "i would not suggest this drug i normal do not get side effect from drug that are prescrib to me let me tell you i had the wors side effect possibl day 1 i took my first pill in the am i was kind of scare so i took it with breakfast no caffein and onli water about 2 hour into the med my heart start to race my mind was go crazi i could not concentr i was sick to my stomach there were sever occas where i thought i should tell my co worker to call 911 it was that bad i was sweat shake it was horribl 3 hour into the medic i went home sick that day i felt like i had the flu it took all day sleep it off overnight for the med to wear off do not take onli 1 day on med\n",
      "errors: 229\n"
     ]
    }
   ],
   "source": [
    "err_cnt_3 = 0\n",
    "for i in range(0, len(y_test)):\n",
    "    if(y_test[i]=='Obesity' and svm_pred[i]=='Weight Loss'):\n",
    "        print(X_test[i])\n",
    "        err_cnt_3 = err_cnt_3+1\n",
    "print(\"errors:\", err_cnt_3)"
   ]
  },
  {
   "cell_type": "markdown",
   "metadata": {},
   "source": [
    "**SVM with bigrams**"
   ]
  },
  {
   "cell_type": "code",
   "execution_count": 127,
   "metadata": {},
   "outputs": [],
   "source": [
    "svm_1 = LinearSVC(C=1)\n",
    "svm_1.fit(X_train_vec_2,y_train)\n",
    "svm_1_pred = svm_1.predict(X_test_vec_2)"
   ]
  },
  {
   "cell_type": "code",
   "execution_count": 97,
   "metadata": {},
   "outputs": [
    {
     "name": "stdout",
     "output_type": "stream",
     "text": [
      "\t-0.9245\tmcg            \t\t0.8268\tdumb           \n",
      "\t-0.8668\tanxieti fast   \t\t0.8293\tday thank      \n",
      "\t-0.7775\tbrintellix     \t\t0.8330\tanxieti        \n",
      "\t-0.7709\trestoril       \t\t0.8336\tativan         \n",
      "\t-0.7241\tbipolar        \t\t0.8485\tamaz medicin   \n",
      "\t-0.7090\tzyprexa        \t\t0.8677\tdrug good      \n",
      "\t-0.7047\tappreci        \t\t0.8746\talprazolam     \n",
      "\t-0.6982\tlot panic      \t\t0.8844\tmake day       \n",
      "\t-0.6944\tnorepinephrin  \t\t0.9172\tvomit hour     \n",
      "\t-0.6901\tdepress xanax  \t\t0.9235\tmellow         \n",
      "\t-0.6809\tcalm relax     \t\t0.9307\twonder life    \n",
      "\t-0.6419\tcalm anxieti   \t\t0.9381\texperi work    \n",
      "\t-0.6299\tacn            \t\t0.9467\tvistaril       \n",
      "\t-0.6228\tdrug veri      \t\t0.9716\tjob far        \n",
      "\t-0.6157\tadhd           \t\t0.9809\tyear life      \n",
      "\t-0.6139\tzolpidem       \t\t1.0342\teffect hate    \n",
      "\t-0.6013\tlatuda         \t\t1.0713\tlag            \n",
      "\t-0.5998\tani problem    \t\t1.0719\tgreat especi   \n",
      "\t-0.5991\tinsomnia effect\t\t1.0862\tbuspar         \n",
      "\t-0.5964\tamaz sleep     \t\t1.2884\tpill awesom    \n"
     ]
    }
   ],
   "source": [
    "show_most_and_least_informative_features(cv_mnb_bi, svm_1, class_idx=2, n=20)"
   ]
  },
  {
   "cell_type": "code",
   "execution_count": 130,
   "metadata": {},
   "outputs": [
    {
     "name": "stdout",
     "output_type": "stream",
     "text": [
      "least_imp\n",
      "(-0.6455977006748841, 'mg')\n",
      "(-0.6062136875549552, 'paxil')\n",
      "(-0.5972610946085435, 'zoloft')\n",
      "(-0.5826323916081257, 'dermatologist')\n",
      "(-0.564491423611585, 'lexapro')\n",
      "(-0.555292027537893, 'contrav')\n",
      "(-0.5404899741029264, 'doc')\n",
      "(-0.5212718449885312, 'depakot')\n",
      "(-0.505784423385719, 'lithium')\n",
      "(-0.5038443153391449, 'far effect')\n",
      "(-0.5022322507117475, 'zombi')\n",
      "(-0.5009529333275559, 'celexa')\n",
      "(-0.49582337656706504, 'skip')\n",
      "(-0.4749735406528195, 'accutan')\n",
      "(-0.4738811179154303, 'yr old')\n",
      "(-0.4711975377844664, 'belviq')\n",
      "(-0.4520394004609773, 'period period')\n",
      "(-0.4475135827506351, 'loryna')\n",
      "(-0.4433240403659657, 'prozac')\n",
      "(-0.4359475594241428, 'viibryd')\n",
      "\n",
      "most_imp\n",
      "(0.671098348938928, 'nuvar')\n",
      "(0.6778699807833699, 'best birth')\n",
      "(0.6844723436765645, 'love recommend')\n",
      "(0.6910172078501955, 'noth good')\n",
      "(0.6932713749506045, 'sleepi s')\n",
      "(0.6945006479355331, 'caus gain')\n",
      "(0.6968784473393554, 'year effect')\n",
      "(0.7042102109121352, 'effect s')\n",
      "(0.7291256509630214, 'say noth')\n",
      "(0.7406522194500715, 'acn total')\n",
      "(0.7434163523265207, 'total gone')\n",
      "(0.7469583143899468, 'lutera')\n",
      "(0.7485464193920259, 'avian')\n",
      "(0.7735932160326645, 'stroke')\n",
      "(0.7781476546625139, 'implanon')\n",
      "(0.783393328090527, 'just love')\n",
      "(0.7875724471550741, 'complaint')\n",
      "(0.7973613355398173, 'problem feel')\n",
      "(0.8327755697084376, 'realli issu')\n",
      "(0.8620480143604019, 'damn')\n",
      "(0.8625314747972396, 'skyla')\n",
      "(0.8688458164469477, 'great issu')\n",
      "(0.885072668927821, 'loss weight')\n",
      "(0.9200303096527916, 'ani problem')\n",
      "(0.9208599491793383, 'intend')\n",
      "(0.946757880826161, 'gain tired')\n",
      "(0.9757168640218904, 'mirena')\n",
      "(0.9988065575432796, 'pregnant')\n",
      "(1.1258151796089888, 'insert')\n",
      "(1.1612417505113268, 'great skin')\n",
      "\n"
     ]
    }
   ],
   "source": [
    "feature_ranks = sorted(zip(svm_1.coef_[4], cv_mnb_bi.get_feature_names()))\n",
    "\n",
    "least_imp = feature_ranks[:20]\n",
    "print(\"least_imp\")\n",
    "for i in range(0, len(least_imp)):\n",
    "    print(least_imp[i])\n",
    "print()\n",
    "\n",
    "most_imp = feature_ranks[-30:]\n",
    "print(\"most_imp\")\n",
    "for i in range(0, len(most_imp)):\n",
    "    print(most_imp[i])\n",
    "print()"
   ]
  },
  {
   "cell_type": "code",
   "execution_count": 99,
   "metadata": {},
   "outputs": [
    {
     "name": "stdout",
     "output_type": "stream",
     "text": [
      "accuracy : 81.59 %\n",
      "recall : 75.6 %\n",
      "precision : 74.53 %\n",
      "f1 score : 75.0 %\n"
     ]
    }
   ],
   "source": [
    "metrics(svm_1_pred)"
   ]
  },
  {
   "cell_type": "code",
   "execution_count": 100,
   "metadata": {},
   "outputs": [
    {
     "name": "stdout",
     "output_type": "stream",
     "text": [
      "[[ 536    1   33   12   11   42    6    5   13    8]\n",
      " [   2 1041    5    4  109   10    4    3    5    5]\n",
      " [  15    2  913   43   16  240   58    9   35    4]\n",
      " [  17    5   68  573   16  143   24   13   15    7]\n",
      " [   1   68   14   10 5177   37    4   10   23    3]\n",
      " [  39    5  214  124   46 1323   48   29   45   14]\n",
      " [   9    2   49   19    8   51  696    7   36    3]\n",
      " [   1    3   11    5   14   29    7  386   17  229]\n",
      " [   9    5   33   16   14   47   17    2 1177    3]\n",
      " [   4    3    9    6   20   29    5  290   13  443]]\n",
      "                 precision    recall  f1-score   support\n",
      "\n",
      "           ADHD       0.85      0.80      0.82       667\n",
      "           Acne       0.92      0.88      0.90      1188\n",
      "        Anxiety       0.68      0.68      0.68      1335\n",
      "Bipolar Disorde       0.71      0.65      0.68       881\n",
      "  Birth Control       0.95      0.97      0.96      5347\n",
      "     Depression       0.68      0.70      0.69      1887\n",
      "       Insomnia       0.80      0.79      0.80       880\n",
      "        Obesity       0.51      0.55      0.53       702\n",
      "           Pain       0.85      0.89      0.87      1323\n",
      "    Weight Loss       0.62      0.54      0.57       822\n",
      "\n",
      "       accuracy                           0.82     15032\n",
      "      macro avg       0.76      0.75      0.75     15032\n",
      "   weighted avg       0.82      0.82      0.82     15032\n",
      "\n"
     ]
    }
   ],
   "source": [
    "print(confusion_matrix(y_test,svm_1_pred))\n",
    "print(classification_report(y_test,svm_1_pred))"
   ]
  },
  {
   "cell_type": "code",
   "execution_count": 101,
   "metadata": {},
   "outputs": [
    {
     "name": "stdout",
     "output_type": "stream",
     "text": [
      "15 day trial 11 day result start at 380lbs now 330lbs drop 3 dress size due to the decreas in the fat tumor brought on by dercum s diseas a diseas diagnos by dermatologist no known help till now in 11 day so much progress just tri to find a way to afford i feel great\n",
      "i am a 23 y o femal and i start take adipex about 2 year ago i start at 310 and i current weigh 209 0 in those 2 year i took adipex about 4 differ time the last time i took it was in decemb i have stop use these pill becaus a continu of them can have side effect on your heart and liver they were amaz and definit help boost my weight loss i experienc fast beat heart mood swing and main dri mouth i had dri mouth the last time i took it but i think it was a pretti good side effect becaus i drank so much water i have maintain my weight loss becaus i chang my lifestyl i now eat healthier and exercis 4x a week i have gain muscl so my weight is up i recommend these pill\n",
      "i took my first pill today spent the next 9 hour liter asleep or stand over the sink within one hour of take it the nausea start at 2 hour the dizzi and tired i felt wors than when i had the full blown flu stay away there are better less toxic option\n",
      "on saxenda for about a month and drop 18lbs with no ill effect whatsoev but my insur doe not cover it and my out of pocket is almost 1 300 everyth i have tri noth work except saxenda but i can t afford it whi doe it cost so much is there a breakdown on the cost post somewher i guess novo nordisk a s is make quit a bit sure would like to see who get paid what tomast106 com\n",
      "i m a 45 yr old femal 5 6 quot tall and my start weight was 220 when i weigh in at the doctor s offic on august 31st i have some health concern that lead my doctor to prescrib this for me my doctor help to administ the first dose so i would know what to do the next day i felt okay the first 2 day with littl side effect the 3rd day i couldn t stand the smell of bacon who doesn t like the smell of bacon this girl now the 4th day i threw up my morn coffe and med i have been experienc constip as well i am current on 1 2mg and on day 9 i ve lost 5 lbs so far so i ll keep deal with the side effect i did start to inject at night to help with the nausea i am veri hope this medic will do the job\n",
      "qsymia work for me it is true it make you thirsti and make diet soft drink tast like brake fluid total kill my crave for sweet the good news i was close in on the 300lbs mark less than two month later almost at 260 lbs i am a weight watcher so i have an accur record of my weight loss also i go to my local ymca and workout six day a week\n",
      "i was 288lbs when i start take medicin i am down to 265lbs it realli work and am still lose\n",
      "i had gain 100 pound over the last 4 year due to have my son and hormon imbal and noth has work in the past i m current on the 15 day free trial and i was veri suspici of a drug like this howev i am on day 13 and i have lost a total of 11 pound in just under 2 week i cannot be happier i did not have ani of the symptom list on some of the other post dizzi headach ect i do have a littl bit of dri mouth which just forc me to drink more water my insur doesn t cover this but i have the 75 copay card which is a god send becaus the medic is usual well over 200\n",
      "i m 5 9 i start take this medic 11 14 i weigh 315lbs i want someth to help guid me in the right direct when i start i made a commit to myself that i would go paleo which i did i also exercis 2 3 time a day now 7 month later i ve lost 190lbs i can t tell you how much this medic has help me save my life not onc dure these 7 month have i had anyth sweet i drink noth but water not to mention stop take a pill everyday and take one everi few day my doctor never put me on anyth higher than the 7 5mg bc i lost weight so rapid i have no desir for anyth bad to eat with or without the medic the onli bad thing i can say is that i have a ton of excess skin\n",
      "1 month mark and 19 lbs down it is work contrav cost 70 with their discount code insur doe not cover it sign up with conrav onlin and use free quot scaledown quot membership scaledown will send you a free digit scale that send weight result wireless to program then you track your progress onlin or by mobil use both i have lost just under a pound everi day regard the side effect constip if you alreadi are someon with constip problem it won t make it ani better increas the leafi green i lost my habitu need for coffe ice coffe other sweet savori crave it just disappear over now result in intestin cramp probabl becaus of smaller stomach protein and veg is help to lose\n",
      "i ve been on contrav for right at one month the first week and a half i experienc extrem dri mouth but easili fix by drink lot of water after first week i also start with constip colac rectifi the problem but work with dr for a better solut around third week i start experienc the mild headach mild as in i knew it was there but it didn t interfer with my day i m feel great my appetit has decreas signific and the joy i get from eat which is what caus the problem in the first place has diminish i have the energi to get up and move throughout the day i ve lost 10 pound most of which came off the last week hope that mean it will start come off quick\n",
      "i ve been on belviq for 6 week now i want so much for this to work so i endur the dizzi extrem fatigu foggi brain memori problem and even an increas in my irregular heart beat hope they would decreas and the belviq would work they did not and i ve experienc no improv in appetit control the worst part is i ve been treat for clinic depress and had to go off the med that had been help me in order to take belviq the antidepress effect of belviq never kick in for me and i ve been miser i m glad it help some peopl but i want to write this review for peopl who are be treat for depress befor tri the belviq preced cautious it may not be for you\n",
      "no side affect at all i lost 20 pound the first two month then i start slack on take my pill correct and gain about 8 back it s been fluctuat for about 4 5 week but that s my fault i m go to keep at it\n",
      "i have been take contrav 1 pill bid for over 2 week have not lost one pound have been extraordinarili hungri to the point that my stomach start growl by about 6 pm serious i have been overwhelm tire throughout the day and have found it veri difficult to get up in the morn i was alreadi take wellbutrin so i just took contrav instead of my daili dose of wellbutrin sinc it was close to the same dose perhap this doesn t work for peopl that have been on wellbutrin for a while total wast of money and time\n",
      "i have been on belviq for 9 day now and have lost 7 lbs the first day i had a sever headach and some dizzi i onli took one pill that day my headach and dizzi went away onc the pill wore off start again the next day and no headach so i kept go and took the two pill that day i have had no side effect sinc that first day it doe curb my appetit and i haven t been hungri i am use my fitbit and the myfitnessp app to keep up with my exercis calori and water intak i need to lose around 65 pound belviq cost me 75 a month i got the discount coupon from my doctor updat one month 15 pound down no problem at all it s work for me\n",
      "i am rate this drug a 5 at this point becaus it has neither been a good experi nor a bad one today is the 7 day mark for me my weight has not budg sinc day one but it s onli a week in i m drink a lot more water and tri to make wise meal choic i seem to get full with less food than befor i start belviq but i am hungri most of the time i am also on the brink of fall asleep all day long i can t seem to realli wake up truli until about 2 00 in the afternoon i m up at 5 30 dure the week i am hope base on what i ve read onlin about the drug but so far for me person no suppress of appetit substanti reduct in energi level and no weight loss o\n",
      "start take contrav monday march 28 woke up today march 31 with the worst headach i have ever had and nausea so bad it felt like the nori virus i do not recomend this product i feel a littl better now at lunchtim all i feel like eat is soup\n",
      "i start take contrav the 3rd week of januari at first i did feel a littl nauseous and light head but i drank lot of water and didn t take the pill on an empti stomach and those side effect went away after 3 day the onli side effect i am still experienc are troubl sleep if i take the second dose too late in the day and i can t stop clench my jaw howev i have lost 11 pound i also struggl with depress and i have tri all kind of med for it and noth has made me feel as good as this medic doe i feel like i can enjoy my life i rare think about food unless my stomach growl and i can resist comfort food and make better choic i hope it continu to work this well\n",
      "i ve been on saxenda for three month and the follow are item i ve learn and you may find help the veri first thing you should do is regist with saxendacar the compani has a dietitian and nurs to help you through your weight loss journey track your eat with an app such as myfitnessp note nutrit be mind when you are feel the side effect to decid when best to take the medic did you know it has a full effect after 12 hour eat smaller meal more often drink lot of water and limit high fat food and sugar lace food let your stomach finish digest your food befor go to bed becaus anoth side effect is acid reflux meet with your doctor on a regular basi and have blood work to monitor\n",
      "a veri disappoint experi the cost of the month suppli was not the onli negat factor the nausea the not feel myself and the unusu liver test were all deterr to continu on the program after 2 month i could not go on yes i lost some weight but not enough to continu with the horribl side effect of the drug and all the weight came back on we are human and alway look for the quick fix howev this product is danger and the pharmaceut compani that releas it should refund all peopl that it did not work on\n",
      "stick with it i didn t realli start see result to about the second month you have to rememb it not a magic pill though it doe curb your appetit for carb and sugar i m in love with candi i found myself not even want quot junk food quot for a snack my advic is start do some exercis exampl 100 jump jack 100 squat and 100 sit up i was at 185 at the start now i m at 174ish that s about 10 pound in a month so that s right on a healthi track oh and drink onli water it realli help as the say goe quot don t complain about not make ani progress if you don t put forth ani effort quot\n",
      "start saxenda 3 week ago first week slight nausea a littl dri mouth need to increas fluid more than like i have struggl my whole life with my weight even start process for gastric sleev and back out at the end i have lost 14 lbs in 19day 1800 calori diet most day under that i don t feel hungri don t crave sweet like i did and diet coke make me nausea i am veri hope the warn for thyroid cancer doe somewhat alarm me but plan mayb to stay on saxenda 6 month to 1 year i start 3 mg in 2day i have be impress with result\n",
      "wife wast money on it like she say quot i m still fat quot\n",
      "i have been take this for three day now eat lot of veggi fruit and lean meat on day two i experienc an upset stomach and lot of diarrhea howev i feel fine day three not sure whi day two was so rough i m 5 3 quot and 148 lbs hope to get to 130 lbs\n",
      "i start take adipex on jan 1 2014 until feb 1 2014 i lost 30 pound even i did onli 30 minut of cardio a day that was just brisk walk my side effect were cotton mouth extrem loss of appetit i lost my ass i had extrem energi couldn t sleep i was veri focus i had a pleasant attitud but quick irrit fast heart beat blurri vision everi now and again my doctor told me that with adipex it help you curb your hunger but when you work out it burn doubl calori i was 180 and went to 149 whe i stop the weight never came back and it becam hard for me to eat as much as i use to i got pregnant and had a babi jan 29 2015 i am 180 pound as of 2 4 17 and i start adipex again same symptom and i m lose a lot again\n",
      "i start on 8 24 15 as of today 9 6 i have lost 10 lbs just under 2 week i onli take half a pill which is just fine for me i have veri littl appetit i forc myself to eat i m stay under 1200 calori per day more like 800 my crave for sweet are gone this is strang for me becaus i love sweet i m not eat ani bread or drink ani soda lot of water fruit veggi salad and protein i have not exercis yet but plan to soon i could not sleep the first few day and dri mouth is start to kick in it s toler my goal is to lose 60 lbs by the end of the year\n",
      "start march 1 2015 and i m down 8 pound in 8 day march8 2015 i haven t chang my eat habit much i just find myself get full quick i never experienc ani side effect from take belviq and i just take 1 a day i will you you guy post with my outcom\n",
      "been take phentermin 37 5 mg sinc april 14 2017 sinc i m morbid obes my weight was 258lb and i m now 237lb that a total of 21 lbs down within a month i walk everi even for 45 minut and stay away from high sugar drink bread and greasi fatti food my goal is to lose anoth 40lb by august 15 first week on it i lost 8lbs then follow week anoth 5 then went down to like 4 lbs the follow two week i still see it as realli good went from a jean size 20 to a 16 now i have been receiv week b12 shot for energi that realli help me to stay energet and activ definit a good pill for weight loss\n",
      "i took it for five month everi day i did not lose a pound it just doesn t t work for me\n",
      "this is my 3rd day on contrav and the side effect are what are worri me sever nausea come and goe throughout the day sometim it get so bad i can t even get up and move around i have also had sporad hot flash and excess sweat the worst side effect i saw it was on the first and second day hello when i would have terribl drowsi to the point where i had to hold my eyelid open just stay alert and awar of my surround i m not go to stop take the medic but i m worri becaus my doctor prescrib for me to increas a pill each week until i am on 4 pill a day i m a femal 25 year old 5 3 weigh 253lbs is this too intens of an increas suggest are appreci\n",
      "my person experi with qsymia was not favor howev other peopl have share their experi with me and didn t experi the same side effect the blur vision was enough to serious scare me away from this drug after about an hour after take qysmia it was extrem difficult for me to drive due to blur vision i couldn t make out anyth on my comput monitor at work after a coupl of hour and start have migrain it may be effect but i didn t think the side effect were too harsh on my bodi\n",
      "been on orlistat for 2 month and so far lost 21 pound you realli have to watch what you eat as the side effect can be veri unpleas let s just say i had to buy extra toilet cleaner stay away from fast food and sugari snack stock up on veget and fruit this is not a miracl pill you have to put work into it but it help a lot go back to my gp to get my 3rd month prescript look forward to a healthier me\n",
      "finish my 2 week and i ve lost approxim 9 lbs i m motiv sinc i ve lost no weight in the last ten year tomorrow i start the higher dose 7 5 46mg so we ll see how it goe side effect still minim appetit definit suppress made it thru turkey day w o bing keep to my 1200 calori about 90 95 of the time\n",
      "i began take saxenda on januari 8th the first month had a few side effect acid reflux nausea inject site discomfort and constip this all subsid over time i ve been go strong for 4 month and have lost a littl over 30 pound i start at 246 sinc my appetit has been suppress i eat smaller portion 5 to 6 time a day prior to saxenda i would eat larg quantiti for lunch and dinner never breakfast and certain snack at night so it forc me into better eat habit i also tri to eat whole grain turkey salad etc it s chang my lifestyl\n",
      "struggl with weight for year i have tri numer diet high protein low carb be one of the best but with a busi stress life i need a but of help i stare on phentermin 30mg in the morn and phendimetrazin 35mg in the even they work like magic lost 6 lb in 1 week 10lb in 1 month by the 3rd month i had lost 20 lb start at 170lbs end at 150lbs maintain for 2 month just by take morn pill i will start take even pill to lose 20lbs more the secret is stop eat and start onli tast good\n",
      "i ve been on contrav for 6 week now and onli lost 3 6 pound i had horribl side effect i was constip and had major poop problem and i mean major i experienc some nausea but noth too serious that i couldn t handl i would get realli hot and sweati through out the day and it was sometim uncomfort i m realli disappoint in this medic i realli thought it was go to help i ve been stuck at 260 for about a year and i thought this was go to get me over this hump i work out with weight 6 day a week and run 2 mile daili i m go back to the doctor tomorrow to see what s go on\n",
      "i ve been on this for a week and lost 9 pound probabl water weight but it s still pound i recommend\n",
      "start belviq a littl over 4 week ago tri phentermin in the past and i would lose weight but also not sleep belviq has been awesom i have lost 10lbs in 4 week i have hashimoto s diseas so even at that slower rate i am elat i can diet for month and not lose ani do get dri mouth and a littl sleepi at time but i am usual not hungri and have to remind myself to eat i am full with less food and don t have the quot i have to have right now quot crave pretti awesom\n",
      "i ve been take tenuat for 6 month i m veri pleas with result i ve drop 4 dress size and 30lbs one thing i ve found to be the key to my success is work out and make sure i eat enough calori i onli want to lose 17lbs more pound and i m keep quot the faith quot that i will accomplish my goal\n",
      "i wait to start until today sinc i am off work today i ve never been on a prescript befor outsid of antibiot for cold flu etc i didn t feel anyth until around an hour my throat got extrem dri and i had an insati thirst i drank glass after glass of water for at least two hour i also had to use the restroom everi 10 15min which is a concern for day i have to work i drive long distanc for work at the second hour i had a crazi burst of energi and start deep clean my entir hous after i finish i felt tire so i laid in my bed i was in it for 30 45min but could not go to sleep i got up and ate two pizza slice which is normal for me i guess it take a while befor your appetit is suppress\n",
      "i have to say i love this pill the onli side effect was a small headach for the first 48hrs my doctor want me to have a surgeri but i thought no i can do this on my own i have been take them for 2 1 2 week i weigh in at 280lbs and now i weigh 269lbs i pray that i can keep go i have no crave at all i wish everyon the best\n",
      "i m 5 2 quot today mark 2 week on med start now 1st week did 0 6mg lost 6lb probabl h2o 8mg today but scale hasn t move in day small needl no pain few time had sting not bad dose initi night switch to am no side effect 5 day then had a bad migrain no nausea like other appetit is crush have to forc brkfast bare eat lunch i m quot hungri quot but can onli stomach a few bite 800 cal day no snack few time felt dizzi increas h2o ate protein constip is main problem now senna tea lot of h2o to help littl exercis now but will start walk goal to be about 120lbs 60lbs more to lose in cover 50 copay wish me luck\n",
      "i am classifi in the bmi categori as obes i need to lose 90 pound and sinc start belviq in octob of 2016 i have lost 42 pound i have start work out becaus i know that just lose the weight was not enough i need to get my heart go again i have no medic issu so it is just about get the weight off for a healthier me it took about 3 week for my weight to start drop and it has been slow there are time where i will lose weight and then i might go a week and lose noth the main thing is not give up and get out their and tri i can t run a mile yet but i can walk it don t stop tri and don t give up on belviq it realli help\n",
      "been take belviq for 3 4 week side affect were mild headach fatigu and sneez in the 3rd week but now subsid for the most part i am though a littl tire at the end of day and sleep well at night i m assum the longer you take it the more your bodi get use to it i have lost 15 lbs so far i have cut my portion to almost half still eat much of what i like but less also notic that i have made some new healthi choic i plan to start exercis this week as well by walk regular until i can jog comfort i know there is no perfect pill that s not go to have side affect so if there s a littl discomfort in the short term for long term gain i m in i truli belviq will help me achiev my long term goal\n",
      "i have battl with my weight my entir life with that be said after weigh in at 296 pound on my doctor appoint almost 4 month ago my doctor recommend contrav i read about the possibl side effect but decid i need to tri this for me my health and my 6 year old son i did not experi ani negat side effect the first month of be on contrav i onli lost 5 pound my second month i lost anoth 5 pound i must admit i was frustrat my calor intak had been reduc drastic then after the third refil the weight start drop off i honest i can t wait to go to my doctor appoint this month i weigh in today at 270 portion control is so easi crave are complet gone i love it\n",
      "i have been on qsymia seen 4 1 2015 i had tri everyth to lose weight and was unabl to do it i love to cook and love to eat we eat out a lot and have a lot of compani up to this point i couldn t control portion i ate a lot onc i state this drug at 7 5 i start lose and control my portion i join weight watcher expertis do great deal and have lost 47 pound i have 3 more pound to lose i did see that i was lose my hair and it thin a great deal i also have troubl sleep the good far out weigh the bad when i had onli 10 pound to go i start take it everi other day this has help me with the hair loss i have been eat what i want more or less\n",
      "suffer through the side effect in the first week headach nausea dizzi but have lost 4 pound alreadi hope the side effect will taper off as this medic definit control my hunger and crave\n",
      "worsen heart problem i was on the medic a month and was do fair well howev i suffer from occasion afib usual about 1 2x month had it daili while use this drug my cardiologist took me off and afib went back to 1 2 month i d be weari if you have ani heart problem\n",
      "i m 21 year young i start take phentermin in decemb of 2016 i weigh in at 287 lbs today i weigh 229 pound i m on a 40 carb 1 200 calori diet drink onli water and my snack are nut or beef jerki i work out 4 time a week for a hour with intens cardio i also work in the fast pace or so i don t have time to think about snack i m happi with my result i m continu to take phentermin for anoth month or so and then i ll be on my own use just the knowledg of what s right and wrong yes i did cheat twice throughout my diet and each time afterward i felt so disappoint and like it wasn t even worth it\n",
      "5 5 sw 120 start 1 month ago have lost 12 pound steadili lose 2 5 a week now can onli handl the 2 pill in the morn anyth beyond that and the nausea is too sever sinc i m still lose on the lower dose so just stick with that for now you have to take this medic with food honest the hardest part was the mental emot side effect food lose it allur it s like your quot break up quot with food food keep call and show up but your like quot no food i m just not in the mood i m sorri it s me not you quot and then you are left deal with what empti you may have been tri to fill with food also you get full so fast it s not even worth cook a full meal it work but there are sacrific\n",
      "i start phentermin februari 27 sinc then i have cut out liquor soda and juic i am onli drink water my calori count is down to 900 today so far my symptom have been general extrem cotton mouth and get jitteri my appetit has total becom suppress my start weight was 218 my goal weight is 165 i will be post my weight by month as i see my doctor i notic my urin is now clear my face normal has acn and i m start to clear up and all of my friend have been tell me i look like i ve lost weight so hope by the time i see my doctor i will be down 25 pound\n",
      "i have been on contrav sinc tuesday 9 1 15 and i ve lost 2 6 pound so far not bad for onli take it for 4 day i will say that i did experi veri mild nausea the first day but had some cheerio as someon els mention and it help i also have had diarrhea loos stool everi day my boyfriend say that s whi i m lose which is probabl true i am not too concern about it becaus i had been told year ago that i have irrit bowel and i do occasion have this issu my start weight was 236 6 and today i weigh in at 234 0 i will report more in the come week\n",
      "veri effect but couldn t handl all the visit to the loo after too mani visit to the toilet i cut down to one a day i ate two virtual fat free meal for breakfast and lunch and then took just one pill with my even meal stop me snack complet fear of accid steadi weight loss approxim 1kg per week veri good but stock up on the toilet roll take one pill with just my even meal mean that my toilet trip are even night this suit my lifestyl much better as don t have the kind of job where i can be dash off everi five minut\n",
      "i have been on belviq for exact 2 month now i am a 43 year old male but was start to feel like i was 75 year old in 2 month i lost 42 lbs and am averag about 1 5 lbs everi 2 day i was 329 lbs at the start and alreadi can feel the differ along with belviq i chang my eat habit and although i have not start exercis yet gotta drop some more befor i start that i feel like a new person i can do thing like go up a flight of stair without lose breath someth i couldn t do befor i read a lot of peopl have differ success or no success with this drug but i thank my doctor for allow me to tri this and not do the bypass surgeri he had origin want to do good luck to everyon\n",
      "i ve been take this for just 8 day and it work i am 5 8 and weigh 79 3 kilo at my height when i weigh myself day befor yesterday i weigh 77 2 these pill work becaus they forc the fat out of you and if you eat bad food they don t care where you are or what you re do at that second you will sh yourself i have a fitbit and have been make myself walk back from work 25 min each day so togeth with normal day walk also averag 5 6 mile so lost over 2 kilo without a lot of effort in just over a week these realli work i ll be buy some more until the beer belli that haunt my late twenti is slay and i can see my ab again\n",
      "so i ve been on it 4 day i m starv becaus i m on a 1 000 cal diet with it the suppress appetit hasn t kick in yet i d say i ve probabl lost some water weight most becaus i m drink so much water to keep from starv i went through cmwl at the recommend of anoth doctor and becaus i ve gain about 50 lbs in the last year some of them were that boyfriend belli then i got that break up belli now i m 33 5 5 263 lbs and i just have to make a chang i ve final reach the point where i don t want to be like this forev i was alway around 200 and okay with that but i can t anymor i don t even want to look in the mirror so i m readi to get over the side effect\n",
      "dr suggest contrav for 2 yrs declin think i d do it on my own wasn t like the potenti side effect cnp clarifi given famili histori current obes eat habit activ level head for a place much wors than potenti side effect move forward with it scaledown 1st month down 21 lbs 4 1 2 month down 63 lbs signific curb desir to eat feel full much faster side effect seem to be mild constip has impact sleep cycl to the extent am awak more frequent through the night than previous would have prefer to not have these thing but well worth it consid weight loss improv well be qualiti of life establish much better eat habit s for post contrav\n",
      "i ve been on saxenda sinc januari 11th and have lost 9lbs i have a complex medic histori but be lighter and abl to do more with my bodi is the goal weight wise my goal for the first 6 month is to lose 56lbs my side effect thus far have been terribl extrem nausea acid reflux sever fatigu even some moder to sever dizzi i m not enjoy it much howev it seem to improv 10 12 day after each dose increas dose becaus of my side effect i ve need to slow my dose progress everi 2 week i increas by 0 6 mg insur in canada the public servic health care plan cover this medic in some case there need to be a medic need asid from obes good luck everyon\n",
      "i took this medic for 5 month from april 2012 through septemb 2012 i use this medic as a tool i chang my lifestyl and thought of this pill as one toll to assist in my lifestyl chang i start at 178 pound and i met my goal weight of 115 pound in decemb of 2012 it is now sept 2013 i have maintain my weight this is not a miracl for last result you must eat right workout and keep a healthi lifestyl it was wonder in assist me if you do not do the work as soon as you go off the medicin you will gain the weight back\n",
      "the medic effect my appetit and i was free of ongo hunger pang i have lost 40 lbs and am maintain it i wish it was not as expens as it is my health and energi level have improv far outweigh period nausea and constip issu\n",
      "i am take phentermin 37 5 mg onc a day it has been the onli diet pill to actual suppress my appetit without an actual upset stomach i just feel normal instead of feel addict to food been watch what i eat and work out at least 30 minut a day i have lost 10 pound in the first 9 day cant wait to see where i go from here onli a littl scare becaus i might becom addict\n",
      "i am 5ft and weight 204 pound i will start tomorrow 8 12 15 on belviq i ve done a lot of research befor go to my dr for this medic i ve spent hundr of dollar on all sort of weight loss medic though belviq is on the expens thank god for the manufactur discount end i m will to tri it i alreadi work out 30 minut a day so i m veri hope this will work i will post an updat in 30 day\n",
      "i start this medic three seper time stop onli a coupl day in becaus of the sever headach i got it was keep me from be abl to lead my day i am tri again start with a quarter of the pill and ibuprofin in the morn i can see how this help peopl though i m not hungri and asid from my headach i am in a good mood if i can get past the headach which interest make me crave someth sweet and cold like ice cream then i think this will be good i exercis high intens four day a week and watch my sugar and carb intak as well lost 20 lbs last year but had to keep myself account the medic help but you have to take charg of it\n",
      "i am 21 year old have struggl with my weight my entir life and have never been abl to lose weight until now for context i have pcos and virtual no metabol so even when i was an athlet eat well and work out up to 4 hour a day i was still heavi when i start contrav i weigh 210lbs it has been around 4 month and i am down to 184lbs for the first time it feel like i am get result with the same thing i d been do for year i didn t chang the way i eat i just ate slight less and keep a relat moder exercis schedul and the weight practic melt off the onli side effect i had was cotton mouth but hey good way to drink more water and even that went away onc i was up to 4 pill a day\n",
      "i did not lose a singl pound dure the 15 day free trial i ach all over muscl ach pain general malais decid not to continu after the free trial and let me just say that the withdraw from this drug are horrend had high hope for belviq but serious thought i was go to have to go to the emerg room the second day after i stop take it had race heart beat occasion while take it\n",
      "43 yr femal 5 5 quot 238 lbs take qysmia sinc dec 23rd start low dose free one down 6 lbs have been eat noth but snack food not realli hungri but my mind keep tell me to snack extrem thirsti soda tast gross which i expect becaus i use to take topamax for migrain a few yrs ago i drink ton of water littl emot extrem tired midday earli even then a burst of awak toward late night mayb has someth to do with when i take the med none of the side effect are too concern to me can t wait to actual start eat healthier at home so i can do some serious weight loss the con to me is the cost\n",
      "updat rememb i start on april 9th at 221 6lbs today i am 207 4lbs this product is work for me i forgot to add in my first post that i get the sweat side affect with ani kind of physic exert i begin to sweat a lot i have read on other side affect site that peopl experi this i am on other medic that caus this too but the contrav exacerb it this is my main complaint about the drug and would be the onli reason for myself to discontinu howev it is work so well that i am will to deal with it to reach my goal so if i need to go somewher or be around peopl i just make sure i haven t been do thing around the hous or get too stress out to activ that sweat side affect\n",
      "dec 23 my doctor had me start this my first week i experienc all the symptom and lost 5 lbs in three day i had to forc myself to eat and i couldn t sleep i seem to have adjust now but have gain the weight back i m confus sinc i work out hard 5 to 6 day a week i eat less than 2000 calori a day i feel like i would starv at 1200 like i see most of you post should i be restrict to 1200 my doctor didn t mention this to me on a posit note i do feel more energ when i work out i feel like i don t want to stop exercis my doctor prescrib this for me to give my metabol a boost i ve lost 70lbs w o the pill but haven t lost anyth for 6 month been at the weight mayb i need to have it a month\n",
      "this is my 3rd week i did miss a coupl day of take it which made me nervous to restart i start take 2 pill this morn i have so far lost approx 9lbs i m thrill my cloth are fit better alreadi i feel slight quot spacey quot at time but this feel quick pass like other i do have to remind myself to eat i will post more updat next week good luck all\n",
      "i was sever obes and didn rsquo t know what i was do to myself i was basic kill myself or eat myself to death i was 400 lbs when i start this med i notic an instant chang in not onli what i was do to myself but it gave me energi i didn rsquo t have it sort of woke me up and made me realiz what i alreadi knew that i didn rsquo t like what i saw in the mirror that was almost 10 year ago today i am my ideal weight for my height 130lbs and i could not be happier i have lost the weight and kept it off\n",
      "i am 5 7 263 lbs femal my doctor put me on this to help with my weight loss i am on weight watcher as well and start go to the gym i start april 3rd with 0 6 for week one and i just increas to 1 2 for week 2 week one my symptom were nausea stomach pain and abdomin pain just below my belli button extrem constip and bloat i had to go the pharmaci and got stool soften which help after 2 day of take stool soften i also felt extrem tire week 2 yesterday was my first inject of 1 2 and the next day today i had sharp pain in my stomach until i had someth to eat and drink lot of water i feel like i need to drink a lot of water to feel good i will updat soon\n",
      "i have been take it for almost 2 month now and i lost 9 lbs the first month and had a lot more energi and the second month i haven t lost anyth and no energi i have had constip cramp and dri mouth and insomnia i have to go to the doctor onc a month for a check up and a new prescript my goal is to lose 30lbs but at this rate i am not go to make it i walk 3 mile a day at a brisk walk and do a cardio work out 3 time a week but can t seem to lose the weight like everyon els who have comment on this board\n",
      "i start on this april 22 2016 i m 32 and a mom of 2 5 4 start weight was 272 i sit at a desk 8 hour a day i love to eat i have tri everyth except surgeri spent lot too i was alway hungri this medicin has help me to stay on track with a calori goal of 1500 or less most day i bought a fitbit and after work i ve onli had between 3200 and 3800 step so we go on walk and my daili averag is 11 000 i start jog a littl bit everi other day we do tone about 30 min and we get the kid involv too i have lost 40lbs befor but it took me 9 month and live at the gym as of today i have lost 42 lbs 230 weight it has been 13 week and not slow down dri mouth yes but is cool for my result\n",
      "i had the gastric sleev surgeri when my weight reach near 300 lbs on my 5 1 frame and i was desper for an intervent after the sleev with diet and exercis i got down to 208 but then i just stay there for month it start to seem hopeless and my sweet addict return found myself eat sweet again a fellow gastric sleev patient told me she was take qsymia to help with her sweet crave and i should tri it went to my doc and after discuss he opt to put me on the 3rd level dose rather than start me off slow first day i did have tingl sensat did have lot of energi and still do onli been 2 week no hunger yes dri mouth onli side effect i have no sweet love qsymia scale is move again\n",
      "ok here is an updat i am into the last 2 day of the first 30 day on qsymia 3 75 23mg i was 233 and now down to 215 i have more energi and did chang my eat habit and i am exercis more this medic doe curb your appetit and you do not realli crave sweet which was a problem for me the dr was excit to see the result i just saw him and i went down 1 point on the bmi scale and he has up the dose to the next level i shall report back to see if there are ani side effect with the higher dose in refer to the cost my deduct was up to 200 then after that i pay onli my copay which is 50 00 a month there are websit that offer coupon for this med so pleas do some research like it did i got 2 week free\n",
      "start take on februari 27th i was alreadi count calori and exercis 5 6 day a week but noth move the scale first few day i m so tire after take this seem to be the onli side effect i have a slight headach but i think that s due to not eat as i m just not hungri goal is 80 lbs i m 250 5ft 9\n",
      "i start the medicin 4 day ago and down 4 pound alreadi it curb my appetit and i don t snack eat like i use to i have also notic that i have more energi which keep me move throughout the day and want to walk when i get home so far so good i also feel focus i think the energi is help boost my metabol\n",
      "i start contrav on 2 17 2017 i m now begin my 2nd week one pill in the morn and one at night and i ve alreadi lost 3 4 pound my crave are now under control and i don t get up in the middl of the night to eat anymor i honest feel amaz and full of hope for the first time in a long time the onli thing notic side effect wise was have a headach and fatigu the first day or so but noth sinc i ll updat in a coupl of month but i give this medic 5 star besid the fact that it s super freak expens lol\n",
      "start my third month on this medic to control my eat habit in order to lose weight i start at 183 lbs i weigh in this morn at 180 6 lbs the bupropion part has help my mood and attitud but i see no chang in inappropri eat or crave desir for pizza ice cream etc i pay 90 plus tax a month\n",
      "i have been use qsymia for a littl over 3 month i have lost 50 pound i m 30 have 1 child and couldn t lose weight no matter how long i stay in the gym there is no magic pill that work for weight loss without diet and exercis you need to do these thing to see these type of result i will say in the begin my side effect were aw i alway felt tire but i push pass that and it went away i have sinc gone off my blood pressur medicin as well i would recommend follow close with your doctor if you are on bp med though becaus my blood pressur drop so quick i was faint not from qsymia but from get healthi so fast\n",
      "i am a food addict the first day i took contrav i lost desir to eat crave no longer consum me the feel of full occur now and linger for hour i am onli on day 3 but i hope this continu log food on fit pal help no snack and 3 healthi meal a day i don t feel hungari at all it is wonder i was consid gastric bypass this was go to be my last attempt if i continu to feel this way i won t need surgeri\n",
      "i ve been on victoza for weight loss for approx 6 week i was start on 0 6 the first week 1 2 the second and 1 8 the third i had a touch of nausea the first two week but found that if i ate a small snack carrot appl the nausea went away i ve lost 18 pound so far and i feel great\n",
      "keep me from be overwhelm hungri so that i can concentr on eat 3 low calori healthi meal daili with some nutritiu snack thrown in not be hungri all the time allow me to spend more qualiti time excercis as well\n",
      "i am a 36yr old mother of 4 and i start take contrav yesterday and initi i felt noth until i start move around i becam veri jitteri then extrem clammi and hot my mouth start to water and i threw up all over the place to say it made me nauseous is an understat i thought mayb it was becaus i ate a light breakfast befor take it so i took it again this morn after a decent breakfast and as i m type i m go through the exact same symptom as yesterday i m go to discontinu use this as much as i was hope i could continu to help with my weight loss the symptom are too harsh for me to continu\n",
      "i have been on this medic for 1 month and it doe take away hunger i take my pill around 10am becaus i m more of a late night eater i have had the headach the first week take the pill but they have slight gone away this pill doe make me feel a bit of the rapid heart beat but onli for a bit i did feel a bit of depress the first week take it and it not like me at all but as my bodi is get use to it that feel went away i have tri phentermin and that gave me crazi energi but i was still abl to eat on it it did not realli take my hunger away like diethylpropion i m on the 75mg er so it releas slower for the whole day i exercis 5 day a week for 1hr and 30 min lost 12lbs and exercis and eat right\n",
      "i start this medic for weight loss on 01 15 10 and today is 02 14 10 i am a femal age 22 and start out at 227lbs and i am down to 210lbs that s 17 lbs the first day i took this medic i could not believ my lack of interest in food howev the first 2 day on this medic i had a horribl headach bad tast in my mouth and extrem dri mouth symptom did go away after 2 day so that was the good part i exercis about 2 day a week at this time i would suggest to team up with your dr with this so he can keep an eye on your blood pressur wt loss heart rate etc this medic has start to wear off recent but my eat habit are on the right track other than that this medic is amaz\n",
      "i am start my third week on belviq i am down almost 7 lbs side effect at first were feel veri tire feel cold and dri mouth i still seem to have low energi and can t seem to exercis with the strength i had befor none are bad enough to quit at this point it has total diminish my appetit and crave for carb that alon is worth the 200 mo i am current pay\n",
      "didn t work at all i have a friend where the weight just fell off so want to tri it he had side effect of lot of nausea and eventu stop it becaus of that i use it for six month at the highest dose and didn t lose ani weight actual i lost about 5 lbs the first month which is whi i kept go but regain that 5 and finish 6 month at great expens with no weight loss i will say i also had zero side effect nada zip no nausea noth mayb have side effect is a marker for those it work in\n",
      "i ve been on 30mg phentermin for 42 day and has lost 31lbs i got 42 more day on the pill hope i will be at or close to gw notgivingup sw 274 cw 243 gw 200\n",
      "after onli a few day i was surpris to find that i was easili abl to make a smart conscious decis about what i would eat and how much the quot voic quot in my mind that would push me to do just about anyth to get my hand on huge amount of realli crappi food was gone here s the catch some other review say that peopl felt more hungri well that s just mild nausea like slight morn sick where you feel like food will fix the sick feel drink lot of water should help with a lot of the side effect lost 8lbs in 2 1 2 week this medicin work by turn off the quot pleasur quot of eat so you can eat for nourish onli this is whi you might feel full so fast it shouldn t take that much for a human to be satiat\n",
      "my dr suggest ad victoza to metformin and acto treatment for diabet sinc my a1c level were get progress higher and i am 100lbs overweight in 5 week i lost 23 lbs for the first 3 week i experienc nausea and extrem fatigu i love victoza becaus for the first time i feel full after eat small portion i have a great reduc interest in food and appetit i feel reliev that i can final eat to live and not live to eat\n",
      "i have lost 26lbs dure the past six month i didn t work out consist i am go to to continu to take it as i still have more i want to lose\n",
      "my dr prescrib me the contrav to lose weight i took the first onli pill yesterday i wound up in the er from an allerg reaction to this pill it was the onli thing differ i had took 30 min after take it i was shake all over insid out it felt like my insid were tri to crawl out of my bodi i had chill was liter freez it was in the low 90s veri bad headach my tongu swell up later that nite could hard talk hurt to be touch i couldn t be still i was shake realli bad the worst experi i ve ever had i liter thought i was go to die\n",
      "i start at 247lbs and took it for 3 month and am now at 214lbs it work great lot of energi and no appetit had to make sure and eat thing that were healthi becaus i need the nutrit and i did exercis daili but after the 3rd month realli notic extrem hair loss so i had to stop it s been 5 month and my hair is still thin and i am at 208lbs now good luck\n",
      "june 8 start med at 247 lb ad exercis and healthi food not a fast food restaur ever today dec 15 i am at 167 lb it work\n",
      "june 18 2017 i start take contrav at the end of januari 2017 in the middl of march i ad two garcinia gambogia 95 and 3 tablespoon of appl cider vinegar mix with ani fruit juic on a daili basi i am femal and start out weigh 213 pound as of today i have lost 26 pound this weight loss medicin has help me tremend and i am look forward to the next few month if you are consid this medic be sure and look for the half price coupon it will save you lot of good luck\n",
      "i tri belviq for two week great med but no insur will cover it coupon onli 20 out of pocket 265 00 for just for 1 a day dose\n",
      "start june 24 2017 on my 4th week dose 1 8 down 10lbs age 59 6 2 quot start at 300lb now 290 expect faster loss as i tend to lose quick on diet but it come back weigh daili notic up and down swing of 5 to 1 lb some day walk 3 mile a day under 40 minut side effect nausea some fatigu especi in afternoon bodi is adjust to drug slowli absolut no hunger whatsoev eat smaller portion and adjust diet crave for sweet and carb have subsid\n",
      "i love belviq i start on jan 15th today is the 19th and i ve gone from 371 8 lbs to 364 1lbs i ve been eat a littl healthier and have had a major decreas in appetit i can t wait to see what i accomplish the next 6 month i ve had no side effect\n",
      "i origin found out about qsymia through my endocrinologist who told me he had numer patient who had success with the medic and that it could turn my health situat around i have been on the medic for about 4 month now and have lost a total of 34 pound my insur is cover the medic so it keep the cost veri manag the onli side effect i ve had is a differ tast on carbon beverag and a littl tired for the first few week outsid of that this medic has help me final make stride toward get to a healthi weight\n",
      "hi guy i been take contrav sinc 2 23 16 start off at 243lbs and i m 5 1 quot i have lost to date 9 8lbs 233 2 lbs and i think the low carb diet had a lot to do with the weight loss in 9 day too today i start do an hour cardio at the gym i couldn t believ how quick it went by i think im get a boost of energi from the med so far no side effect im now on my 2nd week of med 1 in the morn and anoth one in the even hope this will keep up i also use my fit pal app to keep up with my diet and it s help a lot as well the medic was not cover by my insur and it was go to be 150 but i sign up for the discount card which was great it save me 95 plus a got a free scale from contrav\n",
      "i start belviq 8 day ago i did experi dizzi headach and tired for the first few day but now i m back to normal and down 8 5 pound what s even better is that not onli is my appetit gone i also get full veri quick so even when i m not eat as healthi i onli get between 1 4 and 1 2 if even which mean i still lose weight\n",
      "i start take this medic on 4 6 10 and have so far as of today have lost 10 lbs i love it for the first time i did experi the heart palpit which scare me a littl bit the next day they were gone i would recommend this medic to anyon my goal is to lose 50lbs and i will agre my focus is great and i have not experienc ani jitter or problem fall asleep my doctor has me take the medicin on a time schedul which is at 1pm then 4pm and last at 7pm with a b12 shot everi 2 week i have experienc dri mouth but i just up my water intak sinc i am not a big fan of water i do not eat ani high calori food at all i onli eat chicken breast deli about 3 slice with some vege and have water\n",
      "i start belviq on march 19th one month later i lost 6lbs i believ the pill work to curb your appetit but you do need to also have some will power i also suffer from pmdd which make me moodi and caus me to overeat if not for this i think i could have lost more weight my insur bc bs cover it i onli pay 25 copay also i take it onc a day around 2 3pm becaus 2 a day is way too much for me becaus it make me exhaust i need to lose 40lbs i have incorpor walk over 3 mile each day the first coupl of day of take the pill i did have migrain and tension in my shoulder take alev with the belviq help and then the symptom subsid i wish you all good luck with this it work\n",
      "i start adipex on may 26 i weight myself i lost 12lbs this pill work great i don t even think about snack bread are soda\n",
      "so i start this medic almost 3 week ago i can tell you it doe curb my appetit not for regular 3 cours meal but i do not feel the urg to snack in between them howev it is come at a price i feel veri anxious i have never ever been a nervous person i am pretti sure i suffer a panic attack on friday night i sat in my car for 30 minut debat whether or not to drive to the er i didn t i went to sleep woke up aliv this onli seem to happen on 4 pill a day today i took 2 around 12 pm and i am start to feel the kind of nervous i felt friday not near as bad though i do get the confus other talk about as well forget what i was do just not pay attent like i normal do\n",
      "i began take this medic in septemb 2014 i use it for 6 month and lost 50 pound i had a few side effect such as constip and loss of sleep but both were veri manag this medic reduc my appetit so much that at time i had to forc myself to eat just to make sure i was take in at least 1000 calori a day as direct by my doctor i went off the medic and gain about 10 pound back so now i am restart the medicin after be off a while it s no miracl drug but it is a great tool\n",
      "hi this is week 8 on phentermin 30mg i have lost 37lbs last doctor visit is 9 22 and that will be 3rd and final refil sw 274 cw 237 gw 200 andjourneycontinu\n",
      "38 yoa male start dec 2015 at 238lbs april 2016 at 196 lbs that s down 42 lbs my metabol is super slow i m eat around 1000 calori a day in order to see movement i workout 4 5 xs a week for 45 min a day i log my calori with the lose it app and weigh everyday with scaledown i have not experienc ani side effect other than color be brighter\n",
      "i start take a half of a pill today i ate veri littl the energi is great the onli thing i am notic is that i am not abl to sleep and i am tire also a bit of dri mouth my goal is to loos 45lbs so i can have a surgeri that i desper need if i can take more weight off that would be fabul\n",
      "i ve been on his drug for about three week now i m on the 1 8 mg current and have lost about 14 pound the onli side effect i ve experi was a littl nausea and some fatigu i can t believ i final found someth that seem to be work i m not hungri all time and is veri satisfi with the small portion of food i have a lot of dri mouth issu but glad i do i ll be abl to take in more water which is what i struggl with i need to lose in addit 35 pound to get to where i need to be i m confid that this miracl drug will help do the trick\n",
      "i have recent start take diethylpropion 75mg extend releas capsul and have lost 31lbs in 7 week veri veri happi as you can imagin i now wait until late morn befor take pill otherwis find that by mid afternoon the suppress has worn off i follow a veri low carb diet but to be honest i haven t exercis that much the onli side effect that i have found is a slight dri mouth but this made me increas my water intak i have now stop my pill due to be near my happi weight 133lbs 5 3 quot and am find that i have remain in control probabl due to stomach have shrunk slight and have not gain ani weight i aim to allow myself flexibl of 7lbs either side of my current weight great pill\n",
      "just start take the 75 mg tablet daili about 3 day ago alreadi have drop 5 pound after just be on a normal diet of not eat as much and lose 85 pound without the pill i have found that it make my crave complet go away and i have to make myself eat i could go all day without eat if i want but you can t lose weight unless you eat someth onli negat side effect were intens dri mouth a littl bit of a headach which tylenol can take care of and my blood pressur sky rocket a bit\n",
      "the first 2 week were rough i was sick to my stomach dizzi and tire my doctor switch me to separ prescript of wellbutrin and naltrexon the same drug in contrav and i took one in the morn and one at bedtim it got rid of the side effect i ve lost 20lbs in the last 2 month the medic doesn t suppress my appetit but now i can feel when i m full and i m abl to walk away with food still on the plate it doesn t miracul take away the crave but now i feel okay say no or have a coupl of bite and be done befor start the medic i could eat a meal and an entir dessert by myself but now i eat mayb half as much if contrav made you sick it s worth ask your doc about separ it\n",
      "today is august 31st 2016 i ve been on adepix for two day and i feel a chang in my eat habit and energi level this is my second time take it and it help me the first time and i went from 314 253 in about 8mth januari to august of 2015 i just start back becaus i gain my weight back realli quick deal with stress relationship problem and i weigh now 292 so i m determin to loos the weight manag my stress level stay focus on my goal and hit the 230 mark by my birthday in novemb eat healthi and exercis so wish me luck i m bless to have a littl help to curv my eat\n",
      "i start adipex 37 5 mg on 06 14 2010 after read all the review on this site i also have chang my diet consider and i exercis walk zumba and light weight i wasn t go to weigh myself but i end up go to a doctor s appoint on 6 18 10 for a check up and i made a mistak and peek at the scale and i had lost 9 lbs in one week i do experi dri mouth and occasion headach but noth serious i start take this medicin becaus i need a boost on top of the diet and exercis i do not take the medicin on the weekend and i alway cut my pill in 1 2 and take 1 2 when i wake up at 6am and the other 1 2 at 2pm after i have eaten lunch at work start weight 251lbs current 243lbs as of 6 18 i will updat my progress\n",
      "i m up to 3mg dose onli lost 8 lbs in 2 month i was veri leari start this medicin due to the thyroid and nausea issu but i gave it a tri it did not curb my crave it did make me full fast so instead of eat 2 sandwich i would onli be abl to forc 1 down but i don t think it worth it my dr say it take 4 month to realli kick in side effect were dri mouth horrif fatigu and confus noth too major but like ani drug there is someth i would not recommend this drug as it is not a fast solut to weight loss and it is pretti discourag if you want to lose more than 1 lb a week even with inject yourself\n",
      "i have been on qsymia for 2 week now start at 305 and 295 as of last night i haven t experienc ani side effect to this date i have use the app quot lose it quot to keep up with my food intak and also brought the lose it scale i found drink water in larg amount help with the dri mouth look to lose 91lbs will updat soon\n",
      "i have been on meridia for one year under my doctor s supervis dure that time i have lost 108 pound my doctor has been abl to gradual take me off of all 3 blood pressur prescript simvastatin and metformin it has been veri effect in help me control my appetit and thus lose weight i have increas energi sex drive and general a much better disposit and outlook on life it has been great for me i have anoth 12 pound to lose to reach my goal weight of 174 onc that is achiev he intend to keep me on meridia for anoth 6 month to enabl my bodi to achiev the correct amount of leptin product necessari to maintain my new weight and prevent me from regain the 120 lbs i will have lost\n",
      "i have taken belviq sinc last octob and have lost 45 lbs so far just need anoth 15 and i will have reach my weight goal this is the first prescrib medicin that has work for me and i am thrill you must chang your eat habit as well as pick an exercis that you like to do while take belviq or it will not work as well speed walk is my love and my waist has realli shrunk high recommend this weight loss medic\n",
      "omg i swear i m not a paid person i ve got a bad back and in the past i ve use this and that with no success after spend all that money i m 288 pound i eat no junk food no fast food no bread rice s pasta s all i do is juic fruit n vege and take belviq i lost near 10 lbs in a week\n",
      "just got back from my 90 day realli 87 day belviq status exam so here is the data from the doctor offic weight from 261 5 to 236 0 that is down 25 5 pound or 9 75 glucos from 102 to 91 ml dl that goe from prediabet to normal rang a1c was 5 5 but i do not have a baselin 0 day valu hdl for 23 to 30 still low but a lot better i also had one of my lowest bp read in year at the doctor offic my advic to new belviq patient is that after start belviq my hunger goe away befor i feel full that is a new experi for me pay attent to the lack of hunger to know when to stop eat\n",
      "i ve been on this for about 3 month and thus far have lost about 20 lbs slow and steadi just the way it ought to be side effect are minim a littl nausea but not intoler i have anoth 40 or so pound to lose it s great to final have someth that realli work downsid doe anyon s insur actual cover this stuff cash pay it s 1000 a month i have put that out for the last 3 month between have crummi insur for the first 2 month and then the deduct on my new insur now i am find out that it is quot an exclud drug quot great i guess they d rather treat me for diabet hypertens and the coronari i ll probabl have from be fat doe anyon els s insur jerk them around about pay for this\n",
      "i have been on 37 5 for 3 week now although it gave me more energi the first week that has subsid and my appetit come and goe i have onli lost 2 pound in 3 week but i believ that to be from the new exercis i ve alway drank a ton of water becaus i love water so the onli chang is now i have dri mouth to tend to i weigh 285lbs and my goal was 220lbs becaus i do like my curv just not so mani i do not eat as mani calori as recommend on certain day becaus i am liter not hungri buy on other day i may go over by 20 30 but 3lbs realli i m frustrat\n",
      "finish my 3rd month on saxenda the first month i lost close to 20 pound and at the end of 3rd month i have shed over 35 pound i take the shot at bedtim and asid from the first few day suffer no side effect eat small meal and walk everi night need to start wean off as my 50 pound goal is in sight\n",
      "start victoza with sampl from my diabet team start on 06 and work my way to 1 8 within a few week of dose no weight loss it has help a lot with my blood sugar drop from fast 180 to around 120 130 i have bump from 1500 mg of metformin to 1000mg but no weight loss i ask my nurs if i could bump up dose to 3 0 sinc saxenda has a dose of 3 0 and it the same med she agre so i did a 1 8 and a 1 2 shot each morn side note i work overnight i take my med in the am also on lexapro that made me tire i am off of lexapro now so med schedul will chang i am fortun enough to get saxenda at a 0 copay but it has not help me at all i may need to tweak my hour of inject to get the full benefit it\n",
      "i am overweight by 50 pound and my doctor prescrib me belviq i have been take it for 30 day and i have alreadi lost 15 pound this medicin is amaz and a life saver if you are overweight and have not been abl to lose it natur like me ask your doctor and get belviq now you will not be disappoint\n",
      "i just start my 3rd month on contav i am current down 26lbs i did not notic a chang in appetit until week 4 6 i did figur out if i take befor dinner not after i eat less i can not even eat 1 2 of what i use to eat my onli problem is terribl cotton mouth jolli rancher have becom my best friend\n",
      "i took it two week n lost ten pound\n",
      "i start this on april 23 2010 i had seen the result in some of my famili member i was veri skeptic becaus i had tri everi kind of diet known to mankind and was never success i watch sever friend go with the gastric bypass and all of them near die from it and have had constant complic from it this littl pill is great i weigh 264lbs on 4 23 and as of today i am down to 234lbs that is 30 lbs in 2 month my husband start when i did he weigh 337lbs and he is down to 295lbs he has not been below 300 sinc he was a kid and he is 47 year old now we do go for a walk 3 4 time a week my crave for chocol is gone portion size is the key we do have a dri mouth but that is about it will keep you post\n",
      "i am young and consid obes i am a healthi individu though and just want to shed a few pound this pill is what my doctor prescrib i read through all of the side effect and decid to give it a go i lost 8 lbs in two week but i don t think that was from the pill i stop take them after the first two day i was so nauseous that i couldn t stand without fall and vomit and my headach are so bad that it affect my vision it is unbear i may be fat but now i am happili so if it mean never take these pill again they liter steal all of your energi and make you miser\n",
      "i m 22 year old 5 2 i start take adipex 01 27 2015 my start weight was 227lbs so far in the past 12 day i ve lost 12 pound and i ve had no side effect my goal is to fit in to my skinni jean again 5 6 my goal weight is around 130lbs\n",
      "i start with this drug on tuesday not too bad when taken at bedtim howev i want my inject time to be first thing in the morn as this is much easier for me time wise today was the second inject oh my heaven can we say morn sick that is exact what it feel like i have virtual no appetit i tri to eat a littl someth i had been on dr s order to fast for blood work so let me tell you how that went it didn t i could not get past the tast of food in my mouth i was physic ill i stop at sbux and bought a hot tea oh heaven i was abl to sooth my stomach and feel a littl bit better i have to muster through work regardless of how i feel i am hope for result not a miracl here we go\n",
      "this work i m never hungri i am full of energi i am not moodi it last a littl too long for my tast but it is well worth it as long as i can catch at least 6 hour of sleep i m okay i know how to eat right for the diet but this work well to keep crave for snack and fast food away\n",
      "i have been on phend sinc tuesday august 30th it was not prescrib by my primari care physician i decid to see a weightloss clinic and stick to a special plan origin the physician want to place me on contrav but i quick declin that option due to the sever nausea so mani peopl experi so she decid to place me on phend i am so glad that she did my start weight was 278 6 and today 3 day later i am at 271 0 7 6 lbs gone alreadi i have been follow a 1400 calori or less diet sinc tuesday and i walk about a mile last night i am amaz thank onli side effect i have experienc has been cotton mouth i suggest this medic strong\n",
      "46 yr old femal i start phentermin 37 5 on march 20 at 178 pound as of today march 25 i am alreadi down to 168 i have no problem with jitter but i crash everi afternoon around 3 00 i ve tri take a half pill first thing in the morn and the other half at lunch time but either way i crash my goal is 150 and i realli believ i ll get there with this pill\n",
      "first let me say i m heartbroken that metabolif 356 was taken off the market that was the onli thing that had ever help me lose weight i lost 80 pound in 6 month exercis 3x per week alway had ton of energi i start take adipex phentermin at the suggest of a friend who said it would give me similar result she was right it give me energi and curb my appetit tremend my biggest problem of run to vend machin at 3pm everyday is non exist now i start at 262lbs and i m down to 226lbs with no exercis yet i have a long road ahead but i m well on my way this medicin also seem to reduc swell in my leg and feet or mayb the weight loss help i do notic the dri mouth and veri dri brittl hair\n",
      "i never write review but this is worth write about i have been overweight my entir adult life i am 5 6 38 yr old femal start weight 205 size 16 18 woman s start 1st pill may 26th first one made me slight fuzzi in the head but onli the veri first dose i felt my crave stop immedi it was so weird besid the food my husband was disappoint becaus one thing we love to do is drink wine and go to wine tast etc i lost all crave for alcohol sweet and fatti bad food plus i struggl with panic disord and i have felt at eas as of today aug 2nd i am down a total of 22 lbs this is without diet or exercis howev i will start to incorpor it in so that i get the maximum effect\n",
      "i start the med on 11 13 2015 weight 206 today is 12 21 2015 and i am down 19 pound i experienc littl nausea my insur cover the entir cost of the medicin my goal is to get to 160 wish me luck\n",
      "adipex phentermin is great for weight loss i did experi minor side effect i e dri mouth insomnia i have taken this medicin on and off for sever year i notic rapid weight loss the first time i took it lose over 30 pound in the first month i was 202lbs when i took it the first time and after onli 1 month i was down to about 170lbs i went off of the medicin for sever month didn t exercis and return to my origin eat habit regain all of the weight plus some the second time i took it i didn t experi the same rapid weight loss i had with the first attempt onli get down to about 182lbs go for tri 3 but will do it right this time with exercis and diet chang for life\n",
      "today is my first day of take contrav i am a 52 year old male and i weigh 321 pound i have struggl with my weight for sometim now i have been veri nervous about the side effect but i took my first dose today i wish everyon the best and may you all stay healthi\n",
      "44 yr old obes male start belviq 3 month ago lost alreadi 32 lbs my doctor say result are fantast i am actual type this from x sport gym i can t believ how good i feel and how much energi i have after lose the weight i can t rememb last time i was at the gym i need to lose close to 50 lbs total to be consid at the borderlin of overweight or bmi of 27 i have to comment that unlik everyth i tri in the past belviq has no side effect except for the side effect of weight loss i no doubt eat less and have less desir to overeat now enter exercis and i am sure i will hit my goal glad i am a respond no problem pay for this out of pocket which i do becaus it work back to my workout\n",
      "use for 12 day not a pound lighter 5 6 150 just need to loos 5 7 pound for summer no time to go exercis now lot of physic work plus yard eat most salad and soup alreadi sugar too but not a lot my husband was take it too no chang we both are activ usual go to the gym 3 4 time a week i have mild metabol and he has slow metabol it s veri hard for both of us to lose a singl pound we did notic bm and i think i notic more hair loss in me did take multivitamin plus calcium after read onlin about all the side effect recal and bad experi i decid to put it asid\n",
      "i love this drug i start take it on aug 20 and am now start my third month i have lost 22 pound i am 5 8 and start at 187 lbs and am down to 165 lbs in 9 week i gradual increas my dose and would recommend other to do the same due to some of the side effect when i first start i experienc some nausea complet loss of appetit headach and sleepi the symptom did not keep me from live my normal life and they subsid gradual some symptom i now experi are occasion constip irrit and insomnia i was a daili coffe wine beer drinker and rare drink either now all i am interest in drink is water noth els is appeal food is never the focus of my mind anymor\n",
      "i start on contrav may 16th today is juli 7th i have lost 26 2 lbs i am a veri young at heart middl age ladi i am quit optimist excit may 16th i wore a size 22 last week i sport a pair of black slack same style maker size 16 yes they were a wee bit tight but i could fasten them breath freeli while sit after read the review i was paranoid about the potenti sicken side effect but other than a singl episod of dizzi when i increas my dosag from 2 to 3 pill i have had no negat issu i am also take advantag of the scale down program i know that it is an enorm incent booster contrav definit curb my desir for excess eat thank you\n",
      "took it for about two month skip dose on weekend and some weekday due to extrem side effect start have extrem difficulti breath anxieti attack from not be abl to breath with such a tight chest also it made me ridicul irrit and mean all the time but i did lose 15 lbs on it most of the time i felt like i was liter go insan not sure it was worth it though\n",
      "i start on qsymia august 26 2013 one month later i lost 24lbs do regular diet and exercis qsymia did cut my hunger help me stay focus in my lost weight goal side effect in my case veri minor metal tast for the first two week and mayb a littl problem concentr\n",
      "continu so i went to my dr ask to tri the medic i have to say just becaus it work for someon you know doesnt mean it is gonna work for you you lose wt or you lose money either way stay posit for your self and for those that had good experi i am on my 3 day scare at 1st caus i am take other med for anxieti depress and concentr i have not had an issu with ani side effect i do make sure i drink water i have to forc myself to eat train myself to put snack in front of me so definit curb the appetit come from a woman who is not afraid to eat i had a problem eat i would eat till i was miser and bloat so far not even close hope to see good result work out 40min day\n",
      "i start belviq on thursday even befor dinner and today is sunday morn i weigh in at 327 328 on thursday and this morn was 324 i felt the affect instant i was shock how sick i felt after tri to eat a regular size serv i ve had almost half the usual amount of food at everi singl meal sinc i start and almost zero between meal snack i did have about 7 fresh cherri yesterday but that s been the onli snack no side effect mayb a littl dri mouth i m not expect to continu see this level of weight loss continu but i m so optimist about my futur now i love how tini the pill are and i got a certif from the belviq websit that make it possibl for me to onli pay 75 it s worth it\n",
      "i wrote a review my first week and at the time i had gain 2lbs today is 1 month and i have lost between 9 11lbs i was skeptic in the begin due to weight gain and becaus i was not experienc the serious side effect i didn t think it was go to work i still have minim side of effect howev i am no longer sleepi dure the day sometim dri mouth and constip which i eat prune and drink water that doe the trick follow the schedul to take med i still have 74lbs to go and i am still excit\n",
      "i have been use the medic for almost 3 week and have lost 10 lbs i m also do cardio everi other night for 30 minut and dumbbel weight everi other night but that s a fair light routin i m also eat a lot of protein and have cut out simpl carb sugar entir will slowli bring those back into my diet next week i did tri the hcg diet along with a vlcd a few month back and lost over 20 lbs but that was a hard diet this is much easier to manag and doesn t intrud on your lifestyl to the same extent sinc i m onli now 12 lbs abov a bmi of 25 i m sure i won t be abl to take it for much longer mayb anoth 3 week as i will be on the high end but still in the quot healthi quot rang within 3 week\n",
      "after gain around 70 pound dure the pregnanc of my daughter regular diet and exercis just weren t cut it i ve never taken diet pill befor this but in just 6 day i ve lost 7 1 2 pound i do get the dri mouth side effect slight headach funki vision here and there but it s work wonder i know the weight loss will slow down but i d like to lose anoth 40\n",
      "i start phentermin 37 5 on juli 24 2015 i weigh 225 8 pound i took the next pill juli 26 2015 the third pill juli 29 2015 and the fourth pill juli 31 2015 today august 1 2015 i weigh 215 8 and i m 5 3 inch tall i carri my weight proportion all over my bodi mayb my face look a littl bit thinner howev you can t realli see the weight loss yet that be said here s a schedul of my weight loss so far 7 23 2015 a 225 8 7 24 2015 224 4 7 25 2015 220 2 7 26 2015 217 6 7 27 28 29 219 6 i start drink 2 liter of water a day 7 30 2015 217 6 7 31 2015 217 6 8 1 2015 215 8\n",
      "the miracl pill i can t thank my doctor enough i ve tri everi diet you can think of could never lose weight i ve alway been obes i start take qsymia on septemb 30 14 and lost 5lbs alreadi i feel with lot and lot of energi and my weak bread sweet gone i m not follow ani diet just exercis at least 30 minut a day onli side effect dri mouth and tingl in my finger but i complet love it\n",
      "lost 8 8 lbs week one a littl jitteri and dri mouth for side effect so far so good\n",
      "i start as a 220 lbs 6 man i look good with a shirt on and don t experi ani social stigma for my weight but know my bmi put my ideal weight at 185 i decid to tri this for a month and lose some flab first two week were amaz no alter mental status no insomnia just a littl headach it prevent food and alcohol crave it gave me the incent to workout befor work so far so good after the 15 day mark it consider lost it effect near the end 30 day total it didn t have ani effect whatsoev i partook in all the christma feast i stop cardio and start parti again by the end i was down to 205lbs but it decept i look no differ and now am get wors crave than befor\n",
      "i have been on this medic for a littl less then a month and as of today i have lost 10lbs so the onli side affect i have had was be tire and veri foggi mind but sinc the third week both if these side affect have gone away i was told by the doctor that side effect are veri comon for the first 4 week then they should go away becaus your bodi has adjust to the med i still have about 60lbs to loos to be at a healthi weight for my height i am a 28 year old femal whose start weight was 194 and height is 5ft 6inch i gain most of my weight from my pregnanc all three of my girl be back to back\n",
      "i start take 50 mg of topomax for the first month and went up to 100mg for the next three month lost 40 pound for the next year and a half i have kept off the weight but have not lost ani more i still need to lose 30 more pound but have seem to plateau and i am at 200 mg now dont know what to do\n",
      "i know phentermin work for differ peopl in differ way when i first start phen37 5 juli 7th i felt no extra energi appetit suppress veri littl dri mouth and a small headach i start at 199 and now down to 194 5 pound not much weight loss in 12 day i drink onli water some with ad lemon to it calori are about 1200 1300 healthi food like chicken fish appl banana salad tuna as exampl i take it about 8 830 am side effect thus far are dri mouth headach mid day lack of sleep insomnia a littl disappoint in result this far i forgot to add i also exercis 4 day a week do walk brisk walk and exercis bike total 2 hrs day there should be no reason i m not lose more\n",
      "i initi start contrav the last week on august but i got a terribl summer cold and that mix the horribl nausea from the contrav was not go to cut it tuesday 9 8 15 i decid to start again onli this time i took my morn dose with breakfast and voila no nausea whatsoev i do howev experi extrem thirst and sometim i forget to eat so i have a headach in the even other than that i m pretti great i ve had no crave whatsoev even when i am hungri it difficult to decid what to eat becaus i don t want anyth\n",
      "today is day one i am 5 2 quot and weigh 221 pound approxim two hour after take the first dose i have a horribl headach and feel pressur in my chest no bodi ach or dri mouth and no nausea i came to this veri hope site for support and to read experi of other which has been help thank you for let peopl post review it is veri benefici for us newbi\n",
      "i decid to tri this medic after a friend seem to be lose weight on it i m take 2 4 mg and in week number 5 i am an undereat anyway and never hungri so not sure this was the right medic for me i thought it stabil blood sugar hope it s not just an appetit suppress i have lost 3lbs which is veri disappoint i will go up to 3mg today but if i don t lose anyth again this week then i will probabl stop my question anyon experi need longer time and the full dose to start lose weight\n",
      "took it for 3 day then notic on 3rd day i lost 2 pound thing is i get straight paranoia acceler heart beat anyon els deal with this will it fade with continu use\n",
      "for about a year i suffer from depress and put on near 70lbs bring my total weight to 221lbs i have been take phentermin for one week now exercis 7 day a week for 1 hr and eat under 1000 calori so far i have lost 6 lbs in 6 day my goal weight is 160lbs\n",
      "my dr prescrib contrav for me in octob 2016 i wait about a week to start them as i was a littl nervous about the side affect and the cost was veri high anyway i began a week later and as of now a littl over two month later i have lost 20lbs so far it work and my side affect were minim hope it will continu this way\n",
      "i have been take contrav now for four day i haven t seen a posit effect to this medicin yet i have had nausea dizzi and headach all four day i have went home from work everyday and slept at least 2 or 3 hour i m hope that this feel will pass\n",
      "in 2001 i was 500lbs and had gastric bypass i have been up and down over the year low 298lb high 380lb i just did 6 week on contrav where i lost 11lbs but need to lose 17lbs for insur to continu i weigh in at 341lb today nervous about side effect but after read mani comment here am optimist due to insur my doc skip the 2 week trial dosag and we shall see how this goe becaus of famili ill we hid in and out of network deduct in 2017 so my first 2 month should be 100 cover i won t know cost until jan 2018\n",
      "it is veri good at suppress your habit but i do find that it leav dri mouth hard to have bowel movement and it doe affect your eye\n",
      "i ve been take belviq for almost 4 month without ani weight loss i have been eat healthi meal and walk about a mile and more practic everi day whi won t the weight start fall off pleas help tat\n",
      "so i start take phentermin becaus i have bad knee and cannot exercis and without lose weight i can t have surgeri for a knee replac i must admit i was veri skeptic about this pill but so far so good i am 41 yrs old and i start take this pill august 28th 2017 and at that time i weigh 365 lbs and as of this morn sept 2nd i weigh 353 lbs that a total of 12 lbs in less than a week it complet take my hunger away and i do have the dri mouth but i will deal with that i have cut my food in half as i feel full much quicker and i like that so far so good i do drive a school bus so load and unload wheel chair is a work out by it self so i get some exercis just not like i would like due to my knee\n",
      "qsymia is not a miracl howev it doe help with weight loss with the proper life style chang in eat habit and physic activ while take qsymia pound and inch begin to shed away it may not be for everyon but this is what has work for me the 72 pound loss in 5 month make me a believ some of the side effect took me some time to get use to the first week or two on the medic i had insomnia and tingl in the hand and feet but it did fade as my bodi adapt to the medic the onli long last side effect that i notic is the metal tast in my mouth and lack the abil to feel carbon on my tongu i do not see it as a bad thing sinc soda is not healthi to begin with\n",
      "i start on contrav april 1st do great start out the day with coffe with alot of creamer crave complet stop no more coffe for me and no sugar crave chang a lot of my eat habit and walk at least 1 2 mile a day third week in and i ve lost 8lbs increas to 2 pill in the morn but my blood pressur began to elav so had to discontinu the med dr said i can just continu on lower dose\n",
      "after 35 year of yo yo diet i have lost 95lbs in one year i m so excit about my new look and no more sever back pain sincer nurs dee\n",
      "i did have some signific side effect for the first two week but i took onli one pill a day for that time to get use to it i am up to two a day now recommend dose and the side effect are gone except for slight nausea onc in a while i have lost 6 lbs in about 3 week that is quit good for me as i am not veri activ busi but sedentari life\n",
      "i have been on belviq for 2 week now i do have a some sleep problem but it is get better i was 246 lbs and at my 2 week weigh in i was 233 lbs i have chang the way that i eat and have had no time for exercis i love this pill\n",
      "this is the first day on belviq xr so i haven t been abl to notic much of a chang in my eat lesser i didn t experi ani headach or nausea actual had a littl more energi now i ve just did 3 month on phentermin 37 5 mg and i went from 282 lbs to 251 lbs without exercis much i want to continu the phentermin but my doctor said 3 month is the limit he suggest i tri belviq sinc you can remind on belviq longer i am 5 10 and current weight is 251 lbs my goal is too get down to 190 lbs and i am veri optimist in reach this goal\n",
      "i start saxenda 4 day ago on the first day i develop signific nausea and thought that there was no way that i could continu with it especi given that i am current onli start with the lowest dose then i thought about tri gravol but did not like the idea of have to take anoth drug sever time a day along with the saxenda so i went to walmart and purchas some ginger capsul sold besid the regular gravol what a huge differ take ginger everyday has made i take one ginger capsul with everi meal and then again at bedtim the ginger has complet taken away my nausea now i am confid that i will be abl to continu with the saxenda so far my appetit is way down\n",
      "start with this medic octob 10th 2016 and have lost 65 pound i love the result my diet has not chang much and exercis is definit recommend to tighten your skin after lose that mani pound in so littl time feel a lot better and hope this trend continu\n",
      "start 12 18 15 femal 221lbs 5 6 42 yrs old 1st day took 1 pill at 7 30am was sick all day stay in bed day 2 1 pill 7 30am tri to do my normal daili routin was so sick so i have stop til after the holiday i have to much to do my side effect are nausea headach sweat dizzi i could feel my heart beat speed up i realli want this to work i have tri so mani thing over the last 6yr and noth work i was do a workout plan for a 3 day a week for entir year lost onli 5 lbs with 1000 calori a day\n",
      "the best weight loss medic i have ever use i have lost 20 lbs in 2 5 month a record for me side effect are minim i am not hungri most of the time which give me great control over what i eat i count my calori each day to the best of my abil i use my fit pal websit to calcul how mani calori i should eat a day to lose the weight for a specif period of time which was key to my success\n",
      "my physician assist that work with patient on weight loss and correct eat habit prescrib rather than contrav the two seper ingredi the cost was hard anyth between the two drug she knew the contrav would cost a lot more i take 1 pill of each drug in the morn with my breakfast i eat much less in fact feel full after a few bite and realli am not hungri when it s time to eat i don t snack and don t eat between meal i do get a full feel after eat about 2 hour later i m not abl to eat yogurt anymor as it make my stomach cramp sometim that also happen with other food as well i get migrain and didn t notic till just recent i am get headach more frequent\n",
      "i am 30 yo 5 6 and start weight 208 i have tri diet and exercis with no real result i work at a doctor s offic where we have rep come in for differ drug so i was abl to ask a lot of question befor decid to tri this med i took my first tablet yesterday with food and experienc a littl nausea for a coupl hour but after it subsid i had ton of energi i had a littl troubl get to sleep but onc i did fall asleep i had lot of odd dream today i took the tablet with no food and did not experi ani nausea and my energi level calm down slight but i still felt good my onli real complaint today is stomach pain gas pain and a littl diarrhea\n",
      "day 5 of trial dosag i m do weight watcher too i see no benefit in term of appetit suppress i have not notic it make food tast differ i do feel it help a bit with crave it s make me jitteri caus monster headach and make my blood pressur spike not sure if it will be worth continu i ll continu the trial if my doctor okay it and post again in the futur\n",
      "i love this stuff i have been on it for 6 day and have lost 4 pound easili my night crave are entir gone and my stomach get full with about 1 4 amount i usual consum at one sit the onli drawback is in the morn i get queasi if i eat about a half cup of dri cheerio slowli with a cup of tea it settl i know it is earli in my journey but so far so good awesom to final have me be in control not food control me after 40 year feel like i am out of prison pretti power experi\n",
      "i start take the pill start march 22 with a weight of 254 lb a month after 232 lb weight fulli recommend\n",
      "i am a 31 year old femal at 200lbs i do not have diabet or ani other health problem on the first day my stomach felt like it was on overdr tens up i actual manag to have some old period blood come out the second day i had a light headach but noth too serious my third day i had a salad with vinegar and oil your appetit is cut dramat on this pill btw you will end up eat less than 1 000 calori a day end up get the chill and migrain until i vomit my salad this pill work lost 5lbs in 2 day do not eat oili or fatti food you will get sick\n",
      "i lost 10 pound effortless dure the 2 week free trial after 6 day i had lost 6 pound and at that point start forc myself to eat i m want to achiev a steadi reason weight loss no side effect other than slight dri mouth and sleep more sound an interest side note belviq is curb all of my addict sugar bread alcohol gambl it s amaz so far i m take belviq 2x daili with 1 2 phentermin tablet\n",
      "i think belviq pretti much save my life i had alway been overweight all my life from about 8 year old as an adult i had alway maintain a weight of around 200 lbs howev at 41 i was diagnos with lymphangiomatosi and had to have a complet hysterectomi gall bladder and appendix remov i soon began gain approxim 10 pound a month post surgeri and was soon at 258 at my highest my doctor prescrib belviq on decemb 5th 2014 the first week i lost 7 lbs and by mid januari i had lost 20 lbs now in june 2017 i weigh 180 lbs and feel fabul it wasn t a quick fix but it work and i stop take it in februari and have maintain my weight i recommend belviq to anyon readi to commit to a lifestyl chang\n",
      "i ve been on saxenda for 4 month and onli lost 14 pound in this drug it cost me 450 a month and the result at first went like this month one 6 pound weight loss month 2 two pound weight loss month 3 six pound weight loss and month 4 noth weight stay the same befor take it i was in a calori reduc diet that had me lose 2 3 pound a month so that would averag out to 10 pound in 4 month i don t think the weight loss differ is worth the 450 a month\n",
      "updat start weight 221 6lbs on april 8th 5ft 3 quot tall 47yr old femal this morn i am 188lbs that s 33 6lbs down basic without exercis down from a size 18 short to a 14 i have a few cloth that onc were too tight and my gut hung over that fit me now and short i bought 4 year ago that i can pull off without unbutton i have jean from 2004 that i kept that were sentiment and i can almost button without a muffin top this is whi i push on this is someth i never thought i would feel i look in the mirror and sorta see the old me come back it work for me and my husband can tell you my self confid is better than it been in a long time\n",
      "updat start 5 18 2015 ten day later i was at 261 lb this was by exercis eat a lil better also take water pill and a b12 shot on 6 15 i was 257lb exercis slow down my eat habit keep improv but i am tri to work out more yes i do the b12 also i don t get too much of a rush of phentermin realli 37 5 btw i work at 4am so the b12 realli help i have notic though if i take the pill and forget to eat or don t wait 30min i don t feel it as much i do half pill first thing in the am and the other half around 1 so far i love this pill my weight is a constant struggl and this give me hope i am 25 f 5 7 would love to read more ppls review come to this blog is a big motiv for me i pay 85 for this and 20 for the b 12\n",
      "i ve been take contrav part of the scaledpwn program for about 4 month i m 5 6 quot my start weight was 190 i m current at 173 175 my weight loss was gradual but notic by other i feel pretti good most of the time but i have struggl with pretti sever headach in the afternoon even so i think i will taper back down to one pill in the am pm i was take two in the am two in the pm my husband think take this is ridicul want me to stop he say i look great take the medicin make me moodi i m not sure about that but i m struggl with weather to continu tri to loos more or stop for now i think i will taper down see what happen i wish my insur cover the cost becaus it s 60 per bottl\n",
      "been take this for a littl over a month no real side effect that other have list did notic that i m not hungri on it but never realli was befor i have lost noth increas activ a littl eat habit are pretti healthi think this is not go to work for me\n",
      "one year i lost more than 30 lbs without ani notabl side effect stop med and gain weight all back last yesr took the med and kept off mayb 5lbs caus elev blood pressur and a bald head to show for it valu negat experi\n",
      "yes definit help with weight loss howev side effect worsen for me instead of improv i lost 10 lbs befor i even got to the last dosag less than 4 week when i increas to 2 4 my bodi went crazi heart palpit troubl sleep was horribl the nausea in the first day was a piec of cake had to quit coffe to avoid my heart go crazi i tri reduc my dose side effect continu to worsen i say if you are lucki to have manag side effect go for it but destroy my heart isn t worth it i m sit here now can t fall asleep and worri about have a heart attack i have had chest pain all day proceed with caution\n",
      "sw 182 cw 182 gw 135 i m 5 1 quot this is onli day 2 for me so it s too earli for me to have a meaning rate on day 1 i drank a lot of water and that seem to keep the nausea away howev i felt sort of quot tipsi quot all day and had to take a nap in the afternoon i had more nausea today but think that was in part becaus i drank coffe more water a bonin tablet and i m okay still feel a littl tipsi though and had to have a nap again thank good it s the weekend but i m back at work tomorrow and there will be no nap i m suppos to stay on this dose for a week and i have no desir to rush it oh and my crave are gone but i have felt hungri but it s true hunger not my usual eat to reliev boredom\n",
      "i began take belviq septemb 5 2014 and when i saw my doctor januari 19 had lost 43 pound the reason belviq doesn t work for some peopl is becaus they are look for someth like the amphetamin diet pill from the 50s and 60s that boost metabol and total kill the appetit what belviq doe is help peopl stick to a sensibl diet i e it will keep you from be over hungri and quot pig out quot after eat a sensibl dinner i take belviq around 3 o clock in the afternoon and metformin 500mg after dinner\n",
      "i ve been on it for 3 week as i need to lose 30 lbs i ve lost 2 lbs but i m super tire all the time i still crave sugar but it doe suppress your appetit also i am veri cranki i will finish out the bottl then ask my doctor about anoth plan\n",
      "i tri this med and i cant say i had a good experi i guess it did suppress appetit but it also made me feel realli down and tire i wasn t even abl to work out when i was on this med i took it for 3 day and could not toler it ani longer my doctor switch me to belviq and i love it it wonder\n",
      "i am a 44 year old hispan femal i am 5 1 quot and weigh 156 lbs i wear a size 10 12 dress i start saxenda yesterday august 2 2016 i am terrifi of needl and did not think i would be abl to give myself the shot this morn but i handl it like a champ i had some slight burn at the inject site but it quick fade i have had no nausea but have a horribl headach i had a slice of wheat bread with 2 tsp of peanut butter for breakfast and had to forc myself to take a few bite at lunch i have no appetit and feel full after drink a glass of water\n",
      "i have struggl with my weight for year i am 5 7 quot tall femal i start take phentermin on juli 13 2016 my start weight my highest is 268 i had lost about 20lbs on my own when i talk to my doctor about my problem with my leg and how my weight seem to have stall she recommend this i go back next month for my 1 month follow up one thing i notic is dri mouth my goal is to get down to between 160 to 180 by christma next week i plan on go to the gym to walk on the treadmil wish me luck\n",
      "i start phentermin 30mg capsul 7 22 2016 weigh in at 274 and today 7 29 2016 weigh in at 266\n",
      "i ve been on it for about a week now weight loss isn t signific but it is there and again it s onli been a week definit has curb my appetit there are some day i have to forc myself to eat actual just physic emot uninterest in food my side effect have been moodi irrit and anxieti but those seem to have pass after a few day i feel a littl loopi when i first take it but if i eat a slice of chees or scrambl egg with it that seem to help go to stick with it for sure\n",
      "2nd updat 7m 10d i am still veri happi with this med down 31lbs so far start at 229lbs 36 4bmi today at 198lbs 31 5bmi goal is 156lbs 24 8bmi just to get out of the ldquo obes rdquo rang i was inconsist for a while no pill while away on a 3wk vacay onli 2pill day for a few month didn rsquo t see ani side effect or weight gain just plateau which is good to know for when i go off this med someday back on the full dose for a few week lose weight again veri easi to skip a meal hard notic which is where the real weight loss come in i don rsquo t crave the bad food i use to don rsquo t mindless eat scaledown trial ran out was abl to keep the scale but after a few month it was onli generic info anyway not worth it\n",
      "i m in colleg i struggl with stress and weight gain i start take the pill at 267 lbs i m 5 10 doctor want me lose weight becaus of my blood pressur i use the app to monitor my intak i drink lot water i eat 1200 calori a day onli i had few slip i can say i lost fast the first week but i am miss a lot of sleep but 45 day later i start 9 15 16 it is not 10 29 16 i weight 248 i feel great 19 lbs later wish it was more but i can tell inch are gone pant are hang i m veri pleas this doctor onli agre to give it three month i m hope it extend longer i want gone 200\n",
      "i have been on this medic for almost 2 week now and have lost 6 lbs i am 5 8 quot was 180lbs i find that i do not get ani side effect nausea headach if i have food in my stomach u2013so eat when you take it i also tri not to take the even pill too close to bedtim as it keep me awak for a while this pill has been veri effect at suppress my crave for sweet and my appetit in general i realiz last week that i hadn t had anyth sweet to eat for sever day and don t snack at all the pill help me realiz that i don t need to snack throughout the day and onli eat when i m hungri at mealtim\n",
      "i have been on phentermin 30mg for one week today and i have lost 10lbs excit i will post again after my one month check up in 3wks\n",
      "i was worri this would not work for me sinc i was not realli that overweight 6 2 206 i began work out 5 time a week and was lose weight but onli a veri small amount and i was hit a wall onc i began use victoza and continu my workout routin the weight just start shed right off this was everyth i alway dream of you will lose some weight just by take this but if you includ it with work out wow also it doe curv your appetit but i have notic you can eat healthier thing without feel ill it seem that high sugar and fat are the one that i get turn off too which is just an ad bonus 1 month into it and i am now 186lbs so i have lost 20 pound and feel and look great\n",
      "this medicin has help me so much i ve lost 40 pound in the past year with no chang in diet or exsers it decreas my appetit and give me the energi i need to interact with peopl throughout the day work almost like an anti depress for me couldn not be happier\n",
      "start one week ago today onli been hungri one day lost 3 2 lbs and 6 5 inch more energi than i ve had in year and overal happier look forward to continu success\n",
      "i began use phentermin on 7 29 16 begin at 218 pound ugh this morn i weigh in at 207 so in 10 day i have lost 11 pound and 4 quot total i ll take it i have struggl the last few year after be diagnos with hashimoto s diseas i have felt trap insid of my own skin and i was terrifi that noth would work i have drop my calori down to 800 a day and i work out between 20 30 minut everi other day i final have hope i have tri everi diet out there and noth has work and i believ it is becaus all the inform i was given instruct me to eat 1200 calori daili and i did faith i also maintain my weight for a year and didn t lose anyth i believ i have found what work s for me\n",
      "i am 24 5 9 quot and at 282 i m the biggest i ve ever been i start take this medic phentermin on monday 4 11 16 for four day i onli took half a pill today is my first whole pill so far my appetit and crave are gone which i have to forc myself to eat on account of my diabet i am on 2 differ medic for my diabet one for acid reflux and one for depress i m do great with onli take a half pill for four day i ve lost 2 pound i ve start some small exercis and eat better i can t wait to see what happen now that i take a whole one i m realli hope in the end i don t have to take anymor medic\n",
      "took for two month and couldn t take it a day more i did lose seven pound in those two month but i don t know if it was from the medic or the vomit i did everi singl day while on it i didn t have much of an appetit which was a plus again though i was sick everi day i couldn t even make it up to the full dose becaus it made me so ill vomit headach dri mouth diarrhea extrem mood swing shake sleepless and heart palpit and pain i stop at two month which was a year ago today and i still am have long term heart problem from this stuff that s under my doctor word not mine i do need help with weighloss but have decid to eat better and exercis to my abil no side effect from these\n",
      "i have been take contrav for sinc 01 19 and have lost 11 lbs my onli side effect have been mild constip and a occasion shaki most in the morn but other than that i feel great i have cut all bread and sweet from my diet and walk at least 4 5 day a week befor cut out the bread and sweet i had pain in my knee and other joint but the pain has subsid contrav has given me the willpow to make better food choic it cost me around 90 but compar to the health benefit of lose this weight it s worth it\n",
      "i start phentermin on april 5th 2016 at 253lbs today on june 26th 2016 i am 227lbs i made a huge diet chang when i start cut out coffe sweet and pay attent to my portion size and calori count i start to realli notic weightloss onc i join the gym on april 18th go to the gym made me more motiv to eat healthi and stay on track and it feel great to exercis i had a 2 week time period dure the last few month where i fell back and start drink coffe and had fair food ice cream and other junk i also didn t make time for the gym i stop loos weight i didn t gain ani either though i got myself back on track and am lose weight again diet and exercis definit make this more effect\n",
      "i have been use saxenda for a month now as start nov 4 2017 my start weight was 242 pound and i m 5 10 male today as of dec 4 2017 i weigh 230 so a 12 weight loss in a month definit reduct in appetit as feel full with about half or less than of what would normal eat befor exercis light most walk but get a treadmil and free weight to soon to start to increas intens of exercis as now at full 3mg dosag no real side effect onli at start was feel tire but went away after first week will updat everi month as goal is to get to 170 pound\n",
      "start on phentermin 30mg just 4 day ago with a privat prescript nhs are not allow to prescrib it start weight 15 stone 1lb and have lost 10lb alreadi i m 5ft 4in tall with a small medium build age 34 pretti much lost my appetit complet but i also feel a bit uneasi jitteri i was hope i would experi some of the more euphor side effect but i m also suffer with a heavi cold so mayb that s whi i don t feel energet i ve had quit a few headach alreadi but this may be that i need to increas my fluid intak so i m go to do that yesterday i onli took 10mg 1 3 of my tablet to make sure i could sleep last night the first 2 night i wasn t abl to sleep pleas so far\n",
      "i ve lost 19 pound in less than a month and had some of the side effect tingl feet dizzi and headach my doctor order some lab i now take vitamin d k i no longer have high blood pressur i m happi\n",
      "i had a good experi with it i use it for 30 day and lost 23 pound i went from 281 lbs to 258 lbs veri good product\n",
      "i tri the 2 week trial and i did lose about 7 pound and my sugar crave were diminish i wish i could continu but it is just too expens i wish it came in generic howev the patent don t start expir until 2023 so it won t be anytim soon\n",
      "been on 7 5 for 5 month and lost 20 lbs need to lose about 40 total weight loss was slow but i never would have lost it without the drug and i exercis about 5x a week i had some side effect such as irrit dri mouth and mild tingl in feet in the fifth month i felt the drug has lost it effect and am about to start the next level up hope this will give me the same loss of interest in food as the 7 5 think of join weight watcher to learn how to eat proper when i get off the med\n",
      "still work sinc june 12 now the benefit of belviq are great weight loss 16 lbs belli shrink by 4 1 2 inch blood pressur now normal feel great feel light get a good diet don t think that you can still do macdonald wendi everyday the pill won t fix that kind of behavior it still take a commit from you it just make it easier to accomplish it\n",
      "i m on 4 pill a day now i have lost 8 pound no nightim hungri like when i took qsymia i fell weird happi all day i m general a happi person anyway but i m practic giddi about life now i still enjoy a beer onc in awhil but never crave it anyway so this is unchang i get hungri in the mid morn but my bodi need calori at that time anyway the onli side effect seem to be loos stool at first so far i am thrill hope for continu success i d like to lose 30 more\n",
      "been on qsymia for 2week trial and as of right now i am on the 7 5 dosag it doe cut my appetit some but i am have troubl lose weight on it i have been eat healthi count my daili calori intak i have also been exercis 6day a week i have a littl headach everyday with constant dri mouth and fatigu if ani one has ani tip on how i can lose more weight pleas comment thank you i will continu to updat with my progress\n",
      "i ve been on topamax sinc march 2009 i ve lost 75 of the 110 pound i need to lose the side effect are annoy and in the begin i realli want to quit the medic but as i ve lost the weight i ve actual been abl to decreas the dosag so a lot of the side effect have decreas as well some of them are easier to live with than other the paresthesia has most subsid but i do still struggl with memori laps i quit drink all carbon beverag becaus i do not like the way they tast that has probabl help with the weight loss anyway overal i am quit pleas i am also pleas to read that other have been abl to maintain their weight on this drug\n",
      "down 20lbs sinc jan 5th no side effect except for my hair fall out more than normal\n",
      "have lost 6 9kg sinc late may 2016 when i start take the pill take them with almost everi meal unless out and don t have them on me weight loss slow down in month 3 but now come up to 4th weigh in on a week and a half and have ad exercis which boost weight loss immedi hope to have lost at least anoth 3kg by christma but hope more\n",
      "i start contrav in earli februari at first i did not lose ani weight but i could feel myself get fuller faster especi as the dosag increas for the month i have been on the full dosag i have lost 20 pound sometim i do not have a desir to eat often this is due to nausea i have felt more energ and motiv to work out the onli side effect i continu to have are a dri mouth and troubl sleep both problem are well worth it to me\n",
      "i would not suggest this drug i normal do not get side effect from drug that are prescrib to me let me tell you i had the wors side effect possibl day 1 i took my first pill in the am i was kind of scare so i took it with breakfast no caffein and onli water about 2 hour into the med my heart start to race my mind was go crazi i could not concentr i was sick to my stomach there were sever occas where i thought i should tell my co worker to call 911 it was that bad i was sweat shake it was horribl 3 hour into the medic i went home sick that day i felt like i had the flu it took all day sleep it off overnight for the med to wear off do not take onli 1 day on med\n",
      "errors: 229\n"
     ]
    }
   ],
   "source": [
    "err_cnt_4 = 0\n",
    "for i in range(0, len(y_test)):\n",
    "    if(y_test[i]=='Obesity' and svm_1_pred[i]=='Weight Loss'):\n",
    "        print(X_test[i])\n",
    "        err_cnt_4 = err_cnt_4+1\n",
    "print(\"errors:\", err_cnt_4)"
   ]
  },
  {
   "cell_type": "code",
   "execution_count": null,
   "metadata": {},
   "outputs": [],
   "source": []
  }
 ],
 "metadata": {
  "kernelspec": {
   "display_name": "Python 3",
   "language": "python",
   "name": "python3"
  },
  "language_info": {
   "codemirror_mode": {
    "name": "ipython",
    "version": 3
   },
   "file_extension": ".py",
   "mimetype": "text/x-python",
   "name": "python",
   "nbconvert_exporter": "python",
   "pygments_lexer": "ipython3",
   "version": "3.7.6"
  }
 },
 "nbformat": 4,
 "nbformat_minor": 4
}
